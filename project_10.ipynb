{
 "cells": [
  {
   "cell_type": "markdown",
   "id": "be02a957-7133-4d02-818e-fedeb3cecb05",
   "metadata": {},
   "source": [
    "# Project 10 -- SEYI OGUNMODEDE"
   ]
  },
  {
   "cell_type": "raw",
   "id": "787a4c65-39a0-43a7-becd-fe3588656772",
   "metadata": {},
   "source": [
    "**Instructor:** Dr. Mark Daniel\n",
    "\n",
    "- Help with videos in figuring out how to write the functions.\n",
    "    \n",
    "**Collaboration:** IK SU JEONG\n",
    "    \n"
   ]
  },
  {
   "cell_type": "markdown",
   "id": "6180e742-8e39-4698-98ff-5b00c8cf8ea0",
   "metadata": {},
   "source": [
    "## Question 1"
   ]
  },
  {
   "cell_type": "code",
   "execution_count": 1,
   "id": "49445606-d363-41b4-b479-e319a9a84c01",
   "metadata": {},
   "outputs": [],
   "source": [
    "options(jupyter.rich_display = F)"
   ]
  },
  {
   "cell_type": "code",
   "execution_count": 2,
   "id": "3c91d6fc-4e9d-42b8-92b9-16b843644fbc",
   "metadata": {},
   "outputs": [],
   "source": [
    "options(repr.matrix.max.cols=50, repr.matrix.max.rows=200)"
   ]
  },
  {
   "cell_type": "code",
   "execution_count": 3,
   "id": "602f1b78-fa87-4d7d-a80b-9210f0e25f40",
   "metadata": {},
   "outputs": [],
   "source": [
    "library(data.table)"
   ]
  },
  {
   "cell_type": "code",
   "execution_count": 4,
   "id": "6ecdba50-2960-4551-8ff8-5a30270d3694",
   "metadata": {},
   "outputs": [],
   "source": [
    "users<- fread(\"/anvil/projects/tdm/data/okcupid/filtered/users.csv\")\n",
    "\n",
    "# fread, though will determine automatically what the dome meter are in the file"
   ]
  },
  {
   "cell_type": "code",
   "execution_count": 5,
   "id": "1ef17826-724e-46a3-996e-d1b76a360690",
   "metadata": {},
   "outputs": [],
   "source": [
    "questions <- fread(\"/anvil/projects/tdm/data/okcupid/filtered/questions.csv\")\n",
    "# fread though will determine automatically what the dome meter are in the file"
   ]
  },
  {
   "cell_type": "code",
   "execution_count": 6,
   "id": "c88ac95b-5264-48ed-a8cf-95221c9e1bf5",
   "metadata": {},
   "outputs": [
    {
     "data": {
      "text/plain": [
       "[1] 68371  2284"
      ]
     },
     "metadata": {},
     "output_type": "display_data"
    }
   ],
   "source": [
    "dim (users)"
   ]
  },
  {
   "cell_type": "code",
   "execution_count": 7,
   "id": "67f78350-f12b-4fd4-9c95-c158563d74e3",
   "metadata": {},
   "outputs": [
    {
     "data": {
      "text/plain": [
       "[1] 2281   10"
      ]
     },
     "metadata": {},
     "output_type": "display_data"
    }
   ],
   "source": [
    "dim(questions)"
   ]
  },
  {
   "cell_type": "code",
   "execution_count": 8,
   "id": "468a0f18-caee-488d-bb5b-d6438a4ee583",
   "metadata": {},
   "outputs": [
    {
     "data": {
      "text/plain": [
       "  q41                  q42 q43 q45 q46         q48   q49      q50 q55 q56 q57\n",
       "1 NA                   NA  NA  NA  NA          NA    Carefree NA  No  No  NA \n",
       "2 NA                   NA  NA  NA  NA          NA    NA       NA  NA  NA  NA \n",
       "3 Extremely important  NA  NA  NA  Good        NA    Carefree NA  No  NA  NA \n",
       "4 NA                   NA  NA  NA  NA          NA    NA       NA  NA  NA  NA \n",
       "5 Not at all important NA  NA  NA  Interesting Weird Intense  NA  NA  NA  NA \n",
       "6 Not at all important NA  NA  NA  Good        Weird NA       NA  NA  No  No \n",
       "  q60          q61 q63 q65 q67 q68 q69 q70 q71 q73      q74     q76 q77      \n",
       "1 NA           NA  NA  NA  NA  NA  NA  No  No  NA       NA      NA  Sometimes\n",
       "2 NA           NA  NA  NA  NA  NA  NA  NA  NA  NA       NA      NA  NA       \n",
       "3 Warm-hearted NA  NA  NA  NA  NA  NA  No  No  Big city Clothes NA  Rarely   \n",
       "4 NA           NA  NA  NA  NA  NA  NA  NA  NA  NA       NA      NA  Sometimes\n",
       "5 NA           NA  NA  NA  NA  NA  NA  No  NA  NA       NA      NA  Sometimes\n",
       "6 NA           NA  NA  No  NA  NA  NA  No  No  NA       Food    NA  Sometimes\n",
       "  q78 ... q85603 q85658 q85669 q85715 q85770 q85886 q85931 q85932 q85947 q86019\n",
       "1 NA  ... NA     NA     NA     NA     NA     NA     NA     NA     NA     NA    \n",
       "2 NA  ... NA     NA     NA     NA     NA     NA     NA     NA     NA     NA    \n",
       "3 NA  ... NA     NA     NA     NA     NA     NA     NA     NA     NA     NA    \n",
       "4 NA  ... NA     NA     NA     NA     NA     NA     NA     NA     NA     NA    \n",
       "5 NA  ... NA     NA     NA     NA     NA     NA     NA     NA     NA     NA    \n",
       "6 Yes ... NA     NA     NA     NA     NA     NA     NA     NA     NA     NA    \n",
       "  q86210 q86215 q86283 q86325 q86364 q86397 q86462 q86699 q363047 CA       \n",
       "1 NA     NA     NA     NA     NA     NA     NA     NA     NA      0.7630798\n",
       "2 NA     NA     NA     NA     NA     NA     NA     NA     NA             NA\n",
       "3 NA     NA     NA     NA     NA     NA     NA     NA     NA      0.6613091\n",
       "4 NA     NA     NA     NA     NA     NA     NA     NA     NA             NA\n",
       "5 NA     NA     NA     NA     NA     NA     NA     NA     NA      0.8754240\n",
       "6 NA     NA     NA     NA     NA     NA     NA     NA     NA      1.5153514\n",
       "  gender_orientation race  gender2 gender2_num CA_items\n",
       "1 Hetero_female      White Woman   0           4       \n",
       "2 Hetero_male        NA    Man     1           0       \n",
       "3 Hetero_female      NA    Woman   0           7       \n",
       "4 Hetero_female      White Woman   0           0       \n",
       "5 Bisexual_female    NA    Woman   0           3       \n",
       "6 Hetero_male        White Man     1           7       "
      ]
     },
     "metadata": {},
     "output_type": "display_data"
    }
   ],
   "source": [
    "head(users)"
   ]
  },
  {
   "cell_type": "code",
   "execution_count": 9,
   "id": "eb3ca5ee-a1f8-4956-981b-fbf4d99ac73a",
   "metadata": {},
   "outputs": [
    {
     "data": {
      "text/plain": [
       "  X  \n",
       "1 q41\n",
       "2 q42\n",
       "3 q43\n",
       "4 q44\n",
       "5 q45\n",
       "6 q46\n",
       "  text                                                                                               \n",
       "1 How important is religion/God in your life?                                                        \n",
       "2 Is your duty to religion/God the most important thing in your life?                                \n",
       "3 Do you believe in some kind of a spiritual, cosmic force outside the realm of most modern religion?\n",
       "4 Some religions are more correct than others.                                                       \n",
       "5 Do you believe in ghosts?                                                                          \n",
       "6 Would you prefer good things happened, or interesting things?                                      \n",
       "  option_1            option_2           option_3          \n",
       "1 Extremely important Somewhat important Not very important\n",
       "2 Yes                 No                                   \n",
       "3 Yes                 No                                   \n",
       "4 True                False                                \n",
       "5 Yes                 No                                   \n",
       "6 Good                Interesting                          \n",
       "  option_4             N     Type Order Keywords             \n",
       "1 Not at all important 54140 O          religion/superstition\n",
       "2                      16024 O          religion/superstition\n",
       "3                      6595  O          religion/superstition\n",
       "4                      29109 O          religion/superstition\n",
       "5                      21619 O          religion/superstition\n",
       "6                      52112 N          preference           "
      ]
     },
     "metadata": {},
     "output_type": "display_data"
    }
   ],
   "source": [
    "head(questions)"
   ]
  },
  {
   "cell_type": "code",
   "execution_count": 10,
   "id": "5306835f-903a-4aca-b467-33b53f2ee9e3",
   "metadata": {},
   "outputs": [
    {
     "data": {
      "text/plain": [
       "[1] \"Hetero_female\"   \"Hetero_male\"     \"Hetero_female\"   \"Hetero_female\"  \n",
       "[5] \"Bisexual_female\" \"Hetero_male\"    "
      ]
     },
     "metadata": {},
     "output_type": "display_data"
    }
   ],
   "source": [
    "head(users$gender_orientation)"
   ]
  },
  {
   "cell_type": "code",
   "execution_count": 11,
   "id": "2345f63a-b43f-4bd2-bcee-98fe9d20a67a",
   "metadata": {},
   "outputs": [
    {
     "data": {
      "text/plain": [
       "[1] \"Hetero_male\"   \"Hetero_male\"   \"Hetero_female\" \"Hetero_male\"  \n",
       "[5] \"Hetero_female\" \"Hetero_male\"  "
      ]
     },
     "metadata": {},
     "output_type": "display_data"
    }
   ],
   "source": [
    "tail(users$gender_orientation)"
   ]
  },
  {
   "cell_type": "code",
   "execution_count": 12,
   "id": "bf7d2f8f-685d-47f3-ae65-9f7c14906691",
   "metadata": {},
   "outputs": [
    {
     "data": {
      "text/plain": [
       "[1] \"White\" NA      NA      \"White\" NA      \"White\""
      ]
     },
     "metadata": {},
     "output_type": "display_data"
    }
   ],
   "source": [
    "head(users$race)"
   ]
  },
  {
   "cell_type": "code",
   "execution_count": 13,
   "id": "7d883bcb-e38d-48c7-8c51-bffe56cbbf0c",
   "metadata": {},
   "outputs": [
    {
     "data": {
      "text/plain": [
       "[1] \"White\" \"White\" NA      NA      \"White\" \"Other\""
      ]
     },
     "metadata": {},
     "output_type": "display_data"
    }
   ],
   "source": [
    "tail(users$race)"
   ]
  },
  {
   "cell_type": "code",
   "execution_count": 14,
   "id": "3cc81052-d349-430a-835c-3d94112952fd",
   "metadata": {},
   "outputs": [
    {
     "data": {
      "text/plain": [
       "[1] \"O\" \"O\" \"O\" \"O\" \"O\" \"N\""
      ]
     },
     "metadata": {},
     "output_type": "display_data"
    }
   ],
   "source": [
    "head(questions$Type)"
   ]
  },
  {
   "cell_type": "code",
   "execution_count": 15,
   "id": "6979fc30-cc2b-4ffd-b8dc-5fd21545b972",
   "metadata": {},
   "outputs": [
    {
     "data": {
      "text/plain": [
       "[1] \"\" \"\" \"\" \"\" \"\" \"\""
      ]
     },
     "metadata": {},
     "output_type": "display_data"
    }
   ],
   "source": [
    "tail(questions$Type)"
   ]
  },
  {
   "cell_type": "code",
   "execution_count": 16,
   "id": "61c709d3-1b40-482c-973b-96db15592586",
   "metadata": {},
   "outputs": [
    {
     "data": {
      "text/plain": [
       "[1] \"How important is religion/God in your life?\"                                                        \n",
       "[2] \"Is your duty to religion/God the most important thing in your life?\"                                \n",
       "[3] \"Do you believe in some kind of a spiritual, cosmic force outside the realm of most modern religion?\"\n",
       "[4] \"Some religions are more correct than others.\"                                                       \n",
       "[5] \"Do you believe in ghosts?\"                                                                          \n",
       "[6] \"Would you prefer good things happened, or interesting things?\"                                      "
      ]
     },
     "metadata": {},
     "output_type": "display_data"
    }
   ],
   "source": [
    "head(questions$text)"
   ]
  },
  {
   "cell_type": "code",
   "execution_count": 17,
   "id": "c04700de-4221-4f1a-8c2c-5bf940a6f6c3",
   "metadata": {},
   "outputs": [
    {
     "data": {
      "text/plain": [
       "[1] \"Type of match\"     \"Max age of match\"  \"Looking for match\"\n",
       "[4] \"Location of match\" \"Min age of match\"  \"Status of match\"  "
      ]
     },
     "metadata": {},
     "output_type": "display_data"
    }
   ],
   "source": [
    "tail(questions$text)"
   ]
  },
  {
   "cell_type": "markdown",
   "id": "b456e57c-4a12-464b-999a-ef2df5af80c1",
   "metadata": {},
   "source": [
    "We want to go ahead and load the datasets into data.frames named users and questions. \n",
    "\n",
    "Take a look at both data.frames and identify what is a part of each of them. \n",
    "#user data frame has 68371 rows  2284 columns\n",
    "#questions data frame has 2281 rows 10 columns\n",
    "\n",
    "What information is in each datatset, and how they are related?\n",
    "\n",
    "For the the user, it is a data set about human being in respect to their gender and what they are interested in.\n",
    "for the question, it is a data set that has series of questions related to the user, in respect to texs, type, options, keywords as it applies.\n"
   ]
  },
  {
   "cell_type": "markdown",
   "id": "fc601975-35ed-4680-a4e1-0273ee3cc047",
   "metadata": {},
   "source": [
    "## Question 2"
   ]
  },
  {
   "cell_type": "code",
   "execution_count": 18,
   "id": "a16336a1-1ef0-41e8-bc7c-49387db27497",
   "metadata": {},
   "outputs": [
    {
     "data": {
      "text/plain": [
       "grep                   package:base                    R Documentation\n",
       "\n",
       "_\bP_\ba_\bt_\bt_\be_\br_\bn _\bM_\ba_\bt_\bc_\bh_\bi_\bn_\bg _\ba_\bn_\bd _\bR_\be_\bp_\bl_\ba_\bc_\be_\bm_\be_\bn_\bt\n",
       "\n",
       "_\bD_\be_\bs_\bc_\br_\bi_\bp_\bt_\bi_\bo_\bn:\n",
       "\n",
       "     'grep', 'grepl', 'regexpr', 'gregexpr', 'regexec' and 'gregexec'\n",
       "     search for matches to argument 'pattern' within each element of a\n",
       "     character vector: they differ in the format of and amount of\n",
       "     detail in the results.\n",
       "\n",
       "     'sub' and 'gsub' perform replacement of the first and all matches\n",
       "     respectively.\n",
       "\n",
       "_\bU_\bs_\ba_\bg_\be:\n",
       "\n",
       "     grep(pattern, x, ignore.case = FALSE, perl = FALSE, value = FALSE,\n",
       "          fixed = FALSE, useBytes = FALSE, invert = FALSE)\n",
       "     \n",
       "     grepl(pattern, x, ignore.case = FALSE, perl = FALSE,\n",
       "           fixed = FALSE, useBytes = FALSE)\n",
       "     \n",
       "     sub(pattern, replacement, x, ignore.case = FALSE, perl = FALSE,\n",
       "         fixed = FALSE, useBytes = FALSE)\n",
       "     \n",
       "     gsub(pattern, replacement, x, ignore.case = FALSE, perl = FALSE,\n",
       "          fixed = FALSE, useBytes = FALSE)\n",
       "     \n",
       "     regexpr(pattern, text, ignore.case = FALSE, perl = FALSE,\n",
       "             fixed = FALSE, useBytes = FALSE)\n",
       "     \n",
       "     gregexpr(pattern, text, ignore.case = FALSE, perl = FALSE,\n",
       "              fixed = FALSE, useBytes = FALSE)\n",
       "     \n",
       "     regexec(pattern, text, ignore.case = FALSE, perl = FALSE,\n",
       "             fixed = FALSE, useBytes = FALSE)\n",
       "     \n",
       "     gregexec(pattern, text, ignore.case = FALSE, perl = FALSE,\n",
       "             fixed = FALSE, useBytes = FALSE)\n",
       "     \n",
       "_\bA_\br_\bg_\bu_\bm_\be_\bn_\bt_\bs:\n",
       "\n",
       " pattern: character string containing a regular expression (or\n",
       "          character string for 'fixed = TRUE') to be matched in the\n",
       "          given character vector.  Coerced by 'as.character' to a\n",
       "          character string if possible.  If a character vector of\n",
       "          length 2 or more is supplied, the first element is used with\n",
       "          a warning.  Missing values are allowed except for 'regexpr',\n",
       "          'gregexpr' and 'regexec'.\n",
       "\n",
       " x, text: a character vector where matches are sought, or an object\n",
       "          which can be coerced by 'as.character' to a character vector.\n",
       "          Long vectors are supported.\n",
       "\n",
       "ignore.case: if 'FALSE', the pattern matching is _case sensitive_ and\n",
       "          if 'TRUE', case is ignored during matching.\n",
       "\n",
       "    perl: logical.  Should Perl-compatible regexps be used?\n",
       "\n",
       "   value: if 'FALSE', a vector containing the ('integer') indices of\n",
       "          the matches determined by 'grep' is returned, and if 'TRUE',\n",
       "          a vector containing the matching elements themselves is\n",
       "          returned.\n",
       "\n",
       "   fixed: logical.  If 'TRUE', 'pattern' is a string to be matched as\n",
       "          is.  Overrides all conflicting arguments.\n",
       "\n",
       "useBytes: logical.  If 'TRUE' the matching is done byte-by-byte rather\n",
       "          than character-by-character.  See 'Details'.\n",
       "\n",
       "  invert: logical.  If 'TRUE' return indices or values for elements\n",
       "          that do _not_ match.\n",
       "\n",
       "replacement: a replacement for matched pattern in 'sub' and 'gsub'.\n",
       "          Coerced to character if possible.  For 'fixed = FALSE' this\n",
       "          can include backreferences '\"\\1\"' to '\"\\9\"' to parenthesized\n",
       "          subexpressions of 'pattern'.  For 'perl = TRUE' only, it can\n",
       "          also contain '\"\\U\"' or '\"\\L\"' to convert the rest of the\n",
       "          replacement to upper or lower case and '\"\\E\"' to end case\n",
       "          conversion.  If a character vector of length 2 or more is\n",
       "          supplied, the first element is used with a warning.  If 'NA',\n",
       "          all elements in the result corresponding to matches will be\n",
       "          set to 'NA'.\n",
       "\n",
       "_\bD_\be_\bt_\ba_\bi_\bl_\bs:\n",
       "\n",
       "     Arguments which should be character strings or character vectors\n",
       "     are coerced to character if possible.\n",
       "\n",
       "     Each of these functions operates in one of three modes:\n",
       "\n",
       "       1. 'fixed = TRUE': use exact matching.\n",
       "\n",
       "       2. 'perl = TRUE': use Perl-style regular expressions.\n",
       "\n",
       "       3. 'fixed = FALSE, perl = FALSE': use POSIX 1003.2 extended\n",
       "          regular expressions (the default).\n",
       "\n",
       "     See the help pages on regular expression for details of the\n",
       "     different types of regular expressions.\n",
       "\n",
       "     The two '*sub' functions differ only in that 'sub' replaces only\n",
       "     the first occurrence of a 'pattern' whereas 'gsub' replaces all\n",
       "     occurrences.  If 'replacement' contains backreferences which are\n",
       "     not defined in 'pattern' the result is undefined (but most often\n",
       "     the backreference is taken to be '\"\"').\n",
       "\n",
       "     For 'regexpr', 'gregexpr', 'regexec' and 'gregexec' it is an error\n",
       "     for 'pattern' to be 'NA', otherwise 'NA' is permitted and gives an\n",
       "     'NA' match.\n",
       "\n",
       "     Both 'grep' and 'grepl' take missing values in 'x' as not matching\n",
       "     a non-missing 'pattern'.\n",
       "\n",
       "     The main effect of 'useBytes = TRUE' is to avoid errors/warnings\n",
       "     about invalid inputs and spurious matches in multibyte locales,\n",
       "     but for 'regexpr' it changes the interpretation of the output.  It\n",
       "     inhibits the conversion of inputs with marked encodings, and is\n",
       "     forced if any input is found which is marked as '\"bytes\"' (see\n",
       "     'Encoding').\n",
       "\n",
       "     Caseless matching does not make much sense for bytes in a\n",
       "     multibyte locale, and you should expect it only to work for ASCII\n",
       "     characters if 'useBytes = TRUE'.\n",
       "\n",
       "     'regexpr' and 'gregexpr' with 'perl = TRUE' allow Python-style\n",
       "     named captures, but not for _long vector_ inputs.\n",
       "\n",
       "     Invalid inputs in the current locale are warned about up to 5\n",
       "     times.\n",
       "\n",
       "     Caseless matching with 'perl = TRUE' for non-ASCII characters\n",
       "     depends on the PCRE library being compiled with 'Unicode property\n",
       "     support', which PCRE2 is by default.\n",
       "\n",
       "_\bV_\ba_\bl_\bu_\be:\n",
       "\n",
       "     'grep(value = FALSE)' returns a vector of the indices of the\n",
       "     elements of 'x' that yielded a match (or not, for 'invert =\n",
       "     TRUE').  This will be an integer vector unless the input is a\n",
       "     _long vector_, when it will be a double vector.\n",
       "\n",
       "     'grep(value = TRUE)' returns a character vector containing the\n",
       "     selected elements of 'x' (after coercion, preserving names but no\n",
       "     other attributes).\n",
       "\n",
       "     'grepl' returns a logical vector (match or not for each element of\n",
       "     'x').\n",
       "\n",
       "     'sub' and 'gsub' return a character vector of the same length and\n",
       "     with the same attributes as 'x' (after possible coercion to\n",
       "     character).  Elements of character vectors 'x' which are not\n",
       "     substituted will be returned unchanged (including any declared\n",
       "     encoding).  If 'useBytes = FALSE' a non-ASCII substituted result\n",
       "     will often be in UTF-8 with a marked encoding (e.g., if there is a\n",
       "     UTF-8 input, and in a multibyte locale unless 'fixed = TRUE').\n",
       "     Such strings can be re-encoded by 'enc2native'.\n",
       "\n",
       "     'regexpr' returns an integer vector of the same length as 'text'\n",
       "     giving the starting position of the first match or -1 if there is\n",
       "     none, with attribute '\"match.length\"', an integer vector giving\n",
       "     the length of the matched text (or -1 for no match).  The match\n",
       "     positions and lengths are in characters unless 'useBytes = TRUE'\n",
       "     is used, when they are in bytes (as they are for ASCII-only\n",
       "     matching: in either case an attribute 'useBytes' with value 'TRUE'\n",
       "     is set on the result).  If named capture is used there are further\n",
       "     attributes '\"capture.start\"', '\"capture.length\"' and\n",
       "     '\"capture.names\"'.\n",
       "\n",
       "     'gregexpr' returns a list of the same length as 'text' each\n",
       "     element of which is of the same form as the return value for\n",
       "     'regexpr', except that the starting positions of every (disjoint)\n",
       "     match are given.\n",
       "\n",
       "     'regexec' returns a list of the same length as 'text' each element\n",
       "     of which is either -1 if there is no match, or a sequence of\n",
       "     integers with the starting positions of the match and all\n",
       "     substrings corresponding to parenthesized subexpressions of\n",
       "     'pattern', with attribute '\"match.length\"' a vector giving the\n",
       "     lengths of the matches (or -1 for no match).  The interpretation\n",
       "     of positions and length and the attributes follows 'regexpr'.\n",
       "\n",
       "     'gregexec' returns the same as 'regexec', except that to\n",
       "     accommodate multiple matches per element of 'text', the integer\n",
       "     sequences for each match are made into columns of a matrix, with\n",
       "     one matrix per element of 'text' with matches.\n",
       "\n",
       "     Where matching failed because of resource limits (especially for\n",
       "     'perl = TRUE') this is regarded as a non-match, usually with a\n",
       "     warning.\n",
       "\n",
       "_\bW_\ba_\br_\bn_\bi_\bn_\bg:\n",
       "\n",
       "     The POSIX 1003.2 mode of 'gsub' and 'gregexpr' does not work\n",
       "     correctly with repeated word-boundaries (e.g., 'pattern = \"\\b\"').\n",
       "     Use 'perl = TRUE' for such matches (but that may not work as\n",
       "     expected with non-ASCII inputs, as the meaning of 'word' is\n",
       "     system-dependent).\n",
       "\n",
       "_\bP_\be_\br_\bf_\bo_\br_\bm_\ba_\bn_\bc_\be _\bc_\bo_\bn_\bs_\bi_\bd_\be_\br_\ba_\bt_\bi_\bo_\bn_\bs:\n",
       "\n",
       "     If you are doing a lot of regular expression matching, including\n",
       "     on very long strings, you will want to consider the options used.\n",
       "     Generally 'perl = TRUE' will be faster than the default regular\n",
       "     expression engine, and 'fixed = TRUE' faster still (especially\n",
       "     when each pattern is matched only a few times).\n",
       "\n",
       "     If you are working in a single-byte locale and have marked UTF-8\n",
       "     strings that are representable in that locale, convert them first\n",
       "     as just one UTF-8 string will force all the matching to be done in\n",
       "     Unicode, which attracts a penalty of around 3x for the default\n",
       "     POSIX 1003.2 mode.\n",
       "\n",
       "     If you can make use of 'useBytes = TRUE', the strings will not be\n",
       "     checked before matching, and the actual matching will be faster.\n",
       "     Often byte-based matching suffices in a UTF-8 locale since byte\n",
       "     patterns of one character never match part of another.  Character\n",
       "     ranges may produce unexpected results.\n",
       "\n",
       "     PCRE-based matching by default used to put additional effort into\n",
       "     'studying' the compiled pattern when 'x'/'text' has length 10 or\n",
       "     more.  That study may use the PCRE JIT compiler on platforms where\n",
       "     it is available (see 'pcre_config'). As from PCRE2 (PCRE version\n",
       "     >= 10.00 as reported by 'extSoftVersion'), there is no study\n",
       "     phase, but the patterns are optimized automatically when possible,\n",
       "     and PCRE JIT is used when enabled.  The details are controlled by\n",
       "     'options' 'PCRE_study' and 'PCRE_use_JIT'.  (Some timing\n",
       "     comparisons can be seen by running file 'tests/PCRE.R' in the R\n",
       "     sources (and perhaps installed).)  People working with PCRE and\n",
       "     very long strings can adjust the maximum size of the JIT stack by\n",
       "     setting environment variable 'R_PCRE_JIT_STACK_MAXSIZE' before JIT\n",
       "     is used to a value between '1' and '1000' in MB: the default is\n",
       "     '64'. When JIT is not used with PCRE version < 10.30 (that is with\n",
       "     PCRE1 and old versions of PCRE2), it might also be wise to set the\n",
       "     option 'PCRE_limit_recursion'.\n",
       "\n",
       "_\bN_\bo_\bt_\be:\n",
       "\n",
       "     Aspects will be platform-dependent as well as locale-dependent:\n",
       "     for example the implementation of character classes (except\n",
       "     '[:digit:]' and '[:xdigit:]').  One can expect results to be\n",
       "     consistent for ASCII inputs and when working in UTF-8 mode (when\n",
       "     most platforms will use Unicode character tables, although those\n",
       "     are updated frequently and subject to some degree of\n",
       "     interpretation - is a circled capital letter alphabetic or a\n",
       "     symbol?).  However, results in 8-bit encodings can differ\n",
       "     considerably between platforms, modes and from the UTF-8 versions.\n",
       "\n",
       "_\bS_\bo_\bu_\br_\bc_\be:\n",
       "\n",
       "     The C code for POSIX-style regular expression matching has changed\n",
       "     over the years.  As from R 2.10.0 (Oct 2009) the TRE library of\n",
       "     Ville Laurikari (<https://github.com/laurikari/tre>) is used.  The\n",
       "     POSIX standard does give some room for interpretation, especially\n",
       "     in the handling of invalid regular expressions and the collation\n",
       "     of character ranges, so the results will have changed slightly\n",
       "     over the years.\n",
       "\n",
       "     For Perl-style matching PCRE2 or PCRE (<https://www.pcre.org>) is\n",
       "     used: again the results may depend (slightly) on the version of\n",
       "     PCRE in use.\n",
       "\n",
       "_\bR_\be_\bf_\be_\br_\be_\bn_\bc_\be_\bs:\n",
       "\n",
       "     Becker, R. A., Chambers, J. M. and Wilks, A. R. (1988) _The New S\n",
       "     Language_.  Wadsworth & Brooks/Cole ('grep')\n",
       "\n",
       "_\bS_\be_\be _\bA_\bl_\bs_\bo:\n",
       "\n",
       "     regular expression (aka 'regexp') for the details of the pattern\n",
       "     specification.\n",
       "\n",
       "     'regmatches' for extracting matched substrings based on the\n",
       "     results of 'regexpr', 'gregexpr' and 'regexec'.\n",
       "\n",
       "     'glob2rx' to turn wildcard matches into regular expressions.\n",
       "\n",
       "     'agrep' for approximate matching.\n",
       "\n",
       "     'charmatch', 'pmatch' for partial matching, 'match' for matching\n",
       "     to whole strings, 'startsWith' for matching of initial parts of\n",
       "     strings.\n",
       "\n",
       "     'tolower', 'toupper' and 'chartr' for character translations.\n",
       "\n",
       "     'apropos' uses regexps and has more examples.\n",
       "\n",
       "     'grepRaw' for matching raw vectors.\n",
       "\n",
       "     Options 'PCRE_limit_recursion', 'PCRE_study' and 'PCRE_use_JIT'.\n",
       "\n",
       "     'extSoftVersion' for the versions of regex and PCRE libraries in\n",
       "     use, 'pcre_config' for more details for PCRE.\n",
       "\n",
       "_\bE_\bx_\ba_\bm_\bp_\bl_\be_\bs:\n",
       "\n",
       "     grep(\"[a-z]\", letters)\n",
       "     \n",
       "     txt <- c(\"arm\",\"foot\",\"lefroo\", \"bafoobar\")\n",
       "     if(length(i <- grep(\"foo\", txt)))\n",
       "        cat(\"'foo' appears at least once in\\n\\t\", txt, \"\\n\")\n",
       "     i # 2 and 4\n",
       "     txt[i]\n",
       "     \n",
       "     ## Double all 'a' or 'b's;  \"\\\" must be escaped, i.e., 'doubled'\n",
       "     gsub(\"([ab])\", \"\\\\1_\\\\1_\", \"abc and ABC\")\n",
       "     \n",
       "     txt <- c(\"The\", \"licenses\", \"for\", \"most\", \"software\", \"are\",\n",
       "       \"designed\", \"to\", \"take\", \"away\", \"your\", \"freedom\",\n",
       "       \"to\", \"share\", \"and\", \"change\", \"it.\",\n",
       "       \"\", \"By\", \"contrast,\", \"the\", \"GNU\", \"General\", \"Public\", \"License\",\n",
       "       \"is\", \"intended\", \"to\", \"guarantee\", \"your\", \"freedom\", \"to\",\n",
       "       \"share\", \"and\", \"change\", \"free\", \"software\", \"--\",\n",
       "       \"to\", \"make\", \"sure\", \"the\", \"software\", \"is\",\n",
       "       \"free\", \"for\", \"all\", \"its\", \"users\")\n",
       "     ( i <- grep(\"[gu]\", txt) ) # indices\n",
       "     stopifnot( txt[i] == grep(\"[gu]\", txt, value = TRUE) )\n",
       "     \n",
       "     ## Note that for some implementations character ranges are\n",
       "     ## locale-dependent (but not currently).  Then [b-e] in locales such as\n",
       "     ## en_US may include B as the collation order is aAbBcCdDe ...\n",
       "     (ot <- sub(\"[b-e]\",\".\", txt))\n",
       "     txt[ot != gsub(\"[b-e]\",\".\", txt)]#- gsub does \"global\" substitution\n",
       "     ## In caseless matching, ranges include both cases:\n",
       "     a <- grep(\"[b-e]\", txt, value = TRUE)\n",
       "     b <- grep(\"[b-e]\", txt, ignore.case = TRUE, value = TRUE)\n",
       "     setdiff(b, a)\n",
       "     \n",
       "     txt[gsub(\"g\",\"#\", txt) !=\n",
       "         gsub(\"g\",\"#\", txt, ignore.case = TRUE)] # the \"G\" words\n",
       "     \n",
       "     regexpr(\"en\", txt)\n",
       "     \n",
       "     gregexpr(\"e\", txt)\n",
       "     \n",
       "     ## Using grepl() for filtering\n",
       "     ## Find functions with argument names matching \"warn\":\n",
       "     findArgs <- function(env, pattern) {\n",
       "       nms <- ls(envir = as.environment(env))\n",
       "       nms <- nms[is.na(match(nms, c(\"F\",\"T\")))] # <-- work around \"checking hack\"\n",
       "       aa <- sapply(nms, function(.) { o <- get(.)\n",
       "                    if(is.function(o)) names(formals(o)) })\n",
       "       iw <- sapply(aa, function(a) any(grepl(pattern, a, ignore.case=TRUE)))\n",
       "       aa[iw]\n",
       "     }\n",
       "     findArgs(\"package:base\", \"warn\")\n",
       "     \n",
       "     ## trim trailing white space\n",
       "     str <- \"Now is the time      \"\n",
       "     sub(\" +$\", \"\", str)  ## spaces only\n",
       "     ## what is considered 'white space' depends on the locale.\n",
       "     sub(\"[[:space:]]+$\", \"\", str) ## white space, POSIX-style\n",
       "     ## what PCRE considered white space changed in version 8.34: see ?regex\n",
       "     sub(\"\\\\s+$\", \"\", str, perl = TRUE) ## PCRE-style white space\n",
       "     \n",
       "     ## capitalizing\n",
       "     txt <- \"a test of capitalizing\"\n",
       "     gsub(\"(\\\\w)(\\\\w*)\", \"\\\\U\\\\1\\\\L\\\\2\", txt, perl=TRUE)\n",
       "     gsub(\"\\\\b(\\\\w)\",    \"\\\\U\\\\1\",       txt, perl=TRUE)\n",
       "     \n",
       "     txt2 <- \"useRs may fly into JFK or laGuardia\"\n",
       "     gsub(\"(\\\\w)(\\\\w*)(\\\\w)\", \"\\\\U\\\\1\\\\E\\\\2\\\\U\\\\3\", txt2, perl=TRUE)\n",
       "      sub(\"(\\\\w)(\\\\w*)(\\\\w)\", \"\\\\U\\\\1\\\\E\\\\2\\\\U\\\\3\", txt2, perl=TRUE)\n",
       "     \n",
       "     ## named capture\n",
       "     notables <- c(\"  Ben Franklin and Jefferson Davis\",\n",
       "                   \"\\tMillard Fillmore\")\n",
       "     # name groups 'first' and 'last'\n",
       "     name.rex <- \"(?<first>[[:upper:]][[:lower:]]+) (?<last>[[:upper:]][[:lower:]]+)\"\n",
       "     (parsed <- regexpr(name.rex, notables, perl = TRUE))\n",
       "     gregexpr(name.rex, notables, perl = TRUE)[[2]]\n",
       "     parse.one <- function(res, result) {\n",
       "       m <- do.call(rbind, lapply(seq_along(res), function(i) {\n",
       "         if(result[i] == -1) return(\"\")\n",
       "         st <- attr(result, \"capture.start\")[i, ]\n",
       "         substring(res[i], st, st + attr(result, \"capture.length\")[i, ] - 1)\n",
       "       }))\n",
       "       colnames(m) <- attr(result, \"capture.names\")\n",
       "       m\n",
       "     }\n",
       "     parse.one(notables, parsed)\n",
       "     \n",
       "     ## Decompose a URL into its components.\n",
       "     ## Example by LT (http://www.cs.uiowa.edu/~luke/R/regexp.html).\n",
       "     x <- \"http://stat.umn.edu:80/xyz\"\n",
       "     m <- regexec(\"^(([^:]+)://)?([^:/]+)(:([0-9]+))?(/.*)\", x)\n",
       "     m\n",
       "     regmatches(x, m)\n",
       "     ## Element 3 is the protocol, 4 is the host, 6 is the port, and 7\n",
       "     ## is the path.  We can use this to make a function for extracting the\n",
       "     ## parts of a URL:\n",
       "     URL_parts <- function(x) {\n",
       "         m <- regexec(\"^(([^:]+)://)?([^:/]+)(:([0-9]+))?(/.*)\", x)\n",
       "         parts <- do.call(rbind,\n",
       "                          lapply(regmatches(x, m), `[`, c(3L, 4L, 6L, 7L)))\n",
       "         colnames(parts) <- c(\"protocol\",\"host\",\"port\",\"path\")\n",
       "         parts\n",
       "     }\n",
       "     URL_parts(x)\n",
       "     \n",
       "     ## gregexec() may match multiple times within a single string.\n",
       "     pattern <- \"([[:alpha:]]+)([[:digit:]]+)\"\n",
       "     s <- \"Test: A1 BC23 DEF456\"\n",
       "     m <- gregexec(pattern, s)\n",
       "     m\n",
       "     regmatches(s, m)\n",
       "     \n",
       "     ## Before gregexec() was implemented, one could emulate it by running\n",
       "     ## regexec() on the regmatches obtained via gregexpr().  E.g.:\n",
       "     lapply(regmatches(s, gregexpr(pattern, s)),\n",
       "            function(e) regmatches(e, regexec(pattern, e)))\n",
       "     "
      ]
     },
     "metadata": {},
     "output_type": "display_data"
    }
   ],
   "source": [
    "?grep\n",
    "# grep helps to look for pattern inside text\n",
    "# to see help function using grep\n",
    "# to see other function the help using grep (in different ways to use grep)"
   ]
  },
  {
   "cell_type": "code",
   "execution_count": 19,
   "id": "1a7d9599-c065-4672-b25c-f20775af0bf3",
   "metadata": {},
   "outputs": [
    {
     "data": {
      "text/plain": [
       "[1] 2281   10"
      ]
     },
     "metadata": {},
     "output_type": "display_data"
    }
   ],
   "source": [
    "dim(questions)\n",
    "# it has 10 columns"
   ]
  },
  {
   "cell_type": "code",
   "execution_count": 20,
   "id": "c5b7bf36-797e-49d8-941c-bf7db8f50fce",
   "metadata": {},
   "outputs": [
    {
     "data": {
      "text/plain": [
       "  X  \n",
       "1 q41\n",
       "2 q42\n",
       "3 q43\n",
       "4 q44\n",
       "5 q45\n",
       "6 q46\n",
       "  text                                                                                               \n",
       "1 How important is religion/God in your life?                                                        \n",
       "2 Is your duty to religion/God the most important thing in your life?                                \n",
       "3 Do you believe in some kind of a spiritual, cosmic force outside the realm of most modern religion?\n",
       "4 Some religions are more correct than others.                                                       \n",
       "5 Do you believe in ghosts?                                                                          \n",
       "6 Would you prefer good things happened, or interesting things?                                      \n",
       "  option_1            option_2           option_3          \n",
       "1 Extremely important Somewhat important Not very important\n",
       "2 Yes                 No                                   \n",
       "3 Yes                 No                                   \n",
       "4 True                False                                \n",
       "5 Yes                 No                                   \n",
       "6 Good                Interesting                          \n",
       "  option_4             N     Type Order Keywords             \n",
       "1 Not at all important 54140 O          religion/superstition\n",
       "2                      16024 O          religion/superstition\n",
       "3                      6595  O          religion/superstition\n",
       "4                      29109 O          religion/superstition\n",
       "5                      21619 O          religion/superstition\n",
       "6                      52112 N          preference           "
      ]
     },
     "metadata": {},
     "output_type": "display_data"
    }
   ],
   "source": [
    "head(questions)\n",
    "# to see the word gooogle, it may be possible with text"
   ]
  },
  {
   "cell_type": "code",
   "execution_count": 21,
   "id": "b59fe475-6b4d-4445-abe9-a36ee3efc486",
   "metadata": {},
   "outputs": [
    {
     "data": {
      "text/plain": [
       "[1] 2172"
      ]
     },
     "metadata": {},
     "output_type": "display_data"
    }
   ],
   "source": [
    "grep(\"Google\",questions$text)\n",
    "# it does find it one time on row 2172"
   ]
  },
  {
   "cell_type": "code",
   "execution_count": 22,
   "id": "2c8ec715-3e9e-4ede-9074-143c527b0778",
   "metadata": {},
   "outputs": [
    {
     "data": {
      "text/plain": [
       "  X       text                                       option_1                \n",
       "1 q170849 Do you Google someone before a first date? Yes. Knowledge is power!\n",
       "  option_2                   option_3 option_4 N     Type Order\n",
       "1 No. Why spoil the mystery?                   39621 O         \n",
       "  Keywords               \n",
       "1 descriptive; technology"
      ]
     },
     "metadata": {},
     "output_type": "display_data"
    }
   ],
   "source": [
    "questions[2172, ]\n",
    "# to detect what is in the column"
   ]
  },
  {
   "cell_type": "code",
   "execution_count": 23,
   "id": "e2782354-a331-49b6-8d94-bff527ef6ea4",
   "metadata": {},
   "outputs": [
    {
     "data": {
      "text/plain": [
       "[1] \"Do you Google someone before a first date?\""
      ]
     },
     "metadata": {},
     "output_type": "display_data"
    }
   ],
   "source": [
    "questions$text[grepl(\"Google\",questions$text)]\n",
    "# another way is using logical grep (grepl)\n",
    "# a neat thing about grepl is use the location at the begining as a position within the vector of text within the text column"
   ]
  },
  {
   "cell_type": "markdown",
   "id": "14dc22d4-ddc3-41cc-a91a-cb0025bc0c80",
   "metadata": {},
   "source": [
    "What do you notice if you just use the function grep() and create a new variable google and then print that variable?\n",
    " it helps to locate the number of occurence and the row it appears.\n",
    "\n",
    "Now that you know the row number, how can you take a look at the information there?\n",
    "\n",
    "  X       text                                       option_1                \n",
    "1 q170849 Do you Google someone before a first date? Yes. Knowledge is power!\n",
    "  option_2                   option_3 option_4 N     Type Order\n",
    "1 No. Why spoil the mystery?                   39621 O         \n",
    "  Keywords               \n",
    "1 descriptive; technology\n",
    "\n",
    "using grepl\n",
    "\n",
    "\"Do you Google someone before a first date?\"\n"
   ]
  },
  {
   "cell_type": "markdown",
   "id": "8e586edd-ff26-4ce2-8f6b-2424b26f2929",
   "metadata": {},
   "source": [
    "## Question 3"
   ]
  },
  {
   "cell_type": "code",
   "execution_count": 24,
   "id": "bbe0f40d-9655-4653-9ca8-886bdb61cb91",
   "metadata": {},
   "outputs": [
    {
     "data": {
      "text/plain": [
       "[1] 68371  2284"
      ]
     },
     "metadata": {},
     "output_type": "display_data"
    }
   ],
   "source": [
    "dim(users)\n",
    "# 68371rows  2284columns\n",
    "# roughly one colmn per question"
   ]
  },
  {
   "cell_type": "code",
   "execution_count": 25,
   "id": "3767c0dc-2e5c-446a-91d9-942e2fa8638a",
   "metadata": {},
   "outputs": [
    {
     "data": {
      "text/plain": [
       "  q41                  q42 q43 q45 q46         q48   q49      q50 q55 q56 q57\n",
       "1 NA                   NA  NA  NA  NA          NA    Carefree NA  No  No  NA \n",
       "2 NA                   NA  NA  NA  NA          NA    NA       NA  NA  NA  NA \n",
       "3 Extremely important  NA  NA  NA  Good        NA    Carefree NA  No  NA  NA \n",
       "4 NA                   NA  NA  NA  NA          NA    NA       NA  NA  NA  NA \n",
       "5 Not at all important NA  NA  NA  Interesting Weird Intense  NA  NA  NA  NA \n",
       "6 Not at all important NA  NA  NA  Good        Weird NA       NA  NA  No  No \n",
       "  q60          q61 q63 q65 q67 q68 q69 q70 q71 q73      q74     q76 q77      \n",
       "1 NA           NA  NA  NA  NA  NA  NA  No  No  NA       NA      NA  Sometimes\n",
       "2 NA           NA  NA  NA  NA  NA  NA  NA  NA  NA       NA      NA  NA       \n",
       "3 Warm-hearted NA  NA  NA  NA  NA  NA  No  No  Big city Clothes NA  Rarely   \n",
       "4 NA           NA  NA  NA  NA  NA  NA  NA  NA  NA       NA      NA  Sometimes\n",
       "5 NA           NA  NA  NA  NA  NA  NA  No  NA  NA       NA      NA  Sometimes\n",
       "6 NA           NA  NA  No  NA  NA  NA  No  No  NA       Food    NA  Sometimes\n",
       "  q78 ... q85603 q85658 q85669 q85715 q85770 q85886 q85931 q85932 q85947 q86019\n",
       "1 NA  ... NA     NA     NA     NA     NA     NA     NA     NA     NA     NA    \n",
       "2 NA  ... NA     NA     NA     NA     NA     NA     NA     NA     NA     NA    \n",
       "3 NA  ... NA     NA     NA     NA     NA     NA     NA     NA     NA     NA    \n",
       "4 NA  ... NA     NA     NA     NA     NA     NA     NA     NA     NA     NA    \n",
       "5 NA  ... NA     NA     NA     NA     NA     NA     NA     NA     NA     NA    \n",
       "6 Yes ... NA     NA     NA     NA     NA     NA     NA     NA     NA     NA    \n",
       "  q86210 q86215 q86283 q86325 q86364 q86397 q86462 q86699 q363047 CA       \n",
       "1 NA     NA     NA     NA     NA     NA     NA     NA     NA      0.7630798\n",
       "2 NA     NA     NA     NA     NA     NA     NA     NA     NA             NA\n",
       "3 NA     NA     NA     NA     NA     NA     NA     NA     NA      0.6613091\n",
       "4 NA     NA     NA     NA     NA     NA     NA     NA     NA             NA\n",
       "5 NA     NA     NA     NA     NA     NA     NA     NA     NA      0.8754240\n",
       "6 NA     NA     NA     NA     NA     NA     NA     NA     NA      1.5153514\n",
       "  gender_orientation race  gender2 gender2_num CA_items\n",
       "1 Hetero_female      White Woman   0           4       \n",
       "2 Hetero_male        NA    Man     1           0       \n",
       "3 Hetero_female      NA    Woman   0           7       \n",
       "4 Hetero_female      White Woman   0           0       \n",
       "5 Bisexual_female    NA    Woman   0           3       \n",
       "6 Hetero_male        White Man     1           7       "
      ]
     },
     "metadata": {},
     "output_type": "display_data"
    }
   ],
   "source": [
    "head(users)\n",
    "# showing one column per question"
   ]
  },
  {
   "cell_type": "code",
   "execution_count": 26,
   "id": "2d0d7832-bdc6-47b1-b56d-90dc57500045",
   "metadata": {},
   "outputs": [
    {
     "data": {
      "text/plain": [
       "[1] 1193"
      ]
     },
     "metadata": {},
     "output_type": "display_data"
    }
   ],
   "source": [
    "which(names(users) == \"q170849\")\n",
    "# to look for which one is TRUE\n",
    "#out of the users  data frame, colmn 1193 is TRUE"
   ]
  },
  {
   "cell_type": "code",
   "execution_count": 27,
   "id": "e5579e4c-49c1-4698-b11f-99b561f0c6a6",
   "metadata": {},
   "outputs": [
    {
     "data": {
      "text/plain": [
       "      q170849                   \n",
       "1     No. Why spoil the mystery?\n",
       "2     NA                        \n",
       "3     No. Why spoil the mystery?\n",
       "4     NA                        \n",
       "5     NA                        \n",
       "6     Yes. Knowledge is power!  \n",
       "7     Yes. Knowledge is power!  \n",
       "8     NA                        \n",
       "9     NA                        \n",
       "10    NA                        \n",
       "11    No. Why spoil the mystery?\n",
       "12    NA                        \n",
       "13    Yes. Knowledge is power!  \n",
       "14    NA                        \n",
       "15    No. Why spoil the mystery?\n",
       "16    NA                        \n",
       "17    NA                        \n",
       "18    NA                        \n",
       "19    No. Why spoil the mystery?\n",
       "20    NA                        \n",
       "21    NA                        \n",
       "22    No. Why spoil the mystery?\n",
       "23    Yes. Knowledge is power!  \n",
       "24    Yes. Knowledge is power!  \n",
       "25    NA                        \n",
       "26    No. Why spoil the mystery?\n",
       "27    NA                        \n",
       "28    NA                        \n",
       "29    NA                        \n",
       "30    No. Why spoil the mystery?\n",
       "31    Yes. Knowledge is power!  \n",
       "32    NA                        \n",
       "33    No. Why spoil the mystery?\n",
       "34    Yes. Knowledge is power!  \n",
       "35    NA                        \n",
       "36    Yes. Knowledge is power!  \n",
       "37    NA                        \n",
       "38    Yes. Knowledge is power!  \n",
       "39    No. Why spoil the mystery?\n",
       "40    No. Why spoil the mystery?\n",
       "41    Yes. Knowledge is power!  \n",
       "42    NA                        \n",
       "43    NA                        \n",
       "44    NA                        \n",
       "45    Yes. Knowledge is power!  \n",
       "46    NA                        \n",
       "47    NA                        \n",
       "48    NA                        \n",
       "49    No. Why spoil the mystery?\n",
       "50    NA                        \n",
       "51    No. Why spoil the mystery?\n",
       "52    NA                        \n",
       "53    NA                        \n",
       "54    NA                        \n",
       "55    NA                        \n",
       "56    No. Why spoil the mystery?\n",
       "57    NA                        \n",
       "58    Yes. Knowledge is power!  \n",
       "59    NA                        \n",
       "60    NA                        \n",
       "61    Yes. Knowledge is power!  \n",
       "62    NA                        \n",
       "63    NA                        \n",
       "64    NA                        \n",
       "65    NA                        \n",
       "66    Yes. Knowledge is power!  \n",
       "67    NA                        \n",
       "68    NA                        \n",
       "69    NA                        \n",
       "70    NA                        \n",
       "71    No. Why spoil the mystery?\n",
       "72    NA                        \n",
       "73    No. Why spoil the mystery?\n",
       "74    NA                        \n",
       "75    NA                        \n",
       "76    NA                        \n",
       "77    NA                        \n",
       "78    No. Why spoil the mystery?\n",
       "79    NA                        \n",
       "80    NA                        \n",
       "81    No. Why spoil the mystery?\n",
       "82    Yes. Knowledge is power!  \n",
       "83    NA                        \n",
       "84    No. Why spoil the mystery?\n",
       "85    NA                        \n",
       "86    No. Why spoil the mystery?\n",
       "87    NA                        \n",
       "88    NA                        \n",
       "89    NA                        \n",
       "90    NA                        \n",
       "91    NA                        \n",
       "92    NA                        \n",
       "93    Yes. Knowledge is power!  \n",
       "94    Yes. Knowledge is power!  \n",
       "95    NA                        \n",
       "96    NA                        \n",
       "97    Yes. Knowledge is power!  \n",
       "98    No. Why spoil the mystery?\n",
       "99    NA                        \n",
       "100   NA                        \n",
       "...   ...                       \n",
       "68272 NA                        \n",
       "68273 NA                        \n",
       "68274 NA                        \n",
       "68275 NA                        \n",
       "68276 NA                        \n",
       "68277 NA                        \n",
       "68278 NA                        \n",
       "68279 NA                        \n",
       "68280 NA                        \n",
       "68281 No. Why spoil the mystery?\n",
       "68282 NA                        \n",
       "68283 NA                        \n",
       "68284 No. Why spoil the mystery?\n",
       "68285 NA                        \n",
       "68286 NA                        \n",
       "68287 NA                        \n",
       "68288 NA                        \n",
       "68289 No. Why spoil the mystery?\n",
       "68290 NA                        \n",
       "68291 NA                        \n",
       "68292 NA                        \n",
       "68293 NA                        \n",
       "68294 NA                        \n",
       "68295 NA                        \n",
       "68296 NA                        \n",
       "68297 No. Why spoil the mystery?\n",
       "68298 NA                        \n",
       "68299 NA                        \n",
       "68300 NA                        \n",
       "68301 NA                        \n",
       "68302 NA                        \n",
       "68303 NA                        \n",
       "68304 NA                        \n",
       "68305 NA                        \n",
       "68306 Yes. Knowledge is power!  \n",
       "68307 Yes. Knowledge is power!  \n",
       "68308 NA                        \n",
       "68309 NA                        \n",
       "68310 NA                        \n",
       "68311 NA                        \n",
       "68312 NA                        \n",
       "68313 NA                        \n",
       "68314 NA                        \n",
       "68315 NA                        \n",
       "68316 No. Why spoil the mystery?\n",
       "68317 NA                        \n",
       "68318 No. Why spoil the mystery?\n",
       "68319 NA                        \n",
       "68320 NA                        \n",
       "68321 NA                        \n",
       "68322 NA                        \n",
       "68323 NA                        \n",
       "68324 NA                        \n",
       "68325 NA                        \n",
       "68326 NA                        \n",
       "68327 No. Why spoil the mystery?\n",
       "68328 NA                        \n",
       "68329 NA                        \n",
       "68330 NA                        \n",
       "68331 NA                        \n",
       "68332 NA                        \n",
       "68333 NA                        \n",
       "68334 NA                        \n",
       "68335 NA                        \n",
       "68336 NA                        \n",
       "68337 NA                        \n",
       "68338 NA                        \n",
       "68339 NA                        \n",
       "68340 NA                        \n",
       "68341 NA                        \n",
       "68342 NA                        \n",
       "68343 NA                        \n",
       "68344 NA                        \n",
       "68345 NA                        \n",
       "68346 NA                        \n",
       "68347 NA                        \n",
       "68348 NA                        \n",
       "68349 NA                        \n",
       "68350 NA                        \n",
       "68351 NA                        \n",
       "68352 NA                        \n",
       "68353 NA                        \n",
       "68354 NA                        \n",
       "68355 NA                        \n",
       "68356 NA                        \n",
       "68357 NA                        \n",
       "68358 NA                        \n",
       "68359 NA                        \n",
       "68360 NA                        \n",
       "68361 NA                        \n",
       "68362 NA                        \n",
       "68363 NA                        \n",
       "68364 NA                        \n",
       "68365 NA                        \n",
       "68366 NA                        \n",
       "68367 NA                        \n",
       "68368 NA                        \n",
       "68369 NA                        \n",
       "68370 NA                        \n",
       "68371 NA                        "
      ]
     },
     "metadata": {},
     "output_type": "display_data"
    }
   ],
   "source": [
    "users[ ,1193]\n",
    "# to detect what is in the row"
   ]
  },
  {
   "cell_type": "code",
   "execution_count": 28,
   "id": "0ec49dd9-7c5d-460b-a62c-bcf988d67e34",
   "metadata": {},
   "outputs": [
    {
     "data": {
      "text/plain": [
       "\n",
       "No. Why spoil the mystery?   Yes. Knowledge is power! \n",
       "                     25804                      13817 \n",
       "                      <NA> \n",
       "                     28750 "
      ]
     },
     "metadata": {},
     "output_type": "display_data"
    }
   ],
   "source": [
    "table(users[[1193]], useNA = \"always\")\n",
    "# another way to look at it\n",
    "# because the outcome contain NA's, \n",
    "# then use table and use NA to know how many NA are there"
   ]
  },
  {
   "cell_type": "code",
   "execution_count": 29,
   "id": "c6f4726e-13c4-4f6f-9427-18cfaf4c5639",
   "metadata": {},
   "outputs": [
    {
     "data": {
      "text/plain": [
       "\n",
       "No. Why spoil the mystery?   Yes. Knowledge is power! \n",
       "                 0.3774115                  0.2020886 \n",
       "                      <NA> \n",
       "                 0.4204999 "
      ]
     },
     "metadata": {},
     "output_type": "display_data"
    }
   ],
   "source": [
    "prop.table(table(users[[1193]], useNA = \"always\"))\n",
    "# this shows the proportion"
   ]
  },
  {
   "cell_type": "code",
   "execution_count": 30,
   "id": "e6b6274a-1184-4aaa-a4b7-2d25f94f3931",
   "metadata": {},
   "outputs": [
    {
     "data": {
      "text/plain": [
       "\n",
       "No. Why spoil the mystery?   Yes. Knowledge is power! \n",
       "                  37.74115                   20.20886 \n",
       "                      <NA> \n",
       "                  42.04999 "
      ]
     },
     "metadata": {},
     "output_type": "display_data"
    }
   ],
   "source": [
    "(prop.table(table(users[[1193]], useNA = \"always\")))*100\n",
    "# to know the actual percentage by multiplying by 100"
   ]
  },
  {
   "cell_type": "code",
   "execution_count": 31,
   "id": "8150df37-c8f3-46ad-a3af-da90422ce5c4",
   "metadata": {},
   "outputs": [
    {
     "data": {
      "text/plain": [
       "  q170849                   \n",
       "1 No. Why spoil the mystery?"
      ]
     },
     "metadata": {},
     "output_type": "display_data"
    }
   ],
   "source": [
    "users[2172 ,1193]\n",
    "# for verification"
   ]
  },
  {
   "cell_type": "markdown",
   "id": "47c6229f-35f7-400c-8366-c442baa5cf47",
   "metadata": {},
   "source": [
    "Using the row from our previous question, which variable does this correspond with in the data.frame users?\n",
    " colmn 1193\n",
    "Row 2172 in questions corresponds to column named q170849 in users\n",
    "\n",
    "Knowing that the two possible answers are \"No. Why spoil the mystery?\" and \"Yes, Knowledge is power!\" What percentage of users do NOT google someone before the first date? 37.74%"
   ]
  },
  {
   "cell_type": "markdown",
   "id": "da22f29c-d245-4d2b-9fc1-ca14cb6087d9",
   "metadata": {},
   "source": [
    "## Question 4"
   ]
  },
  {
   "cell_type": "code",
   "execution_count": null,
   "id": "a3e66fe7-b748-49ef-ab4e-66ec0e49b8e8",
   "metadata": {},
   "outputs": [],
   "source": [
    "tapply(users[[1193]], gender, table)\n",
    "# we want to break things up using the table \n",
    "# we are yet to look at the gender\n",
    "# colomn to consider that is for gender is (gender 2 in column 2282)"
   ]
  },
  {
   "cell_type": "code",
   "execution_count": 33,
   "id": "e228b830-ea5f-42d8-9690-f04c0a83dd28",
   "metadata": {},
   "outputs": [
    {
     "data": {
      "text/plain": [
       "[1] \"Woman\" \"Man\"   \"Woman\" \"Woman\" \"Woman\" \"Man\"  "
      ]
     },
     "metadata": {},
     "output_type": "display_data"
    }
   ],
   "source": [
    "head(users[[2282]])\n",
    "# these are the genders there.\n",
    "# the column named gender2 is 2282\n"
   ]
  },
  {
   "cell_type": "code",
   "execution_count": 34,
   "id": "b4b4ccac-9fd7-48f7-9051-a132a8a66c6b",
   "metadata": {},
   "outputs": [
    {
     "data": {
      "text/plain": [
       "$Man\n",
       "\n",
       "No. Why spoil the mystery?   Yes. Knowledge is power! \n",
       "                     17294                       7549 \n",
       "\n",
       "$Woman\n",
       "\n",
       "No. Why spoil the mystery?   Yes. Knowledge is power! \n",
       "                      7987                       5660 \n"
      ]
     },
     "metadata": {},
     "output_type": "display_data"
    }
   ],
   "source": [
    "tapply(users[[1193]], users[[2282]], table)\n",
    "# we are going to take the data from how people responded to the Google questions\n",
    "# break it up according to the gender\n",
    "# within all the males responses, we take the data and make a table\n",
    "# within all the females responses, we take the data and make a table\n"
   ]
  },
  {
   "cell_type": "code",
   "execution_count": 35,
   "id": "d2f8551b-4fa9-4a47-8754-cc8c599642a1",
   "metadata": {},
   "outputs": [
    {
     "data": {
      "text/plain": [
       "$Man\n",
       "\n",
       "No. Why spoil the mystery?   Yes. Knowledge is power! \n",
       "                     17294                       7549 \n",
       "                      <NA> \n",
       "                     15372 \n",
       "\n",
       "$Woman\n",
       "\n",
       "No. Why spoil the mystery?   Yes. Knowledge is power! \n",
       "                      7987                       5660 \n",
       "                      <NA> \n",
       "                     12305 \n"
      ]
     },
     "metadata": {},
     "output_type": "display_data"
    }
   ],
   "source": [
    "tapply(users[[1193]], users[[2282]], table,useNA = \"always\")\n",
    "# put useNA = \"always\" to know the number of people that did not respond in each gender"
   ]
  },
  {
   "cell_type": "code",
   "execution_count": 36,
   "id": "53e62848-10c0-4356-89c1-dcae4de28dc5",
   "metadata": {},
   "outputs": [
    {
     "data": {
      "text/plain": [
       "$Man\n",
       "x\n",
       "No. Why spoil the mystery?   Yes. Knowledge is power! \n",
       "                 0.4300385                  0.1877160 \n",
       "                      <NA> \n",
       "                 0.3822454 \n",
       "\n",
       "$Woman\n",
       "x\n",
       "No. Why spoil the mystery?   Yes. Knowledge is power! \n",
       "                 0.3077605                  0.2180949 \n",
       "                      <NA> \n",
       "                 0.4741446 \n"
      ]
     },
     "metadata": {},
     "output_type": "display_data"
    }
   ],
   "source": [
    "tapply(users[[1193]], users[[2282]], function(x) {prop.table(table(x,useNA = \"always\"))})\n",
    "# another way to calculate the percentage using prop.table"
   ]
  },
  {
   "cell_type": "code",
   "execution_count": 37,
   "id": "12722975-8896-46a2-924d-2f17fca5e68a",
   "metadata": {},
   "outputs": [
    {
     "data": {
      "text/plain": [
       "$Man\n",
       "x\n",
       "No. Why spoil the mystery?   Yes. Knowledge is power! \n",
       "                  43.00385                   18.77160 \n",
       "                      <NA> \n",
       "                  38.22454 \n",
       "\n",
       "$Woman\n",
       "x\n",
       "No. Why spoil the mystery?   Yes. Knowledge is power! \n",
       "                  30.77605                   21.80949 \n",
       "                      <NA> \n",
       "                  47.41446 \n"
      ]
     },
     "metadata": {},
     "output_type": "display_data"
    }
   ],
   "source": [
    "tapply(users[[1193]], users[[2282]], function(x) {(prop.table(table(x,useNA = \"always\")))*100})"
   ]
  },
  {
   "cell_type": "code",
   "execution_count": 38,
   "id": "284d1fd3-5bbb-4f13-8b24-65bd18208b14",
   "metadata": {},
   "outputs": [
    {
     "data": {
      "text/plain": [
       "                           Man       Woman    \n",
       "No. Why spoil the mystery? 0.4300385 0.3077605\n",
       "Yes. Knowledge is power!   0.1877160 0.2180949\n",
       "<NA>                       0.3822454 0.4741446"
      ]
     },
     "metadata": {},
     "output_type": "display_data"
    }
   ],
   "source": [
    "sapply(tapply(users[[1193]], users[[2282]], table,useNA = \"always\"),prop.table)\n",
    "# this apply prop.table to each\n",
    "# this take data from men and make proportion to women"
   ]
  },
  {
   "cell_type": "code",
   "execution_count": null,
   "id": "bfa9a6ba-71f3-4d0c-b4ba-cb89401bfdb8",
   "metadata": {},
   "outputs": [],
   "source": [
    "# sapply works like this:    sapply(mydata, myfunction)\n",
    "# sapply takes some data and a function that you want to run on each piece of the data"
   ]
  },
  {
   "cell_type": "markdown",
   "id": "0d552245-b4d6-474a-9cc9-fa7b8e674d55",
   "metadata": {},
   "source": [
    "Using the ability to create a function AND tapply find the percentages of Female vs Male (Man vs Woman, as categorized in the users data.frame) who DO google someone before their date."
   ]
  },
  {
   "cell_type": "markdown",
   "id": "88c9cdac-3e92-498f-83fa-e089bfc44ac8",
   "metadata": {},
   "source": [
    "## Question 5"
   ]
  },
  {
   "cell_type": "code",
   "execution_count": 39,
   "id": "d370d7c9-06db-42b9-b75f-240481a5c491",
   "metadata": {},
   "outputs": [
    {
     "data": {
      "text/plain": [
       "[1] \"Hetero_female\"   \"Hetero_male\"     \"Hetero_female\"   \"Hetero_female\"  \n",
       "[5] \"Bisexual_female\" \"Hetero_male\"    "
      ]
     },
     "metadata": {},
     "output_type": "display_data"
    }
   ],
   "source": [
    "head(users$gender_orientation)"
   ]
  },
  {
   "cell_type": "code",
   "execution_count": 40,
   "id": "62dac750-ed73-4d6f-aa6c-ae20b2a22d3d",
   "metadata": {},
   "outputs": [
    {
     "data": {
      "text/plain": [
       " [1] \"Hetero_female\"   \"Hetero_male\"     \"Hetero_female\"   \"Hetero_female\"  \n",
       " [5] \"Bisexual_female\" \"Hetero_male\"     NA                \"Hetero_male\"    \n",
       " [9] \"Hetero_female\"   \"Hetero_male\"     \"Hetero_female\"   \"Hetero_male\"    \n",
       "[13] \"Bisexual_female\" \"Hetero_female\"   \"Hetero_male\"     \"Bisexual_female\"\n",
       "[17] NA                \"Hetero_female\"   \"Hetero_male\"     \"Hetero_female\"  "
      ]
     },
     "metadata": {},
     "output_type": "display_data"
    }
   ],
   "source": [
    "head(users$gender_orientation, n=20)"
   ]
  },
  {
   "cell_type": "code",
   "execution_count": 41,
   "id": "e052d763-7131-401b-86b3-d4d595639018",
   "metadata": {},
   "outputs": [
    {
     "data": {
      "text/plain": [
       " [1] \"Heterofemale\"   \"Heteromale\"     \"Heterofemale\"   \"Heterofemale\"  \n",
       " [5] \"Bisexualfemale\" \"Heteromale\"     NA               \"Heteromale\"    \n",
       " [9] \"Heterofemale\"   \"Heteromale\"     \"Heterofemale\"   \"Heteromale\"    \n",
       "[13] \"Bisexualfemale\" \"Heterofemale\"   \"Heteromale\"     \"Bisexualfemale\"\n",
       "[17] NA               \"Heterofemale\"   \"Heteromale\"     \"Heterofemale\"  "
      ]
     },
     "metadata": {},
     "output_type": "display_data"
    }
   ],
   "source": [
    "gsub(\"_\", \"\", head(users$gender_orientation, n=20))\n",
    "# take the underscore out and everything after underscore\n",
    "# to do that, i do a global substitution of the underscore and put in nothing in its place\n",
    "# it will just take out the underscore itself\n",
    "# but it wont get things after the underscore\n",
    "# lots of way to solve the problems"
   ]
  },
  {
   "cell_type": "code",
   "execution_count": 42,
   "id": "535392c5-4291-4129-9ae2-119f8cf85461",
   "metadata": {},
   "outputs": [
    {
     "data": {
      "text/plain": [
       " [1] \"Hetero\"   \"Hetero\"   \"Hetero\"   \"Hetero\"   \"Bisexual\" \"Hetero\"  \n",
       " [7] NA         \"Hetero\"   \"Hetero\"   \"Hetero\"   \"Hetero\"   \"Hetero\"  \n",
       "[13] \"Bisexual\" \"Hetero\"   \"Hetero\"   \"Bisexual\" NA         \"Hetero\"  \n",
       "[19] \"Hetero\"   \"Hetero\"  "
      ]
     },
     "metadata": {},
     "output_type": "display_data"
    }
   ],
   "source": [
    "gsub(\"_[A-Za-z]*\", \"\", head(users$gender_orientation, n=20))\n",
    "# i will take any letter that comes after that\n",
    "# [A-Za-z] means take any letter capitals or smallletters that comes after underscore\n",
    "# * means  take as many of those you find (by putting *)\n",
    "#  \"\" means substituting them out to make them into nothing"
   ]
  },
  {
   "cell_type": "code",
   "execution_count": 43,
   "id": "31ae15cc-5559-47f6-af1e-751b130a099c",
   "metadata": {},
   "outputs": [
    {
     "data": {
      "text/plain": [
       " [1] \"Heteroburger\"   \"Heteroburger\"   \"Heteroburger\"   \"Heteroburger\"  \n",
       " [5] \"Bisexualburger\" \"Heteroburger\"   NA               \"Heteroburger\"  \n",
       " [9] \"Heteroburger\"   \"Heteroburger\"   \"Heteroburger\"   \"Heteroburger\"  \n",
       "[13] \"Bisexualburger\" \"Heteroburger\"   \"Heteroburger\"   \"Bisexualburger\"\n",
       "[17] NA               \"Heteroburger\"   \"Heteroburger\"   \"Heteroburger\"  "
      ]
     },
     "metadata": {},
     "output_type": "display_data"
    }
   ],
   "source": [
    "gsub(\"_[A-Za-z]*\", \"burger\", head(users$gender_orientation, n=20))\n",
    "# the thing you put in here (\"\") is what get sustituted\n",
    "# if you put burger in it (e.g \"burger\")"
   ]
  },
  {
   "cell_type": "code",
   "execution_count": 44,
   "id": "fe5593e6-1517-4ce4-b208-5eb5eb899be8",
   "metadata": {},
   "outputs": [
    {
     "data": {
      "text/plain": [
       " [1] \"Hetero\"   \"Hetero\"   \"Hetero\"   \"Hetero\"   \"Bisexual\" \"Hetero\"  \n",
       " [7] NA         \"Hetero\"   \"Hetero\"   \"Hetero\"   \"Hetero\"   \"Hetero\"  \n",
       "[13] \"Bisexual\" \"Hetero\"   \"Hetero\"   \"Bisexual\" NA         \"Hetero\"  \n",
       "[19] \"Hetero\"   \"Hetero\"  "
      ]
     },
     "metadata": {},
     "output_type": "display_data"
    }
   ],
   "source": [
    "gsub(\"_[A-Za-z]*\", \"\", head(users$gender_orientation, n=20))\n",
    "# we want to remove everything after the underscore"
   ]
  },
  {
   "cell_type": "code",
   "execution_count": 45,
   "id": "1981f5a2-5bdb-4442-8906-795535bc7ead",
   "metadata": {},
   "outputs": [
    {
     "data": {
      "text/plain": [
       "\n",
       "Bisexual   Hetero \n",
       "       3       15 "
      ]
     },
     "metadata": {},
     "output_type": "display_data"
    }
   ],
   "source": [
    "table(gsub(\"_[A-Za-z]*\", \"\", head(users$gender_orientation, n=20)))\n",
    "# then make table of the result"
   ]
  },
  {
   "cell_type": "code",
   "execution_count": 46,
   "id": "653121b2-2530-4b10-b26f-aa38f0a7c6ac",
   "metadata": {},
   "outputs": [
    {
     "data": {
      "text/plain": [
       "\n",
       "Bisexual      Gay   Hetero \n",
       "      12        4       78 "
      ]
     },
     "metadata": {},
     "output_type": "display_data"
    }
   ],
   "source": [
    "table(gsub(\"_[A-Za-z]*\", \"\", head(users$gender_orientation, n=100)))\n",
    "# table for the first 100 entries"
   ]
  },
  {
   "cell_type": "code",
   "execution_count": 47,
   "id": "5df87dec-2564-4d94-9090-b946eeb77ed8",
   "metadata": {},
   "outputs": [
    {
     "data": {
      "text/plain": [
       "\n",
       "Bisexual      Gay   Hetero     <NA> \n",
       "    4743     3392    57747     2489 "
      ]
     },
     "metadata": {},
     "output_type": "display_data"
    }
   ],
   "source": [
    "table(gsub(\"_[A-Za-z]*\", \"\", users$gender_orientation), useNA=\"always\")\n",
    "# since i have gotten for first 100 entries\n",
    "# for all together i will take the head off, and the range(n=100)\n",
    "# lastly you could check, is there any NA's in there (useNA=\"always\")"
   ]
  },
  {
   "cell_type": "markdown",
   "id": "9fbf00fb-2418-460f-ae94-2a32b0c28952",
   "metadata": {},
   "source": [
    "Using the ability to create a function AND use sapply() write a function that takes the string and removes everything after/including the _ from the gender_orientation column in the users data.frame."
   ]
  },
  {
   "cell_type": "markdown",
   "id": "f76442d6-d02e-4f26-b9d6-c3183e1d6929",
   "metadata": {},
   "source": [
    "## Pledge\n",
    "\n",
    "By submitting this work I hereby pledge that this is my own, personal work. I've acknowledged in the designated place at the top of this file all sources that I used to complete said work, including but not limited to: online resources, books, and electronic communications. I've noted all collaboration with fellow students and/or TA's. I did not copy or plagiarize another's work.\n",
    "\n",
    "> As a Boilermaker pursuing academic excellence, I pledge to be honest and true in all that I do. Accountable together – We are Purdue."
   ]
  }
 ],
 "metadata": {
  "kernelspec": {
   "display_name": "f2022-s2023-r",
   "language": "R",
   "name": "f2022-s2023-r"
  },
  "language_info": {
   "codemirror_mode": "r",
   "file_extension": ".r",
   "mimetype": "text/x-r-source",
   "name": "R",
   "pygments_lexer": "r",
   "version": "4.2.1"
  }
 },
 "nbformat": 4,
 "nbformat_minor": 5
}
