{
 "cells": [
  {
   "cell_type": "markdown",
   "id": "be02a957-7133-4d02-818e-fedeb3cecb05",
   "metadata": {},
   "source": [
    "# Project 5 --Seyi Ogunmodede"
   ]
  },
  {
   "cell_type": "markdown",
   "id": "a1228853-dd19-4ab2-89e0-0394d7d72de3",
   "metadata": {},
   "source": [
    "**Instructor:** Dr. Mark Daniel John Smith, Alice Jones\n",
    "\n",
    "- Help with videos on how to write a function.\n",
    "    \n",
    "**Collaboration:** "
   ]
  },
  {
   "cell_type": "markdown",
   "id": "6180e742-8e39-4698-98ff-5b00c8cf8ea0",
   "metadata": {},
   "source": [
    "## Question 1"
   ]
  },
  {
   "cell_type": "code",
   "execution_count": 2,
   "id": "49445606-d363-41b4-b479-e319a9a84c01",
   "metadata": {},
   "outputs": [],
   "source": [
    "options(jupyter.rich_display = F)"
   ]
  },
  {
   "cell_type": "code",
   "execution_count": 3,
   "id": "1ffd2269-6a9f-40f9-b5ec-6eb887358e73",
   "metadata": {},
   "outputs": [],
   "source": [
    "options(repr.matrix.max.cols=25, repr.matrix.max.rows=200)"
   ]
  },
  {
   "cell_type": "code",
   "execution_count": 4,
   "id": "39d3815e-6812-4d34-ab3c-67b9b533c768",
   "metadata": {},
   "outputs": [],
   "source": [
    "myDF <- read.csv(\"/anvil/projects/tdm/data/election/escaped/itcont2020sample.txt\", sep=\"|\")"
   ]
  },
  {
   "cell_type": "code",
   "execution_count": 5,
   "id": "71f96b37-40ac-4f8f-91cb-6b7d439f9cd2",
   "metadata": {},
   "outputs": [
    {
     "data": {
      "text/plain": [
       "  CMTE_ID   AMNDT_IND RPT_TP TRANSACTION_PGI IMAGE_NUM    TRANSACTION_TP\n",
       "1 C00401224 N         YE                     2.020013e+17 24T           \n",
       "2 C00401224 N         M4     P               2.020042e+17 24T           \n",
       "3 C00193433 N         YE     P               2.020012e+17 15            \n",
       "4 C00401224 N         YE                     2.020013e+17 24T           \n",
       "5 C00401224 N         MY                     2.019073e+17 24T           \n",
       "6 C00618371 N         Q3     P               2.019102e+17 15            \n",
       "  ENTITY_TP NAME             CITY         STATE ZIP_CODE EMPLOYER    \n",
       "1 IND       SOLOMON, VICTOR  CAPE CORAL   FL    33904    RETIRED     \n",
       "2 IND       MYERS, ELIZABETH SCOTTSVILLE  NY    14546    NOT EMPLOYED\n",
       "3 IND       HASKINS, GEORGE  HARTSDALE    NY    10530    NOT EMPLOYED\n",
       "4 IND       KOLBE, NINA      WASHINGTON   DC    20003    SELF        \n",
       "5 IND       ESSENBERG, PENNY GRAND RAPIDS MI    49534                \n",
       "6 IND       GIEBEL, BETTY    KISSIMMEE    FL    34744    HOMEMAKER   \n",
       "  OCCUPATION          TRANSACTION_DT TRANSACTION_AMT OTHER_ID  TRAN_ID         \n",
       "1 NOT EMPLOYED         7112019       15              C00042366 SA11AI_165851302\n",
       "2 NOT EMPLOYED         3042020       39              C00696948 SA11AI_216676150\n",
       "3 NOT EMPLOYED        12182019       15                        6260719         \n",
       "4 HEALTH PROFESSIONAL  8302019       10              C00637074 SA11AI_174544101\n",
       "5                      3212019       16              C00580068 SB28A_145393165 \n",
       "6 HOMEMAKER            7112019       42                        SA11AI.178611   \n",
       "  FILE_NUM MEMO_CD\n",
       "1 1378435         \n",
       "2 1402724         \n",
       "3 1371576         \n",
       "4 1378435         \n",
       "5 1344765         \n",
       "6 1358506         \n",
       "  MEMO_TEXT                                                                              \n",
       "1 EARMARKED FOR DSCC (C00042366)                                                         \n",
       "2 EARMARKED FOR BERNIE 2020 (C00696948)                                                  \n",
       "3                                                                                        \n",
       "4 EARMARKED FOR FINKENAUER FOR CONGRESS (C00637074)                                      \n",
       "5 REFUND OF CONTRIBUTION, INITIALLY EARMARKED FOR PROGRESSIVE TURNOUT PROJECT (C00580068)\n",
       "6                                                                                        \n",
       "  SUB_ID     \n",
       "1 4.03022e+18\n",
       "2 4.05142e+18\n",
       "3 4.01222e+18\n",
       "4 4.03022e+18\n",
       "5 4.08282e+18\n",
       "6 4.10182e+18"
      ]
     },
     "metadata": {},
     "output_type": "display_data"
    }
   ],
   "source": [
    "head(myDF)"
   ]
  },
  {
   "cell_type": "code",
   "execution_count": 6,
   "id": "3f477680-39c9-4061-975b-44e4139add25",
   "metadata": {},
   "outputs": [
    {
     "data": {
      "text/plain": [
       "[1] \"integer\""
      ]
     },
     "metadata": {},
     "output_type": "display_data"
    }
   ],
   "source": [
    "class(myDF$ TRANSACTION_DT)"
   ]
  },
  {
   "cell_type": "code",
   "execution_count": 7,
   "id": "442f59ed-5e59-4c23-8f3e-8b6c1dbf97dc",
   "metadata": {},
   "outputs": [
    {
     "name": "stderr",
     "output_type": "stream",
     "text": [
      "Warning message in system(\"timedatectl\", intern = TRUE):\n",
      "\"running command 'timedatectl' had status 1\"\n",
      "\n",
      "Attaching package: 'lubridate'\n",
      "\n",
      "\n",
      "The following objects are masked from 'package:base':\n",
      "\n",
      "    date, intersect, setdiff, union\n",
      "\n",
      "\n"
     ]
    }
   ],
   "source": [
    "library(lubridate)"
   ]
  },
  {
   "cell_type": "code",
   "execution_count": 8,
   "id": "243b96c4-cba7-4072-b302-493cd453d439",
   "metadata": {},
   "outputs": [],
   "source": [
    "library(lubridate, warn.conflicts = FALSE)"
   ]
  },
  {
   "cell_type": "code",
   "execution_count": 9,
   "id": "50e04a3a-f546-4b68-8279-c0cf5c95f24f",
   "metadata": {},
   "outputs": [],
   "source": [
    "library(lubridate)"
   ]
  },
  {
   "cell_type": "code",
   "execution_count": 10,
   "id": "63e257fe-d220-4b14-8874-92eab1e7c7b6",
   "metadata": {},
   "outputs": [
    {
     "data": {
      "text/plain": [
       "[1] 4678762      21"
      ]
     },
     "metadata": {},
     "output_type": "display_data"
    }
   ],
   "source": [
    "dim(myDF)"
   ]
  },
  {
   "cell_type": "code",
   "execution_count": 11,
   "id": "e501b07e-dfea-4b70-bf1c-9c662d15ef93",
   "metadata": {},
   "outputs": [
    {
     "data": {
      "text/plain": [
       "[1] \"integer\""
      ]
     },
     "metadata": {},
     "output_type": "display_data"
    }
   ],
   "source": [
    "class(head(myDF$TRANSACTION_DT))"
   ]
  },
  {
   "cell_type": "code",
   "execution_count": 12,
   "id": "e6ea3f0b-d017-4ead-a235-29029ae69cee",
   "metadata": {},
   "outputs": [
    {
     "data": {
      "text/plain": [
       "[1]  7112019  3042020 12182019  8302019  3212019  7112019"
      ]
     },
     "metadata": {},
     "output_type": "display_data"
    }
   ],
   "source": [
    "head(myDF$TRANSACTION_DT)"
   ]
  },
  {
   "cell_type": "code",
   "execution_count": 13,
   "id": "b2d8cfad-a640-488a-90e5-ad85c373e877",
   "metadata": {},
   "outputs": [
    {
     "data": {
      "text/plain": [
       "[1] \"2019-07-11\" \"2020-03-04\" \"2019-12-18\" \"2019-08-30\" \"2019-03-21\"\n",
       "[6] \"2019-07-11\""
      ]
     },
     "metadata": {},
     "output_type": "display_data"
    }
   ],
   "source": [
    "mdy(head(myDF$TRANSACTION_DT))"
   ]
  },
  {
   "cell_type": "code",
   "execution_count": 14,
   "id": "3ffc8726-dd17-440d-a7b6-7f39fa31867d",
   "metadata": {},
   "outputs": [
    {
     "data": {
      "text/plain": [
       "[1] \"Date\""
      ]
     },
     "metadata": {},
     "output_type": "display_data"
    }
   ],
   "source": [
    "class(mdy(head(myDF$TRANSACTION_DT)))\n",
    "# with mdy the class is date, while before it was integer."
   ]
  },
  {
   "cell_type": "code",
   "execution_count": 15,
   "id": "1386f270-f1c2-411d-a22f-4c2f8f78783d",
   "metadata": {},
   "outputs": [],
   "source": [
    "myDF$newdates <- mdy(myDF$TRANSACTION_DT)"
   ]
  },
  {
   "cell_type": "code",
   "execution_count": 16,
   "id": "7780e8b8-54b5-4f50-9a7e-bc784578ba85",
   "metadata": {},
   "outputs": [
    {
     "data": {
      "text/plain": [
       "  CMTE_ID   AMNDT_IND RPT_TP TRANSACTION_PGI IMAGE_NUM    TRANSACTION_TP\n",
       "1 C00401224 N         YE                     2.020013e+17 24T           \n",
       "2 C00401224 N         M4     P               2.020042e+17 24T           \n",
       "3 C00193433 N         YE     P               2.020012e+17 15            \n",
       "4 C00401224 N         YE                     2.020013e+17 24T           \n",
       "5 C00401224 N         MY                     2.019073e+17 24T           \n",
       "6 C00618371 N         Q3     P               2.019102e+17 15            \n",
       "  ENTITY_TP NAME             CITY         STATE ZIP_CODE EMPLOYER    \n",
       "1 IND       SOLOMON, VICTOR  CAPE CORAL   FL    33904    RETIRED     \n",
       "2 IND       MYERS, ELIZABETH SCOTTSVILLE  NY    14546    NOT EMPLOYED\n",
       "3 IND       HASKINS, GEORGE  HARTSDALE    NY    10530    NOT EMPLOYED\n",
       "4 IND       KOLBE, NINA      WASHINGTON   DC    20003    SELF        \n",
       "5 IND       ESSENBERG, PENNY GRAND RAPIDS MI    49534                \n",
       "6 IND       GIEBEL, BETTY    KISSIMMEE    FL    34744    HOMEMAKER   \n",
       "  OCCUPATION          TRANSACTION_DT TRANSACTION_AMT OTHER_ID  TRAN_ID         \n",
       "1 NOT EMPLOYED         7112019       15              C00042366 SA11AI_165851302\n",
       "2 NOT EMPLOYED         3042020       39              C00696948 SA11AI_216676150\n",
       "3 NOT EMPLOYED        12182019       15                        6260719         \n",
       "4 HEALTH PROFESSIONAL  8302019       10              C00637074 SA11AI_174544101\n",
       "5                      3212019       16              C00580068 SB28A_145393165 \n",
       "6 HOMEMAKER            7112019       42                        SA11AI.178611   \n",
       "  FILE_NUM MEMO_CD\n",
       "1 1378435         \n",
       "2 1402724         \n",
       "3 1371576         \n",
       "4 1378435         \n",
       "5 1344765         \n",
       "6 1358506         \n",
       "  MEMO_TEXT                                                                              \n",
       "1 EARMARKED FOR DSCC (C00042366)                                                         \n",
       "2 EARMARKED FOR BERNIE 2020 (C00696948)                                                  \n",
       "3                                                                                        \n",
       "4 EARMARKED FOR FINKENAUER FOR CONGRESS (C00637074)                                      \n",
       "5 REFUND OF CONTRIBUTION, INITIALLY EARMARKED FOR PROGRESSIVE TURNOUT PROJECT (C00580068)\n",
       "6                                                                                        \n",
       "  SUB_ID      newdates  \n",
       "1 4.03022e+18 2019-07-11\n",
       "2 4.05142e+18 2020-03-04\n",
       "3 4.01222e+18 2019-12-18\n",
       "4 4.03022e+18 2019-08-30\n",
       "5 4.08282e+18 2019-03-21\n",
       "6 4.10182e+18 2019-07-11"
      ]
     },
     "metadata": {},
     "output_type": "display_data"
    }
   ],
   "source": [
    "head(myDF)"
   ]
  },
  {
   "cell_type": "code",
   "execution_count": null,
   "id": "d733aac5-8d13-4df8-b435-4fa9fd920365",
   "metadata": {},
   "outputs": [],
   "source": [
    "# Using tapply, add the values in the TRANSACTION_AMT column, \n",
    "# according to the values in the newdate column."
   ]
  },
  {
   "cell_type": "code",
   "execution_count": null,
   "id": "f967303f-3faa-428d-8c53-72db3a11ab29",
   "metadata": {},
   "outputs": [],
   "source": [
    "# tapply takes 3 inputs:\n",
    "# the data to work on\n",
    "# the way to break the date into groups\n",
    "# the function to run on each piece of data"
   ]
  },
  {
   "cell_type": "code",
   "execution_count": 20,
   "id": "2a2753ea-52e1-4fb3-827c-eb871cdfa648",
   "metadata": {},
   "outputs": [
    {
     "data": {
      "text/plain": [
       "[1] 1067589940"
      ]
     },
     "metadata": {},
     "output_type": "display_data"
    }
   ],
   "source": [
    "sum(myDF$TRANSACTION_AMT)"
   ]
  },
  {
   "cell_type": "code",
   "execution_count": 19,
   "id": "470e254b-3f68-41b6-aa6e-950676db83ea",
   "metadata": {},
   "outputs": [
    {
     "data": {
      "text/plain": [
       "2002-02-13 2010-08-08 2015-06-28 2015-06-29 2016-06-03 2016-06-04 2017-11-20 \n",
       "       500        500        250        275       1000        250        850 \n",
       "2017-12-08 2018-01-06 2018-01-20 2018-01-24 2018-02-03 2018-02-11 2018-02-16 \n",
       "      1700        850        850        850        850        850        850 \n",
       "2018-02-19 2018-03-04 2018-03-22 2018-03-31 2018-04-07 2018-04-13 2018-04-27 \n",
       "       850        300        850       3090        850        850        850 \n",
       "2018-04-30 2018-05-01 2018-05-03 2018-05-04 2018-05-10 2018-05-18 2018-05-21 \n",
       "       850        150        850        850        850        850       1150 \n",
       "2018-05-24 2018-05-25 2018-05-31 2018-06-14 2018-06-26 2018-07-22 2018-07-31 \n",
       "       850        150        250        150       2800        850        850 \n",
       "2018-08-06 2018-08-12 2018-08-24 2018-09-01 2018-09-10 2018-09-15 2018-09-26 \n",
       "      1960        850       2550        850        325        850        850 \n",
       "2018-10-02 2018-10-05 2018-10-07 2018-10-10 2018-10-23 2018-10-25 2018-11-03 \n",
       "       345        850        142        100        250        850        850 \n",
       "2018-11-05 2018-11-06 2018-11-07 2018-11-09 2018-11-11 2018-11-14 2018-11-15 \n",
       "       850          2        850      56800         15       1150       9469 \n",
       "2018-11-16 2018-11-17 2018-11-18 2018-11-19 2018-11-20 2018-11-21 2018-11-22 \n",
       "     10726       3300        500      25400        200       2200       7300 \n",
       "2018-11-23 2018-11-25 2018-11-27 2018-11-28 2018-11-29 2018-12-01 2018-12-02 \n",
       "       175         25        124        376        750        500        250 \n",
       "2018-12-03 2018-12-05 2018-12-07 2018-12-09 2018-12-10 2018-12-11 2018-12-12 \n",
       "      5750        250          9       -497       1025      10900        312 \n",
       "2018-12-13 2018-12-14 2018-12-16 2018-12-17 2018-12-18 2018-12-19 2018-12-20 \n",
       "      3100        630        170       2384       3242        476       1606 \n",
       "2018-12-21 2018-12-23 2018-12-24 2018-12-25 2018-12-26 2018-12-27 2018-12-28 \n",
       "       725         25        187        122        553       1222       4065 \n",
       "2018-12-29 2018-12-30 2018-12-31 2019-01-01 2019-01-02 2019-01-03 2019-01-04 \n",
       "       325       6925      19217     286355     224173     343765     285968 \n",
       "2019-01-05 2019-01-06 2019-01-07 2019-01-08 2019-01-09 2019-01-10 2019-01-11 \n",
       "    130386     142742     283726     345262     388761     528628     489168 \n",
       "2019-01-12 2019-01-13 2019-01-14 2019-01-15 2019-01-16 2019-01-17 2019-01-18 \n",
       "    165037     143196     413388     514494     453520     568698     482521 \n",
       "2019-01-19 2019-01-20 2019-01-21 2019-01-22 2019-01-23 2019-01-24 2019-01-25 \n",
       "     99767     165167     365924     531936     622508     467723     734624 \n",
       "2019-01-26 2019-01-27 2019-01-28 2019-01-29 2019-01-30 2019-01-31 2019-02-01 \n",
       "    151261     445038     806948     735979     848832    1831005    1719995 \n",
       "2019-02-02 2019-02-03 2019-02-04 2019-02-05 2019-02-06 2019-02-07 2019-02-08 \n",
       "    221447     268864     709790    1713867     716363     947635     789129 \n",
       "2019-02-09 2019-02-10 2019-02-11 2019-02-12 2019-02-13 2019-02-14 2019-02-15 \n",
       "    269338     440437     820580    1092709     901121     827222     987777 \n",
       "2019-02-16 2019-02-17 2019-02-18 2019-02-19 2019-02-20 2019-02-21 2019-02-22 \n",
       "    232636     311150     387157    1825044    1017885    1063580    1088359 \n",
       "2019-02-23 2019-02-24 2019-02-25 2019-02-26 2019-02-27 2019-02-28 2019-03-01 \n",
       "    213831     300114    1039855     877042     993708    2542423    2102897 \n",
       "2019-03-02 2019-03-03 2019-03-04 2019-03-05 2019-03-06 2019-03-07 2019-03-08 \n",
       "    304253     399438    1249647    1013727    1214972     877371    1365114 \n",
       "2019-03-09 2019-03-10 2019-03-11 2019-03-12 2019-03-13 2019-03-14 2019-03-15 \n",
       "    349163     390423     964548    1491613    1058149    2292228    2006153 \n",
       "2019-03-16 2019-03-17 2019-03-18 2019-03-19 2019-03-20 2019-03-21 2019-03-22 \n",
       "    341329     473592    1607241    1691067    1679980    1202932    1771741 \n",
       "2019-03-23 2019-03-24 2019-03-25 2019-03-26 2019-03-27 2019-03-28 2019-03-29 \n",
       "    410224     526993    2027369    2039442    2180524    1941410    3811357 \n",
       "2019-03-30 2019-03-31 2019-04-01 2019-04-02 2019-04-03 2019-04-04 2019-04-05 \n",
       "   1526737    4369255    2408583     985203     829230     977438    1072370 \n",
       "2019-04-06 2019-04-07 2019-04-08 2019-04-09 2019-04-10 2019-04-11 2019-04-12 \n",
       "    276650     315657    1585431     934592    1063696    1236980    1044288 \n",
       "2019-04-13 2019-04-14 2019-04-15 2019-04-16 2019-04-17 2019-04-18 2019-04-19 \n",
       "    264899     586001    1328129    1013334    1477031    1183482    1423080 \n",
       "2019-04-20 2019-04-21 2019-04-22 2019-04-23 2019-04-24 2019-04-25 2019-04-26 \n",
       "    330465     284249    1020372     957776    2626638    2520110    1638413 \n",
       "2019-04-27 2019-04-28 2019-04-29 2019-04-30 2019-05-01 2019-05-02 2019-05-03 \n",
       "    423090     558746    1551699    2663527    1327223    1611982    2750129 \n",
       "2019-05-04 2019-05-05 2019-05-06 2019-05-07 2019-05-08 2019-05-09 2019-05-10 \n",
       "    357642     424795    1261678    1131866    1006466    1425091    1168083 \n",
       "2019-05-11 2019-05-12 2019-05-13 2019-05-14 2019-05-15 2019-05-16 2019-05-17 \n",
       "    282666     364190    1322745    1564637    1262397    1207509    1141314 \n",
       "2019-05-18 2019-05-19 2019-05-20 2019-05-21 2019-05-22 2019-05-23 2019-05-24 \n",
       "    359465     501392    1400443    2220153     894373    1562807    1387274 \n",
       "2019-05-25 2019-05-26 2019-05-27 2019-05-28 2019-05-29 2019-05-30 2019-05-31 \n",
       "    337735     280991     262263    2162133    2519604    1367882    2730410 \n",
       "2019-06-01 2019-06-02 2019-06-03 2019-06-04 2019-06-05 2019-06-06 2019-06-07 \n",
       "    420111     358819    1944736    1225206    1114106    1283286    1121565 \n",
       "2019-06-08 2019-06-09 2019-06-10 2019-06-11 2019-06-12 2019-06-13 2019-06-14 \n",
       "    329499     373699    1369204    1165822    1050186    2065717    1522541 \n",
       "2019-06-15 2019-06-16 2019-06-17 2019-06-18 2019-06-19 2019-06-20 2019-06-21 \n",
       "    471873     341919    1694723    3056274    1421896    2194020    1614011 \n",
       "2019-06-22 2019-06-23 2019-06-24 2019-06-25 2019-06-26 2019-06-27 2019-06-28 \n",
       "    469556     468593    1732344    2987319    2016351    2784271    4039173 \n",
       "2019-06-29 2019-06-30 2019-07-01 2019-07-02 2019-07-03 2019-07-04 2019-07-05 \n",
       "   1723680    6089037    1670385    1002170     640287     220606     648757 \n",
       "2019-07-06 2019-07-07 2019-07-08 2019-07-09 2019-07-10 2019-07-11 2019-07-12 \n",
       "    271992     276550    1723534    2005316    1220522    1248242     973333 \n",
       "2019-07-13 2019-07-14 2019-07-15 2019-07-16 2019-07-17 2019-07-18 2019-07-19 \n",
       "    299909     454620    1422993    1054635     902927    1075053    1332860 \n",
       "2019-07-20 2019-07-21 2019-07-22 2019-07-23 2019-07-24 2019-07-25 2019-07-26 \n",
       "    436728     449409    1218090    2075894    1153613    1026204    1843576 \n",
       "2019-07-27 2019-07-28 2019-07-29 2019-07-30 2019-07-31 2019-08-01 2019-08-02 \n",
       "    422850     596390    1309177    1616703    3276869    1558773    1271089 \n",
       "2019-08-03 2019-08-04 2019-08-05 2019-08-06 2019-08-07 2019-08-08 2019-08-09 \n",
       "    384953     408195    1088546    1456662    1260074    1173654    3487541 \n",
       "2019-08-10 2019-08-11 2019-08-12 2019-08-13 2019-08-14 2019-08-15 2019-08-16 \n",
       "    451449     488384    1145421    1429993    1277055    1592386    1334483 \n",
       "2019-08-17 2019-08-18 2019-08-19 2019-08-20 2019-08-21 2019-08-22 2019-08-23 \n",
       "    431108     519520    1305842    1359566    1054856    1387714    1460490 \n",
       "2019-08-24 2019-08-25 2019-08-26 2019-08-27 2019-08-28 2019-08-29 2019-08-30 \n",
       "    433936     496592    1305663    1275489    1653861    1929083    2263077 \n",
       "2019-08-31 2019-09-01 2019-09-02 2019-09-03 2019-09-04 2019-09-05 2019-09-06 \n",
       "   1920122     596724     376367    1423570    2343082    1261279    1466176 \n",
       "2019-09-07 2019-09-08 2019-09-09 2019-09-10 2019-09-11 2019-09-12 2019-09-13 \n",
       "    625035     561429    2955745    1553557    2576205    1657594    1934019 \n",
       "2019-09-14 2019-09-15 2019-09-16 2019-09-17 2019-09-18 2019-09-19 2019-09-20 \n",
       "    644332     778991    1889728    1445201    1879394    3255324    1923679 \n",
       "2019-09-21 2019-09-22 2019-09-23 2019-09-24 2019-09-25 2019-09-26 2019-09-27 \n",
       "    732994     911855    2481666    2324698    2372121    3451163    3349036 \n",
       "2019-09-28 2019-09-29 2019-09-30 2019-10-01 2019-10-02 2019-10-03 2019-10-04 \n",
       "   1624274    2043461   11248433    1906926    1374001    1577362    1286900 \n",
       "2019-10-05 2019-10-06 2019-10-07 2019-10-08 2019-10-09 2019-10-10 2019-10-11 \n",
       "    503794     730158    2103705    2349552    1324080    1444266    1251892 \n",
       "2019-10-12 2019-10-13 2019-10-14 2019-10-15 2019-10-16 2019-10-17 2019-10-18 \n",
       "    456656     499498     838354    3302133    1672420    2140214    2233004 \n",
       "2019-10-19 2019-10-20 2019-10-21 2019-10-22 2019-10-23 2019-10-24 2019-10-25 \n",
       "    673898     708166    1828871    1405484    1567518    1877222    1963704 \n",
       "2019-10-26 2019-10-27 2019-10-28 2019-10-29 2019-10-30 2019-10-31 2019-11-01 \n",
       "    577457     655347    1854755    1485982    2015625    5801325    1482658 \n",
       "2019-11-02 2019-11-03 2019-11-04 2019-11-05 2019-11-06 2019-11-07 2019-11-08 \n",
       "    489808     630506    2311178    1616197    1421163    1611042    2707289 \n",
       "2019-11-09 2019-11-10 2019-11-11 2019-11-12 2019-11-13 2019-11-14 2019-11-15 \n",
       "    556079     639339     849912    1797754    1510422    1989788    2485904 \n",
       "2019-11-16 2019-11-17 2019-11-18 2019-11-19 2019-11-20 2019-11-21 2019-11-22 \n",
       "    699888     762706    1866925    2686134   61029208    2347140    2861556 \n",
       "2019-11-23 2019-11-24 2019-11-25 2019-11-26 2019-11-27 2019-11-28 2019-11-29 \n",
       "    618050     765050    1872741    1712282    1293407     445850    1328499 \n",
       "2019-11-30 2019-12-01 2019-12-02 2019-12-03 2019-12-04 2019-12-05 2019-12-06 \n",
       "   2493312     656788    1937288    1615756    2053434    1787557    3620881 \n",
       "2019-12-07 2019-12-08 2019-12-09 2019-12-10 2019-12-11 2019-12-12 2019-12-13 \n",
       "    609405     740880    1906457    2482822    1682342    1857648    2579446 \n",
       "2019-12-14 2019-12-15 2019-12-16 2019-12-17 2019-12-18 2019-12-19 2019-12-20 \n",
       "    765171    1068117    2267592    3304527    2763266    4834897   13720524 \n",
       "2019-12-21 2019-12-22 2019-12-23 2019-12-24 2019-12-25 2019-12-26 2019-12-27 \n",
       "    978626     868032    3997170    2279853     757424    1739673    5522488 \n",
       "2019-12-28 2019-12-29 2019-12-30 2019-12-31 2020-01-01 2020-01-02 2020-01-03 \n",
       "   1555677    1426405    5640891   12463773     512912     676797     817690 \n",
       "2020-01-04 2020-01-05 2020-01-06 2020-01-07 2020-01-08 2020-01-09 2020-01-10 \n",
       "    448177     560156    1074375    1482340    2773368    1176143    2302235 \n",
       "2020-01-11 2020-01-12 2020-01-13 2020-01-14 2020-01-15 2020-01-16 2020-01-17 \n",
       "    691825     578961    1834570    1966775    4378806    1626644    1901076 \n",
       "2020-01-18 2020-01-19 2020-01-20 2020-01-21 2020-01-22 2020-01-23 2020-01-24 \n",
       "    670463     754740     990074    1796661    2612566   19674963    1691427 \n",
       "2020-01-25 2020-01-26 2020-01-27 2020-01-28 2020-01-29 2020-01-30 2020-01-31 \n",
       "    865238     842613    2254672    2263028    2302710    2796299    4918652 \n",
       "2020-02-01 2020-02-02 2020-02-03 2020-02-04 2020-02-05 2020-02-06 2020-02-07 \n",
       "   1165294     914210    3094231    2757217    4069356    4256715    9295265 \n",
       "2020-02-08 2020-02-09 2020-02-10 2020-02-11 2020-02-12 2020-02-13 2020-02-14 \n",
       "   1535016    1403996    3301579    3204444    4677244  128122042    3880426 \n",
       "2020-02-15 2020-02-16 2020-02-17 2020-02-18 2020-02-19 2020-02-20 2020-02-21 \n",
       "   1697205    1253001    1463749    5645990    3806077    4620127    3147509 \n",
       "2020-02-22 2020-02-23 2020-02-24 2020-02-25 2020-02-26 2020-02-27 2020-02-28 \n",
       "   1531281    1654197    4380206   89123625    3583972    3979764    5897681 \n",
       "2020-02-29 2020-03-01 2020-03-02 2020-03-03 2020-03-04 2020-03-05 2020-03-06 \n",
       "   5012038    2900184    3966423    4854497    5814943    4637253    3876184 \n",
       "2020-03-07 2020-03-08 2020-03-09 2020-03-10 2020-03-11 2020-03-12 2020-03-13 \n",
       "   1333327    1431096    8149441    3095594    2602841    3703124    2911791 \n",
       "2020-03-14 2020-03-15 2020-03-16 2020-03-17 2020-03-18 2020-03-19 2020-03-20 \n",
       "    804104    2455542    2234646    1968772    2775655    1952745    2394683 \n",
       "2020-03-21 2020-03-22 2020-03-23 2020-03-24 2020-03-25 2020-03-26 2020-03-27 \n",
       "    646034     702572    1393339    2311539    1944412    2909706    2152029 \n",
       "2020-03-28 2020-03-29 2020-03-30 2020-03-31 2020-04-01 2020-04-02 2020-04-03 \n",
       "   1069381    1249111    4271112   10400920     257300     251187     334071 \n",
       "2020-04-04 2020-04-05 2020-04-06 2020-04-07 2020-04-08 2020-04-09 2020-04-10 \n",
       "     55284      78473     194809     205210    1256284     209528     585818 \n",
       "2020-04-11 2020-04-12 2020-04-13 2020-04-14 2020-04-15 2020-04-16 2020-04-17 \n",
       "     37948      51158     253328     160274    1549357     255613    1179625 \n",
       "2020-04-18 2020-04-19 2020-04-20 2020-04-21 2020-04-22 2020-04-23 2020-04-24 \n",
       "     85223     105892    1284372     216202    1640185     187523     794947 \n",
       "2020-04-25 2020-04-26 2020-04-27 2020-04-28 2020-04-29 2020-04-30 2020-05-01 \n",
       "     46614      85551     492371     414259     219346    2203021      20000 \n",
       "2020-05-02 2020-05-03 2020-05-04 2020-05-05 2020-05-06 2020-05-07 2020-05-08 \n",
       "      6465       4640     157196      28180      26904      32189      28996 \n",
       "2020-05-09 2020-05-10 2020-05-11 2020-05-12 2020-05-13 2020-05-14 2020-12-16 \n",
       "     10359      18624      27734      48912      72568        250        500 \n",
       "2020-12-18 \n",
       "      2800 "
      ]
     },
     "metadata": {},
     "output_type": "display_data"
    }
   ],
   "source": [
    "tapply(myDF$TRANSACTION_AMT, myDF$newdates, sum)\n",
    "# the way Tapply work, you put the function at he end,\n",
    "#i want to sum up the variables at the beginning,the TRANSACTION_AMT\n",
    "# not all but broken into groups according to the newdates"
   ]
  },
  {
   "cell_type": "code",
   "execution_count": 24,
   "id": "960f429a-93d9-46cf-9d06-c623d98b7ea5",
   "metadata": {},
   "outputs": [],
   "source": [
    "myresults <- tapply(myDF$TRANSACTION_AMT, myDF$newdates, sum)"
   ]
  },
  {
   "cell_type": "code",
   "execution_count": 23,
   "id": "6f934e02-d4c6-457d-9df3-87f152b5c221",
   "metadata": {},
   "outputs": [
    {
     "data": {
      "text/plain": [
       "2002-02-13 2010-08-08 2015-06-28 2015-06-29 2016-06-03 2016-06-04 \n",
       "       500        500        250        275       1000        250 "
      ]
     },
     "metadata": {},
     "output_type": "display_data"
    }
   ],
   "source": [
    "head(myresults)"
   ]
  },
  {
   "cell_type": "code",
   "execution_count": null,
   "id": "94d8753c-b1f5-4c80-b302-518ef5f9dd69",
   "metadata": {},
   "outputs": [],
   "source": []
  },
  {
   "cell_type": "code",
   "execution_count": 25,
   "id": "5a459fad-a16b-466b-aabf-754f31371920",
   "metadata": {},
   "outputs": [
    {
     "data": {
      "text/plain": [
       "[1] 596"
      ]
     },
     "metadata": {},
     "output_type": "display_data"
    }
   ],
   "source": [
    "length(sort(unique(myDF$newdates)))\n",
    "# i needed to sort this to put the dates in order as they would appear on the plot.\n",
    "# on the x-axis, it has the unique dates listed in sorted order.\n",
    "# on the y-axis , it has the corresponding values"
   ]
  },
  {
   "cell_type": "code",
   "execution_count": 26,
   "id": "b4baa88c-0199-471a-8c3c-62d9134504af",
   "metadata": {},
   "outputs": [
    {
     "data": {
      "text/plain": [
       "[1] 597"
      ]
     },
     "metadata": {},
     "output_type": "display_data"
    }
   ],
   "source": [
    "length(unique(myDF$newdates))\n",
    "# there is discrepancy, meaning there is NA in there "
   ]
  },
  {
   "cell_type": "code",
   "execution_count": 27,
   "id": "ced48755-72b2-43ba-9720-926374feb57c",
   "metadata": {},
   "outputs": [
    {
     "data": {
      "text/plain": [
       "[1] 596"
      ]
     },
     "metadata": {},
     "output_type": "display_data"
    }
   ],
   "source": [
    "length(myresults)"
   ]
  },
  {
   "cell_type": "code",
   "execution_count": 28,
   "id": "da61cb37-3abc-4db3-a2c4-ffb3ddfb3c00",
   "metadata": {},
   "outputs": [
    {
     "data": {
      "image/png": "[encoded data removed]",
      "text/plain": [
       "plot without title"
      ]
     },
     "metadata": {
      "image/png": {
       "height": 420,
       "width": 420
      }
     },
     "output_type": "display_data"
    }
   ],
   "source": [
    "plot(myresults)"
   ]
  },
  {
   "cell_type": "code",
   "execution_count": 29,
   "id": "a48af8ec-fb9e-423a-91ac-09eb6d37be1b",
   "metadata": {},
   "outputs": [
    {
     "data": {
      "image/png": "[encoded data removed]",
      "text/plain": [
       "plot without title"
      ]
     },
     "metadata": {
      "image/png": {
       "height": 420,
       "width": 420
      }
     },
     "output_type": "display_data"
    }
   ],
   "source": [
    "plot(sort(unique(myDF$newdates)),myresults)\n",
    "# This will alligned the right dollars with the right dates, on the right axes."
   ]
  },
  {
   "cell_type": "code",
   "execution_count": null,
   "id": "c6a163b8-e995-4237-be66-6540fdcfca69",
   "metadata": {},
   "outputs": [],
   "source": []
  },
  {
   "cell_type": "markdown",
   "id": "b456e57c-4a12-464b-999a-ef2df5af80c1",
   "metadata": {},
   "source": [
    "Use the mdy function (from the lubridate library) on the column TRANSACTION_DT, to create a new column named newdates.\n",
    " newdates  \n",
    " 2019-07-11\n",
    " 2020-03-04\n",
    " 2019-12-18\n",
    " 2019-08-30\n",
    " 2019-03-21\n",
    " 2019-07-11\n",
    "\n",
    "Using tapply, add the values in the TRANSACTION_AMT column, according to the values in the newdate column.\n",
    "\n",
    "2002-02-13 2010-08-08 2015-06-28 2015-06-29 2016-06-03 2016-06-04 2017-11-20 \n",
    "       500        500        250        275       1000        250        850...........................................\n",
    "\n",
    "Plot the dates on the x-axis and the information we found in part b on the y-axis.\n"
   ]
  },
  {
   "cell_type": "markdown",
   "id": "fc601975-35ed-4680-a4e1-0273ee3cc047",
   "metadata": {},
   "source": [
    "## Question 2"
   ]
  },
  {
   "cell_type": "code",
   "execution_count": 30,
   "id": "a16336a1-1ef0-41e8-bc7c-49387db27497",
   "metadata": {},
   "outputs": [
    {
     "data": {
      "text/plain": [
       "[1] \"character\""
      ]
     },
     "metadata": {},
     "output_type": "display_data"
    }
   ],
   "source": [
    "class(\"01/01/2019\")\n",
    "# i need to convert this to date to be able to work with the term date not string"
   ]
  },
  {
   "cell_type": "code",
   "execution_count": 31,
   "id": "3a412562-d2dd-4198-86cc-a719d82468bc",
   "metadata": {
    "tags": []
   },
   "outputs": [
    {
     "data": {
      "text/plain": [
       "[1] \"Date\""
      ]
     },
     "metadata": {},
     "output_type": "display_data"
    }
   ],
   "source": [
    "class(mdy(\"01/01/2019\"))\n",
    "# now converted to date"
   ]
  },
  {
   "cell_type": "code",
   "execution_count": 32,
   "id": "649b34d0-b1db-4684-b030-8ab7492d9538",
   "metadata": {},
   "outputs": [],
   "source": [
    "newDF <- subset(myDF, (newdates >= mdy(\"01/01/2019\")) & (newdates <= mdy(\"05/15/2019\")))"
   ]
  },
  {
   "cell_type": "code",
   "execution_count": 33,
   "id": "08369699-7acb-4a85-a001-3fc3e2f8c96c",
   "metadata": {},
   "outputs": [
    {
     "data": {
      "text/plain": [
       "[1] 4678762      22"
      ]
     },
     "metadata": {},
     "output_type": "display_data"
    }
   ],
   "source": [
    "dim(myDF)"
   ]
  },
  {
   "cell_type": "code",
   "execution_count": 34,
   "id": "f1d38779-0d9e-45f4-9ebf-25c77e1c3cf4",
   "metadata": {},
   "outputs": [
    {
     "data": {
      "text/plain": [
       "[1] 495435     22"
      ]
     },
     "metadata": {},
     "output_type": "display_data"
    }
   ],
   "source": [
    "dim(newDF)"
   ]
  },
  {
   "cell_type": "code",
   "execution_count": 35,
   "id": "78e86cb3-c36b-4e50-8964-dd54f01ae55a",
   "metadata": {},
   "outputs": [],
   "source": [
    "mynewresults <- tapply(newDF$TRANSACTION_AMT, newDF$newdates, sum)"
   ]
  },
  {
   "cell_type": "code",
   "execution_count": 36,
   "id": "14153cc7-a817-41c8-8335-eb49a6f6f3e8",
   "metadata": {},
   "outputs": [
    {
     "data": {
      "text/plain": [
       "2019-01-01 2019-01-02 2019-01-03 2019-01-04 2019-01-05 2019-01-06 \n",
       "    286355     224173     343765     285968     130386     142742 "
      ]
     },
     "metadata": {},
     "output_type": "display_data"
    }
   ],
   "source": [
    "head(mynewresults)"
   ]
  },
  {
   "cell_type": "code",
   "execution_count": 37,
   "id": "0d91468f-3324-4554-b374-4e6a12f52abc",
   "metadata": {},
   "outputs": [
    {
     "data": {
      "text/plain": [
       "2019-05-10 2019-05-11 2019-05-12 2019-05-13 2019-05-14 2019-05-15 \n",
       "   1168083     282666     364190    1322745    1564637    1262397 "
      ]
     },
     "metadata": {},
     "output_type": "display_data"
    }
   ],
   "source": [
    "tail(mynewresults)"
   ]
  },
  {
   "cell_type": "code",
   "execution_count": 38,
   "id": "84d1a7ac-72ab-4fc5-b7a6-c971a211a4c0",
   "metadata": {},
   "outputs": [
    {
     "data": {
      "text/plain": [
       "[1] 135"
      ]
     },
     "metadata": {},
     "output_type": "display_data"
    }
   ],
   "source": [
    "length(sort(unique(newDF$newdates)))\n",
    "# to know how many days are in it."
   ]
  },
  {
   "cell_type": "code",
   "execution_count": 39,
   "id": "584535d4-af72-4aa9-8c5a-49edd451fcc8",
   "metadata": {},
   "outputs": [
    {
     "data": {
      "text/plain": [
       "[1] 135"
      ]
     },
     "metadata": {},
     "output_type": "display_data"
    }
   ],
   "source": [
    "length(mynewresults)"
   ]
  },
  {
   "cell_type": "code",
   "execution_count": 40,
   "id": "395ee99d-7d73-423d-9828-1b32b4f9147d",
   "metadata": {},
   "outputs": [
    {
     "data": {
      "image/png": "[encoded data removed]",
      "text/plain": [
       "plot without title"
      ]
     },
     "metadata": {
      "image/png": {
       "height": 420,
       "width": 420
      }
     },
     "output_type": "display_data"
    }
   ],
   "source": [
    "plot(sort(unique(newDF$newdates)),mynewresults)"
   ]
  },
  {
   "cell_type": "code",
   "execution_count": null,
   "id": "1bd26109-34fb-41e8-9ab3-d627d656fc03",
   "metadata": {},
   "outputs": [],
   "source": []
  },
  {
   "cell_type": "code",
   "execution_count": null,
   "id": "ae6a5c35-bd44-42fa-972f-6e3dfdcb96b6",
   "metadata": {},
   "outputs": [],
   "source": []
  },
  {
   "cell_type": "markdown",
   "id": "14dc22d4-ddc3-41cc-a91a-cb0025bc0c80",
   "metadata": {},
   "source": [
    "Create a new dataframe that only contains data for the dates in the range 01/01/2019-05/15/2019\n",
    "\n",
    "Plot the new dataframe\n",
    "\n",
    "What do you notice about the data?\n",
    "From the plot there was steady increase from January, it also shows that more giving occours on different days of the week, certain days has more donations than the other."
   ]
  },
  {
   "cell_type": "markdown",
   "id": "8e586edd-ff26-4ce2-8f6b-2424b26f2929",
   "metadata": {},
   "source": [
    "## Question 3"
   ]
  },
  {
   "cell_type": "code",
   "execution_count": null,
   "id": "bbe0f40d-9655-4653-9ca8-886bdb61cb91",
   "metadata": {},
   "outputs": [],
   "source": [
    "# tapply takes 3 inputs:\n",
    "# the data to work on\n",
    "# the way to break the date into groups\n",
    "# the function to run on each piece of data"
   ]
  },
  {
   "cell_type": "code",
   "execution_count": 41,
   "id": "a6bdfcf2-4acc-4123-9d11-f5d7dbd74321",
   "metadata": {},
   "outputs": [],
   "source": [
    "v <- tapply(myDF$TRANSACTION_AMT, myDF$STATE, sum)"
   ]
  },
  {
   "cell_type": "code",
   "execution_count": 42,
   "id": "1bd4274a-4c22-4d78-9a11-17aa8c412ad3",
   "metadata": {},
   "outputs": [
    {
     "data": {
      "text/plain": [
       "             AA      AB      AE      AK      AL \n",
       " 431548   32243    1474   87137 1627993 7195054 "
      ]
     },
     "metadata": {},
     "output_type": "display_data"
    }
   ],
   "source": [
    "head(v)"
   ]
  },
  {
   "cell_type": "code",
   "execution_count": 43,
   "id": "fb23f271-f9f2-4496-910c-81381470365e",
   "metadata": {},
   "outputs": [
    {
     "data": {
      "text/plain": [
       "      WA       WI       WV       WY       YT       ZZ \n",
       "19736146  5911445  1181879  3554048      162   823468 "
      ]
     },
     "metadata": {},
     "output_type": "display_data"
    }
   ],
   "source": [
    "tail(v)"
   ]
  },
  {
   "cell_type": "code",
   "execution_count": 44,
   "id": "a775ed32-a650-4908-88fa-b7da3f2f319d",
   "metadata": {},
   "outputs": [
    {
     "data": {
      "text/plain": [
       "[1] 78"
      ]
     },
     "metadata": {},
     "output_type": "display_data"
    }
   ],
   "source": [
    "length(v)"
   ]
  },
  {
   "cell_type": "code",
   "execution_count": 45,
   "id": "9172edb0-f648-4536-bcd4-d98338f2bbc7",
   "metadata": {},
   "outputs": [
    {
     "data": {
      "text/plain": [
       "                 AA        AB        AE        AK        AL        AP        AR \n",
       "   431548     32243      1474     87137   1627993   7195054     49240   5690116 \n",
       "       AS        AZ        BC        CA        CO        CT        DC        DE \n",
       "     2908  11750510     12083 151842431  18025653  12065158  37280905   2120061 \n",
       "       FL        FM        GA        GU        HI        IA        ID        IL \n",
       " 44118779      2250  17026567     78087   1730014   4291247   1626126  27940911 \n",
       "       IN        KS        KY        LA        MA        MB        MD        ME \n",
       "  8906170   4311170   4440149   6202190  32308431       213  14940848   3393310 \n",
       "       MH        MI        MN        MO        MP        MS        MT        NB \n",
       "     5000  15933204   9990430   7123990     10098   1844410   2389091       417 \n",
       "       NC        ND        NE        NH        NJ        NL        NM        NS \n",
       " 13368140   1665152   2418525   2970383  16327791       909   4137547       678 \n",
       "       NT        NV        NY        OH        OK        ON        OR        PA \n",
       "        9   9346089 364883860  15076354   5402240     17743   7088869  25093386 \n",
       "       PE        PR        PW        QC        RI        SC        SD        SK \n",
       "       50    457693      5000      4347   1636246   5586743   1212866        66 \n",
       "       SP        TN        TX        UK        UT        VA        VI        VT \n",
       "        2   9043359  63719103        25   3517485  24995172     86549   1492795 \n",
       "       WA        WI        WV        WY        YT        ZZ \n",
       " 19736146   5911445   1181879   3554048       162    823468 "
      ]
     },
     "metadata": {},
     "output_type": "display_data"
    }
   ],
   "source": [
    "v"
   ]
  },
  {
   "cell_type": "code",
   "execution_count": 46,
   "id": "992e2eb9-24fa-46bf-a6e7-e513cd17d979",
   "metadata": {},
   "outputs": [
    {
     "data": {
      "text/plain": [
       "       SP        NT        UK        PE        SK        YT        MB        NB \n",
       "        2         9        25        50        66       162       213       417 \n",
       "       NS        NL        AB        FM        AS        QC        MH        PW \n",
       "      678       909      1474      2250      2908      4347      5000      5000 \n",
       "       MP        BC        ON        AA        AP        GU        VI        AE \n",
       "    10098     12083     17743     32243     49240     78087     86549     87137 \n",
       "                 PR        ZZ        WV        SD        VT        ID        AK \n",
       "   431548    457693    823468   1181879   1212866   1492795   1626126   1627993 \n",
       "       RI        ND        HI        MS        DE        MT        NE        NH \n",
       "  1636246   1665152   1730014   1844410   2120061   2389091   2418525   2970383 \n",
       "       ME        UT        WY        NM        IA        KS        KY        OK \n",
       "  3393310   3517485   3554048   4137547   4291247   4311170   4440149   5402240 \n",
       "       SC        AR        WI        LA        OR        MO        AL        IN \n",
       "  5586743   5690116   5911445   6202190   7088869   7123990   7195054   8906170 \n",
       "       TN        NV        MN        AZ        CT        NC        MD        OH \n",
       "  9043359   9346089   9990430  11750510  12065158  13368140  14940848  15076354 \n",
       "       MI        NJ        GA        CO        WA        VA        PA        IL \n",
       " 15933204  16327791  17026567  18025653  19736146  24995172  25093386  27940911 \n",
       "       MA        DC        FL        TX        CA        NY \n",
       " 32308431  37280905  44118779  63719103 151842431 364883860 "
      ]
     },
     "metadata": {},
     "output_type": "display_data"
    }
   ],
   "source": [
    "sort(v)"
   ]
  },
  {
   "cell_type": "code",
   "execution_count": 47,
   "id": "56ed44ea-7e1a-4575-a785-65761cc7d3de",
   "metadata": {},
   "outputs": [
    {
     "data": {
      "text/plain": [
       "[1] \"CAPE CORAL\"   \"SCOTTSVILLE\"  \"HARTSDALE\"    \"WASHINGTON\"   \"GRAND RAPIDS\"\n",
       "[6] \"KISSIMMEE\"   "
      ]
     },
     "metadata": {},
     "output_type": "display_data"
    }
   ],
   "source": [
    "head(myDF$CITY)"
   ]
  },
  {
   "cell_type": "code",
   "execution_count": 48,
   "id": "680539e6-4286-475d-98fa-80b0f2dbd7e6",
   "metadata": {},
   "outputs": [
    {
     "data": {
      "text/plain": [
       "[1] \"FL\" \"NY\" \"NY\" \"DC\" \"MI\" \"FL\""
      ]
     },
     "metadata": {},
     "output_type": "display_data"
    }
   ],
   "source": [
    "head(myDF$STATE)"
   ]
  },
  {
   "cell_type": "code",
   "execution_count": 49,
   "id": "97038fdc-e9d7-414c-9e78-65a3cec25ed6",
   "metadata": {},
   "outputs": [
    {
     "data": {
      "text/plain": [
       "[1] \"CAPE CORAL, FL\"   \"SCOTTSVILLE, NY\"  \"HARTSDALE, NY\"    \"WASHINGTON, DC\"  \n",
       "[5] \"GRAND RAPIDS, MI\" \"KISSIMMEE, FL\"   "
      ]
     },
     "metadata": {},
     "output_type": "display_data"
    }
   ],
   "source": [
    "paste(head(myDF$CITY), head(myDF$STATE), sep= \", \")"
   ]
  },
  {
   "cell_type": "code",
   "execution_count": 48,
   "id": "fe719899-3f83-48eb-a9ed-5e7ead279694",
   "metadata": {},
   "outputs": [],
   "source": [
    " myDF$citystatepair  <-paste(myDF$CITY, myDF$STATE, sep= \", \")"
   ]
  },
  {
   "cell_type": "code",
   "execution_count": 50,
   "id": "40213e42-5f07-41ce-a5b5-726560d39992",
   "metadata": {},
   "outputs": [
    {
     "data": {
      "text/plain": [
       "  CMTE_ID   AMNDT_IND RPT_TP TRANSACTION_PGI IMAGE_NUM    TRANSACTION_TP\n",
       "1 C00401224 N         YE                     2.020013e+17 24T           \n",
       "2 C00401224 N         M4     P               2.020042e+17 24T           \n",
       "3 C00193433 N         YE     P               2.020012e+17 15            \n",
       "4 C00401224 N         YE                     2.020013e+17 24T           \n",
       "5 C00401224 N         MY                     2.019073e+17 24T           \n",
       "6 C00618371 N         Q3     P               2.019102e+17 15            \n",
       "  ENTITY_TP NAME             CITY         STATE ZIP_CODE EMPLOYER    \n",
       "1 IND       SOLOMON, VICTOR  CAPE CORAL   FL    33904    RETIRED     \n",
       "2 IND       MYERS, ELIZABETH SCOTTSVILLE  NY    14546    NOT EMPLOYED\n",
       "3 IND       HASKINS, GEORGE  HARTSDALE    NY    10530    NOT EMPLOYED\n",
       "4 IND       KOLBE, NINA      WASHINGTON   DC    20003    SELF        \n",
       "5 IND       ESSENBERG, PENNY GRAND RAPIDS MI    49534                \n",
       "6 IND       GIEBEL, BETTY    KISSIMMEE    FL    34744    HOMEMAKER   \n",
       "  OCCUPATION          TRANSACTION_DT TRANSACTION_AMT OTHER_ID  TRAN_ID         \n",
       "1 NOT EMPLOYED         7112019       15              C00042366 SA11AI_165851302\n",
       "2 NOT EMPLOYED         3042020       39              C00696948 SA11AI_216676150\n",
       "3 NOT EMPLOYED        12182019       15                        6260719         \n",
       "4 HEALTH PROFESSIONAL  8302019       10              C00637074 SA11AI_174544101\n",
       "5                      3212019       16              C00580068 SB28A_145393165 \n",
       "6 HOMEMAKER            7112019       42                        SA11AI.178611   \n",
       "  FILE_NUM MEMO_CD\n",
       "1 1378435         \n",
       "2 1402724         \n",
       "3 1371576         \n",
       "4 1378435         \n",
       "5 1344765         \n",
       "6 1358506         \n",
       "  MEMO_TEXT                                                                              \n",
       "1 EARMARKED FOR DSCC (C00042366)                                                         \n",
       "2 EARMARKED FOR BERNIE 2020 (C00696948)                                                  \n",
       "3                                                                                        \n",
       "4 EARMARKED FOR FINKENAUER FOR CONGRESS (C00637074)                                      \n",
       "5 REFUND OF CONTRIBUTION, INITIALLY EARMARKED FOR PROGRESSIVE TURNOUT PROJECT (C00580068)\n",
       "6                                                                                        \n",
       "  SUB_ID      newdates   citystatepair   \n",
       "1 4.03022e+18 2019-07-11 CAPE CORAL, FL  \n",
       "2 4.05142e+18 2020-03-04 SCOTTSVILLE, NY \n",
       "3 4.01222e+18 2019-12-18 HARTSDALE, NY   \n",
       "4 4.03022e+18 2019-08-30 WASHINGTON, DC  \n",
       "5 4.08282e+18 2019-03-21 GRAND RAPIDS, MI\n",
       "6 4.10182e+18 2019-07-11 KISSIMMEE, FL   "
      ]
     },
     "metadata": {},
     "output_type": "display_data"
    }
   ],
   "source": [
    "head(myDF)"
   ]
  },
  {
   "cell_type": "code",
   "execution_count": 51,
   "id": "c2b03b41-2fce-4236-8266-2df0a7932512",
   "metadata": {},
   "outputs": [],
   "source": [
    "w <- tapply(myDF$TRANSACTION_AMT, myDF$citystatepair, sum)"
   ]
  },
  {
   "cell_type": "code",
   "execution_count": 53,
   "id": "097e4364-d1ca-4110-a133-07d9c807b6b2",
   "metadata": {},
   "outputs": [
    {
     "data": {
      "text/plain": [
       "               # B, CA              $0.00, PA             $20.00, PA \n",
       "                   200                    122                     40 \n",
       "            $49.02, PA             $72.53, PA 'CRESCENT CITY' CA, CA \n",
       "                    98                    145                     81 "
      ]
     },
     "metadata": {},
     "output_type": "display_data"
    }
   ],
   "source": [
    "head(w)"
   ]
  },
  {
   "cell_type": "code",
   "execution_count": 54,
   "id": "10ddcc46-1df0-4a1f-ad83-72622334db3a",
   "metadata": {},
   "outputs": [
    {
     "data": {
      "text/plain": [
       "                         # B, CA                        $0.00, PA \n",
       "                             200                              122 \n",
       "                      $20.00, PA                       $49.02, PA \n",
       "                              40                               98 \n",
       "                      $72.53, PA           'CRESCENT CITY' CA, CA \n",
       "                             145                               81 \n",
       "          (TACOMA) UNIVERSIT, WA                        *CITY, IN \n",
       "                              20                               50 \n",
       "                              ,                              , AZ \n",
       "                          287142                              300 \n",
       "               , BEN LOMONDX, CA                             , CA \n",
       "                             217                            12485 \n",
       "                            , DC                             , FL \n",
       "                            3200                            37300 \n",
       "                            , HI                             , IL \n",
       "                             500                              230 \n",
       "                            , MD                             , MN \n",
       "                             500                              250 \n",
       "                            , NJ                             , NY \n",
       "                             250                             1250 \n",
       "                            , PA                             , TX \n",
       "                             326                              200 \n",
       "                            , VA                      ,KEOKUK, IA \n",
       "                             600                               60 \n",
       "                  --SELECT--, OH                -ST AUGUSTINE, FL \n",
       "                             270                               15 \n",
       "                 .BRISTOL VT, VT                     .CAMERON, WI \n",
       "                              95                              150 \n",
       "                      .TAMPA, FL                      000000L, WI \n",
       "                              50                              169 \n",
       "          00184 ROME 0 ITALY, ZZ                   00184 ROME, ZZ \n",
       "                             500                              750 \n",
       "                   007 JAPAN, ZZ                   01-07 DAYS, OR \n",
       "                             550                               81 \n",
       "               0VERLAND PARK, KS                 1 ELK AVENUE, NY \n",
       "                             510                              250 \n",
       "             10025-4114  USA, NY                          10C, NY \n",
       "                              72                              100 \n",
       "              117570 SINGAPORE,            123 E 156TH STREET, OH \n",
       "                            2500                               25 \n",
       "1296 COPPET AA 0 SWITZERLAND, ZZ                  1296 COPPET, AA \n",
       "                             100                              100 \n",
       "           13626 SKY HAWK DR, AZ                         14 A, NY \n",
       "                               1                              300 \n",
       "          15705 SANTIAGO DE , MD                158 AUSTRALIA, ZZ \n",
       "                              50                               15 \n",
       "                         15A, NY             16 HAWKVIEW ROAD, NH \n",
       "                             147                              250 \n",
       "                         18B, NY           1900 W GATESBURG R, PA \n",
       "                              25                              215 "
      ]
     },
     "metadata": {},
     "output_type": "display_data"
    }
   ],
   "source": [
    "head(w, n=50)"
   ]
  },
  {
   "cell_type": "code",
   "execution_count": 60,
   "id": "54316276-f834-4d9f-b97a-94ac02d7fd39",
   "metadata": {},
   "outputs": [
    {
     "data": {
      "text/plain": [
       "               # B, CA              $0.00, PA             $20.00, PA \n",
       "                   200                    122                     40 \n",
       "            $49.02, PA             $72.53, PA 'CRESCENT CITY' CA, CA \n",
       "                    98                    145                     81 \n",
       "(TACOMA) UNIVERSIT, WA              *CITY, IN                     ,  \n",
       "                    20                     50                 287142 \n",
       "                  , AZ      , BEN LOMONDX, CA                   , CA \n",
       "                   300                    217                  12485 \n",
       "                  , DC                   , FL                   , HI \n",
       "                  3200                  37300                    500 \n",
       "                  , IL                   , MD                   , MN \n",
       "                   230                    500                    250 \n",
       "                  , NJ                   , NY \n",
       "                   250                   1250 "
      ]
     },
     "metadata": {},
     "output_type": "display_data"
    }
   ],
   "source": [
    "head(w, n=20)"
   ]
  },
  {
   "cell_type": "code",
   "execution_count": 55,
   "id": "8fb09cd5-b3a9-4711-8294-f9698e905b75",
   "metadata": {},
   "outputs": [
    {
     "data": {
      "text/plain": [
       "                    ZIGZAG, OR                     ZILLAH, WA \n",
       "                            10                           2173 \n",
       "                       ZIM, MN                  ZIMMERMAN, MN \n",
       "                         10794                          11176 \n",
       "                      ZINI, NM            ZION CROSSROADS, VA \n",
       "                           150                           1437 \n",
       "                ZION GROVE, PA                       ZION, IL \n",
       "                            31                           5016 \n",
       "               ZIONISVILLE, IN                  ZIONSVILE, IN \n",
       "                          1000                             25 \n",
       "                ZIONSVILLE, IN                 ZIONSVILLE, PA \n",
       "                        173224                           2865 \n",
       "               ZIONSVILLLE, IN                  ZIONVILLE, IN \n",
       "                          1519                            293 \n",
       "                 ZIONVILLE, NC                  ZIONVILLE, ZZ \n",
       "                           956                             10 \n",
       "                  ZIRCONIA, NC               ZLOS ANGELES, CA \n",
       "                          2297                            145 \n",
       "                   ZNEWTON, NC                       ZOAR, OH \n",
       "                            10                           1000 \n",
       "             ZOLFO SPRINGS, FL                  ZONSVILLE, IN \n",
       "                           440                             35 \n",
       "                   ZORTMAN, MT                    ZUERICH, MD \n",
       "                            92                             15 \n",
       "                   ZUERICH, ZZ      ZUG 60618 SWITZERLAND, ZZ \n",
       "                             3                            118 \n",
       "              ZUMBRO FALLS, MN                   ZUMBROTA, MN \n",
       "                           461                           1133 \n",
       "                      ZUNI, NM                       ZUNI, VA \n",
       "                          3451                            300 \n",
       "   ZURICH 8005 SWITZERLAND, ZZ    ZURICH 8006 SWITZERLAND, ZZ \n",
       "                            27                            100 \n",
       "   ZURICH 8008 SWITZERLAND, ZZ    ZURICH 8032 SWITZERLAND, ZZ \n",
       "                           100                            125 \n",
       "   ZURICH 8038 SWITZERLAND, ZZ    ZURICH 8049 SWITZERLAND, ZZ \n",
       "                          2800                           1500 \n",
       "   ZURICH 8051 SWITZERLAND, ZZ    ZURICH 8052 SWITZERLAND, ZZ \n",
       "                           177                             27 \n",
       "ZURICH CH-8032 SWITZERLAND, ZZ         ZURICH SWITZERLAND, ZZ \n",
       "                           100                             35 \n",
       "                    ZURICH, KS                     ZURICH, ZZ \n",
       "                           300                           5608 \n",
       "                   ZWINGLE, IA                     ZWOLLE, LA \n",
       "                           963                           3346 \n",
       "                   `ALBANY, CA                  `NEW YORK, NY \n",
       "                            37                           2800 \n",
       "                 `OAK PARK, IL                  `SEMINOLE, FL \n",
       "                            15                            131 \n",
       "         {ACIFIC PALISADES, CA                   {ASADENA, CA \n",
       "                           100                            500 "
      ]
     },
     "metadata": {},
     "output_type": "display_data"
    }
   ],
   "source": [
    "tail(w, n=50)"
   ]
  },
  {
   "cell_type": "code",
   "execution_count": 61,
   "id": "facf0256-7d84-4e66-a791-894de8e4bf18",
   "metadata": {},
   "outputs": [
    {
     "data": {
      "text/plain": [
       "   ZURICH 8005 SWITZERLAND, ZZ    ZURICH 8006 SWITZERLAND, ZZ \n",
       "                            27                            100 \n",
       "   ZURICH 8008 SWITZERLAND, ZZ    ZURICH 8032 SWITZERLAND, ZZ \n",
       "                           100                            125 \n",
       "   ZURICH 8038 SWITZERLAND, ZZ    ZURICH 8049 SWITZERLAND, ZZ \n",
       "                          2800                           1500 \n",
       "   ZURICH 8051 SWITZERLAND, ZZ    ZURICH 8052 SWITZERLAND, ZZ \n",
       "                           177                             27 \n",
       "ZURICH CH-8032 SWITZERLAND, ZZ         ZURICH SWITZERLAND, ZZ \n",
       "                           100                             35 \n",
       "                    ZURICH, KS                     ZURICH, ZZ \n",
       "                           300                           5608 \n",
       "                   ZWINGLE, IA                     ZWOLLE, LA \n",
       "                           963                           3346 \n",
       "                   `ALBANY, CA                  `NEW YORK, NY \n",
       "                            37                           2800 \n",
       "                 `OAK PARK, IL                  `SEMINOLE, FL \n",
       "                            15                            131 \n",
       "         {ACIFIC PALISADES, CA                   {ASADENA, CA \n",
       "                           100                            500 "
      ]
     },
     "metadata": {},
     "output_type": "display_data"
    }
   ],
   "source": [
    "tail(w, n=20)"
   ]
  },
  {
   "cell_type": "code",
   "execution_count": 57,
   "id": "e9c745f6-ac53-47cb-be23-8ec5adffca76",
   "metadata": {},
   "outputs": [
    {
     "data": {
      "text/plain": [
       "     NEW YORK, NY SAN FRANCISCO, CA    WASHINGTON, DC   LOS ANGELES, CA \n",
       "        331576505          38701698          37152618          14141160 \n",
       "      HOUSTON, TX        DALLAS, TX \n",
       "         12463126          11642460 "
      ]
     },
     "metadata": {},
     "output_type": "display_data"
    }
   ],
   "source": [
    "head(sort(w, decreasing=TRUE))"
   ]
  },
  {
   "cell_type": "code",
   "execution_count": 58,
   "id": "32b19375-ad4a-4634-aaa7-baa74b2edda5",
   "metadata": {},
   "outputs": [
    {
     "data": {
      "text/plain": [
       "     NEW YORK, NY SAN FRANCISCO, CA    WASHINGTON, DC   LOS ANGELES, CA \n",
       "        331576505          38701698          37152618          14141160 \n",
       "      HOUSTON, TX        DALLAS, TX       CHICAGO, IL        BOSTON, MA \n",
       "         12463126          11642460          11032607           8287423 \n",
       "      ATLANTA, GA       SEATTLE, WA   SAN ANTONIO, TX     LAS VEGAS, NV \n",
       "          7141597           7115650           6467233           5699480 \n",
       "       DENVER, CO        AUSTIN, TX      BROOKLYN, NY     ARLINGTON, VA \n",
       "          5643729           5555237           5416132           5217976 \n",
       "  BALA CYNWYD, PA     PALO ALTO, CA  PHILADELPHIA, PA     GREENWICH, CT \n",
       "          5143506           4975339           4357885           3942437 "
      ]
     },
     "metadata": {},
     "output_type": "display_data"
    }
   ],
   "source": [
    "head(sort(w, decreasing=TRUE), n=20)"
   ]
  },
  {
   "cell_type": "code",
   "execution_count": 59,
   "id": "9bbca45b-f650-49a9-976d-07b07ab1d9ef",
   "metadata": {},
   "outputs": [
    {
     "data": {
      "text/plain": [
       "       EXETER, PA       EASTERO, FL          COOL, CA        CORTEX, FL \n",
       "            -1357             -1500             -1681             -1800 \n",
       "  SUMPTER TWP, MI  FREEMANSBURG, PA      WELLBORN, FL       CAMERON, TX \n",
       "            -1850             -2003             -2056             -2157 \n",
       "    WILMINTON, NC        GORDON, TX   LOOKOUT MTN, GA    E. AMHERST, NY \n",
       "            -2300             -2338             -2373             -2700 \n",
       "         BLVD, OR    BROOKVILLE, KS        DARIEN, NY   GARDEN CITY, NJ \n",
       "            -2800             -2800             -2800             -2800 \n",
       "       WILSON, AR PLEASANT HILL, TN         HOXIE, KS        HEFLIN, AL \n",
       "            -2800             -4295             -8150             -9983 "
      ]
     },
     "metadata": {},
     "output_type": "display_data"
    }
   ],
   "source": [
    "tail(sort(w, decreasing=TRUE), n=20)"
   ]
  },
  {
   "cell_type": "markdown",
   "id": "47c6229f-35f7-400c-8366-c442baa5cf47",
   "metadata": {},
   "source": [
    "Find the sum of the total donations contributed in each state.\n",
    "\n",
    "Create a new column that pastes together the city and state. \n",
    "\n",
    "[1] \"CAPE CORAL, FL\"   \"SCOTTSVILLE, NY\"  \"HARTSDALE, NY\"    \"WASHINGTON, DC\"  \n",
    "[5] \"GRAND RAPIDS, MI\" \"KISSIMMEE, FL\"   \n",
    "\n",
    "Find the total donation amount for each city/state location. \n",
    "In the output do you notice anything suspicious in the result? From the fisrt 20, there are some missing data. \n",
    "after sorting, looking at the tail some are negative.\n",
    "How do you think that occured? due toomission and has some has some money to be return to them"
   ]
  },
  {
   "cell_type": "markdown",
   "id": "da22f29c-d245-4d2b-9fc1-ca14cb6087d9",
   "metadata": {},
   "source": [
    "## Question 4"
   ]
  },
  {
   "cell_type": "code",
   "execution_count": 62,
   "id": "8cffc767-d1c8-4d64-b7dc-f0d2ee8a80d1",
   "metadata": {},
   "outputs": [
    {
     "data": {
      "text/plain": [
       "[1] \"SOLOMON, VICTOR\"  \"MYERS, ELIZABETH\" \"HASKINS, GEORGE\"  \"KOLBE, NINA\"     \n",
       "[5] \"ESSENBERG, PENNY\" \"GIEBEL, BETTY\"   "
      ]
     },
     "metadata": {},
     "output_type": "display_data"
    }
   ],
   "source": [
    "head(myDF$NAME)"
   ]
  },
  {
   "cell_type": "code",
   "execution_count": 63,
   "id": "0ed08b16-dfc1-4839-8465-14ccf1b9f6e6",
   "metadata": {},
   "outputs": [
    {
     "data": {
      "text/plain": [
       " [1] \"SOLOMON, VICTOR\"            \"MYERS, ELIZABETH\"          \n",
       " [3] \"HASKINS, GEORGE\"            \"KOLBE, NINA\"               \n",
       " [5] \"ESSENBERG, PENNY\"           \"GIEBEL, BETTY\"             \n",
       " [7] \"GRISMORE, STEVE\"            \"POCIECHA-PALM, CAROL\"      \n",
       " [9] \"DICE, KEVIN\"                \"KULSTAD, ERIK\"             \n",
       "[11] \"SMELLEY, KAY MS.\"           \"WELLMAN, NANCY\"            \n",
       "[13] \"WARD, KATHLEEN A. MRS.\"     \"GIBLIN, KATHLEEN\"          \n",
       "[15] \"KELLEY, PATRICK RUSTON MR.\" \"WILSON, RICHARD J\"         \n",
       "[17] \"DRUMMOND, F FORD MR.\"       \"KROKEN, DUANE\"             \n",
       "[19] \"BIRD, KENNETH\"              \"FALCHUK, EVAN\"             \n",
       "[21] \"MESELE, SAMSON\"             \"HAWKINS, FRANK\"            \n",
       "[23] \"KNOX, RICHARD G. MR.\"       \"MOORE, JOAN\"               \n",
       "[25] \"MCNULTY, KELLY\"             \"HUDSON, PEGGY M\"           \n",
       "[27] \"ASMUS, GINGER\"              \"ELLINGSEN, PAUL\"           \n",
       "[29] \"BRENEMAN, JAY\"              \"LEVEN, SEYMOUR\"            \n",
       "[31] \"LUTZ, CHRISTOPHER\"          \"MILLER, VALERIE\"           \n",
       "[33] \"JEANRENAUD, BARBARA\"        \"REILLY, JOE\"               \n",
       "[35] \"TALBOTT, JOHN\"              \"FINK, MICHAEL\"             \n",
       "[37] \"LULOW, ROBERT\"              \"HORNSBY, RICHARD\"          \n",
       "[39] \"MORROW, CLARENCE\"           \"LOVE, WILLIE\"              \n",
       "[41] \"FLOREA, IOAN\"               \"PATTERSON, SASHA\"          \n",
       "[43] \"VOLANTE, MONICA\"            \"WYSCAVER, NIKKI\"           \n",
       "[45] \"PIRONKOVA IRWIN, MARIA\"     \"HOLMES, SANDY\"             \n",
       "[47] \"NELSON, BONNIE A\"           \"CHACE, DONALD\"             \n",
       "[49] \"MARTIN, DON S\"              \"EMMETT, CONSTANCE\"         "
      ]
     },
     "metadata": {},
     "output_type": "display_data"
    }
   ],
   "source": [
    "head(myDF$NAME, n=50)"
   ]
  },
  {
   "cell_type": "code",
   "execution_count": 64,
   "id": "60cdc5ae-a015-415f-817e-4711b08cc2d5",
   "metadata": {},
   "outputs": [
    {
     "data": {
      "text/plain": [
       "[1] \"character\""
      ]
     },
     "metadata": {},
     "output_type": "display_data"
    }
   ],
   "source": [
    "class(myDF$NAME)"
   ]
  },
  {
   "cell_type": "code",
   "execution_count": 67,
   "id": "29b3786c-cfbd-43d4-8694-ebbe91bd989a",
   "metadata": {},
   "outputs": [
    {
     "data": {
      "text/plain": [
       " [1] FALSE FALSE FALSE FALSE FALSE FALSE FALSE FALSE FALSE FALSE FALSE FALSE\n",
       "[13] FALSE FALSE FALSE FALSE FALSE FALSE FALSE FALSE FALSE FALSE FALSE FALSE\n",
       "[25] FALSE FALSE FALSE FALSE FALSE FALSE FALSE FALSE FALSE FALSE FALSE FALSE\n",
       "[37] FALSE FALSE FALSE FALSE FALSE FALSE FALSE FALSE FALSE FALSE FALSE  TRUE\n",
       "[49]  TRUE FALSE"
      ]
     },
     "metadata": {},
     "output_type": "display_data"
    }
   ],
   "source": [
    "grepl(\", DON\", head(myDF$NAME, n=50))"
   ]
  },
  {
   "cell_type": "code",
   "execution_count": 68,
   "id": "66fe92bf-fb24-4a19-ba32-5b1ea8edfff4",
   "metadata": {},
   "outputs": [
    {
     "data": {
      "text/plain": [
       "[1] 2"
      ]
     },
     "metadata": {},
     "output_type": "display_data"
    }
   ],
   "source": [
    "sum(grepl(\", DON\", head(myDF$NAME, n=50)))"
   ]
  },
  {
   "cell_type": "code",
   "execution_count": 71,
   "id": "8f70869d-7edb-44c8-8bd3-9a10097f5470",
   "metadata": {},
   "outputs": [
    {
     "data": {
      "text/plain": [
       "[1] 7"
      ]
     },
     "metadata": {},
     "output_type": "display_data"
    }
   ],
   "source": [
    "sum(grepl(\", DON\", head(myDF$NAME, n=1000)))"
   ]
  },
  {
   "cell_type": "code",
   "execution_count": 73,
   "id": "2b374259-36eb-4397-a659-c924e7750bd2",
   "metadata": {},
   "outputs": [
    {
     "data": {
      "text/plain": [
       "[1] 12"
      ]
     },
     "metadata": {},
     "output_type": "display_data"
    }
   ],
   "source": [
    "sum(grepl(\", MARY\", head(myDF$NAME, n=1000)))\n",
    "# you can put any name you want."
   ]
  },
  {
   "cell_type": "code",
   "execution_count": 77,
   "id": "07ea85e9-9b98-4171-bc4d-cf8d6b7ed7e3",
   "metadata": {},
   "outputs": [
    {
     "data": {
      "text/plain": [
       "[1] 57516"
      ]
     },
     "metadata": {},
     "output_type": "display_data"
    }
   ],
   "source": [
    "sum(grepl(\", MARY\", myDF$NAME))\n",
    "# taking the head off and searching the entire column"
   ]
  },
  {
   "cell_type": "code",
   "execution_count": 78,
   "id": "2e6c8653-b08d-42bb-8873-ec57aa948b1e",
   "metadata": {},
   "outputs": [
    {
     "data": {
      "text/plain": [
       "[1] 18031"
      ]
     },
     "metadata": {},
     "output_type": "display_data"
    }
   ],
   "source": [
    "sum(grepl(\", MARY \", myDF$NAME))\n",
    "# you can play around by putting space after the name mary but the values will change, it depends on how you want to do it."
   ]
  },
  {
   "cell_type": "code",
   "execution_count": 79,
   "id": "7e54d1d8-976b-4cf1-b98d-ba7b450385f4",
   "metadata": {},
   "outputs": [
    {
     "data": {
      "text/plain": [
       "[1] FALSE FALSE FALSE FALSE FALSE FALSE"
      ]
     },
     "metadata": {},
     "output_type": "display_data"
    }
   ],
   "source": [
    "head(grepl(\", MARY \", myDF$NAME))"
   ]
  },
  {
   "cell_type": "code",
   "execution_count": 82,
   "id": "e975c0aa-fc12-4f83-86e4-e628bd6e606e",
   "metadata": {},
   "outputs": [
    {
     "data": {
      "text/plain": [
       "[1] 4007115"
      ]
     },
     "metadata": {},
     "output_type": "display_data"
    }
   ],
   "source": [
    "sum(myDF$TRANSACTION_AMT[grepl(\", MARY \", myDF$NAME)])\n",
    "# it means if i search for \", MARY \" for which is TRUE, i will go and extract the TRANSACTION_AMT"
   ]
  },
  {
   "cell_type": "code",
   "execution_count": 83,
   "id": "98e52140-e587-4341-986f-dea0183a5940",
   "metadata": {},
   "outputs": [
    {
     "data": {
      "text/plain": [
       "[1] 18031"
      ]
     },
     "metadata": {},
     "output_type": "display_data"
    }
   ],
   "source": [
    "length(myDF$TRANSACTION_AMT[grepl(\", MARY \", myDF$NAME)])\n",
    "# to compare withvalue gotten before."
   ]
  },
  {
   "cell_type": "code",
   "execution_count": null,
   "id": "a8494050-e161-4996-ab19-88740fd5bcfc",
   "metadata": {},
   "outputs": [],
   "source": []
  },
  {
   "cell_type": "code",
   "execution_count": null,
   "id": "72899638-fa7e-49cb-8426-cb018c60b5cd",
   "metadata": {},
   "outputs": [],
   "source": []
  },
  {
   "cell_type": "markdown",
   "id": "0d552245-b4d6-474a-9cc9-fa7b8e674d55",
   "metadata": {},
   "source": [
    "Find the type of data that is in the NAME columm.    \n",
    "[1] \"character\"\n",
    "\n",
    "Split up the names in the NAME column, to extract the first names of the donors. (This will not be perfect, but it is our first attempt.)\n",
    "\n",
    "How much money is donated (altogether) by people named Mary? \n",
    "[1] 4007115"
   ]
  },
  {
   "cell_type": "markdown",
   "id": "88c9cdac-3e92-498f-83fa-e089bfc44ac8",
   "metadata": {},
   "source": [
    "## Question 5"
   ]
  },
  {
   "cell_type": "code",
   "execution_count": 84,
   "id": "d370d7c9-06db-42b9-b75f-240481a5c491",
   "metadata": {},
   "outputs": [
    {
     "data": {
      "text/plain": [
       "  CMTE_ID   AMNDT_IND RPT_TP TRANSACTION_PGI IMAGE_NUM    TRANSACTION_TP\n",
       "1 C00401224 N         YE                     2.020013e+17 24T           \n",
       "2 C00401224 N         M4     P               2.020042e+17 24T           \n",
       "3 C00193433 N         YE     P               2.020012e+17 15            \n",
       "4 C00401224 N         YE                     2.020013e+17 24T           \n",
       "5 C00401224 N         MY                     2.019073e+17 24T           \n",
       "6 C00618371 N         Q3     P               2.019102e+17 15            \n",
       "  ENTITY_TP NAME             CITY         STATE ZIP_CODE EMPLOYER    \n",
       "1 IND       SOLOMON, VICTOR  CAPE CORAL   FL    33904    RETIRED     \n",
       "2 IND       MYERS, ELIZABETH SCOTTSVILLE  NY    14546    NOT EMPLOYED\n",
       "3 IND       HASKINS, GEORGE  HARTSDALE    NY    10530    NOT EMPLOYED\n",
       "4 IND       KOLBE, NINA      WASHINGTON   DC    20003    SELF        \n",
       "5 IND       ESSENBERG, PENNY GRAND RAPIDS MI    49534                \n",
       "6 IND       GIEBEL, BETTY    KISSIMMEE    FL    34744    HOMEMAKER   \n",
       "  OCCUPATION          TRANSACTION_DT TRANSACTION_AMT OTHER_ID  TRAN_ID         \n",
       "1 NOT EMPLOYED         7112019       15              C00042366 SA11AI_165851302\n",
       "2 NOT EMPLOYED         3042020       39              C00696948 SA11AI_216676150\n",
       "3 NOT EMPLOYED        12182019       15                        6260719         \n",
       "4 HEALTH PROFESSIONAL  8302019       10              C00637074 SA11AI_174544101\n",
       "5                      3212019       16              C00580068 SB28A_145393165 \n",
       "6 HOMEMAKER            7112019       42                        SA11AI.178611   \n",
       "  FILE_NUM MEMO_CD\n",
       "1 1378435         \n",
       "2 1402724         \n",
       "3 1371576         \n",
       "4 1378435         \n",
       "5 1344765         \n",
       "6 1358506         \n",
       "  MEMO_TEXT                                                                              \n",
       "1 EARMARKED FOR DSCC (C00042366)                                                         \n",
       "2 EARMARKED FOR BERNIE 2020 (C00696948)                                                  \n",
       "3                                                                                        \n",
       "4 EARMARKED FOR FINKENAUER FOR CONGRESS (C00637074)                                      \n",
       "5 REFUND OF CONTRIBUTION, INITIALLY EARMARKED FOR PROGRESSIVE TURNOUT PROJECT (C00580068)\n",
       "6                                                                                        \n",
       "  SUB_ID      newdates   citystatepair   \n",
       "1 4.03022e+18 2019-07-11 CAPE CORAL, FL  \n",
       "2 4.05142e+18 2020-03-04 SCOTTSVILLE, NY \n",
       "3 4.01222e+18 2019-12-18 HARTSDALE, NY   \n",
       "4 4.03022e+18 2019-08-30 WASHINGTON, DC  \n",
       "5 4.08282e+18 2019-03-21 GRAND RAPIDS, MI\n",
       "6 4.10182e+18 2019-07-11 KISSIMMEE, FL   "
      ]
     },
     "metadata": {},
     "output_type": "display_data"
    }
   ],
   "source": [
    "head(myDF)"
   ]
  },
  {
   "cell_type": "code",
   "execution_count": 85,
   "id": "3aa2a25b-389d-4c0a-9347-06a415ff93da",
   "metadata": {},
   "outputs": [
    {
     "data": {
      "text/plain": [
       "[1] \"RETIRED\"      \"NOT EMPLOYED\" \"NOT EMPLOYED\" \"SELF\"         \"\"            \n",
       "[6] \"HOMEMAKER\"   "
      ]
     },
     "metadata": {},
     "output_type": "display_data"
    }
   ],
   "source": [
    "head(myDF$EMPLOYER)"
   ]
  },
  {
   "cell_type": "code",
   "execution_count": 86,
   "id": "af9b5087-9e7e-4d90-bc90-8ecbfbe04f35",
   "metadata": {},
   "outputs": [
    {
     "data": {
      "text/plain": [
       " [1] \"RETIRED\"                               \n",
       " [2] \"NOT EMPLOYED\"                          \n",
       " [3] \"NOT EMPLOYED\"                          \n",
       " [4] \"SELF\"                                  \n",
       " [5] \"\"                                      \n",
       " [6] \"HOMEMAKER\"                             \n",
       " [7] \"U OF IOWA\"                             \n",
       " [8] \"STATE OF WISCONSIN DEPARTMENT OF CORRE\"\n",
       " [9] \"IRON MOUNTAIN\"                         \n",
       "[10] \"ATTUNE\"                                \n",
       "[11] \"AMERICAN ALLOY STEEL\"                  \n",
       "[12] \"SELF\"                                  \n",
       "[13] \"SELF-EMPLOYED\"                         \n",
       "[14] \"NONE\"                                  \n",
       "[15] \"AMERICAN CHEMISTRY COUNCIL\"            \n",
       "[16] \"HONEYWELL INTERNATIONAL\"               \n",
       "[17] \"BANCFIRST\"                             \n",
       "[18] \"RETIRED\"                               \n",
       "[19] \"US GOVT\"                               \n",
       "[20] \"VILLAGEPLAN\"                           \n",
       "[21] \"WACHTELL, LIPTON, ROSEN & KATZ\"        \n",
       "[22] \"SCALAR MEDIA PARTNERS\"                 \n",
       "[23] \"RETIRED\"                               \n",
       "[24] \"N/A\"                                   \n",
       "[25] \"EVOKE NAVIENCE\"                        \n",
       "[26] \"SALEM RADIO NETWORK\"                   \n",
       "[27] \"RETIRED\"                               \n",
       "[28] \"DAD'S PLACE\"                           \n",
       "[29] \"STRATEGY SOLUTIONS INC\"                \n",
       "[30] \"RETIRED\"                               \n",
       "[31] \"\"                                      \n",
       "[32] \"BOSTONS CHILDRENS HOSPITAL\"            \n",
       "[33] \"RETIRED\"                               \n",
       "[34] \"WORLDWIDE FLIGHT SERVICES\"             \n",
       "[35] \"INDIANA UNIVERSITY\"                    \n",
       "[36] \"\"                                      \n",
       "[37] \"RETIRED\"                               \n",
       "[38] \"PRIVATE INFORMATION\"                   \n",
       "[39] \"RETIRED\"                               \n",
       "[40] \"NOT EMPLOYED\"                          \n",
       "[41] \"SELF-EMPLOYED\"                         \n",
       "[42] \"NOT EMPLOYED\"                          \n",
       "[43] \"PHILIPS NORTH AMERICA\"                 \n",
       "[44] \"NOT EMPLOYED\"                          \n",
       "[45] \"INMARSAT\"                              \n",
       "[46] \"DECKER TRUCK LINE\"                     \n",
       "[47] \"\"                                      \n",
       "[48] \"MEDOLAC LABORATORIES\"                  \n",
       "[49] \"AMFM BROADCASTING INC.\"                \n",
       "[50] \"NOT EMPLOYED\"                          "
      ]
     },
     "metadata": {},
     "output_type": "display_data"
    }
   ],
   "source": [
    "head(myDF$EMPLOYER, n= 50)"
   ]
  },
  {
   "cell_type": "code",
   "execution_count": 88,
   "id": "691d7d07-0279-4bc8-bdd3-5a7cb3ac2523",
   "metadata": {},
   "outputs": [
    {
     "data": {
      "text/plain": [
       "[1] NA"
      ]
     },
     "metadata": {},
     "output_type": "display_data"
    }
   ],
   "source": [
    "sum(myDF$TRANSACTION_AMT[myDF$EMPLOYER ==\"NOT EMPLOYED\"])"
   ]
  },
  {
   "cell_type": "code",
   "execution_count": 89,
   "id": "b75a6001-6c3c-4c70-a7f7-739a53b2ae37",
   "metadata": {},
   "outputs": [
    {
     "data": {
      "text/plain": [
       "[1] 79250204"
      ]
     },
     "metadata": {},
     "output_type": "display_data"
    }
   ],
   "source": [
    "sum(myDF$TRANSACTION_AMT[myDF$EMPLOYER ==\"NOT EMPLOYED\"], na.rm=TRUE)\n",
    "# to remove NA"
   ]
  },
  {
   "cell_type": "code",
   "execution_count": 92,
   "id": "7d6dcb5f-3c1e-4432-97f8-ddb313d7699a",
   "metadata": {},
   "outputs": [
    {
     "data": {
      "text/plain": [
       "[1] 12418"
      ]
     },
     "metadata": {},
     "output_type": "display_data"
    }
   ],
   "source": [
    "sum(myDF$TRANSACTION_AMT[myDF$EMPLOYER ==\"EMPLOYED\"], na.rm=TRUE)\n",
    "# only those that wrote down that they are employed."
   ]
  },
  {
   "cell_type": "code",
   "execution_count": 93,
   "id": "e26e50b4-87b9-45c4-9874-9010713acb6e",
   "metadata": {},
   "outputs": [
    {
     "data": {
      "text/plain": [
       "[1] 988014293"
      ]
     },
     "metadata": {},
     "output_type": "display_data"
    }
   ],
   "source": [
    "sum(myDF$TRANSACTION_AMT[myDF$EMPLOYER !=\"NOT EMPLOYED\"], na.rm=TRUE)\n",
    "# this value removed only those that are not employed and leave the rest of the people\n",
    "# it is not perfect."
   ]
  },
  {
   "cell_type": "code",
   "execution_count": 103,
   "id": "54492ae7-9d66-4d03-bb86-da4a98e104da",
   "metadata": {},
   "outputs": [],
   "source": [
    "notemployed <-sum(myDF$TRANSACTION_AMT[myDF$EMPLOYER ==\"NOT EMPLOYED\"], na.rm=TRUE)"
   ]
  },
  {
   "cell_type": "code",
   "execution_count": 104,
   "id": "545ca9bf-0a49-40b2-8a1a-f877b7add57e",
   "metadata": {},
   "outputs": [],
   "source": [
    "employed <-sum(myDF$TRANSACTION_AMT[myDF$EMPLOYER !=\"NOT EMPLOYED\"], na.rm=TRUE)"
   ]
  },
  {
   "cell_type": "code",
   "execution_count": 105,
   "id": "2ba4bd4f-7470-4134-a351-2b92baf0e336",
   "metadata": {},
   "outputs": [],
   "source": [
    "v <- c(notemployed, employed )"
   ]
  },
  {
   "cell_type": "code",
   "execution_count": 106,
   "id": "b8d4b2ff-c0ff-42ce-a8ba-e5c5f6a7954b",
   "metadata": {},
   "outputs": [],
   "source": [
    "names(v) <- c(\"NOT EMPLOYED\", \"EMPLOYED\")"
   ]
  },
  {
   "cell_type": "code",
   "execution_count": 107,
   "id": "138887c2-038d-42e3-965c-b78ffabac5e6",
   "metadata": {},
   "outputs": [
    {
     "data": {
      "image/png": "[encoded data removed]",
      "text/plain": [
       "plot without title"
      ]
     },
     "metadata": {
      "image/png": {
       "height": 420,
       "width": 420
      }
     },
     "output_type": "display_data"
    }
   ],
   "source": [
    "barplot(v)"
   ]
  },
  {
   "cell_type": "code",
   "execution_count": 108,
   "id": "c26590cf-779f-4531-897b-b24442a75751",
   "metadata": {},
   "outputs": [
    {
     "data": {
      "text/plain": [
       "                             \"COMPUTER TUTOR\" TO FAMILIES \n",
       "                    77364020                           14 \n",
       "               \"NOT EMPLOYED               \"NOT EMPLOYED\" \n",
       "                          25                           83 \n",
       "               $ELF EMPLOYED               %%OCCUPATION%% \n",
       "                          60                         3641 "
      ]
     },
     "metadata": {},
     "output_type": "display_data"
    }
   ],
   "source": [
    "head(tapply(myDF$TRANSACTION_AMT, myDF$OCCUPATION, sum))"
   ]
  },
  {
   "cell_type": "code",
   "execution_count": 109,
   "id": "14072cd4-1f20-4816-af46-b94ba00eeb21",
   "metadata": {},
   "outputs": [
    {
     "data": {
      "text/plain": [
       "               {PROFESSOR                  {RFESSPR                 {ROFESSOR \n",
       "                       54                       269                       100 \n",
       "   {{OCCUPATION,DEFAULTTO {{OCCUPATION,DEFAULTTO=}}                   ~~BLANK \n",
       "                       98                       250                        25 "
      ]
     },
     "metadata": {},
     "output_type": "display_data"
    }
   ],
   "source": [
    "tail(tapply(myDF$TRANSACTION_AMT, myDF$OCCUPATION, sum))"
   ]
  },
  {
   "cell_type": "code",
   "execution_count": 50,
   "id": "4efc350b-f88e-44f4-9bf3-068bdae01c60",
   "metadata": {},
   "outputs": [
    {
     "data": {
      "text/plain": [
       "     FOUNDER      RETIRED NOT EMPLOYED                  ATTORNEY          CEO \n",
       "   279442327     98774206     84855951     77364020     31326953     25055647 "
      ]
     },
     "metadata": {},
     "output_type": "display_data"
    }
   ],
   "source": [
    "head(sort(tapply(myDF$TRANSACTION_AMT, myDF$OCCUPATION, sum), decreasing=TRUE))"
   ]
  },
  {
   "cell_type": "code",
   "execution_count": 51,
   "id": "e9da674f-3b87-47fb-b515-6fc8de99c062",
   "metadata": {},
   "outputs": [
    {
     "data": {
      "text/plain": [
       "[1] \"NOT EMPLOYED\"        \"NOT EMPLOYED\"        \"NOT EMPLOYED\"       \n",
       "[4] \"HEALTH PROFESSIONAL\" \"\"                    \"HOMEMAKER\"          "
      ]
     },
     "metadata": {},
     "output_type": "display_data"
    }
   ],
   "source": [
    "head(myDF$OCCUPATION)"
   ]
  },
  {
   "cell_type": "code",
   "execution_count": 74,
   "id": "a10de009-9169-4214-b2d3-8a75977e0846",
   "metadata": {},
   "outputs": [
    {
     "data": {
      "text/plain": [
       "  [1] \"NOT EMPLOYED\"                        \n",
       "  [2] \"NOT EMPLOYED\"                        \n",
       "  [3] \"NOT EMPLOYED\"                        \n",
       "  [4] \"HEALTH PROFESSIONAL\"                 \n",
       "  [5] \"\"                                    \n",
       "  [6] \"HOMEMAKER\"                           \n",
       "  [7] \"TEACHER\"                             \n",
       "  [8] \"OCCUPATIONAL THERAPIST\"              \n",
       "  [9] \"SENIOR VICE PRESIDENT\"               \n",
       " [10] \"PHYSICIAN\"                           \n",
       " [11] \"ADMINISTRATIVE ASSISTANT\"            \n",
       " [12] \"CLASSICAL MUSIC CONSULTANT & MANAGER\"\n",
       " [13] \"SELF-EMPLOYED\"                       \n",
       " [14] \"NONE\"                                \n",
       " [15] \"DIRECTOR FEDERAL AFFAIRS\"            \n",
       " [16] \"SR DEVELOPMENT PROGRAM MANAGER\"      \n",
       " [17] \"DIRECTOR\"                            \n",
       " [18] \"RETIRED\"                             \n",
       " [19] \"GENERAL ENGINEER\"                    \n",
       " [20] \"CEO\"                                 \n",
       " [21] \"ATTORNEY\"                            \n",
       " [22] \"CONSULTANT\"                          \n",
       " [23] \"RETIRED\"                             \n",
       " [24] \"RETIRED\"                             \n",
       " [25] \"HEALTHCARE CONSULTANT\"               \n",
       " [26] \"VICE PRESIDENT OF NATIONAL SALES\"    \n",
       " [27] \"RETIRED\"                             \n",
       " [28] \"RESTAURANT OWNER\"                    \n",
       " [29] \"CONSULTANT\"                          \n",
       " [30] \"PHYSICIAN\"                           \n",
       " [31] \"\"                                    \n",
       " [32] \"RN\"                                  \n",
       " [33] \"RETIRED\"                             \n",
       " [34] \"STATION MANAGER\"                     \n",
       " [35] \"PROFESSOR\"                           \n",
       " [36] \"\"                                    \n",
       " [37] \"RETIRED\"                             \n",
       " [38] \"PROJECT MANAGER\"                     \n",
       " [39] \"RETIRED\"                             \n",
       " [40] \"NOT EMPLOYED\"                        \n",
       " [41] \"HVAC\"                                \n",
       " [42] \"NOT EMPLOYED\"                        \n",
       " [43] \"DIRECTOR GOVERNMENT AFFAIRS\"         \n",
       " [44] \"NOT EMPLOYED\"                        \n",
       " [45] \"ACCOUNTANT\"                          \n",
       " [46] \"TRANSPORTATION\"                      \n",
       " [47] \"\"                                    \n",
       " [48] \"CSO\"                                 \n",
       " [49] \"MARKET SVP PROGRAMMING\"              \n",
       " [50] \"NOT EMPLOYED\"                        \n",
       " [51] \"NOT EMPLOYED\"                        \n",
       " [52] \"NOT EMPLOYED\"                        \n",
       " [53] \"CUSTOMER ADVISOR\"                    \n",
       " [54] \"HORSE TRAINER\"                       \n",
       " [55] \"CEROS FINANCIAL SERVICES\"            \n",
       " [56] \"AVP SYSTEM DEVELOPMENT\"              \n",
       " [57] \"PARTNER\"                             \n",
       " [58] \"CONSTRUCTION\"                        \n",
       " [59] \"ARCHITECT\"                           \n",
       " [60] \"RETIRED\"                             \n",
       " [61] \"HEALTHCARE INTERPRETER\"              \n",
       " [62] \"RETIRED\"                             \n",
       " [63] \"RETIRED\"                             \n",
       " [64] \"NOT EMPLOYED\"                        \n",
       " [65] \"\"                                    \n",
       " [66] \"UNION SET PAINTER\"                   \n",
       " [67] \"RETIRED\"                             \n",
       " [68] \"NOT EMPLOYED\"                        \n",
       " [69] \"ENVIRONMENTAL CONSULTANT\"            \n",
       " [70] \"NOT EMPLOYED\"                        \n",
       " [71] \"LAWYER\"                              \n",
       " [72] \"PSYCHOLOGIST\"                        \n",
       " [73] \"MANAGER\"                             \n",
       " [74] \"NOT EMPLOYED\"                        \n",
       " [75] \"MT\"                                  \n",
       " [76] \"\"                                    \n",
       " [77] \"RETIRED\"                             \n",
       " [78] \"STUDENT\"                             \n",
       " [79] \"RETIRED\"                             \n",
       " [80] \"NOT EMPLOYED\"                        \n",
       " [81] \"NOT EMPLOYED\"                        \n",
       " [82] \"PASTOR\"                              \n",
       " [83] \"REAL ESTATE\"                         \n",
       " [84] \"VISUAL MARKETING\"                    \n",
       " [85] \"NOT EMPLOYED\"                        \n",
       " [86] \"WEAR HOUSE WORKER\"                   \n",
       " [87] \"NOT EMPLOYED\"                        \n",
       " [88] \"LICENSEE\"                            \n",
       " [89] \"ATTORNEY\"                            \n",
       " [90] \"NOT EMPLOYED\"                        \n",
       " [91] \"RETIRED\"                             \n",
       " [92] \"SALES\"                               \n",
       " [93] \"NONE\"                                \n",
       " [94] \"PROFESSOR\"                           \n",
       " [95] \"ARTIST\"                              \n",
       " [96] \"CONSULTANT\"                          \n",
       " [97] \"SELF EMPLOYED\"                       \n",
       " [98] \"RETIRED\"                             \n",
       " [99] \"NOT EMPLOYED\"                        \n",
       "[100] \"CONSULTANT\"                          "
      ]
     },
     "metadata": {},
     "output_type": "display_data"
    }
   ],
   "source": [
    "    head(myDF$OCCUPATION, n=100)"
   ]
  },
  {
   "cell_type": "code",
   "execution_count": 78,
   "id": "87906623-6214-41bb-9bca-3e0135a631e7",
   "metadata": {},
   "outputs": [
    {
     "data": {
      "text/plain": [
       "[1] NA"
      ]
     },
     "metadata": {},
     "output_type": "display_data"
    }
   ],
   "source": [
    "sum(myDF$TRANSACTION_AMT[myDF$OCCUPATION ==\"ACCOUNTANT\"])"
   ]
  },
  {
   "cell_type": "code",
   "execution_count": 79,
   "id": "983221a7-fc5c-4824-8e7b-0f77c7891bc6",
   "metadata": {},
   "outputs": [
    {
     "data": {
      "text/plain": [
       "[1] 1067554"
      ]
     },
     "metadata": {},
     "output_type": "display_data"
    }
   ],
   "source": [
    "sum(myDF$TRANSACTION_AMT[myDF$OCCUPATION ==\"ACCOUNTANT\"], na.rm=TRUE)"
   ]
  },
  {
   "cell_type": "code",
   "execution_count": 80,
   "id": "7f1aab49-c7e0-4c59-8092-e6c82147198d",
   "metadata": {},
   "outputs": [
    {
     "data": {
      "text/plain": [
       "[1] 4808341"
      ]
     },
     "metadata": {},
     "output_type": "display_data"
    }
   ],
   "source": [
    "sum(myDF$TRANSACTION_AMT[myDF$OCCUPATION ==\"PROFESSOR\"], na.rm=TRUE)"
   ]
  },
  {
   "cell_type": "code",
   "execution_count": 81,
   "id": "c21910a8-a9fd-42ae-81fd-93c696605b6a",
   "metadata": {},
   "outputs": [],
   "source": [
    "accountant <-sum(myDF$TRANSACTION_AMT[myDF$OCCUPATION ==\"ACCOUNTANT\"], na.rm=TRUE)"
   ]
  },
  {
   "cell_type": "code",
   "execution_count": 82,
   "id": "358524d0-f54e-4427-ab66-33c933c419cf",
   "metadata": {},
   "outputs": [],
   "source": [
    "professor <-sum(myDF$TRANSACTION_AMT[myDF$OCCUPATION ==\"PROFESSOR\"], na.rm=TRUE)"
   ]
  },
  {
   "cell_type": "code",
   "execution_count": 83,
   "id": "273673c0-43e1-468d-aceb-6540b54f908c",
   "metadata": {},
   "outputs": [],
   "source": [
    "z <- c(accountant, professor )"
   ]
  },
  {
   "cell_type": "code",
   "execution_count": 84,
   "id": "9c19996c-f1d4-444b-9928-9dd25e0a0863",
   "metadata": {},
   "outputs": [],
   "source": [
    "names(z) <- c(\"ACCOUNTANT\", \"PROFESSOR\")"
   ]
  },
  {
   "cell_type": "code",
   "execution_count": 85,
   "id": "b454784b-ff22-4de1-a4db-259ad508b704",
   "metadata": {},
   "outputs": [
    {
     "data": {
      "image/png": "[encoded data removed]",
      "text/plain": [
       "plot without title"
      ]
     },
     "metadata": {
      "image/png": {
       "height": 420,
       "width": 420
      }
     },
     "output_type": "display_data"
    }
   ],
   "source": [
    "barplot(z)"
   ]
  },
  {
   "cell_type": "markdown",
   "id": "9fbf00fb-2418-460f-ae94-2a32b0c28952",
   "metadata": {},
   "source": [
    "Using a barplot or dotchart, show the total amount of donations made by EMPLOYED vs NOT EMPLOYED individuals\n",
    "\n",
    "\n",
    "What is the category of occupation that donates the most money?  FOUNDER with  279442327\n",
    "\n",
    "Plot something that you find interesting about the employment and/or occupation columns. I used bar plot to show the total amount of donations made by ACCOUNTANT vs PROFESSOR\n"
   ]
  },
  {
   "cell_type": "markdown",
   "id": "f76442d6-d02e-4f26-b9d6-c3183e1d6929",
   "metadata": {},
   "source": [
    "## Pledge\n",
    "\n",
    "By submitting this work I hereby pledge that this is my own, personal work. I've acknowledged in the designated place at the top of this file all sources that I used to complete said work, including but not limited to: online resources, books, and electronic communications. I've noted all collaboration with fellow students and/or TA's. I did not copy or plagiarize another's work.\n",
    "\n",
    "> As a Boilermaker pursuing academic excellence, I pledge to be honest and true in all that I do. Accountable together – We are Purdue."
   ]
  }
 ],
 "metadata": {
  "kernelspec": {
   "display_name": "f2022-s2023-r",
   "language": "R",
   "name": "f2022-s2023-r"
  },
  "language_info": {
   "codemirror_mode": "r",
   "file_extension": ".r",
   "mimetype": "text/x-r-source",
   "name": "R",
   "pygments_lexer": "r",
   "version": "4.2.1"
  }
 },
 "nbformat": 4,
 "nbformat_minor": 5
}
