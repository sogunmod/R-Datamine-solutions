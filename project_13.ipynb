{
 "cells": [
  {
   "cell_type": "markdown",
   "id": "be02a957-7133-4d02-818e-fedeb3cecb05",
   "metadata": {},
   "source": [
    "# Project 13 -- SEYI OGUNODEDE"
   ]
  },
  {
   "cell_type": "markdown",
   "id": "a1228853-dd19-4ab2-89e0-0394d7d72de3",
   "metadata": {},
   "source": [
    "**Insructor:** Dr. Mark Daniel\n",
    "\n",
    "- Help with figuring out with videos and how to write a function.\n",
    "    \n",
    "**Collaboration:** Friend1, Friend2\n",
    "    \n"
   ]
  },
  {
   "cell_type": "markdown",
   "id": "6180e742-8e39-4698-98ff-5b00c8cf8ea0",
   "metadata": {},
   "source": [
    "## Question 1"
   ]
  },
  {
   "cell_type": "code",
   "execution_count": 2,
   "id": "49445606-d363-41b4-b479-e319a9a84c01",
   "metadata": {},
   "outputs": [
    {
     "data": {
      "text/html": [
       "<table class=\"dataframe\">\n",
       "<caption>A data.frame: 1 x 10</caption>\n",
       "<thead>\n",
       "\t<tr><th></th><th scope=col>size</th><th scope=col>isdir</th><th scope=col>mode</th><th scope=col>mtime</th><th scope=col>ctime</th><th scope=col>atime</th><th scope=col>uid</th><th scope=col>gid</th><th scope=col>uname</th><th scope=col>grname</th></tr>\n",
       "\t<tr><th></th><th scope=col>&lt;dbl&gt;</th><th scope=col>&lt;lgl&gt;</th><th scope=col>&lt;octmode&gt;</th><th scope=col>&lt;dttm&gt;</th><th scope=col>&lt;dttm&gt;</th><th scope=col>&lt;dttm&gt;</th><th scope=col>&lt;int&gt;</th><th scope=col>&lt;int&gt;</th><th scope=col>&lt;chr&gt;</th><th scope=col>&lt;chr&gt;</th></tr>\n",
       "</thead>\n",
       "<tbody>\n",
       "\t<tr><th scope=row>/anvil/projects/tdm/data/beer/beers.csv</th><td>43399004</td><td>FALSE</td><td>644</td><td>2019-10-09 01:12:02</td><td>2022-07-07 21:26:23</td><td>2022-12-03 14:27:29</td><td>7095091</td><td>7500002</td><td>NA</td><td>NA</td></tr>\n",
       "</tbody>\n",
       "</table>\n"
      ],
      "text/latex": [
       "A data.frame: 1 x 10\n",
       "\\begin{tabular}{r|llllllllll}\n",
       "  & size & isdir & mode & mtime & ctime & atime & uid & gid & uname & grname\\\\\n",
       "  & <dbl> & <lgl> & <octmode> & <dttm> & <dttm> & <dttm> & <int> & <int> & <chr> & <chr>\\\\\n",
       "\\hline\n",
       "\t/anvil/projects/tdm/data/beer/beers.csv & 43399004 & FALSE & 644 & 2019-10-09 01:12:02 & 2022-07-07 21:26:23 & 2022-12-03 14:27:29 & 7095091 & 7500002 & NA & NA\\\\\n",
       "\\end{tabular}\n"
      ],
      "text/markdown": [
       "\n",
       "A data.frame: 1 x 10\n",
       "\n",
       "| <!--/--> | size &lt;dbl&gt; | isdir &lt;lgl&gt; | mode &lt;octmode&gt; | mtime &lt;dttm&gt; | ctime &lt;dttm&gt; | atime &lt;dttm&gt; | uid &lt;int&gt; | gid &lt;int&gt; | uname &lt;chr&gt; | grname &lt;chr&gt; |\n",
       "|---|---|---|---|---|---|---|---|---|---|---|\n",
       "| /anvil/projects/tdm/data/beer/beers.csv | 43399004 | FALSE | 644 | 2019-10-09 01:12:02 | 2022-07-07 21:26:23 | 2022-12-03 14:27:29 | 7095091 | 7500002 | NA | NA |\n",
       "\n"
      ],
      "text/plain": [
       "                                        size     isdir mode mtime              \n",
       "/anvil/projects/tdm/data/beer/beers.csv 43399004 FALSE 644  2019-10-09 01:12:02\n",
       "                                        ctime               atime              \n",
       "/anvil/projects/tdm/data/beer/beers.csv 2022-07-07 21:26:23 2022-12-03 14:27:29\n",
       "                                        uid     gid     uname grname\n",
       "/anvil/projects/tdm/data/beer/beers.csv 7095091 7500002 NA    NA    "
      ]
     },
     "metadata": {},
     "output_type": "display_data"
    }
   ],
   "source": [
    "file.info(\"/anvil/projects/tdm/data/beer/beers.csv\")\n",
    "# Here you can put the name of the file and get all kinds of information about the file"
   ]
  },
  {
   "cell_type": "code",
   "execution_count": 3,
   "id": "f0929370-9e62-4c72-8c4c-c800abfc49f6",
   "metadata": {},
   "outputs": [
    {
     "data": {
      "text/html": [
       "43399004"
      ],
      "text/latex": [
       "43399004"
      ],
      "text/markdown": [
       "43399004"
      ],
      "text/plain": [
       "[1] 43399004"
      ]
     },
     "metadata": {},
     "output_type": "display_data"
    }
   ],
   "source": [
    "file.info(\"/anvil/projects/tdm/data/beer/beers.csv\")$size\n",
    "# to know the particular quantity of the size in the column"
   ]
  },
  {
   "cell_type": "code",
   "execution_count": 4,
   "id": "4a897d2a-8dd9-4560-be7c-8c4d2ba501ac",
   "metadata": {},
   "outputs": [],
   "source": [
    "library(data.table)"
   ]
  },
  {
   "cell_type": "code",
   "execution_count": 5,
   "id": "52f5b48d-bf5e-4b42-a7a1-afe8a3986fb4",
   "metadata": {},
   "outputs": [],
   "source": [
    "drinks <- fread(\"/anvil/projects/tdm/data/beer/beers.csv\")"
   ]
  },
  {
   "cell_type": "code",
   "execution_count": 6,
   "id": "8d092c17-4fbe-4f50-b081-f6fbc5ef0c20",
   "metadata": {},
   "outputs": [
    {
     "data": {
      "text/html": [
       "<style>\n",
       ".list-inline {list-style: none; margin:0; padding: 0}\n",
       ".list-inline>li {display: inline-block}\n",
       ".list-inline>li:not(:last-child)::after {content: \"\\00b7\"; padding: 0 .5ex}\n",
       "</style>\n",
       "<ol class=list-inline><li>358873</li><li>10</li></ol>\n"
      ],
      "text/latex": [
       "\\begin{enumerate*}\n",
       "\\item 358873\n",
       "\\item 10\n",
       "\\end{enumerate*}\n"
      ],
      "text/markdown": [
       "1. 358873\n",
       "2. 10\n",
       "\n",
       "\n"
      ],
      "text/plain": [
       "[1] 358873     10"
      ]
     },
     "metadata": {},
     "output_type": "display_data"
    }
   ],
   "source": [
    "dim(drinks)\n",
    "# 358873 rows, 10 columns"
   ]
  },
  {
   "cell_type": "code",
   "execution_count": 7,
   "id": "453fa707-6faf-4471-a447-28e4a0556c79",
   "metadata": {},
   "outputs": [
    {
     "name": "stdout",
     "output_type": "stream",
     "text": [
      "Classes 'data.table' and 'data.frame':\t358873 obs. of  10 variables:\n",
      " $ id          : int  202522 82352 214879 320009 246438 8036 108605 345382 255286 29556 ...\n",
      " $ name        : chr  \"Olde Cogitator\" \"Konrads Stout Russian Imperial Stout\" \"Scottish Right\" \"MegaMeow Imperial Stout\" ...\n",
      " $ brewery_id  : int  2199 18604 44306 4378 44617 3469 22598 45567 11203 8203 ...\n",
      " $ state       : chr  \"CA\" \"\" \"IN\" \"WA\" ...\n",
      " $ country     : chr  \"US\" \"NO\" \"US\" \"US\" ...\n",
      " $ style       : chr  \"English Oatmeal Stout\" \"Russian Imperial Stout\" \"Scottish Ale\" \"American Imperial Stout\" ...\n",
      " $ availability: chr  \"Rotating\" \"Rotating\" \"Year-round\" \"Winter\" ...\n",
      " $ abv         : num  7.3 10.4 4 8.7 5.1 5.5 5.6 6.5 4.3 7.5 ...\n",
      " $ notes       : chr  \"No notes at this time.\" \"No notes at this time.\" \"No notes at this time.\" \"Every time this year\" ...\n",
      " $ retired     : chr  \"f\" \"f\" \"t\" \"f\" ...\n",
      " - attr(*, \".internal.selfref\")=<externalptr> \n"
     ]
    }
   ],
   "source": [
    "# to look at type of data and information about the file\n",
    "str(drinks)"
   ]
  },
  {
   "cell_type": "code",
   "execution_count": 8,
   "id": "ea300dc2-82b5-4a72-80ae-ef9654b09c1c",
   "metadata": {},
   "outputs": [
    {
     "data": {
      "text/html": [
       "<table class=\"dataframe\">\n",
       "<caption>A data.table: 6 x 10</caption>\n",
       "<thead>\n",
       "\t<tr><th scope=col>id</th><th scope=col>name</th><th scope=col>brewery_id</th><th scope=col>state</th><th scope=col>country</th><th scope=col>style</th><th scope=col>availability</th><th scope=col>abv</th><th scope=col>notes</th><th scope=col>retired</th></tr>\n",
       "\t<tr><th scope=col>&lt;int&gt;</th><th scope=col>&lt;chr&gt;</th><th scope=col>&lt;int&gt;</th><th scope=col>&lt;chr&gt;</th><th scope=col>&lt;chr&gt;</th><th scope=col>&lt;chr&gt;</th><th scope=col>&lt;chr&gt;</th><th scope=col>&lt;dbl&gt;</th><th scope=col>&lt;chr&gt;</th><th scope=col>&lt;chr&gt;</th></tr>\n",
       "</thead>\n",
       "<tbody>\n",
       "\t<tr><td>202522</td><td>Olde Cogitator                      </td><td> 2199</td><td>CA</td><td>US</td><td>English Oatmeal Stout  </td><td>Rotating             </td><td> 7.3</td><td>No notes at this time.</td><td>f</td></tr>\n",
       "\t<tr><td> 82352</td><td>Konrads Stout Russian Imperial Stout</td><td>18604</td><td>  </td><td>NO</td><td>Russian Imperial Stout </td><td>Rotating             </td><td>10.4</td><td>No notes at this time.</td><td>f</td></tr>\n",
       "\t<tr><td>214879</td><td>Scottish Right                      </td><td>44306</td><td>IN</td><td>US</td><td>Scottish Ale           </td><td>Year-round           </td><td> 4.0</td><td>No notes at this time.</td><td>t</td></tr>\n",
       "\t<tr><td>320009</td><td>MegaMeow Imperial Stout             </td><td> 4378</td><td>WA</td><td>US</td><td>American Imperial Stout</td><td>Winter               </td><td> 8.7</td><td>Every time this year  </td><td>f</td></tr>\n",
       "\t<tr><td>246438</td><td>Peaches-N-Cream                     </td><td>44617</td><td>PA</td><td>US</td><td>American Cream Ale     </td><td>Rotating             </td><td> 5.1</td><td>No notes at this time.</td><td>f</td></tr>\n",
       "\t<tr><td>  8036</td><td>World Burp Beer 2002                </td><td> 3469</td><td>  </td><td>JP</td><td>Japanese Rice Lager    </td><td>Limited (brewed once)</td><td> 5.5</td><td>No notes at this time.</td><td>t</td></tr>\n",
       "</tbody>\n",
       "</table>\n"
      ],
      "text/latex": [
       "A data.table: 6 x 10\n",
       "\\begin{tabular}{llllllllll}\n",
       " id & name & brewery\\_id & state & country & style & availability & abv & notes & retired\\\\\n",
       " <int> & <chr> & <int> & <chr> & <chr> & <chr> & <chr> & <dbl> & <chr> & <chr>\\\\\n",
       "\\hline\n",
       "\t 202522 & Olde Cogitator                       &  2199 & CA & US & English Oatmeal Stout   & Rotating              &  7.3 & No notes at this time. & f\\\\\n",
       "\t  82352 & Konrads Stout Russian Imperial Stout & 18604 &    & NO & Russian Imperial Stout  & Rotating              & 10.4 & No notes at this time. & f\\\\\n",
       "\t 214879 & Scottish Right                       & 44306 & IN & US & Scottish Ale            & Year-round            &  4.0 & No notes at this time. & t\\\\\n",
       "\t 320009 & MegaMeow Imperial Stout              &  4378 & WA & US & American Imperial Stout & Winter                &  8.7 & Every time this year   & f\\\\\n",
       "\t 246438 & Peaches-N-Cream                      & 44617 & PA & US & American Cream Ale      & Rotating              &  5.1 & No notes at this time. & f\\\\\n",
       "\t   8036 & World Burp Beer 2002                 &  3469 &    & JP & Japanese Rice Lager     & Limited (brewed once) &  5.5 & No notes at this time. & t\\\\\n",
       "\\end{tabular}\n"
      ],
      "text/markdown": [
       "\n",
       "A data.table: 6 x 10\n",
       "\n",
       "| id &lt;int&gt; | name &lt;chr&gt; | brewery_id &lt;int&gt; | state &lt;chr&gt; | country &lt;chr&gt; | style &lt;chr&gt; | availability &lt;chr&gt; | abv &lt;dbl&gt; | notes &lt;chr&gt; | retired &lt;chr&gt; |\n",
       "|---|---|---|---|---|---|---|---|---|---|\n",
       "| 202522 | Olde Cogitator                       |  2199 | CA | US | English Oatmeal Stout   | Rotating              |  7.3 | No notes at this time. | f |\n",
       "|  82352 | Konrads Stout Russian Imperial Stout | 18604 | <!----> | NO | Russian Imperial Stout  | Rotating              | 10.4 | No notes at this time. | f |\n",
       "| 214879 | Scottish Right                       | 44306 | IN | US | Scottish Ale            | Year-round            |  4.0 | No notes at this time. | t |\n",
       "| 320009 | MegaMeow Imperial Stout              |  4378 | WA | US | American Imperial Stout | Winter                |  8.7 | Every time this year   | f |\n",
       "| 246438 | Peaches-N-Cream                      | 44617 | PA | US | American Cream Ale      | Rotating              |  5.1 | No notes at this time. | f |\n",
       "|   8036 | World Burp Beer 2002                 |  3469 | <!----> | JP | Japanese Rice Lager     | Limited (brewed once) |  5.5 | No notes at this time. | t |\n",
       "\n"
      ],
      "text/plain": [
       "  id     name                                 brewery_id state country\n",
       "1 202522 Olde Cogitator                        2199      CA    US     \n",
       "2  82352 Konrads Stout Russian Imperial Stout 18604            NO     \n",
       "3 214879 Scottish Right                       44306      IN    US     \n",
       "4 320009 MegaMeow Imperial Stout               4378      WA    US     \n",
       "5 246438 Peaches-N-Cream                      44617      PA    US     \n",
       "6   8036 World Burp Beer 2002                  3469            JP     \n",
       "  style                   availability          abv  notes                 \n",
       "1 English Oatmeal Stout   Rotating               7.3 No notes at this time.\n",
       "2 Russian Imperial Stout  Rotating              10.4 No notes at this time.\n",
       "3 Scottish Ale            Year-round             4.0 No notes at this time.\n",
       "4 American Imperial Stout Winter                 8.7 Every time this year  \n",
       "5 American Cream Ale      Rotating               5.1 No notes at this time.\n",
       "6 Japanese Rice Lager     Limited (brewed once)  5.5 No notes at this time.\n",
       "  retired\n",
       "1 f      \n",
       "2 f      \n",
       "3 t      \n",
       "4 f      \n",
       "5 f      \n",
       "6 t      "
      ]
     },
     "metadata": {},
     "output_type": "display_data"
    }
   ],
   "source": [
    "head(drinks)"
   ]
  },
  {
   "cell_type": "code",
   "execution_count": 11,
   "id": "e3f9e422-e765-4833-a306-79b7b7202a4f",
   "metadata": {},
   "outputs": [
    {
     "data": {
      "text/html": [
       "<style>\n",
       ".list-inline {list-style: none; margin:0; padding: 0}\n",
       ".list-inline>li {display: inline-block}\n",
       ".list-inline>li:not(:last-child)::after {content: \"\\00b7\"; padding: 0 .5ex}\n",
       "</style>\n",
       "<ol class=list-inline><li>1</li><li>2</li><li>4</li></ol>\n"
      ],
      "text/latex": [
       "\\begin{enumerate*}\n",
       "\\item 1\n",
       "\\item 2\n",
       "\\item 4\n",
       "\\end{enumerate*}\n"
      ],
      "text/markdown": [
       "1. 1\n",
       "2. 2\n",
       "3. 4\n",
       "\n",
       "\n"
      ],
      "text/plain": [
       "[1] 1 2 4"
      ]
     },
     "metadata": {},
     "output_type": "display_data"
    }
   ],
   "source": [
    "# then grep Stout in the style column\n",
    "grep(\"Stout\", head(drinks$style))\n",
    "# the word stout in column 1,2 and 4"
   ]
  },
  {
   "cell_type": "code",
   "execution_count": 12,
   "id": "4016ccd2-133f-4161-8945-b0fafef55fce",
   "metadata": {},
   "outputs": [
    {
     "data": {
      "text/html": [
       "<style>\n",
       ".list-inline {list-style: none; margin:0; padding: 0}\n",
       ".list-inline>li {display: inline-block}\n",
       ".list-inline>li:not(:last-child)::after {content: \"\\00b7\"; padding: 0 .5ex}\n",
       "</style>\n",
       "<ol class=list-inline><li>7.3</li><li>10.4</li><li>8.7</li></ol>\n"
      ],
      "text/latex": [
       "\\begin{enumerate*}\n",
       "\\item 7.3\n",
       "\\item 10.4\n",
       "\\item 8.7\n",
       "\\end{enumerate*}\n"
      ],
      "text/markdown": [
       "1. 7.3\n",
       "2. 10.4\n",
       "3. 8.7\n",
       "\n",
       "\n"
      ],
      "text/plain": [
       "[1]  7.3 10.4  8.7"
      ]
     },
     "metadata": {},
     "output_type": "display_data"
    }
   ],
   "source": [
    "# then look at te scores of all those beers under abv and \n",
    "# pull out relevant numbers\n",
    "\n",
    "drinks$abv[grep(\"Stout\", head(drinks$style))]"
   ]
  },
  {
   "cell_type": "code",
   "execution_count": 13,
   "id": "9abf1a43-4983-4502-90b3-62768240af71",
   "metadata": {},
   "outputs": [
    {
     "data": {
      "text/html": [
       "8.8"
      ],
      "text/latex": [
       "8.8"
      ],
      "text/markdown": [
       "8.8"
      ],
      "text/plain": [
       "[1] 8.8"
      ]
     },
     "metadata": {},
     "output_type": "display_data"
    }
   ],
   "source": [
    "mean(drinks$abv[grep(\"Stout\", head(drinks$style))])\n",
    "# then take the mean,average of the three scores\n",
    "# since we have achieved for the fisrt six then take the head off and run the entire data set"
   ]
  },
  {
   "cell_type": "code",
   "execution_count": 15,
   "id": "f6c1f9dc-9fdb-43b3-91f5-24a6459c056d",
   "metadata": {},
   "outputs": [
    {
     "data": {
      "text/html": [
       "8.20493286813495"
      ],
      "text/latex": [
       "8.20493286813495"
      ],
      "text/markdown": [
       "8.20493286813495"
      ],
      "text/plain": [
       "[1] 8.204933"
      ]
     },
     "metadata": {},
     "output_type": "display_data"
    }
   ],
   "source": [
    "mean(drinks$abv[grep(\"Stout\", drinks$style)], na.rm=TRUE)\n",
    "# this is the average score for all the beer."
   ]
  },
  {
   "cell_type": "code",
   "execution_count": 16,
   "id": "b50c1a98-cbf5-4b9d-a4d6-b185d1508e3a",
   "metadata": {},
   "outputs": [
    {
     "data": {
      "text/html": [],
      "text/latex": [],
      "text/markdown": [],
      "text/plain": [
       "integer(0)"
      ]
     },
     "metadata": {},
     "output_type": "display_data"
    }
   ],
   "source": [
    "grep(\"Pale Ale\", head(drinks$style))"
   ]
  },
  {
   "cell_type": "code",
   "execution_count": 18,
   "id": "56378040-f63c-4c4a-a7a9-30435cda410a",
   "metadata": {},
   "outputs": [
    {
     "data": {
      "text/html": [
       "<style>\n",
       ".list-inline {list-style: none; margin:0; padding: 0}\n",
       ".list-inline>li {display: inline-block}\n",
       ".list-inline>li:not(:last-child)::after {content: \"\\00b7\"; padding: 0 .5ex}\n",
       "</style>\n",
       "<ol class=list-inline><li>17</li><li>18</li><li>32</li><li>53</li><li>81</li><li>86</li></ol>\n"
      ],
      "text/latex": [
       "\\begin{enumerate*}\n",
       "\\item 17\n",
       "\\item 18\n",
       "\\item 32\n",
       "\\item 53\n",
       "\\item 81\n",
       "\\item 86\n",
       "\\end{enumerate*}\n"
      ],
      "text/markdown": [
       "1. 17\n",
       "2. 18\n",
       "3. 32\n",
       "4. 53\n",
       "5. 81\n",
       "6. 86\n",
       "\n",
       "\n"
      ],
      "text/plain": [
       "[1] 17 18 32 53 81 86"
      ]
     },
     "metadata": {},
     "output_type": "display_data"
    }
   ],
   "source": [
    "grep(\"Pale Ale\", head(drinks$style, n=100))\n",
    "# for the first 100"
   ]
  },
  {
   "cell_type": "code",
   "execution_count": 19,
   "id": "fc244b7d-63cc-4008-a43e-9e7b73e5faef",
   "metadata": {},
   "outputs": [
    {
     "data": {
      "text/html": [
       "<style>\n",
       ".list-inline {list-style: none; margin:0; padding: 0}\n",
       ".list-inline>li {display: inline-block}\n",
       ".list-inline>li:not(:last-child)::after {content: \"\\00b7\"; padding: 0 .5ex}\n",
       "</style>\n",
       "<ol class=list-inline><li>'American Pale Ale (APA)'</li><li>'American Pale Ale (APA)'</li><li>'English Pale Ale'</li><li>'American Pale Ale (APA)'</li><li>'American Pale Ale (APA)'</li><li>'American Pale Ale (APA)'</li></ol>\n"
      ],
      "text/latex": [
       "\\begin{enumerate*}\n",
       "\\item 'American Pale Ale (APA)'\n",
       "\\item 'American Pale Ale (APA)'\n",
       "\\item 'English Pale Ale'\n",
       "\\item 'American Pale Ale (APA)'\n",
       "\\item 'American Pale Ale (APA)'\n",
       "\\item 'American Pale Ale (APA)'\n",
       "\\end{enumerate*}\n"
      ],
      "text/markdown": [
       "1. 'American Pale Ale (APA)'\n",
       "2. 'American Pale Ale (APA)'\n",
       "3. 'English Pale Ale'\n",
       "4. 'American Pale Ale (APA)'\n",
       "5. 'American Pale Ale (APA)'\n",
       "6. 'American Pale Ale (APA)'\n",
       "\n",
       "\n"
      ],
      "text/plain": [
       "[1] \"American Pale Ale (APA)\" \"American Pale Ale (APA)\"\n",
       "[3] \"English Pale Ale\"        \"American Pale Ale (APA)\"\n",
       "[5] \"American Pale Ale (APA)\" \"American Pale Ale (APA)\""
      ]
     },
     "metadata": {},
     "output_type": "display_data"
    }
   ],
   "source": [
    "# to see what they are called\n",
    "drinks$style[grep(\"Pale Ale\", head(drinks$style, n=100))]"
   ]
  },
  {
   "cell_type": "code",
   "execution_count": 20,
   "id": "6cd07e29-06dc-4cf9-a0b4-1e8dd33fcf3e",
   "metadata": {},
   "outputs": [
    {
     "data": {
      "text/html": [
       "6"
      ],
      "text/latex": [
       "6"
      ],
      "text/markdown": [
       "6"
      ],
      "text/plain": [
       "[1] 6"
      ]
     },
     "metadata": {},
     "output_type": "display_data"
    }
   ],
   "source": [
    "# how many are there?\n",
    "length(grep(\"Pale Ale\", head(drinks$style, n=100)))"
   ]
  },
  {
   "cell_type": "code",
   "execution_count": 21,
   "id": "cc42a021-972c-4ed2-b5f2-1937d7afdff6",
   "metadata": {},
   "outputs": [
    {
     "data": {
      "text/html": [
       "35689"
      ],
      "text/latex": [
       "35689"
      ],
      "text/markdown": [
       "35689"
      ],
      "text/plain": [
       "[1] 35689"
      ]
     },
     "metadata": {},
     "output_type": "display_data"
    }
   ],
   "source": [
    "# in the whole data set \n",
    "length(grep(\"Pale Ale\", drinks$style))"
   ]
  },
  {
   "cell_type": "code",
   "execution_count": 22,
   "id": "56a3d572-cbe1-41cc-8d43-ef52a6b6e2c0",
   "metadata": {},
   "outputs": [
    {
     "data": {
      "text/html": [],
      "text/latex": [],
      "text/markdown": [],
      "text/plain": [
       "integer(0)"
      ]
     },
     "metadata": {},
     "output_type": "display_data"
    }
   ],
   "source": [
    "grep(\"Pale\", head(drinks$style))"
   ]
  },
  {
   "cell_type": "code",
   "execution_count": 23,
   "id": "1bb4b38f-80e3-41a6-98a9-5160e14670b7",
   "metadata": {},
   "outputs": [
    {
     "data": {
      "text/html": [
       "<style>\n",
       ".list-inline {list-style: none; margin:0; padding: 0}\n",
       ".list-inline>li {display: inline-block}\n",
       ".list-inline>li:not(:last-child)::after {content: \"\\00b7\"; padding: 0 .5ex}\n",
       "</style>\n",
       "<ol class=list-inline><li>15</li><li>17</li><li>18</li><li>23</li><li>32</li><li>53</li><li>81</li><li>86</li><li>97</li></ol>\n"
      ],
      "text/latex": [
       "\\begin{enumerate*}\n",
       "\\item 15\n",
       "\\item 17\n",
       "\\item 18\n",
       "\\item 23\n",
       "\\item 32\n",
       "\\item 53\n",
       "\\item 81\n",
       "\\item 86\n",
       "\\item 97\n",
       "\\end{enumerate*}\n"
      ],
      "text/markdown": [
       "1. 15\n",
       "2. 17\n",
       "3. 18\n",
       "4. 23\n",
       "5. 32\n",
       "6. 53\n",
       "7. 81\n",
       "8. 86\n",
       "9. 97\n",
       "\n",
       "\n"
      ],
      "text/plain": [
       "[1] 15 17 18 23 32 53 81 86 97"
      ]
     },
     "metadata": {},
     "output_type": "display_data"
    }
   ],
   "source": [
    "grep(\"Pale\", head(drinks$style, n=100))"
   ]
  },
  {
   "cell_type": "code",
   "execution_count": 24,
   "id": "f71dbfcc-d426-4e3d-814d-a298b1458248",
   "metadata": {},
   "outputs": [
    {
     "data": {
      "text/html": [
       "<style>\n",
       ".list-inline {list-style: none; margin:0; padding: 0}\n",
       ".list-inline>li {display: inline-block}\n",
       ".list-inline>li:not(:last-child)::after {content: \"\\00b7\"; padding: 0 .5ex}\n",
       "</style>\n",
       "<ol class=list-inline><li>'American Pale Wheat Ale'</li><li>'American Pale Ale (APA)'</li><li>'American Pale Ale (APA)'</li><li>'European Pale Lager'</li><li>'English Pale Ale'</li><li>'American Pale Ale (APA)'</li><li>'American Pale Ale (APA)'</li><li>'American Pale Ale (APA)'</li><li>'American Pale Wheat Ale'</li></ol>\n"
      ],
      "text/latex": [
       "\\begin{enumerate*}\n",
       "\\item 'American Pale Wheat Ale'\n",
       "\\item 'American Pale Ale (APA)'\n",
       "\\item 'American Pale Ale (APA)'\n",
       "\\item 'European Pale Lager'\n",
       "\\item 'English Pale Ale'\n",
       "\\item 'American Pale Ale (APA)'\n",
       "\\item 'American Pale Ale (APA)'\n",
       "\\item 'American Pale Ale (APA)'\n",
       "\\item 'American Pale Wheat Ale'\n",
       "\\end{enumerate*}\n"
      ],
      "text/markdown": [
       "1. 'American Pale Wheat Ale'\n",
       "2. 'American Pale Ale (APA)'\n",
       "3. 'American Pale Ale (APA)'\n",
       "4. 'European Pale Lager'\n",
       "5. 'English Pale Ale'\n",
       "6. 'American Pale Ale (APA)'\n",
       "7. 'American Pale Ale (APA)'\n",
       "8. 'American Pale Ale (APA)'\n",
       "9. 'American Pale Wheat Ale'\n",
       "\n",
       "\n"
      ],
      "text/plain": [
       "[1] \"American Pale Wheat Ale\" \"American Pale Ale (APA)\"\n",
       "[3] \"American Pale Ale (APA)\" \"European Pale Lager\"    \n",
       "[5] \"English Pale Ale\"        \"American Pale Ale (APA)\"\n",
       "[7] \"American Pale Ale (APA)\" \"American Pale Ale (APA)\"\n",
       "[9] \"American Pale Wheat Ale\""
      ]
     },
     "metadata": {},
     "output_type": "display_data"
    }
   ],
   "source": [
    "drinks$style[grep(\"Pale\", head(drinks$style, n=100))]"
   ]
  },
  {
   "cell_type": "code",
   "execution_count": 25,
   "id": "7b708d7c-fb5b-4131-977d-27ca5106306c",
   "metadata": {},
   "outputs": [
    {
     "data": {
      "text/html": [
       "9"
      ],
      "text/latex": [
       "9"
      ],
      "text/markdown": [
       "9"
      ],
      "text/plain": [
       "[1] 9"
      ]
     },
     "metadata": {},
     "output_type": "display_data"
    }
   ],
   "source": [
    "length(grep(\"Pale\", head(drinks$style, n=100)))"
   ]
  },
  {
   "cell_type": "code",
   "execution_count": 26,
   "id": "8f53b067-1b9c-4764-b0ca-480909f2543b",
   "metadata": {},
   "outputs": [
    {
     "data": {
      "text/html": [
       "45287"
      ],
      "text/latex": [
       "45287"
      ],
      "text/markdown": [
       "45287"
      ],
      "text/plain": [
       "[1] 45287"
      ]
     },
     "metadata": {},
     "output_type": "display_data"
    }
   ],
   "source": [
    "length(grep(\"Pale\", drinks$style))"
   ]
  },
  {
   "cell_type": "code",
   "execution_count": 27,
   "id": "7bdfa703-e6a0-47cb-98e5-86b823ffb725",
   "metadata": {},
   "outputs": [
    {
     "data": {
      "text/html": [
       "<style>\n",
       ".list-inline {list-style: none; margin:0; padding: 0}\n",
       ".list-inline>li {display: inline-block}\n",
       ".list-inline>li:not(:last-child)::after {content: \"\\00b7\"; padding: 0 .5ex}\n",
       "</style>\n",
       "<ol class=list-inline><li>3</li><li>5</li></ol>\n"
      ],
      "text/latex": [
       "\\begin{enumerate*}\n",
       "\\item 3\n",
       "\\item 5\n",
       "\\end{enumerate*}\n"
      ],
      "text/markdown": [
       "1. 3\n",
       "2. 5\n",
       "\n",
       "\n"
      ],
      "text/plain": [
       "[1] 3 5"
      ]
     },
     "metadata": {},
     "output_type": "display_data"
    }
   ],
   "source": [
    "grep(\"Ale\", head(drinks$style))"
   ]
  },
  {
   "cell_type": "code",
   "execution_count": 28,
   "id": "7ca91dc7-f325-4a3f-b427-ad7e8d17bb46",
   "metadata": {},
   "outputs": [
    {
     "data": {
      "text/html": [
       "<style>\n",
       ".list-inline {list-style: none; margin:0; padding: 0}\n",
       ".list-inline>li {display: inline-block}\n",
       ".list-inline>li:not(:last-child)::after {content: \"\\00b7\"; padding: 0 .5ex}\n",
       "</style>\n",
       "<ol class=list-inline><li>3</li><li>5</li><li>14</li><li>15</li><li>17</li><li>18</li><li>20</li><li>28</li><li>29</li><li>30</li><li>32</li><li>40</li><li>49</li><li>50</li><li>53</li><li>56</li><li>62</li><li>81</li><li>84</li><li>86</li><li>93</li><li>96</li><li>97</li><li>98</li></ol>\n"
      ],
      "text/latex": [
       "\\begin{enumerate*}\n",
       "\\item 3\n",
       "\\item 5\n",
       "\\item 14\n",
       "\\item 15\n",
       "\\item 17\n",
       "\\item 18\n",
       "\\item 20\n",
       "\\item 28\n",
       "\\item 29\n",
       "\\item 30\n",
       "\\item 32\n",
       "\\item 40\n",
       "\\item 49\n",
       "\\item 50\n",
       "\\item 53\n",
       "\\item 56\n",
       "\\item 62\n",
       "\\item 81\n",
       "\\item 84\n",
       "\\item 86\n",
       "\\item 93\n",
       "\\item 96\n",
       "\\item 97\n",
       "\\item 98\n",
       "\\end{enumerate*}\n"
      ],
      "text/markdown": [
       "1. 3\n",
       "2. 5\n",
       "3. 14\n",
       "4. 15\n",
       "5. 17\n",
       "6. 18\n",
       "7. 20\n",
       "8. 28\n",
       "9. 29\n",
       "10. 30\n",
       "11. 32\n",
       "12. 40\n",
       "13. 49\n",
       "14. 50\n",
       "15. 53\n",
       "16. 56\n",
       "17. 62\n",
       "18. 81\n",
       "19. 84\n",
       "20. 86\n",
       "21. 93\n",
       "22. 96\n",
       "23. 97\n",
       "24. 98\n",
       "\n",
       "\n"
      ],
      "text/plain": [
       " [1]  3  5 14 15 17 18 20 28 29 30 32 40 49 50 53 56 62 81 84 86 93 96 97 98"
      ]
     },
     "metadata": {},
     "output_type": "display_data"
    }
   ],
   "source": [
    "grep(\"Ale\", head(drinks$style, n=100))"
   ]
  },
  {
   "cell_type": "code",
   "execution_count": 29,
   "id": "27947eff-54dd-4ea1-a642-1c56cced869d",
   "metadata": {},
   "outputs": [
    {
     "data": {
      "text/html": [
       "<style>\n",
       ".list-inline {list-style: none; margin:0; padding: 0}\n",
       ".list-inline>li {display: inline-block}\n",
       ".list-inline>li:not(:last-child)::after {content: \"\\00b7\"; padding: 0 .5ex}\n",
       "</style>\n",
       "<ol class=list-inline><li>'Scottish Ale'</li><li>'American Cream Ale'</li><li>'American Strong Ale'</li><li>'American Pale Wheat Ale'</li><li>'American Pale Ale (APA)'</li><li>'American Pale Ale (APA)'</li><li>'American Black Ale'</li><li>'American Wild Ale'</li><li>'American Black Ale'</li><li>'Irish Red Ale'</li><li>'English Pale Ale'</li><li>'American Wild Ale'</li><li>'American Amber / Red Ale'</li><li>'Scottish Ale'</li><li>'American Pale Ale (APA)'</li><li>'American Black Ale'</li><li>'Belgian Dark Ale'</li><li>'American Pale Ale (APA)'</li><li>'Scotch Ale / Wee Heavy'</li><li>'American Pale Ale (APA)'</li><li>'Irish Red Ale'</li><li>'American Brown Ale'</li><li>'American Pale Wheat Ale'</li><li>'American Amber / Red Ale'</li></ol>\n"
      ],
      "text/latex": [
       "\\begin{enumerate*}\n",
       "\\item 'Scottish Ale'\n",
       "\\item 'American Cream Ale'\n",
       "\\item 'American Strong Ale'\n",
       "\\item 'American Pale Wheat Ale'\n",
       "\\item 'American Pale Ale (APA)'\n",
       "\\item 'American Pale Ale (APA)'\n",
       "\\item 'American Black Ale'\n",
       "\\item 'American Wild Ale'\n",
       "\\item 'American Black Ale'\n",
       "\\item 'Irish Red Ale'\n",
       "\\item 'English Pale Ale'\n",
       "\\item 'American Wild Ale'\n",
       "\\item 'American Amber / Red Ale'\n",
       "\\item 'Scottish Ale'\n",
       "\\item 'American Pale Ale (APA)'\n",
       "\\item 'American Black Ale'\n",
       "\\item 'Belgian Dark Ale'\n",
       "\\item 'American Pale Ale (APA)'\n",
       "\\item 'Scotch Ale / Wee Heavy'\n",
       "\\item 'American Pale Ale (APA)'\n",
       "\\item 'Irish Red Ale'\n",
       "\\item 'American Brown Ale'\n",
       "\\item 'American Pale Wheat Ale'\n",
       "\\item 'American Amber / Red Ale'\n",
       "\\end{enumerate*}\n"
      ],
      "text/markdown": [
       "1. 'Scottish Ale'\n",
       "2. 'American Cream Ale'\n",
       "3. 'American Strong Ale'\n",
       "4. 'American Pale Wheat Ale'\n",
       "5. 'American Pale Ale (APA)'\n",
       "6. 'American Pale Ale (APA)'\n",
       "7. 'American Black Ale'\n",
       "8. 'American Wild Ale'\n",
       "9. 'American Black Ale'\n",
       "10. 'Irish Red Ale'\n",
       "11. 'English Pale Ale'\n",
       "12. 'American Wild Ale'\n",
       "13. 'American Amber / Red Ale'\n",
       "14. 'Scottish Ale'\n",
       "15. 'American Pale Ale (APA)'\n",
       "16. 'American Black Ale'\n",
       "17. 'Belgian Dark Ale'\n",
       "18. 'American Pale Ale (APA)'\n",
       "19. 'Scotch Ale / Wee Heavy'\n",
       "20. 'American Pale Ale (APA)'\n",
       "21. 'Irish Red Ale'\n",
       "22. 'American Brown Ale'\n",
       "23. 'American Pale Wheat Ale'\n",
       "24. 'American Amber / Red Ale'\n",
       "\n",
       "\n"
      ],
      "text/plain": [
       " [1] \"Scottish Ale\"             \"American Cream Ale\"      \n",
       " [3] \"American Strong Ale\"      \"American Pale Wheat Ale\" \n",
       " [5] \"American Pale Ale (APA)\"  \"American Pale Ale (APA)\" \n",
       " [7] \"American Black Ale\"       \"American Wild Ale\"       \n",
       " [9] \"American Black Ale\"       \"Irish Red Ale\"           \n",
       "[11] \"English Pale Ale\"         \"American Wild Ale\"       \n",
       "[13] \"American Amber / Red Ale\" \"Scottish Ale\"            \n",
       "[15] \"American Pale Ale (APA)\"  \"American Black Ale\"      \n",
       "[17] \"Belgian Dark Ale\"         \"American Pale Ale (APA)\" \n",
       "[19] \"Scotch Ale / Wee Heavy\"   \"American Pale Ale (APA)\" \n",
       "[21] \"Irish Red Ale\"            \"American Brown Ale\"      \n",
       "[23] \"American Pale Wheat Ale\"  \"American Amber / Red Ale\""
      ]
     },
     "metadata": {},
     "output_type": "display_data"
    }
   ],
   "source": [
    "drinks$style[grep(\"Ale\", head(drinks$style, n=100))]"
   ]
  },
  {
   "cell_type": "code",
   "execution_count": 30,
   "id": "1f358b3c-5cbf-457d-813d-19875a031a76",
   "metadata": {},
   "outputs": [
    {
     "data": {
      "text/html": [
       "24"
      ],
      "text/latex": [
       "24"
      ],
      "text/markdown": [
       "24"
      ],
      "text/plain": [
       "[1] 24"
      ]
     },
     "metadata": {},
     "output_type": "display_data"
    }
   ],
   "source": [
    "length(grep(\"Ale\", head(drinks$style, n=100)))"
   ]
  },
  {
   "cell_type": "code",
   "execution_count": 31,
   "id": "7743f1dc-8827-4380-a646-f9c934dd018e",
   "metadata": {},
   "outputs": [
    {
     "data": {
      "text/html": [
       "107413"
      ],
      "text/latex": [
       "107413"
      ],
      "text/markdown": [
       "107413"
      ],
      "text/plain": [
       "[1] 107413"
      ]
     },
     "metadata": {},
     "output_type": "display_data"
    }
   ],
   "source": [
    "length(grep(\"Ale\", drinks$style))"
   ]
  },
  {
   "cell_type": "code",
   "execution_count": 32,
   "id": "fdd0431c-134b-4f09-9487-23767e9bf550",
   "metadata": {},
   "outputs": [
    {
     "data": {
      "text/html": [
       "<style>\n",
       ".list-inline {list-style: none; margin:0; padding: 0}\n",
       ".list-inline>li {display: inline-block}\n",
       ".list-inline>li:not(:last-child)::after {content: \"\\00b7\"; padding: 0 .5ex}\n",
       "</style>\n",
       "<ol class=list-inline><li>1</li><li>2</li><li>4</li></ol>\n"
      ],
      "text/latex": [
       "\\begin{enumerate*}\n",
       "\\item 1\n",
       "\\item 2\n",
       "\\item 4\n",
       "\\end{enumerate*}\n"
      ],
      "text/markdown": [
       "1. 1\n",
       "2. 2\n",
       "3. 4\n",
       "\n",
       "\n"
      ],
      "text/plain": [
       "[1] 1 2 4"
      ]
     },
     "metadata": {},
     "output_type": "display_data"
    }
   ],
   "source": [
    "grep(\"Stout\", head(drinks$style))"
   ]
  },
  {
   "cell_type": "code",
   "execution_count": 33,
   "id": "08ebd75f-8710-4514-8d6a-659490d455ee",
   "metadata": {},
   "outputs": [
    {
     "data": {
      "text/html": [
       "<style>\n",
       ".list-inline {list-style: none; margin:0; padding: 0}\n",
       ".list-inline>li {display: inline-block}\n",
       ".list-inline>li:not(:last-child)::after {content: \"\\00b7\"; padding: 0 .5ex}\n",
       "</style>\n",
       "<ol class=list-inline><li>1</li><li>2</li><li>4</li><li>11</li><li>34</li><li>43</li><li>44</li><li>67</li><li>68</li><li>73</li><li>80</li><li>100</li></ol>\n"
      ],
      "text/latex": [
       "\\begin{enumerate*}\n",
       "\\item 1\n",
       "\\item 2\n",
       "\\item 4\n",
       "\\item 11\n",
       "\\item 34\n",
       "\\item 43\n",
       "\\item 44\n",
       "\\item 67\n",
       "\\item 68\n",
       "\\item 73\n",
       "\\item 80\n",
       "\\item 100\n",
       "\\end{enumerate*}\n"
      ],
      "text/markdown": [
       "1. 1\n",
       "2. 2\n",
       "3. 4\n",
       "4. 11\n",
       "5. 34\n",
       "6. 43\n",
       "7. 44\n",
       "8. 67\n",
       "9. 68\n",
       "10. 73\n",
       "11. 80\n",
       "12. 100\n",
       "\n",
       "\n"
      ],
      "text/plain": [
       " [1]   1   2   4  11  34  43  44  67  68  73  80 100"
      ]
     },
     "metadata": {},
     "output_type": "display_data"
    }
   ],
   "source": [
    "grep(\"Stout\", head(drinks$style, n=100))"
   ]
  },
  {
   "cell_type": "code",
   "execution_count": 34,
   "id": "5f8a2753-a3de-4711-9a6f-a6363043808b",
   "metadata": {},
   "outputs": [
    {
     "data": {
      "text/html": [
       "<style>\n",
       ".list-inline {list-style: none; margin:0; padding: 0}\n",
       ".list-inline>li {display: inline-block}\n",
       ".list-inline>li:not(:last-child)::after {content: \"\\00b7\"; padding: 0 .5ex}\n",
       "</style>\n",
       "<ol class=list-inline><li>'English Oatmeal Stout'</li><li>'Russian Imperial Stout'</li><li>'American Imperial Stout'</li><li>'English Stout'</li><li>'American Imperial Stout'</li><li>'American Stout'</li><li>'American Imperial Stout'</li><li>'American Imperial Stout'</li><li>'American Imperial Stout'</li><li>'Russian Imperial Stout'</li><li>'English Sweet / Milk Stout'</li><li>'English Oatmeal Stout'</li></ol>\n"
      ],
      "text/latex": [
       "\\begin{enumerate*}\n",
       "\\item 'English Oatmeal Stout'\n",
       "\\item 'Russian Imperial Stout'\n",
       "\\item 'American Imperial Stout'\n",
       "\\item 'English Stout'\n",
       "\\item 'American Imperial Stout'\n",
       "\\item 'American Stout'\n",
       "\\item 'American Imperial Stout'\n",
       "\\item 'American Imperial Stout'\n",
       "\\item 'American Imperial Stout'\n",
       "\\item 'Russian Imperial Stout'\n",
       "\\item 'English Sweet / Milk Stout'\n",
       "\\item 'English Oatmeal Stout'\n",
       "\\end{enumerate*}\n"
      ],
      "text/markdown": [
       "1. 'English Oatmeal Stout'\n",
       "2. 'Russian Imperial Stout'\n",
       "3. 'American Imperial Stout'\n",
       "4. 'English Stout'\n",
       "5. 'American Imperial Stout'\n",
       "6. 'American Stout'\n",
       "7. 'American Imperial Stout'\n",
       "8. 'American Imperial Stout'\n",
       "9. 'American Imperial Stout'\n",
       "10. 'Russian Imperial Stout'\n",
       "11. 'English Sweet / Milk Stout'\n",
       "12. 'English Oatmeal Stout'\n",
       "\n",
       "\n"
      ],
      "text/plain": [
       " [1] \"English Oatmeal Stout\"      \"Russian Imperial Stout\"    \n",
       " [3] \"American Imperial Stout\"    \"English Stout\"             \n",
       " [5] \"American Imperial Stout\"    \"American Stout\"            \n",
       " [7] \"American Imperial Stout\"    \"American Imperial Stout\"   \n",
       " [9] \"American Imperial Stout\"    \"Russian Imperial Stout\"    \n",
       "[11] \"English Sweet / Milk Stout\" \"English Oatmeal Stout\"     "
      ]
     },
     "metadata": {},
     "output_type": "display_data"
    }
   ],
   "source": [
    "drinks$style[grep(\"Stout\", head(drinks$style, n=100))]"
   ]
  },
  {
   "cell_type": "code",
   "execution_count": 35,
   "id": "09ce7090-8259-456a-953f-cde2971d2053",
   "metadata": {},
   "outputs": [
    {
     "data": {
      "text/html": [
       "12"
      ],
      "text/latex": [
       "12"
      ],
      "text/markdown": [
       "12"
      ],
      "text/plain": [
       "[1] 12"
      ]
     },
     "metadata": {},
     "output_type": "display_data"
    }
   ],
   "source": [
    "length(grep(\"Stout\", head(drinks$style, n=100)))"
   ]
  },
  {
   "cell_type": "code",
   "execution_count": 36,
   "id": "666d64f4-691c-4019-93f1-49a133ed6dff",
   "metadata": {},
   "outputs": [
    {
     "data": {
      "text/html": [
       "35943"
      ],
      "text/latex": [
       "35943"
      ],
      "text/markdown": [
       "35943"
      ],
      "text/plain": [
       "[1] 35943"
      ]
     },
     "metadata": {},
     "output_type": "display_data"
    }
   ],
   "source": [
    "length(grep(\"Stout\", drinks$style))"
   ]
  },
  {
   "cell_type": "markdown",
   "id": "b456e57c-4a12-464b-999a-ef2df5af80c1",
   "metadata": {},
   "source": [
    "What is the file size, how many rows, columns and type of data? The file size is 43MB,358873 rows, 10 columns. Types are integer, character and number\n",
    "\n",
    "What is the average score for a stout? (consider a stout any named beer from the column name with the word stout in it). it is 8.2\n",
    "\n",
    "How many Pale Ale’s are on this list? (consider a stout any named beer from the column name with the word pale and ale in it)\n",
    " for Pale Ale is 35689, for Pale is 45287, for Ale is 107413 and for Stout is 35943"
   ]
  },
  {
   "cell_type": "markdown",
   "id": "fc601975-35ed-4680-a4e1-0273ee3cc047",
   "metadata": {},
   "source": [
    "## Question 2"
   ]
  },
  {
   "cell_type": "code",
   "execution_count": 38,
   "id": "a16336a1-1ef0-41e8-bc7c-49387db27497",
   "metadata": {},
   "outputs": [],
   "source": [
    "options (jupyter.rich_display = F)"
   ]
  },
  {
   "cell_type": "code",
   "execution_count": 39,
   "id": "f99ea025-20ec-466c-a86b-17e21a855491",
   "metadata": {},
   "outputs": [],
   "source": [
    "options(repr.matrix.max.cols=25, repr.matrix.max.rows=25)"
   ]
  },
  {
   "cell_type": "code",
   "execution_count": 40,
   "id": "0dae871c-817b-4b22-a083-621d728afdc5",
   "metadata": {},
   "outputs": [
    {
     "data": {
      "text/plain": [
       "  id     name                                 brewery_id state country\n",
       "1 202522 Olde Cogitator                        2199      CA    US     \n",
       "2  82352 Konrads Stout Russian Imperial Stout 18604            NO     \n",
       "3 214879 Scottish Right                       44306      IN    US     \n",
       "4 320009 MegaMeow Imperial Stout               4378      WA    US     \n",
       "5 246438 Peaches-N-Cream                      44617      PA    US     \n",
       "6   8036 World Burp Beer 2002                  3469            JP     \n",
       "  style                   availability          abv  notes                 \n",
       "1 English Oatmeal Stout   Rotating               7.3 No notes at this time.\n",
       "2 Russian Imperial Stout  Rotating              10.4 No notes at this time.\n",
       "3 Scottish Ale            Year-round             4.0 No notes at this time.\n",
       "4 American Imperial Stout Winter                 8.7 Every time this year  \n",
       "5 American Cream Ale      Rotating               5.1 No notes at this time.\n",
       "6 Japanese Rice Lager     Limited (brewed once)  5.5 No notes at this time.\n",
       "  retired\n",
       "1 f      \n",
       "2 f      \n",
       "3 t      \n",
       "4 f      \n",
       "5 f      \n",
       "6 t      "
      ]
     },
     "metadata": {},
     "output_type": "display_data"
    }
   ],
   "source": [
    "head(drinks)"
   ]
  },
  {
   "cell_type": "code",
   "execution_count": 41,
   "id": "349807d1-b6ee-4728-a71b-cf9ab18b93a0",
   "metadata": {},
   "outputs": [
    {
     "data": {
      "text/plain": [
       "\n",
       "                 Fall Limited (brewed once)              Rotating \n",
       "                 8221                106854                146784 \n",
       "               Spring                Summer                Winter \n",
       "                 4635                  7110                  8721 \n",
       "           Year-round \n",
       "                76548 "
      ]
     },
     "metadata": {},
     "output_type": "display_data"
    }
   ],
   "source": [
    "table(drinks$availability)\n",
    "# check with availability column"
   ]
  },
  {
   "cell_type": "code",
   "execution_count": 43,
   "id": "f9861c5e-8b57-471b-93a2-58aa5547e92d",
   "metadata": {},
   "outputs": [
    {
     "data": {
      "text/plain": [
       "[1] 6349"
      ]
     },
     "metadata": {},
     "output_type": "display_data"
    }
   ],
   "source": [
    "length(table(drinks$name[drinks$availability == \"Summer\"]))\n",
    "# to know beers available in summer only\n",
    "# they are so much, so look for length"
   ]
  },
  {
   "cell_type": "code",
   "execution_count": 44,
   "id": "a8a78d79-f0fa-486b-8569-ca0a5b4d7e63",
   "metadata": {},
   "outputs": [],
   "source": [
    "x <- tapply(drinks$abv[drinks$availability == \"Summer\"], \n",
    "      drinks$name[drinks$availability == \"Summer\"], mean, na.rm = TRUE)\n",
    "\n",
    "# to first look at the score for them\n",
    "# split them up according to their name\n",
    "# then take an average\n"
   ]
  },
  {
   "cell_type": "code",
   "execution_count": 45,
   "id": "d25915af-064a-4b86-a644-ff36afac3049",
   "metadata": {},
   "outputs": [
    {
     "data": {
      "text/plain": [
       "                              \"\"Sugar Daddy\"\" SPA \n",
       "                                              7.1 \n",
       "       \"\"Summer Dick\"\" Beaver Dick Brown Pelt Ale \n",
       "                                              4.8 \n",
       "  \"\"The Wind Cried Mari...\"\" Scottish Heather Ale \n",
       "                                              4.4 \n",
       "             \"\"They Made Me Do It\"\" Blueberry Ale \n",
       "                                              4.1 \n",
       "#096 Mashi Mashi No Kuro Summer Stout With Coffee \n",
       "                                              9.3 \n",
       "                                 #17 Summer Wheat \n",
       "                                              5.6 "
      ]
     },
     "metadata": {},
     "output_type": "display_data"
    }
   ],
   "source": [
    "head(x)"
   ]
  },
  {
   "cell_type": "code",
   "execution_count": 48,
   "id": "f9c19e84-a4d4-4386-a44e-d60dbd3139aa",
   "metadata": {},
   "outputs": [
    {
     "data": {
      "text/plain": [
       "[1] 6349"
      ]
     },
     "metadata": {},
     "output_type": "display_data"
    }
   ],
   "source": [
    "length(x)"
   ]
  },
  {
   "cell_type": "code",
   "execution_count": 49,
   "id": "55ec171a-6a89-40f4-b7e7-c17a5cd15957",
   "metadata": {},
   "outputs": [
    {
     "data": {
      "text/plain": [
       "          Grey Monday          Samael's Ale   The Beast Grand Cru \n",
       "                20.00                 16.90                 16.83 \n",
       "Stronger Than Fiction     Christmas In July            Kentuckley \n",
       "                14.20                 14.00                 14.00 "
      ]
     },
     "metadata": {},
     "output_type": "display_data"
    }
   ],
   "source": [
    "head(sort(x, decreasing =TRUE))\n",
    "# most popular with the highest score"
   ]
  },
  {
   "cell_type": "code",
   "execution_count": 50,
   "id": "6bbc79f2-73b1-41f0-b06c-b6720319b77c",
   "metadata": {},
   "outputs": [
    {
     "data": {
      "text/plain": [
       "                    Grey Monday                    Samael's Ale \n",
       "                          20.00                           16.90 \n",
       "            The Beast Grand Cru           Stronger Than Fiction \n",
       "                          16.83                           14.20 \n",
       "              Christmas In July                      Kentuckley \n",
       "                          14.00                           14.00 \n",
       "                    Agave Maria Carson Peak American Strong Ale \n",
       "                          13.50                           13.10 \n",
       "         Kuhnhenn Summer Wonder               Tarheel Unidragon \n",
       "                          13.00                           12.50 \n",
       "                          Ratta              Batchelors Delight \n",
       "                          12.10                           12.00 \n",
       "                Coconut Delight                         El jefe \n",
       "                          12.00                           12.00 \n",
       "              Imperial Cerberus                  Pilgrim's Dole \n",
       "                          12.00                           12.00 \n",
       "                        Trignac             Tanked Imperial IPA \n",
       "                          12.00                           11.90 \n",
       "                     Well Water                     Cherry Blob \n",
       "                          11.70                           11.50 "
      ]
     },
     "metadata": {},
     "output_type": "display_data"
    }
   ],
   "source": [
    "head(sort(x, decreasing =TRUE), n = 20)\n",
    "# most top 20 according to their score"
   ]
  },
  {
   "cell_type": "code",
   "execution_count": 51,
   "id": "7899eb47-f7a3-4532-a180-43c1da275a3a",
   "metadata": {},
   "outputs": [
    {
     "name": "stderr",
     "output_type": "stream",
     "text": [
      "Warning message in dotchart(head(sort(x, decreasing = TRUE), n = 20)):\n",
      "\"'x' is neither a vector nor a matrix: using as.numeric(x)\"\n"
     ]
    },
    {
     "data": {
      "image/png": "[encoded data removed]",
      "text/plain": [
       "plot without title"
      ]
     },
     "metadata": {
      "image/png": {
       "height": 420,
       "width": 420
      }
     },
     "output_type": "display_data"
    }
   ],
   "source": [
    "dotchart(head(sort(x, decreasing =TRUE), n = 20))"
   ]
  },
  {
   "cell_type": "markdown",
   "id": "14dc22d4-ddc3-41cc-a91a-cb0025bc0c80",
   "metadata": {},
   "source": [
    "Plot or Graph all the beers that are available in the summer and their ratings"
   ]
  },
  {
   "cell_type": "markdown",
   "id": "8e586edd-ff26-4ce2-8f6b-2424b26f2929",
   "metadata": {},
   "source": [
    "## Question 3"
   ]
  },
  {
   "cell_type": "code",
   "execution_count": 53,
   "id": "bbe0f40d-9655-4653-9ca8-886bdb61cb91",
   "metadata": {},
   "outputs": [
    {
     "data": {
      "text/plain": [
       "  id     name                                 brewery_id state country\n",
       "1 202522 Olde Cogitator                        2199      CA    US     \n",
       "2  82352 Konrads Stout Russian Imperial Stout 18604            NO     \n",
       "3 214879 Scottish Right                       44306      IN    US     \n",
       "4 320009 MegaMeow Imperial Stout               4378      WA    US     \n",
       "5 246438 Peaches-N-Cream                      44617      PA    US     \n",
       "6   8036 World Burp Beer 2002                  3469            JP     \n",
       "  style                   availability          abv  notes                 \n",
       "1 English Oatmeal Stout   Rotating               7.3 No notes at this time.\n",
       "2 Russian Imperial Stout  Rotating              10.4 No notes at this time.\n",
       "3 Scottish Ale            Year-round             4.0 No notes at this time.\n",
       "4 American Imperial Stout Winter                 8.7 Every time this year  \n",
       "5 American Cream Ale      Rotating               5.1 No notes at this time.\n",
       "6 Japanese Rice Lager     Limited (brewed once)  5.5 No notes at this time.\n",
       "  retired\n",
       "1 f      \n",
       "2 f      \n",
       "3 t      \n",
       "4 f      \n",
       "5 f      \n",
       "6 t      "
      ]
     },
     "metadata": {},
     "output_type": "display_data"
    }
   ],
   "source": [
    "head(drinks)"
   ]
  },
  {
   "cell_type": "code",
   "execution_count": 54,
   "id": "e0571d98-0256-422e-af5f-45793cfddfe8",
   "metadata": {},
   "outputs": [],
   "source": [
    "y <- tapply(drinks$abv, drinks$country, mean, na.rm = TRUE)\n",
    "\n",
    "# now break the data up according to the country\n",
    "# then look up the scores for the whole data set\n",
    "# means looking at the score, broken up into their mean"
   ]
  },
  {
   "cell_type": "code",
   "execution_count": 55,
   "id": "9ab14b2f-b3ff-4565-b8b7-a734f9ed3cdf",
   "metadata": {},
   "outputs": [
    {
     "data": {
      "text/plain": [
       "[1] 194"
      ]
     },
     "metadata": {},
     "output_type": "display_data"
    }
   ],
   "source": [
    "length(y)"
   ]
  },
  {
   "cell_type": "code",
   "execution_count": 56,
   "id": "55d08cb4-eb72-4bdf-a878-3abdb4b56497",
   "metadata": {},
   "outputs": [
    {
     "data": {
      "text/plain": [
       "      NL       EE       LK       DK       BE       US \n",
       "7.532012 7.260413 7.189474 7.159598 7.158532 6.722863 "
      ]
     },
     "metadata": {},
     "output_type": "display_data"
    }
   ],
   "source": [
    "head(sort(y, decreasing =TRUE))"
   ]
  },
  {
   "cell_type": "code",
   "execution_count": 57,
   "id": "48cbaa04-599b-48a9-a562-d7705e2e547d",
   "metadata": {},
   "outputs": [
    {
     "data": {
      "text/plain": [
       "      NL       EE       LK       DK       BE       US       JO       PK \n",
       "7.532012 7.260413 7.189474 7.159598 7.158532 6.722863 6.559375 6.500000 \n",
       "      IS       PT       NO       IT       MM       FO       MU       CH \n",
       "6.465049 6.446598 6.403205 6.400460 6.381818 6.340000 6.281818 6.279186 \n",
       "      ES       AD       VI       VC \n",
       "6.251232 6.188889 6.154545 6.150000 "
      ]
     },
     "metadata": {},
     "output_type": "display_data"
    }
   ],
   "source": [
    "head(sort(y, decreasing =TRUE), n = 20)"
   ]
  },
  {
   "cell_type": "code",
   "execution_count": 58,
   "id": "5615e298-06d2-4ced-a4ac-e79fbc1fba99",
   "metadata": {},
   "outputs": [
    {
     "name": "stderr",
     "output_type": "stream",
     "text": [
      "Warning message in dotchart(head(sort(y, decreasing = TRUE), n = 20)):\n",
      "\"'x' is neither a vector nor a matrix: using as.numeric(x)\"\n"
     ]
    },
    {
     "data": {
      "image/png": "[encoded data removed]",
      "text/plain": [
       "plot without title"
      ]
     },
     "metadata": {
      "image/png": {
       "height": 420,
       "width": 420
      }
     },
     "output_type": "display_data"
    }
   ],
   "source": [
    "dotchart(head(sort(y, decreasing =TRUE), n = 20))"
   ]
  },
  {
   "cell_type": "code",
   "execution_count": 59,
   "id": "37bb817b-f0e8-478c-a3df-f17b3831acdb",
   "metadata": {},
   "outputs": [
    {
     "data": {
      "image/png": "[encoded data removed]",
      "text/plain": [
       "plot without title"
      ]
     },
     "metadata": {
      "image/png": {
       "height": 420,
       "width": 420
      }
     },
     "output_type": "display_data"
    }
   ],
   "source": [
    "plot(head(sort(y, decreasing =TRUE), n = 20))"
   ]
  },
  {
   "cell_type": "markdown",
   "id": "47c6229f-35f7-400c-8366-c442baa5cf47",
   "metadata": {},
   "source": [
    "Create a plot of the average rating of beer by country."
   ]
  },
  {
   "cell_type": "markdown",
   "id": "da22f29c-d245-4d2b-9fc1-ca14cb6087d9",
   "metadata": {},
   "source": [
    "## Question 4"
   ]
  },
  {
   "cell_type": "code",
   "execution_count": 60,
   "id": "8cffc767-d1c8-4d64-b7dc-f0d2ee8a80d1",
   "metadata": {},
   "outputs": [
    {
     "data": {
      "text/plain": [
       "[1]  5.5  5.0 11.8  5.2  6.0  6.5"
      ]
     },
     "metadata": {},
     "output_type": "display_data"
    }
   ],
   "source": [
    "head(drinks$abv[drinks$availability == \"Limited (brewed once)\"])\n",
    "# the first six scores for which the availability was limited brewed once"
   ]
  },
  {
   "cell_type": "code",
   "execution_count": 61,
   "id": "2c9d7409-bd98-4659-820e-abf3ac7704c4",
   "metadata": {},
   "outputs": [
    {
     "data": {
      "text/plain": [
       "[1] NA"
      ]
     },
     "metadata": {},
     "output_type": "display_data"
    }
   ],
   "source": [
    "median(drinks$abv[drinks$availability == \"Limited (brewed once)\"])\n",
    "# then take their median"
   ]
  },
  {
   "cell_type": "code",
   "execution_count": 62,
   "id": "a9b7f4e2-cf8b-446e-8d5e-4b4d610f8edc",
   "metadata": {},
   "outputs": [
    {
     "data": {
      "text/plain": [
       "[1] 6.7"
      ]
     },
     "metadata": {},
     "output_type": "display_data"
    }
   ],
   "source": [
    "median(drinks$abv[drinks$availability == \"Limited (brewed once)\"], na.rm=TRUE)"
   ]
  },
  {
   "cell_type": "code",
   "execution_count": 64,
   "id": "a7f8f2e2-ac50-40e7-9d7a-59542f055e75",
   "metadata": {},
   "outputs": [
    {
     "data": {
      "text/plain": [
       "[1] 6"
      ]
     },
     "metadata": {},
     "output_type": "display_data"
    }
   ],
   "source": [
    "median(drinks$abv, na.rm=TRUE)\n",
    "# median of the whole data set"
   ]
  },
  {
   "cell_type": "code",
   "execution_count": 65,
   "id": "dcf4ebdb-21f0-40c2-a43d-b26243334662",
   "metadata": {},
   "outputs": [
    {
     "data": {
      "text/plain": [
       "\n",
       "                 Fall Limited (brewed once)              Rotating \n",
       "                 8221                106854                146784 \n",
       "               Spring                Summer                Winter \n",
       "                 4635                  7110                  8721 \n",
       "           Year-round \n",
       "                76548 "
      ]
     },
     "metadata": {},
     "output_type": "display_data"
    }
   ],
   "source": [
    "table(drinks$availability)"
   ]
  },
  {
   "cell_type": "code",
   "execution_count": 66,
   "id": "de2c5b43-6b02-4e49-9e2b-7737142573de",
   "metadata": {},
   "outputs": [
    {
     "data": {
      "text/plain": [
       "[1] \"Rotating\"              \"Year-round\"            \"Winter\"               \n",
       "[4] \"Limited (brewed once)\" \"Spring\"                \"Summer\"               \n",
       "[7] \"Fall\"                 "
      ]
     },
     "metadata": {},
     "output_type": "display_data"
    }
   ],
   "source": [
    "unique(drinks$availability)"
   ]
  },
  {
   "cell_type": "markdown",
   "id": "0d552245-b4d6-474a-9cc9-fa7b8e674d55",
   "metadata": {},
   "source": [
    "Do limited runs of beer have a greater median rating than all others? (consider limited to be any beer that has the word Limited in the availablity column) Yes\n",
    "\n",
    "Use the unique function to investigate the availablity column. Why are there different labels that are technically the same?\n",
    "From the listed columns the one of rotating is more or less also what could possibly be available in any season of the year and also year round is available all throught the year, but for pertinent reasons like Fall, Winter and Summer are only available for their specified season while the limited from the name is so limited."
   ]
  },
  {
   "cell_type": "markdown",
   "id": "88c9cdac-3e92-498f-83fa-e089bfc44ac8",
   "metadata": {},
   "source": [
    "## Question 5"
   ]
  },
  {
   "cell_type": "code",
   "execution_count": null,
   "id": "d370d7c9-06db-42b9-b75f-240481a5c491",
   "metadata": {},
   "outputs": [],
   "source": [
    "# code here"
   ]
  },
  {
   "cell_type": "markdown",
   "id": "9fbf00fb-2418-460f-ae94-2a32b0c28952",
   "metadata": {},
   "source": [
    "Markdown notes and sentences and analysis written here."
   ]
  },
  {
   "cell_type": "markdown",
   "id": "f76442d6-d02e-4f26-b9d6-c3183e1d6929",
   "metadata": {},
   "source": [
    "## Pledge\n",
    "\n",
    "By submitting this work I hereby pledge that this is my own, personal work. I've acknowledged in the designated place at the top of this file all sources that I used to complete said work, including but not limited to: online resources, books, and electronic communications. I've noted all collaboration with fellow students and/or TA's. I did not copy or plagiarize another's work.\n",
    "\n",
    "> As a Boilermaker pursuing academic excellence, I pledge to be honest and true in all that I do. Accountable together – We are Purdue."
   ]
  }
 ],
 "metadata": {
  "kernelspec": {
   "display_name": "f2022-s2023-r",
   "language": "R",
   "name": "f2022-s2023-r"
  },
  "language_info": {
   "codemirror_mode": "r",
   "file_extension": ".r",
   "mimetype": "text/x-r-source",
   "name": "R",
   "pygments_lexer": "r",
   "version": "4.2.1"
  }
 },
 "nbformat": 4,
 "nbformat_minor": 5
}
