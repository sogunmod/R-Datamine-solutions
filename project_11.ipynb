{
 "cells": [
  {
   "cell_type": "markdown",
   "id": "be02a957-7133-4d02-818e-fedeb3cecb05",
   "metadata": {},
   "source": [
    "# Project 11 -- SEYI OGUNMODEDE"
   ]
  },
  {
   "cell_type": "markdown",
   "id": "a1228853-dd19-4ab2-89e0-0394d7d72de3",
   "metadata": {},
   "source": [
    "**INSTRUCTOR:** Dr. Mark Daniel\n",
    "\n",
    "- Help with videos in figuring out how to write a function.\n",
    "    \n",
    "**Collaboration:** \n",
    "    \n"
   ]
  },
  {
   "cell_type": "markdown",
   "id": "6180e742-8e39-4698-98ff-5b00c8cf8ea0",
   "metadata": {},
   "source": [
    "## Question 1"
   ]
  },
  {
   "cell_type": "code",
   "execution_count": 1,
   "id": "49445606-d363-41b4-b479-e319a9a84c01",
   "metadata": {},
   "outputs": [],
   "source": [
    "options(jupyter.rich_display = F)"
   ]
  },
  {
   "cell_type": "code",
   "execution_count": 2,
   "id": "115170be-d9d9-42a4-98a1-9e033029f3e4",
   "metadata": {},
   "outputs": [],
   "source": [
    "options(repr.matrix.max.cols=100, repr.matrix.max.rows=200)"
   ]
  },
  {
   "cell_type": "code",
   "execution_count": 3,
   "id": "8a81927b-133a-4841-904c-82f0db7dead2",
   "metadata": {},
   "outputs": [],
   "source": [
    "library(data.table)"
   ]
  },
  {
   "cell_type": "code",
   "execution_count": 4,
   "id": "ddc196d9-610a-4baa-920f-b04213dae019",
   "metadata": {},
   "outputs": [],
   "source": [
    "county<- fread(\"/anvil/projects/tdm/data/zillow/County_time_series.csv\")\n",
    "# i input that data set into the variables called county"
   ]
  },
  {
   "cell_type": "code",
   "execution_count": 5,
   "id": "fac0bec8-b807-4ff2-bbb4-fe58bbfa3c93",
   "metadata": {},
   "outputs": [
    {
     "data": {
      "text/plain": [
       "[1] 518791     82"
      ]
     },
     "metadata": {},
     "output_type": "display_data"
    }
   ],
   "source": [
    "dim(county)\n",
    "# to see what it contain\n",
    "# it has 518791 rows     82 columns"
   ]
  },
  {
   "cell_type": "code",
   "execution_count": 6,
   "id": "1e432d24-fa23-4af6-ba82-23ba46e775bb",
   "metadata": {},
   "outputs": [
    {
     "name": "stderr",
     "output_type": "stream",
     "text": [
      "Warning message in system(\"timedatectl\", intern = TRUE):\n",
      "\"running command 'timedatectl' had status 1\"\n",
      "\n",
      "Attaching package: 'lubridate'\n",
      "\n",
      "\n",
      "The following objects are masked from 'package:data.table':\n",
      "\n",
      "    hour, isoweek, mday, minute, month, quarter, second, wday, week,\n",
      "    yday, year\n",
      "\n",
      "\n",
      "The following objects are masked from 'package:base':\n",
      "\n",
      "    date, intersect, setdiff, union\n",
      "\n",
      "\n"
     ]
    }
   ],
   "source": [
    "library(lubridate)\n",
    "# not an error but telling us the various varriable that are in it"
   ]
  },
  {
   "cell_type": "code",
   "execution_count": 7,
   "id": "2c1d3ac3-5ed1-45a2-8637-234c7973d1fb",
   "metadata": {},
   "outputs": [
    {
     "data": {
      "text/plain": [
       "  Date       RegionName DaysOnZillow_AllHomes\n",
       "1 1996-04-30 10001      NA                   \n",
       "2 1996-04-30 10003      NA                   \n",
       "3 1996-04-30  1003      NA                   \n",
       "4 1996-04-30  1009      NA                   \n",
       "5 1996-04-30  1017      NA                   \n",
       "6 1996-04-30  1051      NA                   \n",
       "  InventorySeasonallyAdjusted_AllHomes InventoryRaw_AllHomes\n",
       "1 NA                                   NA                   \n",
       "2 NA                                   NA                   \n",
       "3 NA                                   NA                   \n",
       "4 NA                                   NA                   \n",
       "5 NA                                   NA                   \n",
       "6 NA                                   NA                   \n",
       "  MedianListingPricePerSqft_1Bedroom MedianListingPricePerSqft_2Bedroom\n",
       "1 NA                                 NA                                \n",
       "2 NA                                 NA                                \n",
       "3 NA                                 NA                                \n",
       "4 NA                                 NA                                \n",
       "5 NA                                 NA                                \n",
       "6 NA                                 NA                                \n",
       "  MedianListingPricePerSqft_3Bedroom MedianListingPricePerSqft_4Bedroom\n",
       "1 NA                                 NA                                \n",
       "2 NA                                 NA                                \n",
       "3 NA                                 NA                                \n",
       "4 NA                                 NA                                \n",
       "5 NA                                 NA                                \n",
       "6 NA                                 NA                                \n",
       "  MedianListingPricePerSqft_5BedroomOrMore MedianListingPricePerSqft_AllHomes\n",
       "1 NA                                       NA                                \n",
       "2 NA                                       NA                                \n",
       "3 NA                                       NA                                \n",
       "4 NA                                       NA                                \n",
       "5 NA                                       NA                                \n",
       "6 NA                                       NA                                \n",
       "  MedianListingPricePerSqft_CondoCoop MedianListingPricePerSqft_DuplexTriplex\n",
       "1 NA                                  NA                                     \n",
       "2 NA                                  NA                                     \n",
       "3 NA                                  NA                                     \n",
       "4 NA                                  NA                                     \n",
       "5 NA                                  NA                                     \n",
       "6 NA                                  NA                                     \n",
       "  MedianListingPricePerSqft_SingleFamilyResidence MedianListingPrice_1Bedroom\n",
       "1 NA                                              NA                         \n",
       "2 NA                                              NA                         \n",
       "3 NA                                              NA                         \n",
       "4 NA                                              NA                         \n",
       "5 NA                                              NA                         \n",
       "6 NA                                              NA                         \n",
       "  MedianListingPrice_2Bedroom MedianListingPrice_3Bedroom\n",
       "1 NA                          NA                         \n",
       "2 NA                          NA                         \n",
       "3 NA                          NA                         \n",
       "4 NA                          NA                         \n",
       "5 NA                          NA                         \n",
       "6 NA                          NA                         \n",
       "  MedianListingPrice_4Bedroom MedianListingPrice_5BedroomOrMore\n",
       "1 NA                          NA                               \n",
       "2 NA                          NA                               \n",
       "3 NA                          NA                               \n",
       "4 NA                          NA                               \n",
       "5 NA                          NA                               \n",
       "6 NA                          NA                               \n",
       "  MedianListingPrice_AllHomes MedianListingPrice_CondoCoop\n",
       "1 NA                          NA                          \n",
       "2 NA                          NA                          \n",
       "3 NA                          NA                          \n",
       "4 NA                          NA                          \n",
       "5 NA                          NA                          \n",
       "6 NA                          NA                          \n",
       "  MedianListingPrice_DuplexTriplex MedianListingPrice_SingleFamilyResidence\n",
       "1 NA                               NA                                      \n",
       "2 NA                               NA                                      \n",
       "3 NA                               NA                                      \n",
       "4 NA                               NA                                      \n",
       "5 NA                               NA                                      \n",
       "6 NA                               NA                                      \n",
       "  MedianPctOfPriceReduction_AllHomes MedianPctOfPriceReduction_CondoCoop\n",
       "1 NA                                 NA                                 \n",
       "2 NA                                 NA                                 \n",
       "3 NA                                 NA                                 \n",
       "4 NA                                 NA                                 \n",
       "5 NA                                 NA                                 \n",
       "6 NA                                 NA                                 \n",
       "  MedianPctOfPriceReduction_SingleFamilyResidence MedianPriceCutDollar_AllHomes\n",
       "1 NA                                              NA                           \n",
       "2 NA                                              NA                           \n",
       "3 NA                                              NA                           \n",
       "4 NA                                              NA                           \n",
       "5 NA                                              NA                           \n",
       "6 NA                                              NA                           \n",
       "  MedianPriceCutDollar_CondoCoop MedianPriceCutDollar_SingleFamilyResidence\n",
       "1 NA                             NA                                        \n",
       "2 NA                             NA                                        \n",
       "3 NA                             NA                                        \n",
       "4 NA                             NA                                        \n",
       "5 NA                             NA                                        \n",
       "6 NA                             NA                                        \n",
       "  MedianRentalPricePerSqft_1Bedroom MedianRentalPricePerSqft_2Bedroom\n",
       "1 NA                                NA                               \n",
       "2 NA                                NA                               \n",
       "3 NA                                NA                               \n",
       "4 NA                                NA                               \n",
       "5 NA                                NA                               \n",
       "6 NA                                NA                               \n",
       "  MedianRentalPricePerSqft_3Bedroom MedianRentalPricePerSqft_4Bedroom\n",
       "1 NA                                NA                               \n",
       "2 NA                                NA                               \n",
       "3 NA                                NA                               \n",
       "4 NA                                NA                               \n",
       "5 NA                                NA                               \n",
       "6 NA                                NA                               \n",
       "  MedianRentalPricePerSqft_5BedroomOrMore MedianRentalPricePerSqft_AllHomes\n",
       "1 NA                                      NA                               \n",
       "2 NA                                      NA                               \n",
       "3 NA                                      NA                               \n",
       "4 NA                                      NA                               \n",
       "5 NA                                      NA                               \n",
       "6 NA                                      NA                               \n",
       "  MedianRentalPricePerSqft_CondoCoop MedianRentalPricePerSqft_DuplexTriplex\n",
       "1 NA                                 NA                                    \n",
       "2 NA                                 NA                                    \n",
       "3 NA                                 NA                                    \n",
       "4 NA                                 NA                                    \n",
       "5 NA                                 NA                                    \n",
       "6 NA                                 NA                                    \n",
       "  MedianRentalPricePerSqft_MultiFamilyResidence5PlusUnits\n",
       "1 NA                                                     \n",
       "2 NA                                                     \n",
       "3 NA                                                     \n",
       "4 NA                                                     \n",
       "5 NA                                                     \n",
       "6 NA                                                     \n",
       "  MedianRentalPricePerSqft_SingleFamilyResidence\n",
       "1 NA                                            \n",
       "2 NA                                            \n",
       "3 NA                                            \n",
       "4 NA                                            \n",
       "5 NA                                            \n",
       "6 NA                                            \n",
       "  MedianRentalPricePerSqft_Studio MedianRentalPrice_1Bedroom\n",
       "1 NA                              NA                        \n",
       "2 NA                              NA                        \n",
       "3 NA                              NA                        \n",
       "4 NA                              NA                        \n",
       "5 NA                              NA                        \n",
       "6 NA                              NA                        \n",
       "  MedianRentalPrice_2Bedroom MedianRentalPrice_3Bedroom\n",
       "1 NA                         NA                        \n",
       "2 NA                         NA                        \n",
       "3 NA                         NA                        \n",
       "4 NA                         NA                        \n",
       "5 NA                         NA                        \n",
       "6 NA                         NA                        \n",
       "  MedianRentalPrice_4Bedroom MedianRentalPrice_5BedroomOrMore\n",
       "1 NA                         NA                              \n",
       "2 NA                         NA                              \n",
       "3 NA                         NA                              \n",
       "4 NA                         NA                              \n",
       "5 NA                         NA                              \n",
       "6 NA                         NA                              \n",
       "  MedianRentalPrice_AllHomes MedianRentalPrice_CondoCoop\n",
       "1 NA                         NA                         \n",
       "2 NA                         NA                         \n",
       "3 NA                         NA                         \n",
       "4 NA                         NA                         \n",
       "5 NA                         NA                         \n",
       "6 NA                         NA                         \n",
       "  MedianRentalPrice_DuplexTriplex\n",
       "1 NA                             \n",
       "2 NA                             \n",
       "3 NA                             \n",
       "4 NA                             \n",
       "5 NA                             \n",
       "6 NA                             \n",
       "  MedianRentalPrice_MultiFamilyResidence5PlusUnits\n",
       "1 NA                                              \n",
       "2 NA                                              \n",
       "3 NA                                              \n",
       "4 NA                                              \n",
       "5 NA                                              \n",
       "6 NA                                              \n",
       "  MedianRentalPrice_SingleFamilyResidence MedianRentalPrice_Studio\n",
       "1 NA                                      NA                      \n",
       "2 NA                                      NA                      \n",
       "3 NA                                      NA                      \n",
       "4 NA                                      NA                      \n",
       "5 NA                                      NA                      \n",
       "6 NA                                      NA                      \n",
       "  ZHVIPerSqft_AllHomes PctOfHomesDecreasingInValues_AllHomes\n",
       "1 58                   NA                                   \n",
       "2 76                   NA                                   \n",
       "3 62                   NA                                   \n",
       "4 44                   NA                                   \n",
       "5 49                   NA                                   \n",
       "6 63                   NA                                   \n",
       "  PctOfHomesIncreasingInValues_AllHomes PctOfHomesSellingForGain_AllHomes\n",
       "1 NA                                    NA                               \n",
       "2 NA                                    NA                               \n",
       "3 NA                                    NA                               \n",
       "4 NA                                    NA                               \n",
       "5 NA                                    NA                               \n",
       "6 NA                                    NA                               \n",
       "  PctOfHomesSellingForLoss_AllHomes\n",
       "1 NA                               \n",
       "2 NA                               \n",
       "3 NA                               \n",
       "4 NA                               \n",
       "5 NA                               \n",
       "6 NA                               \n",
       "  PctOfListingsWithPriceReductionsSeasAdj_AllHomes\n",
       "1 NA                                              \n",
       "2 NA                                              \n",
       "3 NA                                              \n",
       "4 NA                                              \n",
       "5 NA                                              \n",
       "6 NA                                              \n",
       "  PctOfListingsWithPriceReductionsSeasAdj_CondoCoop\n",
       "1 NA                                               \n",
       "2 NA                                               \n",
       "3 NA                                               \n",
       "4 NA                                               \n",
       "5 NA                                               \n",
       "6 NA                                               \n",
       "  PctOfListingsWithPriceReductionsSeasAdj_SingleFamilyResidence\n",
       "1 NA                                                           \n",
       "2 NA                                                           \n",
       "3 NA                                                           \n",
       "4 NA                                                           \n",
       "5 NA                                                           \n",
       "6 NA                                                           \n",
       "  PctOfListingsWithPriceReductions_AllHomes\n",
       "1 NA                                       \n",
       "2 NA                                       \n",
       "3 NA                                       \n",
       "4 NA                                       \n",
       "5 NA                                       \n",
       "6 NA                                       \n",
       "  PctOfListingsWithPriceReductions_CondoCoop\n",
       "1 NA                                        \n",
       "2 NA                                        \n",
       "3 NA                                        \n",
       "4 NA                                        \n",
       "5 NA                                        \n",
       "6 NA                                        \n",
       "  PctOfListingsWithPriceReductions_SingleFamilyResidence\n",
       "1 NA                                                    \n",
       "2 NA                                                    \n",
       "3 NA                                                    \n",
       "4 NA                                                    \n",
       "5 NA                                                    \n",
       "6 NA                                                    \n",
       "  PriceToRentRatio_AllHomes Sale_Counts Sale_Counts_Seas_Adj Sale_Prices\n",
       "1 NA                        NA          NA                   NA         \n",
       "2 NA                        NA          NA                   NA         \n",
       "3 NA                        NA          NA                   NA         \n",
       "4 NA                        NA          NA                   NA         \n",
       "5 NA                        NA          NA                   NA         \n",
       "6 NA                        NA          NA                   NA         \n",
       "  ZHVI_1bedroom ZHVI_2bedroom ZHVI_3bedroom ZHVI_4bedroom ZHVI_5BedroomOrMore\n",
       "1    NA         69200          88700        125900        135600             \n",
       "2 96700         93000         106300        167400            NA             \n",
       "3    NA         97700         103100        162400            NA             \n",
       "4    NA            NA             NA            NA            NA             \n",
       "5    NA            NA             NA            NA            NA             \n",
       "6    NA            NA         100600        167200            NA             \n",
       "  ZHVI_AllHomes ZHVI_BottomTier ZHVI_CondoCoop ZHVI_MiddleTier\n",
       "1  85700        65600           NA              85700         \n",
       "2 116800        81900           NA             116800         \n",
       "3 110600        70600           NA             110600         \n",
       "4  70000           NA           NA              70000         \n",
       "5     NA           NA           NA                 NA         \n",
       "6     NA           NA           NA                 NA         \n",
       "  ZHVI_SingleFamilyResidence ZHVI_TopTier ZRI_AllHomes\n",
       "1  86000                     129700       NA          \n",
       "2 116900                     181400       NA          \n",
       "3 106800                     192300       NA          \n",
       "4  70000                     123500       NA          \n",
       "5     NA                         NA       NA          \n",
       "6  89400                         NA       NA          \n",
       "  ZRI_AllHomesPlusMultifamily ZriPerSqft_AllHomes\n",
       "1 NA                          NA                 \n",
       "2 NA                          NA                 \n",
       "3 NA                          NA                 \n",
       "4 NA                          NA                 \n",
       "5 NA                          NA                 \n",
       "6 NA                          NA                 \n",
       "  Zri_MultiFamilyResidenceRental Zri_SingleFamilyResidenceRental\n",
       "1 NA                             NA                             \n",
       "2 NA                             NA                             \n",
       "3 NA                             NA                             \n",
       "4 NA                             NA                             \n",
       "5 NA                             NA                             \n",
       "6 NA                             NA                             "
      ]
     },
     "metadata": {},
     "output_type": "display_data"
    }
   ],
   "source": [
    "head(county)"
   ]
  },
  {
   "cell_type": "code",
   "execution_count": 8,
   "id": "b35f676f-6255-4aad-a533-75861b836a41",
   "metadata": {},
   "outputs": [
    {
     "data": {
      "text/plain": [
       "[1] \"1996-04-30\" \"1996-04-30\" \"1996-04-30\" \"1996-04-30\" \"1996-04-30\"\n",
       "[6] \"1996-04-30\""
      ]
     },
     "metadata": {},
     "output_type": "display_data"
    }
   ],
   "source": [
    "head(county$Date)\n",
    "#it has the format in year, month and day. "
   ]
  },
  {
   "cell_type": "code",
   "execution_count": 9,
   "id": "957855de-c552-42da-af20-455fbacebe31",
   "metadata": {},
   "outputs": [
    {
     "data": {
      "text/plain": [
       "[1] 4 4 4 4 4 4"
      ]
     },
     "metadata": {},
     "output_type": "display_data"
    }
   ],
   "source": [
    "month(head(county$Date))\n",
    "# i can go in and pull off the month"
   ]
  },
  {
   "cell_type": "code",
   "execution_count": 10,
   "id": "a259a86a-59ef-46b7-82cd-010c58524294",
   "metadata": {},
   "outputs": [
    {
     "data": {
      "text/plain": [
       "[1] 30 30 30 30 30 30"
      ]
     },
     "metadata": {},
     "output_type": "display_data"
    }
   ],
   "source": [
    "day(head(county$Date))\n",
    "# i can go in and pull off the day"
   ]
  },
  {
   "cell_type": "code",
   "execution_count": 11,
   "id": "a3623cf6-d60b-42e6-b26f-b1b16619afe4",
   "metadata": {},
   "outputs": [
    {
     "data": {
      "text/plain": [
       "[1] 1996 1996 1996 1996 1996 1996"
      ]
     },
     "metadata": {},
     "output_type": "display_data"
    }
   ],
   "source": [
    "year(head(county$Date))\n",
    "# i can go in and pull off the day"
   ]
  },
  {
   "cell_type": "code",
   "execution_count": 12,
   "id": "6edc8fb1-ea5d-4984-af68-b139853efec0",
   "metadata": {},
   "outputs": [
    {
     "data": {
      "text/plain": [
       "[1] \"2017-12-31\" \"2017-12-31\" \"2017-12-31\" \"2017-12-31\" \"2017-12-31\"\n",
       "[6] \"2017-12-31\""
      ]
     },
     "metadata": {},
     "output_type": "display_data"
    }
   ],
   "source": [
    "tail(county$Date)\n",
    "# i can check with the tail either way."
   ]
  },
  {
   "cell_type": "code",
   "execution_count": 13,
   "id": "4358b37e-84bf-418c-86f7-6d9f8e9aed2f",
   "metadata": {},
   "outputs": [
    {
     "data": {
      "text/plain": [
       "[1] 12 12 12 12 12 12"
      ]
     },
     "metadata": {},
     "output_type": "display_data"
    },
    {
     "data": {
      "text/plain": [
       "[1] 31 31 31 31 31 31"
      ]
     },
     "metadata": {},
     "output_type": "display_data"
    },
    {
     "data": {
      "text/plain": [
       "[1] 2017 2017 2017 2017 2017 2017"
      ]
     },
     "metadata": {},
     "output_type": "display_data"
    }
   ],
   "source": [
    "month(tail(county$Date))\n",
    "day(tail(county$Date))\n",
    "year(tail(county$Date))\n",
    "# to check with the tail, just to verify"
   ]
  },
  {
   "cell_type": "code",
   "execution_count": 14,
   "id": "73222784-ca27-44d7-ad93-e802dc5a8822",
   "metadata": {},
   "outputs": [],
   "source": [
    "county$month <- month(county$Date)\n",
    "# all of the date column is converted to month\n",
    "# and it is save in a new column called month and my data frame"
   ]
  },
  {
   "cell_type": "code",
   "execution_count": 15,
   "id": "d0e0096d-f401-496a-8249-96aa8ec1236b",
   "metadata": {},
   "outputs": [],
   "source": [
    "county$day <- day(county$Date)\n",
    "# i will create the same for day"
   ]
  },
  {
   "cell_type": "code",
   "execution_count": 16,
   "id": "c6a54db8-c8c6-4cc5-bcff-e7a099918e12",
   "metadata": {},
   "outputs": [],
   "source": [
    "county$year <- year(county$Date)"
   ]
  },
  {
   "cell_type": "code",
   "execution_count": 17,
   "id": "9f85ad57-5123-41d1-bb71-a7ef2169cb4c",
   "metadata": {},
   "outputs": [
    {
     "data": {
      "text/plain": [
       "  Date       RegionName DaysOnZillow_AllHomes\n",
       "1 1996-04-30 10001      NA                   \n",
       "2 1996-04-30 10003      NA                   \n",
       "3 1996-04-30  1003      NA                   \n",
       "4 1996-04-30  1009      NA                   \n",
       "5 1996-04-30  1017      NA                   \n",
       "6 1996-04-30  1051      NA                   \n",
       "  InventorySeasonallyAdjusted_AllHomes InventoryRaw_AllHomes\n",
       "1 NA                                   NA                   \n",
       "2 NA                                   NA                   \n",
       "3 NA                                   NA                   \n",
       "4 NA                                   NA                   \n",
       "5 NA                                   NA                   \n",
       "6 NA                                   NA                   \n",
       "  MedianListingPricePerSqft_1Bedroom MedianListingPricePerSqft_2Bedroom\n",
       "1 NA                                 NA                                \n",
       "2 NA                                 NA                                \n",
       "3 NA                                 NA                                \n",
       "4 NA                                 NA                                \n",
       "5 NA                                 NA                                \n",
       "6 NA                                 NA                                \n",
       "  MedianListingPricePerSqft_3Bedroom MedianListingPricePerSqft_4Bedroom\n",
       "1 NA                                 NA                                \n",
       "2 NA                                 NA                                \n",
       "3 NA                                 NA                                \n",
       "4 NA                                 NA                                \n",
       "5 NA                                 NA                                \n",
       "6 NA                                 NA                                \n",
       "  MedianListingPricePerSqft_5BedroomOrMore MedianListingPricePerSqft_AllHomes\n",
       "1 NA                                       NA                                \n",
       "2 NA                                       NA                                \n",
       "3 NA                                       NA                                \n",
       "4 NA                                       NA                                \n",
       "5 NA                                       NA                                \n",
       "6 NA                                       NA                                \n",
       "  MedianListingPricePerSqft_CondoCoop MedianListingPricePerSqft_DuplexTriplex\n",
       "1 NA                                  NA                                     \n",
       "2 NA                                  NA                                     \n",
       "3 NA                                  NA                                     \n",
       "4 NA                                  NA                                     \n",
       "5 NA                                  NA                                     \n",
       "6 NA                                  NA                                     \n",
       "  MedianListingPricePerSqft_SingleFamilyResidence MedianListingPrice_1Bedroom\n",
       "1 NA                                              NA                         \n",
       "2 NA                                              NA                         \n",
       "3 NA                                              NA                         \n",
       "4 NA                                              NA                         \n",
       "5 NA                                              NA                         \n",
       "6 NA                                              NA                         \n",
       "  MedianListingPrice_2Bedroom MedianListingPrice_3Bedroom\n",
       "1 NA                          NA                         \n",
       "2 NA                          NA                         \n",
       "3 NA                          NA                         \n",
       "4 NA                          NA                         \n",
       "5 NA                          NA                         \n",
       "6 NA                          NA                         \n",
       "  MedianListingPrice_4Bedroom MedianListingPrice_5BedroomOrMore\n",
       "1 NA                          NA                               \n",
       "2 NA                          NA                               \n",
       "3 NA                          NA                               \n",
       "4 NA                          NA                               \n",
       "5 NA                          NA                               \n",
       "6 NA                          NA                               \n",
       "  MedianListingPrice_AllHomes MedianListingPrice_CondoCoop\n",
       "1 NA                          NA                          \n",
       "2 NA                          NA                          \n",
       "3 NA                          NA                          \n",
       "4 NA                          NA                          \n",
       "5 NA                          NA                          \n",
       "6 NA                          NA                          \n",
       "  MedianListingPrice_DuplexTriplex MedianListingPrice_SingleFamilyResidence\n",
       "1 NA                               NA                                      \n",
       "2 NA                               NA                                      \n",
       "3 NA                               NA                                      \n",
       "4 NA                               NA                                      \n",
       "5 NA                               NA                                      \n",
       "6 NA                               NA                                      \n",
       "  MedianPctOfPriceReduction_AllHomes MedianPctOfPriceReduction_CondoCoop\n",
       "1 NA                                 NA                                 \n",
       "2 NA                                 NA                                 \n",
       "3 NA                                 NA                                 \n",
       "4 NA                                 NA                                 \n",
       "5 NA                                 NA                                 \n",
       "6 NA                                 NA                                 \n",
       "  MedianPctOfPriceReduction_SingleFamilyResidence MedianPriceCutDollar_AllHomes\n",
       "1 NA                                              NA                           \n",
       "2 NA                                              NA                           \n",
       "3 NA                                              NA                           \n",
       "4 NA                                              NA                           \n",
       "5 NA                                              NA                           \n",
       "6 NA                                              NA                           \n",
       "  MedianPriceCutDollar_CondoCoop MedianPriceCutDollar_SingleFamilyResidence\n",
       "1 NA                             NA                                        \n",
       "2 NA                             NA                                        \n",
       "3 NA                             NA                                        \n",
       "4 NA                             NA                                        \n",
       "5 NA                             NA                                        \n",
       "6 NA                             NA                                        \n",
       "  MedianRentalPricePerSqft_1Bedroom MedianRentalPricePerSqft_2Bedroom\n",
       "1 NA                                NA                               \n",
       "2 NA                                NA                               \n",
       "3 NA                                NA                               \n",
       "4 NA                                NA                               \n",
       "5 NA                                NA                               \n",
       "6 NA                                NA                               \n",
       "  MedianRentalPricePerSqft_3Bedroom MedianRentalPricePerSqft_4Bedroom\n",
       "1 NA                                NA                               \n",
       "2 NA                                NA                               \n",
       "3 NA                                NA                               \n",
       "4 NA                                NA                               \n",
       "5 NA                                NA                               \n",
       "6 NA                                NA                               \n",
       "  MedianRentalPricePerSqft_5BedroomOrMore MedianRentalPricePerSqft_AllHomes\n",
       "1 NA                                      NA                               \n",
       "2 NA                                      NA                               \n",
       "3 NA                                      NA                               \n",
       "4 NA                                      NA                               \n",
       "5 NA                                      NA                               \n",
       "6 NA                                      NA                               \n",
       "  MedianRentalPricePerSqft_CondoCoop MedianRentalPricePerSqft_DuplexTriplex\n",
       "1 NA                                 NA                                    \n",
       "2 NA                                 NA                                    \n",
       "3 NA                                 NA                                    \n",
       "4 NA                                 NA                                    \n",
       "5 NA                                 NA                                    \n",
       "6 NA                                 NA                                    \n",
       "  MedianRentalPricePerSqft_MultiFamilyResidence5PlusUnits\n",
       "1 NA                                                     \n",
       "2 NA                                                     \n",
       "3 NA                                                     \n",
       "4 NA                                                     \n",
       "5 NA                                                     \n",
       "6 NA                                                     \n",
       "  MedianRentalPricePerSqft_SingleFamilyResidence\n",
       "1 NA                                            \n",
       "2 NA                                            \n",
       "3 NA                                            \n",
       "4 NA                                            \n",
       "5 NA                                            \n",
       "6 NA                                            \n",
       "  MedianRentalPricePerSqft_Studio MedianRentalPrice_1Bedroom\n",
       "1 NA                              NA                        \n",
       "2 NA                              NA                        \n",
       "3 NA                              NA                        \n",
       "4 NA                              NA                        \n",
       "5 NA                              NA                        \n",
       "6 NA                              NA                        \n",
       "  MedianRentalPrice_2Bedroom MedianRentalPrice_3Bedroom\n",
       "1 NA                         NA                        \n",
       "2 NA                         NA                        \n",
       "3 NA                         NA                        \n",
       "4 NA                         NA                        \n",
       "5 NA                         NA                        \n",
       "6 NA                         NA                        \n",
       "  MedianRentalPrice_4Bedroom MedianRentalPrice_5BedroomOrMore\n",
       "1 NA                         NA                              \n",
       "2 NA                         NA                              \n",
       "3 NA                         NA                              \n",
       "4 NA                         NA                              \n",
       "5 NA                         NA                              \n",
       "6 NA                         NA                              \n",
       "  MedianRentalPrice_AllHomes MedianRentalPrice_CondoCoop\n",
       "1 NA                         NA                         \n",
       "2 NA                         NA                         \n",
       "3 NA                         NA                         \n",
       "4 NA                         NA                         \n",
       "5 NA                         NA                         \n",
       "6 NA                         NA                         \n",
       "  MedianRentalPrice_DuplexTriplex\n",
       "1 NA                             \n",
       "2 NA                             \n",
       "3 NA                             \n",
       "4 NA                             \n",
       "5 NA                             \n",
       "6 NA                             \n",
       "  MedianRentalPrice_MultiFamilyResidence5PlusUnits\n",
       "1 NA                                              \n",
       "2 NA                                              \n",
       "3 NA                                              \n",
       "4 NA                                              \n",
       "5 NA                                              \n",
       "6 NA                                              \n",
       "  MedianRentalPrice_SingleFamilyResidence MedianRentalPrice_Studio\n",
       "1 NA                                      NA                      \n",
       "2 NA                                      NA                      \n",
       "3 NA                                      NA                      \n",
       "4 NA                                      NA                      \n",
       "5 NA                                      NA                      \n",
       "6 NA                                      NA                      \n",
       "  ZHVIPerSqft_AllHomes PctOfHomesDecreasingInValues_AllHomes\n",
       "1 58                   NA                                   \n",
       "2 76                   NA                                   \n",
       "3 62                   NA                                   \n",
       "4 44                   NA                                   \n",
       "5 49                   NA                                   \n",
       "6 63                   NA                                   \n",
       "  PctOfHomesIncreasingInValues_AllHomes PctOfHomesSellingForGain_AllHomes\n",
       "1 NA                                    NA                               \n",
       "2 NA                                    NA                               \n",
       "3 NA                                    NA                               \n",
       "4 NA                                    NA                               \n",
       "5 NA                                    NA                               \n",
       "6 NA                                    NA                               \n",
       "  PctOfHomesSellingForLoss_AllHomes\n",
       "1 NA                               \n",
       "2 NA                               \n",
       "3 NA                               \n",
       "4 NA                               \n",
       "5 NA                               \n",
       "6 NA                               \n",
       "  PctOfListingsWithPriceReductionsSeasAdj_AllHomes\n",
       "1 NA                                              \n",
       "2 NA                                              \n",
       "3 NA                                              \n",
       "4 NA                                              \n",
       "5 NA                                              \n",
       "6 NA                                              \n",
       "  PctOfListingsWithPriceReductionsSeasAdj_CondoCoop\n",
       "1 NA                                               \n",
       "2 NA                                               \n",
       "3 NA                                               \n",
       "4 NA                                               \n",
       "5 NA                                               \n",
       "6 NA                                               \n",
       "  PctOfListingsWithPriceReductionsSeasAdj_SingleFamilyResidence\n",
       "1 NA                                                           \n",
       "2 NA                                                           \n",
       "3 NA                                                           \n",
       "4 NA                                                           \n",
       "5 NA                                                           \n",
       "6 NA                                                           \n",
       "  PctOfListingsWithPriceReductions_AllHomes\n",
       "1 NA                                       \n",
       "2 NA                                       \n",
       "3 NA                                       \n",
       "4 NA                                       \n",
       "5 NA                                       \n",
       "6 NA                                       \n",
       "  PctOfListingsWithPriceReductions_CondoCoop\n",
       "1 NA                                        \n",
       "2 NA                                        \n",
       "3 NA                                        \n",
       "4 NA                                        \n",
       "5 NA                                        \n",
       "6 NA                                        \n",
       "  PctOfListingsWithPriceReductions_SingleFamilyResidence\n",
       "1 NA                                                    \n",
       "2 NA                                                    \n",
       "3 NA                                                    \n",
       "4 NA                                                    \n",
       "5 NA                                                    \n",
       "6 NA                                                    \n",
       "  PriceToRentRatio_AllHomes Sale_Counts Sale_Counts_Seas_Adj Sale_Prices\n",
       "1 NA                        NA          NA                   NA         \n",
       "2 NA                        NA          NA                   NA         \n",
       "3 NA                        NA          NA                   NA         \n",
       "4 NA                        NA          NA                   NA         \n",
       "5 NA                        NA          NA                   NA         \n",
       "6 NA                        NA          NA                   NA         \n",
       "  ZHVI_1bedroom ZHVI_2bedroom ZHVI_3bedroom ZHVI_4bedroom ZHVI_5BedroomOrMore\n",
       "1    NA         69200          88700        125900        135600             \n",
       "2 96700         93000         106300        167400            NA             \n",
       "3    NA         97700         103100        162400            NA             \n",
       "4    NA            NA             NA            NA            NA             \n",
       "5    NA            NA             NA            NA            NA             \n",
       "6    NA            NA         100600        167200            NA             \n",
       "  ZHVI_AllHomes ZHVI_BottomTier ZHVI_CondoCoop ZHVI_MiddleTier\n",
       "1  85700        65600           NA              85700         \n",
       "2 116800        81900           NA             116800         \n",
       "3 110600        70600           NA             110600         \n",
       "4  70000           NA           NA              70000         \n",
       "5     NA           NA           NA                 NA         \n",
       "6     NA           NA           NA                 NA         \n",
       "  ZHVI_SingleFamilyResidence ZHVI_TopTier ZRI_AllHomes\n",
       "1  86000                     129700       NA          \n",
       "2 116900                     181400       NA          \n",
       "3 106800                     192300       NA          \n",
       "4  70000                     123500       NA          \n",
       "5     NA                         NA       NA          \n",
       "6  89400                         NA       NA          \n",
       "  ZRI_AllHomesPlusMultifamily ZriPerSqft_AllHomes\n",
       "1 NA                          NA                 \n",
       "2 NA                          NA                 \n",
       "3 NA                          NA                 \n",
       "4 NA                          NA                 \n",
       "5 NA                          NA                 \n",
       "6 NA                          NA                 \n",
       "  Zri_MultiFamilyResidenceRental Zri_SingleFamilyResidenceRental month day year\n",
       "1 NA                             NA                              4     30  1996\n",
       "2 NA                             NA                              4     30  1996\n",
       "3 NA                             NA                              4     30  1996\n",
       "4 NA                             NA                              4     30  1996\n",
       "5 NA                             NA                              4     30  1996\n",
       "6 NA                             NA                              4     30  1996"
      ]
     },
     "metadata": {},
     "output_type": "display_data"
    }
   ],
   "source": [
    "head(county)"
   ]
  },
  {
   "cell_type": "code",
   "execution_count": 18,
   "id": "d47e92e1-edbf-4bbc-a79f-e4e57847899f",
   "metadata": {},
   "outputs": [],
   "source": [
    "county$mdy <- paste0(county$month, \"/\", county$day, \"/\", county$year)\n",
    "# i could make a column called mdy (county$mdy)\n",
    "# to do that, i could paste together\n",
    "# new column is created called mdy"
   ]
  },
  {
   "cell_type": "code",
   "execution_count": 19,
   "id": "b9bdaf1e-22d9-4235-b60c-570173bc862b",
   "metadata": {},
   "outputs": [
    {
     "data": {
      "text/plain": [
       "\n",
       " 1996  1997  1998  1999  2000  2001  2002  2003  2004  2005  2006  2007  2008 \n",
       "12794 17905 18806 19070 19199 19323 19579 19826 19972 20141 20406 20478 21103 \n",
       " 2009  2010  2011  2012  2013  2014  2015  2016  2017 \n",
       "21385 28911 30544 30820 31071 31278 31605 32169 32406 "
      ]
     },
     "metadata": {},
     "output_type": "display_data"
    }
   ],
   "source": [
    "table(county$year)\n",
    "# to know the number of year in the data frame"
   ]
  },
  {
   "cell_type": "code",
   "execution_count": 20,
   "id": "0648b34f-3b8c-471c-bce7-67199e63fb52",
   "metadata": {},
   "outputs": [
    {
     "data": {
      "text/plain": [
       "[1] 22"
      ]
     },
     "metadata": {},
     "output_type": "display_data"
    }
   ],
   "source": [
    "length(table(county$year))\n",
    "# to know the total number, just take the length"
   ]
  },
  {
   "cell_type": "code",
   "execution_count": 21,
   "id": "1c268f2e-bc6e-4afc-a1aa-50aebb67dc85",
   "metadata": {},
   "outputs": [
    {
     "data": {
      "text/plain": [
       "[1] NA NA NA NA NA NA"
      ]
     },
     "metadata": {},
     "output_type": "display_data"
    }
   ],
   "source": [
    "head(county$MedianListingPricePerSqft_3Bedroom)\n",
    "# a lot of them are NA"
   ]
  },
  {
   "cell_type": "code",
   "execution_count": 22,
   "id": "d5180ea9-e217-4be0-b332-c22bc71c6c57",
   "metadata": {},
   "outputs": [
    {
     "data": {
      "text/plain": [
       "[1] 144.5238 162.7458 155.3084 149.9315 150.6260 138.4111"
      ]
     },
     "metadata": {},
     "output_type": "display_data"
    }
   ],
   "source": [
    "tail(county$MedianListingPricePerSqft_3Bedroom)\n",
    "# take a look at the tail\n",
    "# it has actual values"
   ]
  },
  {
   "cell_type": "code",
   "execution_count": 23,
   "id": "35cd63ca-9204-40eb-acc2-4dbce1f81226",
   "metadata": {},
   "outputs": [
    {
     "data": {
      "text/plain": [
       "1996 1997 1998 1999 2000 2001 2002 2003 2004 2005 2006 2007 2008 2009 2010 2011 \n",
       "  NA   NA   NA   NA   NA   NA   NA   NA   NA   NA   NA   NA   NA   NA   NA   NA \n",
       "2012 2013 2014 2015 2016 2017 \n",
       "  NA   NA   NA   NA   NA   NA "
      ]
     },
     "metadata": {},
     "output_type": "display_data"
    }
   ],
   "source": [
    "tapply(county$MedianListingPricePerSqft_3Bedroom, county$year, mean)\n",
    "# take the data in there, split it up according to year and then take the mean\n",
    "# i get all NA's because every year has some NA values"
   ]
  },
  {
   "cell_type": "code",
   "execution_count": 24,
   "id": "565536ab-a4b4-4961-b68e-d76d4f8a6713",
   "metadata": {},
   "outputs": [
    {
     "data": {
      "text/plain": [
       "    1996     1997     1998     1999     2000     2001     2002     2003 \n",
       "     NaN      NaN      NaN      NaN      NaN      NaN      NaN      NaN \n",
       "    2004     2005     2006     2007     2008     2009     2010     2011 \n",
       "     NaN      NaN      NaN      NaN      NaN      NaN 113.3021 106.4380 \n",
       "    2012     2013     2014     2015     2016     2017 \n",
       "105.4016 111.2442 115.4661 118.8369 122.5079 128.3419 "
      ]
     },
     "metadata": {},
     "output_type": "display_data"
    }
   ],
   "source": [
    "tapply(county$MedianListingPricePerSqft_3Bedroom, county$year, mean, na.rm=TRUE)\n",
    "# i will remove NA's\n",
    "# it is obvious from 1996 - 2009, i don't have any value.\n",
    "# the mean calculated were from 2010 - 2017."
   ]
  },
  {
   "cell_type": "code",
   "execution_count": 25,
   "id": "854074fc-d00d-4af0-a606-ce3dbfabcf5a",
   "metadata": {},
   "outputs": [
    {
     "data": {
      "text/plain": [
       "    1996     1997     1998     1999     2000     2001     2002     2003 \n",
       "     NaN      NaN      NaN      NaN      NaN      NaN      NaN      NaN \n",
       "    2004     2005     2006     2007     2008     2009     2010     2011 \n",
       "     NaN      NaN      NaN      NaN      NaN      NaN 239.0062 217.1000 \n",
       "    2012     2013     2014     2015     2016     2017 \n",
       "213.7414 223.3347 232.3262 253.4574 263.9213 271.7585 "
      ]
     },
     "metadata": {},
     "output_type": "display_data"
    }
   ],
   "source": [
    "tapply(county$MedianListingPricePerSqft_1Bedroom, county$year, mean, na.rm=TRUE)"
   ]
  },
  {
   "cell_type": "code",
   "execution_count": 26,
   "id": "746ba05f-21c7-4fb0-a844-d61b3cd4c1fd",
   "metadata": {},
   "outputs": [],
   "source": [
    "f <- tapply(county$MedianListingPricePerSqft_3Bedroom, county$year, mean, na.rm=TRUE)"
   ]
  },
  {
   "cell_type": "code",
   "execution_count": 27,
   "id": "45937d9d-463e-4d45-9fc6-abbd0870360a",
   "metadata": {},
   "outputs": [],
   "source": [
    "k <- tapply(county$MedianListingPricePerSqft_1Bedroom, county$year, mean, na.rm=TRUE)"
   ]
  },
  {
   "cell_type": "code",
   "execution_count": 28,
   "id": "bdb1776b-d53f-4537-aeb3-96a452df6cd9",
   "metadata": {},
   "outputs": [
    {
     "data": {
      "image/png": "[encoded data removed]",
      "text/plain": [
       "plot without title"
      ]
     },
     "metadata": {
      "image/png": {
       "height": 420,
       "width": 420
      }
     },
     "output_type": "display_data"
    }
   ],
   "source": [
    "plot(names(f), f, type = \"l\")\n",
    "lines (names (k), k,type = \"l\")\n",
    "# names(f) - which is the year, f - numerical values\n",
    "# i can plot on top of f by changing it to line\n",
    "# from the shape seen, the difficulties is that the limit on the y values are set by the first outcome there.\n",
    "# for the f we have its ylimit from (0 - 128.3419), while k has ylimit from (o -271.7585)\n",
    "# f ylimit will now be increased to from 0 -300 to accomodate that"
   ]
  },
  {
   "cell_type": "code",
   "execution_count": 29,
   "id": "02813d4e-ac2a-44b7-937a-1e385aed324e",
   "metadata": {},
   "outputs": [
    {
     "data": {
      "image/png": "[encoded data removed]",
      "text/plain": [
       "plot without title"
      ]
     },
     "metadata": {
      "image/png": {
       "height": 420,
       "width": 420
      }
     },
     "output_type": "display_data"
    }
   ],
   "source": [
    "plot(names(f), f, type = \"l\", ylim=c(0,300))\n",
    "lines (names (k), k,type = \"l\")"
   ]
  },
  {
   "cell_type": "code",
   "execution_count": 70,
   "id": "41273d2f-a38a-4e82-9882-7de1a75447cc",
   "metadata": {},
   "outputs": [
    {
     "data": {
      "image/png": "[encoded data removed]",
      "text/plain": [
       "Plot with title \"average value per year of MedianListingPrice\""
      ]
     },
     "metadata": {
      "image/png": {
       "height": 420,
       "width": 420
      }
     },
     "output_type": "display_data"
    }
   ],
   "source": [
    "plot(names(f), f, type = \"l\", ylim=c(0,300),main=\"average value per year of MedianListingPrice\", xlab= \"MedianListingPrice\", col= c(\"red\"))\n",
    "lines (names (k), k,type = \"l\",col= c(\"orange\"))"
   ]
  },
  {
   "cell_type": "markdown",
   "id": "b456e57c-4a12-464b-999a-ef2df5af80c1",
   "metadata": {},
   "source": [
    "Convert the Date column to month, date, year format.\n",
    "\n",
    "How many years are in the data.frame in total?\n",
    "\n",
    "Create a lineplot that shows the average value per year of MedianListingPricePerSqft_3Bedroom AND shows the average value per year of MedianListingPricePerSqft_1Bedroom.\n",
    "\n",
    "Write one to two sentences on what you notice in the graph\n",
    "\n",
    "The graph of k(MedianListingPricePerSqft_1Bedroom)has more dip/steppy than that of f(MedianListingPricePerSqft_3Bedroom), It depict high price for k(MedianListingPricePerSqft_1Bedroom) graph reflecting inflation for small size of bedroom"
   ]
  },
  {
   "cell_type": "markdown",
   "id": "fc601975-35ed-4680-a4e1-0273ee3cc047",
   "metadata": {},
   "source": [
    "## Question 2"
   ]
  },
  {
   "cell_type": "code",
   "execution_count": 30,
   "id": "a16336a1-1ef0-41e8-bc7c-49387db27497",
   "metadata": {},
   "outputs": [
    {
     "data": {
      "text/plain": [
       " [1] \"Date\"                                                         \n",
       " [2] \"RegionName\"                                                   \n",
       " [3] \"DaysOnZillow_AllHomes\"                                        \n",
       " [4] \"InventorySeasonallyAdjusted_AllHomes\"                         \n",
       " [5] \"InventoryRaw_AllHomes\"                                        \n",
       " [6] \"MedianListingPricePerSqft_1Bedroom\"                           \n",
       " [7] \"MedianListingPricePerSqft_2Bedroom\"                           \n",
       " [8] \"MedianListingPricePerSqft_3Bedroom\"                           \n",
       " [9] \"MedianListingPricePerSqft_4Bedroom\"                           \n",
       "[10] \"MedianListingPricePerSqft_5BedroomOrMore\"                     \n",
       "[11] \"MedianListingPricePerSqft_AllHomes\"                           \n",
       "[12] \"MedianListingPricePerSqft_CondoCoop\"                          \n",
       "[13] \"MedianListingPricePerSqft_DuplexTriplex\"                      \n",
       "[14] \"MedianListingPricePerSqft_SingleFamilyResidence\"              \n",
       "[15] \"MedianListingPrice_1Bedroom\"                                  \n",
       "[16] \"MedianListingPrice_2Bedroom\"                                  \n",
       "[17] \"MedianListingPrice_3Bedroom\"                                  \n",
       "[18] \"MedianListingPrice_4Bedroom\"                                  \n",
       "[19] \"MedianListingPrice_5BedroomOrMore\"                            \n",
       "[20] \"MedianListingPrice_AllHomes\"                                  \n",
       "[21] \"MedianListingPrice_CondoCoop\"                                 \n",
       "[22] \"MedianListingPrice_DuplexTriplex\"                             \n",
       "[23] \"MedianListingPrice_SingleFamilyResidence\"                     \n",
       "[24] \"MedianPctOfPriceReduction_AllHomes\"                           \n",
       "[25] \"MedianPctOfPriceReduction_CondoCoop\"                          \n",
       "[26] \"MedianPctOfPriceReduction_SingleFamilyResidence\"              \n",
       "[27] \"MedianPriceCutDollar_AllHomes\"                                \n",
       "[28] \"MedianPriceCutDollar_CondoCoop\"                               \n",
       "[29] \"MedianPriceCutDollar_SingleFamilyResidence\"                   \n",
       "[30] \"MedianRentalPricePerSqft_1Bedroom\"                            \n",
       "[31] \"MedianRentalPricePerSqft_2Bedroom\"                            \n",
       "[32] \"MedianRentalPricePerSqft_3Bedroom\"                            \n",
       "[33] \"MedianRentalPricePerSqft_4Bedroom\"                            \n",
       "[34] \"MedianRentalPricePerSqft_5BedroomOrMore\"                      \n",
       "[35] \"MedianRentalPricePerSqft_AllHomes\"                            \n",
       "[36] \"MedianRentalPricePerSqft_CondoCoop\"                           \n",
       "[37] \"MedianRentalPricePerSqft_DuplexTriplex\"                       \n",
       "[38] \"MedianRentalPricePerSqft_MultiFamilyResidence5PlusUnits\"      \n",
       "[39] \"MedianRentalPricePerSqft_SingleFamilyResidence\"               \n",
       "[40] \"MedianRentalPricePerSqft_Studio\"                              \n",
       "[41] \"MedianRentalPrice_1Bedroom\"                                   \n",
       "[42] \"MedianRentalPrice_2Bedroom\"                                   \n",
       "[43] \"MedianRentalPrice_3Bedroom\"                                   \n",
       "[44] \"MedianRentalPrice_4Bedroom\"                                   \n",
       "[45] \"MedianRentalPrice_5BedroomOrMore\"                             \n",
       "[46] \"MedianRentalPrice_AllHomes\"                                   \n",
       "[47] \"MedianRentalPrice_CondoCoop\"                                  \n",
       "[48] \"MedianRentalPrice_DuplexTriplex\"                              \n",
       "[49] \"MedianRentalPrice_MultiFamilyResidence5PlusUnits\"             \n",
       "[50] \"MedianRentalPrice_SingleFamilyResidence\"                      \n",
       "[51] \"MedianRentalPrice_Studio\"                                     \n",
       "[52] \"ZHVIPerSqft_AllHomes\"                                         \n",
       "[53] \"PctOfHomesDecreasingInValues_AllHomes\"                        \n",
       "[54] \"PctOfHomesIncreasingInValues_AllHomes\"                        \n",
       "[55] \"PctOfHomesSellingForGain_AllHomes\"                            \n",
       "[56] \"PctOfHomesSellingForLoss_AllHomes\"                            \n",
       "[57] \"PctOfListingsWithPriceReductionsSeasAdj_AllHomes\"             \n",
       "[58] \"PctOfListingsWithPriceReductionsSeasAdj_CondoCoop\"            \n",
       "[59] \"PctOfListingsWithPriceReductionsSeasAdj_SingleFamilyResidence\"\n",
       "[60] \"PctOfListingsWithPriceReductions_AllHomes\"                    \n",
       "[61] \"PctOfListingsWithPriceReductions_CondoCoop\"                   \n",
       "[62] \"PctOfListingsWithPriceReductions_SingleFamilyResidence\"       \n",
       "[63] \"PriceToRentRatio_AllHomes\"                                    \n",
       "[64] \"Sale_Counts\"                                                  \n",
       "[65] \"Sale_Counts_Seas_Adj\"                                         \n",
       "[66] \"Sale_Prices\"                                                  \n",
       "[67] \"ZHVI_1bedroom\"                                                \n",
       "[68] \"ZHVI_2bedroom\"                                                \n",
       "[69] \"ZHVI_3bedroom\"                                                \n",
       "[70] \"ZHVI_4bedroom\"                                                \n",
       "[71] \"ZHVI_5BedroomOrMore\"                                          \n",
       "[72] \"ZHVI_AllHomes\"                                                \n",
       "[73] \"ZHVI_BottomTier\"                                              \n",
       "[74] \"ZHVI_CondoCoop\"                                               \n",
       "[75] \"ZHVI_MiddleTier\"                                              \n",
       "[76] \"ZHVI_SingleFamilyResidence\"                                   \n",
       "[77] \"ZHVI_TopTier\"                                                 \n",
       "[78] \"ZRI_AllHomes\"                                                 \n",
       "[79] \"ZRI_AllHomesPlusMultifamily\"                                  \n",
       "[80] \"ZriPerSqft_AllHomes\"                                          \n",
       "[81] \"Zri_MultiFamilyResidenceRental\"                               \n",
       "[82] \"Zri_SingleFamilyResidenceRental\"                              \n",
       "[83] \"month\"                                                        \n",
       "[84] \"day\"                                                          \n",
       "[85] \"year\"                                                         \n",
       "[86] \"mdy\"                                                          "
      ]
     },
     "metadata": {},
     "output_type": "display_data"
    }
   ],
   "source": [
    "names(county)\n",
    "# i want the ones that has tier in them"
   ]
  },
  {
   "cell_type": "code",
   "execution_count": 31,
   "id": "1aebc7a6-5437-4ade-9987-4409166446dd",
   "metadata": {},
   "outputs": [
    {
     "data": {
      "text/plain": [
       "[1] 73 75 77"
      ]
     },
     "metadata": {},
     "output_type": "display_data"
    }
   ],
   "source": [
    "grep(\"ier\",names (county))\n",
    "# to look for tier, i dont know if the t is capitalised or not, therefore, i will look for the ones with \"ier\"\n",
    "# i found 3 columns that have ier in them"
   ]
  },
  {
   "cell_type": "code",
   "execution_count": 32,
   "id": "6bcec377-4ca0-448f-a0c0-2944127df76d",
   "metadata": {},
   "outputs": [
    {
     "data": {
      "text/plain": [
       "[1] \"ZHVI_BottomTier\" \"ZHVI_MiddleTier\" \"ZHVI_TopTier\"   "
      ]
     },
     "metadata": {},
     "output_type": "display_data"
    }
   ],
   "source": [
    "names (county)[grep(\"ier\",names (county))]\n",
    "# to extract their actual names"
   ]
  },
  {
   "cell_type": "code",
   "execution_count": 33,
   "id": "b510f0d6-022a-4fd9-87f0-0e9635e1b3f5",
   "metadata": {},
   "outputs": [
    {
     "data": {
      "text/plain": [
       "[1] 65600 81900 70600    NA    NA    NA"
      ]
     },
     "metadata": {},
     "output_type": "display_data"
    }
   ],
   "source": [
    "head(county$ZHVI_BottomTier)"
   ]
  },
  {
   "cell_type": "code",
   "execution_count": 34,
   "id": "4e2819db-2b96-4b43-8a74-1ff98a2b033a",
   "metadata": {},
   "outputs": [
    {
     "data": {
      "text/plain": [
       "[1]  85700 116800 110600  70000     NA     NA"
      ]
     },
     "metadata": {},
     "output_type": "display_data"
    }
   ],
   "source": [
    "head(county$ZHVI_MiddleTier)"
   ]
  },
  {
   "cell_type": "code",
   "execution_count": 35,
   "id": "75dd7d2a-8bf0-41d1-a1a0-2ccf6808504f",
   "metadata": {},
   "outputs": [
    {
     "data": {
      "text/plain": [
       "[1] 129700 181400 192300 123500     NA     NA"
      ]
     },
     "metadata": {},
     "output_type": "display_data"
    }
   ],
   "source": [
    "head(county$ZHVI_TopTier)"
   ]
  },
  {
   "cell_type": "code",
   "execution_count": 36,
   "id": "6337922a-e85d-4ce5-8b11-55a6e50800e9",
   "metadata": {},
   "outputs": [
    {
     "data": {
      "text/plain": [
       "    1996     1997     1998     1999     2000     2001     2002     2003 \n",
       "149657.1 153220.3 160847.4 170195.2 182168.7 193997.8 204287.7 217986.8 \n",
       "    2004     2005     2006     2007     2008     2009     2010     2011 \n",
       "237117.5 262079.6 276630.7 277911.1 268666.4 257466.4 237383.0 228135.3 \n",
       "    2012     2013     2014     2015     2016     2017 \n",
       "228593.1 235660.7 245301.8 254253.5 263219.7 275637.1 "
      ]
     },
     "metadata": {},
     "output_type": "display_data"
    }
   ],
   "source": [
    "tapply(county$ZHVI_TopTier,county$year, mean, na.rm=TRUE)\n",
    "# in order to know what is interesting about the data, you need to plot."
   ]
  },
  {
   "cell_type": "code",
   "execution_count": 37,
   "id": "dbba8d96-da0f-4a61-bede-0ea34a36787e",
   "metadata": {},
   "outputs": [],
   "source": [
    "v <-tapply(county$ZHVI_TopTier,county$year, mean, na.rm=TRUE)"
   ]
  },
  {
   "cell_type": "code",
   "execution_count": 38,
   "id": "77600be6-ac20-46c5-b610-9179330b05ab",
   "metadata": {},
   "outputs": [
    {
     "data": {
      "image/png": "[encoded data removed]",
      "text/plain": [
       "plot without title"
      ]
     },
     "metadata": {
      "image/png": {
       "height": 420,
       "width": 420
      }
     },
     "output_type": "display_data"
    }
   ],
   "source": [
    "plot(names(v), v, type = \"l\")"
   ]
  },
  {
   "cell_type": "code",
   "execution_count": 71,
   "id": "667d41ff-d579-45fd-9877-5d4c18a7db10",
   "metadata": {},
   "outputs": [
    {
     "data": {
      "image/png": "[encoded data removed]",
      "text/plain": [
       "Plot with title \"average value per year of the median prices of top tier homes\""
      ]
     },
     "metadata": {
      "image/png": {
       "height": 420,
       "width": 420
      }
     },
     "output_type": "display_data"
    }
   ],
   "source": [
    "plot(names(v), v, type = \"l\",main=\"average value per year of the median prices of top tier homes\", \n",
    "     xlab= \"the median prices of top tier homes\", col= c(\"purple\"))"
   ]
  },
  {
   "cell_type": "code",
   "execution_count": 39,
   "id": "29e743eb-e9c4-48a1-b4ed-fda4ada99891",
   "metadata": {},
   "outputs": [
    {
     "data": {
      "text/plain": [
       "    2014 \n",
       "98515.35 "
      ]
     },
     "metadata": {},
     "output_type": "display_data"
    }
   ],
   "source": [
    "tapply(county$ZHVI_BottomTier,county$year, mean, na.rm=TRUE)[\"2014\"]\n",
    "# to extract for the year 2014 only"
   ]
  },
  {
   "cell_type": "code",
   "execution_count": 40,
   "id": "d714aa5c-51f0-4267-865c-d6f94a390cc7",
   "metadata": {},
   "outputs": [
    {
     "data": {
      "text/plain": [
       "[1] 98515.35"
      ]
     },
     "metadata": {},
     "output_type": "display_data"
    }
   ],
   "source": [
    "mean(county$ZHVI_BottomTier[county$year==\"2014\"], na.rm=TRUE)\n",
    "# another way of doing it"
   ]
  },
  {
   "cell_type": "code",
   "execution_count": 41,
   "id": "a2607a15-83fe-420c-8d2d-ae37355c302d",
   "metadata": {},
   "outputs": [
    {
     "data": {
      "text/plain": [
       "    2010 \n",
       "101618.2 "
      ]
     },
     "metadata": {},
     "output_type": "display_data"
    }
   ],
   "source": [
    "tapply(county$ZHVI_BottomTier,county$year, mean, na.rm=TRUE)[\"2010\"]"
   ]
  },
  {
   "cell_type": "code",
   "execution_count": 42,
   "id": "e8ccb159-56c2-4e5e-adc8-cb8954a9b216",
   "metadata": {},
   "outputs": [
    {
     "data": {
      "text/plain": [
       "[1] 101618.2"
      ]
     },
     "metadata": {},
     "output_type": "display_data"
    }
   ],
   "source": [
    "mean(county$ZHVI_BottomTier[county$year==\"2010\"], na.rm=TRUE)"
   ]
  },
  {
   "cell_type": "code",
   "execution_count": 43,
   "id": "662c7baf-9abd-45c6-b67d-1c1c257c0a87",
   "metadata": {},
   "outputs": [],
   "source": [
    "# tapply(some data here, how to break up the data, a function to apply to each piece of the data)"
   ]
  },
  {
   "cell_type": "markdown",
   "id": "14dc22d4-ddc3-41cc-a91a-cb0025bc0c80",
   "metadata": {},
   "source": [
    "What is the average value per year of the median prices of top tier homes? \n",
    "\n",
    "Write a sentence or two about anything that may seem interesting about this data. it started increasing from year 1996 until year 2010 with reduction and pick up again in the year 2014 till year 2017. If related to economy or sales, the progress flunctuate.\n",
    "\n",
    "What is the average value of the median of bottom tier homes in 2014?\n",
    "\n",
    "What is the average value of the median of middle tier homes in 2010?"
   ]
  },
  {
   "cell_type": "markdown",
   "id": "8e586edd-ff26-4ce2-8f6b-2424b26f2929",
   "metadata": {},
   "source": [
    "## Question 3"
   ]
  },
  {
   "cell_type": "code",
   "execution_count": 44,
   "id": "bbe0f40d-9655-4653-9ca8-886bdb61cb91",
   "metadata": {},
   "outputs": [],
   "source": [
    "v <-tapply(county$ZHVI_TopTier,county$year, mean, na.rm=TRUE)"
   ]
  },
  {
   "cell_type": "code",
   "execution_count": 45,
   "id": "5cfe6db5-d2ea-4b74-8b8d-0fd1acefe5d6",
   "metadata": {},
   "outputs": [
    {
     "data": {
      "text/plain": [
       "    1996     1997     1998     1999     2000     2001     2002     2003 \n",
       "149657.1 153220.3 160847.4 170195.2 182168.7 193997.8 204287.7 217986.8 \n",
       "    2004     2005     2006     2007     2008     2009     2010     2011 \n",
       "237117.5 262079.6 276630.7 277911.1 268666.4 257466.4 237383.0 228135.3 \n",
       "    2012     2013     2014     2015     2016     2017 \n",
       "228593.1 235660.7 245301.8 254253.5 263219.7 275637.1 "
      ]
     },
     "metadata": {},
     "output_type": "display_data"
    }
   ],
   "source": [
    "v"
   ]
  },
  {
   "cell_type": "code",
   "execution_count": 46,
   "id": "b287c2ca-5d73-4969-9f3a-1c172edb3b22",
   "metadata": {},
   "outputs": [],
   "source": [
    "w <-tapply(county$ZHVI_MiddleTier,county$year, mean, na.rm=TRUE)"
   ]
  },
  {
   "cell_type": "code",
   "execution_count": 47,
   "id": "6b5fbe0d-d932-42a1-995c-bc7a2758afeb",
   "metadata": {},
   "outputs": [
    {
     "data": {
      "text/plain": [
       "     1996      1997      1998      1999      2000      2001      2002      2003 \n",
       " 96498.43  98422.62 102068.37 107461.44 114059.06 121324.76 128138.82 136994.10 \n",
       "     2004      2005      2006      2007      2008      2009      2010      2011 \n",
       "149029.88 164915.91 173707.55 173018.17 165196.71 156687.23 144725.43 137878.30 \n",
       "     2012      2013      2014      2015      2016      2017 \n",
       "136482.30 141333.70 146389.76 152357.83 159839.23 169282.88 "
      ]
     },
     "metadata": {},
     "output_type": "display_data"
    }
   ],
   "source": [
    "w"
   ]
  },
  {
   "cell_type": "code",
   "execution_count": 48,
   "id": "fbcfe790-94d3-4769-8ec5-22519ea575b0",
   "metadata": {},
   "outputs": [],
   "source": [
    "x <-tapply(county$ZHVI_BottomTier,county$year, mean, na.rm=TRUE)"
   ]
  },
  {
   "cell_type": "code",
   "execution_count": 49,
   "id": "7e46d7cd-4b0d-4d46-8319-6da3b4d84c88",
   "metadata": {},
   "outputs": [
    {
     "data": {
      "text/plain": [
       "     1996      1997      1998      1999      2000      2001      2002      2003 \n",
       " 70103.58  70972.25  73359.88  76783.98  81212.09  86265.79  91326.15  98142.64 \n",
       "     2004      2005      2006      2007      2008      2009      2010      2011 \n",
       "107430.56 119010.28 125644.02 125330.50 118547.15 110504.53 101618.24  95133.68 \n",
       "     2012      2013      2014      2015      2016      2017 \n",
       " 92742.05  95140.22  98515.35 102933.27 109040.48 116971.91 "
      ]
     },
     "metadata": {},
     "output_type": "display_data"
    }
   ],
   "source": [
    "x"
   ]
  },
  {
   "cell_type": "code",
   "execution_count": 50,
   "id": "2b24ba8c-2c46-4a53-a016-a70653e51404",
   "metadata": {},
   "outputs": [
    {
     "data": {
      "text/plain": [
       "[1] 277911.1"
      ]
     },
     "metadata": {},
     "output_type": "display_data"
    },
    {
     "data": {
      "text/plain": [
       "[1] 173707.6"
      ]
     },
     "metadata": {},
     "output_type": "display_data"
    },
    {
     "data": {
      "text/plain": [
       "[1] 125644"
      ]
     },
     "metadata": {},
     "output_type": "display_data"
    }
   ],
   "source": [
    "max(v)\n",
    "max(w)\n",
    "max(x)\n",
    "# because of the ranges of values , i will make ylimit to go from 0 - 300000"
   ]
  },
  {
   "cell_type": "code",
   "execution_count": 51,
   "id": "2b6a9674-33e5-4305-8044-308264cbdc19",
   "metadata": {},
   "outputs": [
    {
     "data": {
      "image/png": "[encoded data removed]",
      "text/plain": [
       "plot without title"
      ]
     },
     "metadata": {
      "image/png": {
       "height": 420,
       "width": 420
      }
     },
     "output_type": "display_data"
    }
   ],
   "source": [
    "plot(names(v), v, type = \"l\", ylim = c(0,300000))\n",
    "lines(names(w), w, type = \"l\")\n",
    "lines(names(x), x, type = \"l\")"
   ]
  },
  {
   "cell_type": "code",
   "execution_count": 74,
   "id": "b25a4158-cbf4-4fc2-9af1-5703852cf47c",
   "metadata": {},
   "outputs": [
    {
     "data": {
      "image/png": "[encoded data removed]",
      "text/plain": [
       "Plot with title \"average per year of each of the three columns\""
      ]
     },
     "metadata": {
      "image/png": {
       "height": 420,
       "width": 420
      }
     },
     "output_type": "display_data"
    }
   ],
   "source": [
    "plot(names(v), v, type = \"l\", ylim = c(0,300000),main=\"average per year of each of the three columns\", \n",
    "     xlab= \"bottomTier, middleTier and topTier\", col= c(\"purple\"))\n",
    "lines(names(w), w, type = \"l\",col= c(\"orange\"))\n",
    "lines(names(x), x, type = \"l\",col= c(\"red\"))"
   ]
  },
  {
   "cell_type": "markdown",
   "id": "47c6229f-35f7-400c-8366-c442baa5cf47",
   "metadata": {},
   "source": [
    "Can you create a graph that shows the average per year of each of the three columns (bottom tier, middle tier, and top tier), so that you can easily compare these variables?\n",
    "\n",
    "Their curves are almost same shape but more steepy with v, they follow simmilar pattern of increasing and decreasing but more impact with v."
   ]
  },
  {
   "cell_type": "markdown",
   "id": "da22f29c-d245-4d2b-9fc1-ca14cb6087d9",
   "metadata": {},
   "source": [
    "## Question 4"
   ]
  },
  {
   "cell_type": "code",
   "execution_count": 52,
   "id": "8cffc767-d1c8-4d64-b7dc-f0d2ee8a80d1",
   "metadata": {},
   "outputs": [
    {
     "data": {
      "text/plain": [
       "[1] NA NA NA NA NA NA"
      ]
     },
     "metadata": {},
     "output_type": "display_data"
    }
   ],
   "source": [
    "head(county$MedianRentalPrice_1Bedroom)"
   ]
  },
  {
   "cell_type": "code",
   "execution_count": 53,
   "id": "3320fcbf-b5c0-40f6-90d2-193de8c2a51b",
   "metadata": {},
   "outputs": [
    {
     "data": {
      "text/plain": [
       "[1]  850 1000 1075  925 1200   NA"
      ]
     },
     "metadata": {},
     "output_type": "display_data"
    }
   ],
   "source": [
    "tail(county$MedianRentalPrice_1Bedroom)"
   ]
  },
  {
   "cell_type": "code",
   "execution_count": 54,
   "id": "1535d5e6-8750-40bc-8b7a-f849db0917ea",
   "metadata": {},
   "outputs": [
    {
     "data": {
      "text/plain": [
       "1996 1997 1998 1999 2000 2001 2002 2003 2004 2005 2006 2007 2008 2009 2010 2011 \n",
       "  NA   NA   NA   NA   NA   NA   NA   NA   NA   NA   NA   NA   NA   NA   NA   NA \n",
       "2012 2013 2014 2015 2016 2017 \n",
       "  NA   NA   NA   NA   NA   NA "
      ]
     },
     "metadata": {},
     "output_type": "display_data"
    }
   ],
   "source": [
    "tapply(county$MedianRentalPrice_1Bedroom, county$year, mean)"
   ]
  },
  {
   "cell_type": "code",
   "execution_count": 55,
   "id": "e1ccf448-89db-465d-bd32-db9af461e8e7",
   "metadata": {},
   "outputs": [
    {
     "data": {
      "text/plain": [
       "     1996      1997      1998      1999      2000      2001      2002      2003 \n",
       "      NaN       NaN       NaN       NaN       NaN       NaN       NaN       NaN \n",
       "     2004      2005      2006      2007      2008      2009      2010      2011 \n",
       "      NaN       NaN       NaN       NaN       NaN       NaN 1255.0754  991.0041 \n",
       "     2012      2013      2014      2015      2016      2017 \n",
       " 975.9693  994.6484 1031.3652 1092.0310 1112.3224 1056.4197 "
      ]
     },
     "metadata": {},
     "output_type": "display_data"
    }
   ],
   "source": [
    "tapply(county$MedianRentalPrice_1Bedroom, county$year, mean, na.rm=TRUE)"
   ]
  },
  {
   "cell_type": "code",
   "execution_count": 56,
   "id": "b85884c8-1c9a-456c-890b-7379f4b81342",
   "metadata": {},
   "outputs": [
    {
     "data": {
      "text/plain": [
       "    1996     1997     1998     1999     2000     2001     2002     2003 \n",
       "     NaN      NaN      NaN      NaN      NaN      NaN      NaN      NaN \n",
       "    2004     2005     2006     2007     2008     2009     2010     2011 \n",
       "     NaN      NaN      NaN      NaN      NaN      NaN 1251.445 1095.022 \n",
       "    2012     2013     2014     2015     2016     2017 \n",
       "1082.272 1102.277 1126.239 1177.147 1202.825 1159.762 "
      ]
     },
     "metadata": {},
     "output_type": "display_data"
    }
   ],
   "source": [
    "tapply(county$MedianRentalPrice_2Bedroom, county$year, mean, na.rm=TRUE)"
   ]
  },
  {
   "cell_type": "code",
   "execution_count": 57,
   "id": "471c3fb6-6e90-4e86-b1b1-e73d74849ff8",
   "metadata": {},
   "outputs": [
    {
     "data": {
      "text/plain": [
       "    1996     1997     1998     1999     2000     2001     2002     2003 \n",
       "     NaN      NaN      NaN      NaN      NaN      NaN      NaN      NaN \n",
       "    2004     2005     2006     2007     2008     2009     2010     2011 \n",
       "     NaN      NaN      NaN      NaN      NaN      NaN 1376.975 1325.017 \n",
       "    2012     2013     2014     2015     2016     2017 \n",
       "1315.319 1350.493 1390.166 1457.668 1486.347 1491.350 "
      ]
     },
     "metadata": {},
     "output_type": "display_data"
    }
   ],
   "source": [
    "tapply(county$MedianRentalPrice_3Bedroom, county$year, mean, na.rm=TRUE)"
   ]
  },
  {
   "cell_type": "code",
   "execution_count": 58,
   "id": "6a611216-5ca9-45ff-9744-906a996a47da",
   "metadata": {},
   "outputs": [],
   "source": [
    "a <- tapply(county$MedianRentalPrice_1Bedroom, county$year, mean, na.rm=TRUE)"
   ]
  },
  {
   "cell_type": "code",
   "execution_count": 59,
   "id": "ce2201d0-0e1e-4594-a7cc-277b15012321",
   "metadata": {},
   "outputs": [
    {
     "data": {
      "text/plain": [
       "     1996      1997      1998      1999      2000      2001      2002      2003 \n",
       "      NaN       NaN       NaN       NaN       NaN       NaN       NaN       NaN \n",
       "     2004      2005      2006      2007      2008      2009      2010      2011 \n",
       "      NaN       NaN       NaN       NaN       NaN       NaN 1255.0754  991.0041 \n",
       "     2012      2013      2014      2015      2016      2017 \n",
       " 975.9693  994.6484 1031.3652 1092.0310 1112.3224 1056.4197 "
      ]
     },
     "metadata": {},
     "output_type": "display_data"
    }
   ],
   "source": [
    "a"
   ]
  },
  {
   "cell_type": "code",
   "execution_count": 60,
   "id": "b6382981-13f2-45fa-a8c7-a1bd409cb43a",
   "metadata": {},
   "outputs": [],
   "source": [
    "b<- tapply(county$MedianRentalPrice_2Bedroom, county$year, mean, na.rm=TRUE)"
   ]
  },
  {
   "cell_type": "code",
   "execution_count": 61,
   "id": "bb40da35-a757-461d-a55c-2458965f1f8d",
   "metadata": {},
   "outputs": [
    {
     "data": {
      "text/plain": [
       "    1996     1997     1998     1999     2000     2001     2002     2003 \n",
       "     NaN      NaN      NaN      NaN      NaN      NaN      NaN      NaN \n",
       "    2004     2005     2006     2007     2008     2009     2010     2011 \n",
       "     NaN      NaN      NaN      NaN      NaN      NaN 1251.445 1095.022 \n",
       "    2012     2013     2014     2015     2016     2017 \n",
       "1082.272 1102.277 1126.239 1177.147 1202.825 1159.762 "
      ]
     },
     "metadata": {},
     "output_type": "display_data"
    }
   ],
   "source": [
    "b"
   ]
  },
  {
   "cell_type": "code",
   "execution_count": 62,
   "id": "602f2a1f-3fc3-4a7d-a8a6-ee429c6eddfb",
   "metadata": {},
   "outputs": [],
   "source": [
    "c<- tapply(county$MedianRentalPrice_3Bedroom, county$year, mean, na.rm=TRUE)"
   ]
  },
  {
   "cell_type": "code",
   "execution_count": 63,
   "id": "4df9ab13-be5b-46c3-a42a-9ca72c80a59f",
   "metadata": {},
   "outputs": [
    {
     "data": {
      "text/plain": [
       "    1996     1997     1998     1999     2000     2001     2002     2003 \n",
       "     NaN      NaN      NaN      NaN      NaN      NaN      NaN      NaN \n",
       "    2004     2005     2006     2007     2008     2009     2010     2011 \n",
       "     NaN      NaN      NaN      NaN      NaN      NaN 1376.975 1325.017 \n",
       "    2012     2013     2014     2015     2016     2017 \n",
       "1315.319 1350.493 1390.166 1457.668 1486.347 1491.350 "
      ]
     },
     "metadata": {},
     "output_type": "display_data"
    }
   ],
   "source": [
    "c"
   ]
  },
  {
   "cell_type": "code",
   "execution_count": 64,
   "id": "609708fe-8289-47f0-beca-78393cf112ac",
   "metadata": {},
   "outputs": [
    {
     "data": {
      "image/png": "[encoded data removed]",
      "text/plain": [
       "plot without title"
      ]
     },
     "metadata": {
      "image/png": {
       "height": 420,
       "width": 420
      }
     },
     "output_type": "display_data"
    }
   ],
   "source": [
    "plot(names(a), a, type = \"l\", ylim=c(0,2000))\n",
    "lines (names (b), b,type = \"l\")\n",
    "lines (names (c), c,type = \"l\")"
   ]
  },
  {
   "cell_type": "code",
   "execution_count": 76,
   "id": "5890d9a3-ee28-4101-93fd-931705bbac7f",
   "metadata": {},
   "outputs": [
    {
     "data": {
      "image/png": "[encoded data removed]",
      "text/plain": [
       "Plot with title \"average value per year of MedianRentalPrice\""
      ]
     },
     "metadata": {
      "image/png": {
       "height": 420,
       "width": 420
      }
     },
     "output_type": "display_data"
    }
   ],
   "source": [
    "plot(names(a), a, type = \"l\", ylim=c(0,2000),main=\"average value per year of MedianRentalPrice\", xlab= \"MedianRentalPrice\", col= c(\"red\"))\n",
    "lines (names (b), b,type = \"l\",col= c(\"orange\"))\n",
    "lines (names (c), c,type = \"l\",col= c(\"green\"))"
   ]
  },
  {
   "cell_type": "markdown",
   "id": "0d552245-b4d6-474a-9cc9-fa7b8e674d55",
   "metadata": {},
   "source": [
    "Looking at the data, is there something that you find interesting? Create 3 new graphs and explain what you see and why you chose that specific type of plot.\n",
    "\n",
    "For a and b their values were pretty close for the year 2010, which was obvious on the graph and c shape looks more steepy.  "
   ]
  },
  {
   "cell_type": "markdown",
   "id": "88c9cdac-3e92-498f-83fa-e089bfc44ac8",
   "metadata": {},
   "source": [
    "## Question 5"
   ]
  },
  {
   "cell_type": "code",
   "execution_count": 65,
   "id": "d370d7c9-06db-42b9-b75f-240481a5c491",
   "metadata": {},
   "outputs": [],
   "source": [
    "# code here"
   ]
  },
  {
   "cell_type": "markdown",
   "id": "9fbf00fb-2418-460f-ae94-2a32b0c28952",
   "metadata": {},
   "source": [
    "Markdown notes and sentences and analysis written here."
   ]
  },
  {
   "cell_type": "markdown",
   "id": "f76442d6-d02e-4f26-b9d6-c3183e1d6929",
   "metadata": {},
   "source": [
    "## Pledge\n",
    "\n",
    "By submitting this work I hereby pledge that this is my own, personal work. I've acknowledged in the designated place at the top of this file all sources that I used to complete said work, including but not limited to: online resources, books, and electronic communications. I've noted all collaboration with fellow students and/or TA's. I did not copy or plagiarize another's work.\n",
    "\n",
    "> As a Boilermaker pursuing academic excellence, I pledge to be honest and true in all that I do. Accountable together – We are Purdue."
   ]
  }
 ],
 "metadata": {
  "kernelspec": {
   "display_name": "f2022-s2023-r",
   "language": "R",
   "name": "f2022-s2023-r"
  },
  "language_info": {
   "codemirror_mode": "r",
   "file_extension": ".r",
   "mimetype": "text/x-r-source",
   "name": "R",
   "pygments_lexer": "r",
   "version": "4.2.1"
  }
 },
 "nbformat": 4,
 "nbformat_minor": 5
}
