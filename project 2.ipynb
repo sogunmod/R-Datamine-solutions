{
 "cells": [
  {
   "cell_type": "markdown",
   "id": "be02a957-7133-4d02-818e-fedeb3cecb05",
   "metadata": {},
   "source": [
    "# Project 2 -- Seyi Ogunmodede"
   ]
  },
  {
   "cell_type": "markdown",
   "id": "a1228853-dd19-4ab2-89e0-0394d7d72de3",
   "metadata": {},
   "source": [
    "**Instructor Help: Dr.Mark Daniel Ward\n",
    "- Help with figuring out how to write a function.\n",
    "- Help to navigate through the instructions\n",
    "- Got help through the video\n",
    "    \n",
    "**Collaboration:** \n",
    "    \n"
   ]
  },
  {
   "cell_type": "markdown",
   "id": "6180e742-8e39-4698-98ff-5b00c8cf8ea0",
   "metadata": {},
   "source": [
    "## Question 1"
   ]
  },
  {
   "cell_type": "code",
   "execution_count": 5,
   "id": "49445606-d363-41b4-b479-e319a9a84c01",
   "metadata": {},
   "outputs": [],
   "source": [
    "%%R\n",
    "myDF <- read.csv(\"/anvil/projects/tdm/data/flights/subset/1995.csv\", stringsAsFactors = TRUE)"
   ]
  },
  {
   "cell_type": "code",
   "execution_count": 6,
   "id": "65a72dc7-6414-460f-920c-815873a55825",
   "metadata": {},
   "outputs": [
    {
     "name": "stdout",
     "output_type": "stream",
     "text": [
      "  Year Month DayofMonth DayOfWeek DepTime CRSDepTime ArrTime CRSArrTime\n",
      "1 1995     1          6         5     657        645     952        937\n",
      "2 1995     1          7         6     648        645     938        937\n",
      "3 1995     1          8         7     649        645     932        937\n",
      "4 1995     1          9         1     645        645     928        937\n",
      "5 1995     1         10         2     645        645     931        937\n",
      "6 1995     1         11         3     646        645     929        937\n",
      "  UniqueCarrier FlightNum TailNum ActualElapsedTime CRSElapsedTime AirTime\n",
      "1            UA       482  N7298U               115            112      83\n",
      "2            UA       482  N7449U               110            112      88\n",
      "3            UA       482  N7453U               103            112      83\n",
      "4            UA       482  N7288U               103            112      84\n",
      "5            UA       482  N7275U               106            112      82\n",
      "6            UA       482  N7281U               103            112      85\n",
      "  ArrDelay DepDelay Origin Dest Distance TaxiIn TaxiOut Cancelled\n",
      "1       15       12    ORD  PHL      678      7      25         0\n",
      "2        1        3    ORD  PHL      678      5      17         0\n",
      "3       -5        4    ORD  PHL      678      3      17         0\n",
      "4       -9        0    ORD  PHL      678      3      16         0\n",
      "5       -6        0    ORD  PHL      678      6      18         0\n",
      "6       -8        1    ORD  PHL      678      5      13         0\n",
      "  CancellationCode Diverted CarrierDelay WeatherDelay NASDelay SecurityDelay\n",
      "1               NA        0           NA           NA       NA            NA\n",
      "2               NA        0           NA           NA       NA            NA\n",
      "3               NA        0           NA           NA       NA            NA\n",
      "4               NA        0           NA           NA       NA            NA\n",
      "5               NA        0           NA           NA       NA            NA\n",
      "6               NA        0           NA           NA       NA            NA\n",
      "  LateAircraftDelay\n",
      "1                NA\n",
      "2                NA\n",
      "3                NA\n",
      "4                NA\n",
      "5                NA\n",
      "6                NA\n"
     ]
    }
   ],
   "source": [
    "%%R\n",
    "head(myDF)"
   ]
  },
  {
   "cell_type": "code",
   "execution_count": 4,
   "id": "d6aaa4c0-e2ae-41ab-a8de-55e40cdf7115",
   "metadata": {},
   "outputs": [
    {
     "name": "stdout",
     "output_type": "stream",
     "text": [
      "[1] 5327435      29\n"
     ]
    }
   ],
   "source": [
    "%%R\n",
    "dim(myDF)"
   ]
  },
  {
   "cell_type": "code",
   "execution_count": 6,
   "id": "f372411c-7ca0-4347-9cfa-ba68c5cb2c2e",
   "metadata": {
    "tags": []
   },
   "outputs": [
    {
     "name": "stdout",
     "output_type": "stream",
     "text": [
      "'data.frame':\t5327435 obs. of  29 variables:\n",
      " $ Year             : int  1995 1995 1995 1995 1995 1995 1995 1995 1995 1995 ...\n",
      " $ Month            : int  1 1 1 1 1 1 1 1 1 1 ...\n",
      " $ DayofMonth       : int  6 7 8 9 10 11 12 13 14 15 ...\n",
      " $ DayOfWeek        : int  5 6 7 1 2 3 4 5 6 7 ...\n",
      " $ DepTime          : int  657 648 649 645 645 646 NA 644 644 643 ...\n",
      " $ CRSDepTime       : int  645 645 645 645 645 645 645 645 645 645 ...\n",
      " $ ArrTime          : int  952 938 932 928 931 929 NA 953 938 940 ...\n",
      " $ CRSArrTime       : int  937 937 937 937 937 937 937 937 937 937 ...\n",
      " $ UniqueCarrier    : Factor w/ 10 levels \"AA\",\"AS\",\"CO\",..: 8 8 8 8 8 8 8 8 8 8 ...\n",
      " $ FlightNum        : int  482 482 482 482 482 482 482 482 482 482 ...\n",
      " $ TailNum          : Factor w/ 3508 levels \"112\",\"EI-BOM\",..: 2526 2561 2566 2511 2489 2498 3508 2467 2504 2484 ...\n",
      " $ ActualElapsedTime: int  115 110 103 103 106 103 NA 129 114 117 ...\n",
      " $ CRSElapsedTime   : int  112 112 112 112 112 112 112 112 112 112 ...\n",
      " $ AirTime          : int  83 88 83 84 82 85 45 110 94 99 ...\n",
      " $ ArrDelay         : int  15 1 -5 -9 -6 -8 NA 16 1 3 ...\n",
      " $ DepDelay         : int  12 3 4 0 0 1 NA -1 -1 -2 ...\n",
      " $ Origin           : Factor w/ 218 levels \"ABE\",\"ABQ\",\"ACK\",..: 157 157 157 157 157 157 157 157 157 157 ...\n",
      " $ Dest             : Factor w/ 218 levels \"ABE\",\"ABQ\",\"ACK\",..: 165 165 165 165 165 165 165 165 165 165 ...\n",
      " $ Distance         : int  678 678 678 678 678 678 678 678 678 678 ...\n",
      " $ TaxiIn           : int  7 5 3 3 6 5 6 5 5 3 ...\n",
      " $ TaxiOut          : int  25 17 17 16 18 13 10 14 15 15 ...\n",
      " $ Cancelled        : int  0 0 0 0 0 0 1 0 0 0 ...\n",
      " $ CancellationCode : logi  NA NA NA NA NA NA ...\n",
      " $ Diverted         : int  0 0 0 0 0 0 0 0 0 0 ...\n",
      " $ CarrierDelay     : logi  NA NA NA NA NA NA ...\n",
      " $ WeatherDelay     : logi  NA NA NA NA NA NA ...\n",
      " $ NASDelay         : logi  NA NA NA NA NA NA ...\n",
      " $ SecurityDelay    : logi  NA NA NA NA NA NA ...\n",
      " $ LateAircraftDelay: logi  NA NA NA NA NA NA ...\n"
     ]
    }
   ],
   "source": [
    "%%R\n",
    "str(myDF)"
   ]
  },
  {
   "cell_type": "code",
   "execution_count": 7,
   "id": "b0995742-94bb-457d-b1d5-580f9db18d0e",
   "metadata": {},
   "outputs": [
    {
     "name": "stdout",
     "output_type": "stream",
     "text": [
      "        Year Month DayofMonth DayOfWeek DepTime CRSDepTime ArrTime CRSArrTime\n",
      "5327430 1995    12         11         1    2220       2215    2337       2332\n",
      "5327431 1995    12         12         2    2217       2215    2332       2332\n",
      "5327432 1995    12         13         3    2216       2215    2355       2332\n",
      "5327433 1995    12         14         4    2215       2215    2341       2332\n",
      "5327434 1995    12         15         5    2236       2215    2348       2332\n",
      "5327435 1995    12         17         7    2215       2215    2328       2332\n",
      "        UniqueCarrier FlightNum TailNum ActualElapsedTime CRSElapsedTime\n",
      "5327430            TW       427   N959U               137            137\n",
      "5327431            TW       427  N9409F               135            137\n",
      "5327432            TW       427  N912TW               159            137\n",
      "5327433            TW       427  N902TW               146            137\n",
      "5327434            TW       427   N954U               132            137\n",
      "5327435            TW       427  N920TW               133            137\n",
      "        AirTime ArrDelay DepDelay Origin Dest Distance TaxiIn TaxiOut Cancelled\n",
      "5327430     122        5        5    STL  DEN      770      6       9         0\n",
      "5327431     118        0        2    STL  DEN      770      5      12         0\n",
      "5327432     129       23        1    STL  DEN      770      6      24         0\n",
      "5327433     125        9        0    STL  DEN      770      5      16         0\n",
      "5327434     114       16       21    STL  DEN      770      5      13         0\n",
      "5327435     111       -4        0    STL  DEN      770      6      16         0\n",
      "        CancellationCode Diverted CarrierDelay WeatherDelay NASDelay\n",
      "5327430               NA        0           NA           NA       NA\n",
      "5327431               NA        0           NA           NA       NA\n",
      "5327432               NA        0           NA           NA       NA\n",
      "5327433               NA        0           NA           NA       NA\n",
      "5327434               NA        0           NA           NA       NA\n",
      "5327435               NA        0           NA           NA       NA\n",
      "        SecurityDelay LateAircraftDelay\n",
      "5327430            NA                NA\n",
      "5327431            NA                NA\n",
      "5327432            NA                NA\n",
      "5327433            NA                NA\n",
      "5327434            NA                NA\n",
      "5327435            NA                NA\n"
     ]
    }
   ],
   "source": [
    "%%R\n",
    "tail(myDF)"
   ]
  },
  {
   "cell_type": "code",
   "execution_count": 15,
   "id": "b02550e2-1e53-46be-a102-e4eef1ef6079",
   "metadata": {},
   "outputs": [
    {
     "name": "stdout",
     "output_type": "stream",
     "text": [
      "[1] \"factor\"\n"
     ]
    }
   ],
   "source": [
    "%%R\n",
    "class(myDF$Dest)"
   ]
  },
  {
   "cell_type": "code",
   "execution_count": 8,
   "id": "f8651201-75fa-484f-af3e-800c24d21fd7",
   "metadata": {},
   "outputs": [
    {
     "name": "stdout",
     "output_type": "stream",
     "text": [
      "[1] \"data.frame\"\n"
     ]
    }
   ],
   "source": [
    "%%R\n",
    "class(myDF)"
   ]
  },
  {
   "cell_type": "code",
   "execution_count": 9,
   "id": "8fdaa3eb-8d1a-4043-80d4-ddf05830c655",
   "metadata": {},
   "outputs": [
    {
     "name": "stdout",
     "output_type": "stream",
     "text": [
      "   Min. 1st Qu.  Median    Mean 3rd Qu.    Max.    NA's \n",
      "-972.00   -6.00    1.00    7.02   11.00 1348.00  102397 \n"
     ]
    }
   ],
   "source": [
    "%%R\n",
    "summary(myDF$ArrDelay)"
   ]
  },
  {
   "cell_type": "code",
   "execution_count": 10,
   "id": "899de63e-4dce-4617-9011-229a13243c21",
   "metadata": {},
   "outputs": [
    {
     "name": "stdout",
     "output_type": "stream",
     "text": [
      "[1] \"integer\"\n"
     ]
    }
   ],
   "source": [
    "%%R\n",
    "class(myDF$ArrDelay)"
   ]
  },
  {
   "cell_type": "code",
   "execution_count": 24,
   "id": "f38799ee-e572-4092-8ef4-e8c6d8b15ee0",
   "metadata": {},
   "outputs": [
    {
     "name": "stdout",
     "output_type": "stream",
     "text": [
      "[1] 5327435      29\n"
     ]
    }
   ],
   "source": [
    "%%R\n",
    "dim(myDF)"
   ]
  },
  {
   "cell_type": "code",
   "execution_count": null,
   "id": "18ce40b4-1446-426c-8836-1e7ef16c8028",
   "metadata": {},
   "outputs": [],
   "source": []
  },
  {
   "cell_type": "code",
   "execution_count": null,
   "id": "2fb03b80-9885-428f-ba86-edcca32d826b",
   "metadata": {},
   "outputs": [],
   "source": []
  },
  {
   "cell_type": "code",
   "execution_count": null,
   "id": "1b42f7bc-6ed3-4bd8-a2c5-966babbe7e12",
   "metadata": {},
   "outputs": [],
   "source": []
  },
  {
   "cell_type": "markdown",
   "id": "b456e57c-4a12-464b-999a-ef2df5af80c1",
   "metadata": {},
   "source": [
    "A. It has 29 column\n",
    "B. It has 5327435 rows\n",
    "C. The type of data in the data frame are integer, factor and logical\n"
   ]
  },
  {
   "cell_type": "markdown",
   "id": "fc601975-35ed-4680-a4e1-0273ee3cc047",
   "metadata": {
    "tags": []
   },
   "source": [
    "## Question 2"
   ]
  },
  {
   "cell_type": "code",
   "execution_count": 11,
   "id": "9e4b4e6d-6b71-4763-bff0-ad811021aef6",
   "metadata": {},
   "outputs": [],
   "source": [
    "%%R\n",
    "myairports <- myDF$Origin"
   ]
  },
  {
   "cell_type": "code",
   "execution_count": 12,
   "id": "011f56a8-cf53-47b4-90f8-8660b35af5bb",
   "metadata": {},
   "outputs": [
    {
     "name": "stdout",
     "output_type": "stream",
     "text": [
      " Factor w/ 218 levels \"ABE\",\"ABQ\",\"ACK\",..: 157 157 157 157 157 157 157 157 157 157 ...\n"
     ]
    }
   ],
   "source": [
    "%%R\n",
    "str(myairports <- myDF$Origin)"
   ]
  },
  {
   "cell_type": "code",
   "execution_count": 29,
   "id": "c1ead488-8540-415e-9c5b-504e4eccb45d",
   "metadata": {},
   "outputs": [
    {
     "name": "stdout",
     "output_type": "stream",
     "text": [
      "[1] 5327435\n"
     ]
    }
   ],
   "source": [
    "%%R\n",
    "length(myairports <- myDF$Origin)"
   ]
  },
  {
   "cell_type": "code",
   "execution_count": 26,
   "id": "9ff2a490-05c0-4f16-bb5f-c8bab4b392fd",
   "metadata": {},
   "outputs": [
    {
     "name": "stdout",
     "output_type": "stream",
     "text": [
      "[1] \"factor\"\n"
     ]
    }
   ],
   "source": [
    "%%R\n",
    "class(myairports)"
   ]
  },
  {
   "cell_type": "code",
   "execution_count": 28,
   "id": "69a52af3-08a8-4da5-ac57-04818af5b099",
   "metadata": {},
   "outputs": [
    {
     "name": "stdout",
     "output_type": "stream",
     "text": [
      "  [1] \"ABE\" \"ABQ\" \"ACK\" \"ADQ\" \"AGS\" \"AKN\" \"ALB\" \"AMA\" \"ANC\" \"ANI\" \"ATL\" \"AUS\"\n",
      " [13] \"AVL\" \"AVP\" \"AZO\" \"BDL\" \"BET\" \"BFL\" \"BGM\" \"BGR\" \"BHM\" \"BIL\" \"BIS\" \"BNA\"\n",
      " [25] \"BOI\" \"BOS\" \"BQN\" \"BRO\" \"BRW\" \"BTR\" \"BTV\" \"BUF\" \"BUR\" \"BWI\" \"BZN\" \"CAE\"\n",
      " [37] \"CAK\" \"CDV\" \"CHA\" \"CHS\" \"CID\" \"CLE\" \"CLT\" \"CMH\" \"COS\" \"CRP\" \"CRW\" \"CSG\"\n",
      " [49] \"CVG\" \"DAB\" \"DAL\" \"DAY\" \"DCA\" \"DEN\" \"DFW\" \"DLG\" \"DLH\" \"DRO\" \"DSM\" \"DTW\"\n",
      " [61] \"DUT\" \"EGE\" \"ELM\" \"ELP\" \"ERI\" \"EUG\" \"EVV\" \"EWR\" \"FAI\" \"FAR\" \"FAT\" \"FAY\"\n",
      " [73] \"FCA\" \"FLL\" \"FNT\" \"FSD\" \"FWA\" \"GEG\" \"GFK\" \"GNV\" \"GRB\" \"GRR\" \"GSO\" \"GSP\"\n",
      " [85] \"GST\" \"GTF\" \"GUC\" \"HDN\" \"HLN\" \"HNL\" \"HOU\" \"HPN\" \"HRL\" \"HSV\" \"HTS\" \"HVN\"\n",
      " [97] \"IAD\" \"IAH\" \"ICT\" \"IDA\" \"ILM\" \"IND\" \"ISP\" \"ITH\" \"JAC\" \"JAN\" \"JAX\" \"JFK\"\n",
      "[109] \"JNU\" \"KOA\" \"KSM\" \"KTN\" \"LAN\" \"LAS\" \"LAX\" \"LBB\" \"LEX\" \"LFT\" \"LGA\" \"LGB\"\n",
      "[121] \"LIT\" \"LNK\" \"LSE\" \"LWB\" \"MAF\" \"MBS\" \"MCI\" \"MCO\" \"MDT\" \"MDW\" \"MEM\" \"MFE\"\n",
      "[133] \"MFR\" \"MGM\" \"MHT\" \"MIA\" \"MKE\" \"MLB\" \"MLI\" \"MLU\" \"MOB\" \"MOT\" \"MRY\" \"MSN\"\n",
      "[145] \"MSO\" \"MSP\" \"MSY\" \"MTJ\" \"MYR\" \"OAJ\" \"OAK\" \"OGG\" \"OKC\" \"OMA\" \"OME\" \"ONT\"\n",
      "[157] \"ORD\" \"ORF\" \"OTZ\" \"PBI\" \"PDX\" \"PFN\" \"PHF\" \"PHL\" \"PHX\" \"PIA\" \"PIT\" \"PNS\"\n",
      "[169] \"PSC\" \"PSG\" \"PSP\" \"PVD\" \"PWM\" \"RAP\" \"RDU\" \"RIC\" \"RNO\" \"ROA\" \"ROC\" \"RST\"\n",
      "[181] \"RSW\" \"SAN\" \"SAT\" \"SAV\" \"SBA\" \"SBN\" \"SCC\" \"SDF\" \"SEA\" \"SFO\" \"SGF\" \"SHV\"\n",
      "[193] \"SIT\" \"SJC\" \"SJU\" \"SLC\" \"SMF\" \"SNA\" \"SPN\" \"SRQ\" \"STL\" \"STT\" \"STX\" \"SUX\"\n",
      "[205] \"SWF\" \"SYR\" \"TLH\" \"TOL\" \"TPA\" \"TRI\" \"TUL\" \"TUS\" \"TVC\" \"TWF\" \"TYS\" \"VPS\"\n",
      "[217] \"WRG\" \"YAK\"\n"
     ]
    }
   ],
   "source": [
    "%%R\n",
    "levels(myairports)"
   ]
  },
  {
   "cell_type": "code",
   "execution_count": 31,
   "id": "628f3e43-59d9-44f2-b54b-6579ca83b85c",
   "metadata": {},
   "outputs": [
    {
     "name": "stdout",
     "output_type": "stream",
     "text": [
      "[1] 293422\n"
     ]
    }
   ],
   "source": [
    "%%R\n",
    "sum(myDF$Origin==\"ORD\")"
   ]
  },
  {
   "cell_type": "code",
   "execution_count": 14,
   "id": "2f105e43-087e-4b30-81b2-6d95158597a7",
   "metadata": {},
   "outputs": [
    {
     "name": "stdout",
     "output_type": "stream",
     "text": [
      "[1] 293422\n"
     ]
    }
   ],
   "source": [
    "%%R\n",
    "length(myDF$Origin[myDF$Origin==\"ORD\"])"
   ]
  },
  {
   "cell_type": "code",
   "execution_count": 16,
   "id": "d0100727-f796-41eb-81fa-fc70e22b1b27",
   "metadata": {},
   "outputs": [
    {
     "name": "stdout",
     "output_type": "stream",
     "text": [
      "  [1] ORD ORD ORD ORD ORD ORD ORD ORD ORD ORD ORD ORD ORD ORD ORD ORD ORD ORD\n",
      " [19] ORD ORD ORD ORD ORD ORD ORD ORD ORD ORD ORD ORD ORD ORD ORD ORD ORD ORD\n",
      " [37] ORD ORD ORD ORD ORD ORD ORD ORD ORD ORD ORD ORD ORD ORD ORD ORD ORD ORD\n",
      " [55] ORD ORD ORD ORD ORD ORD ORD ORD ORD ORD ORD ORD ORD ORD ORD ORD ORD ORD\n",
      " [73] ORD ORD ORD ORD ORD ORD ORD ORD ORD ORD ORD ORD ORD ORD ORD ORD ORD ORD\n",
      " [91] ORD ORD ORD ORD ORD ORD ORD ORD ORD ORD ORD ORD ORD ORD ORD ORD ORD ORD\n",
      "[109] ORD ORD ORD ORD ORD ORD ORD ORD ORD ORD ORD ORD ORD ORD ORD ORD ORD ORD\n",
      "[127] ORD ORD ORD ORD ORD ORD ORD ORD ORD ORD ORD ORD ORD ORD ORD ORD ORD ORD\n",
      "[145] ORD ORD ORD ORD ORD ORD ORD ORD ORD ORD ORD ORD ORD ORD ORD ORD ORD ORD\n",
      "[163] ORD ORD ORD ORD ORD ORD ORD ORD ORD ORD ORD ORD ORD ORD ORD ORD ORD ORD\n",
      "[181] ORD ORD ORD ORD ORD ORD ORD ORD ORD ORD ORD ORD ORD ORD ORD ORD ORD ORD\n",
      "[199] ORD ORD ORD ORD ORD ORD ORD ORD ORD ORD ORD ORD ORD ORD ORD ORD ORD ORD\n",
      "[217] ORD ORD ORD ORD ORD ORD ORD ORD ORD ORD ORD ORD ORD ORD ORD ORD ORD ORD\n",
      "[235] ORD ORD ORD ORF ORF ORF ORF ORF ORF ORF ORF ORF ORF ORF ORF ORF\n",
      "218 Levels: ABE ABQ ACK ADQ AGS AKN ALB AMA ANC ANI ATL AUS AVL AVP AZO ... YAK\n"
     ]
    }
   ],
   "source": [
    "%%R\n",
    "head(myDF$Origin,n=250)"
   ]
  },
  {
   "cell_type": "code",
   "execution_count": 17,
   "id": "f8428158-484d-4e6d-ab6f-d52a9ce76334",
   "metadata": {},
   "outputs": [
    {
     "name": "stdout",
     "output_type": "stream",
     "text": [
      "\n",
      "ABE ABQ ACK ADQ AGS AKN ALB AMA ANC ANI ATL AUS AVL AVP AZO BDL BET BFL BGM BGR \n",
      "  0   0   0   0   0   0   0   0   0   0   0   0   0   0   0   0   0   0   0   0 \n",
      "BHM BIL BIS BNA BOI BOS BQN BRO BRW BTR BTV BUF BUR BWI BZN CAE CAK CDV CHA CHS \n",
      "  0   0   0   0   0   0   0   0   0   0   0   0   0   0   0   0   0   0   0   0 \n",
      "CID CLE CLT CMH COS CRP CRW CSG CVG DAB DAL DAY DCA DEN DFW DLG DLH DRO DSM DTW \n",
      "  0   0   0   0   0   0   0   0   0   0   0   0   0   0   0   0   0   0   0   0 \n",
      "DUT EGE ELM ELP ERI EUG EVV EWR FAI FAR FAT FAY FCA FLL FNT FSD FWA GEG GFK GNV \n",
      "  0   0   0   0   0   0   0   0   0   0   0   0   0   0   0   0   0   0   0   0 \n",
      "GRB GRR GSO GSP GST GTF GUC HDN HLN HNL HOU HPN HRL HSV HTS HVN IAD IAH ICT IDA \n",
      "  0   0   0   0   0   0   0   0   0   0   0   0   0   0   0   0   0   0   0   0 \n",
      "ILM IND ISP ITH JAC JAN JAX JFK JNU KOA KSM KTN LAN LAS LAX LBB LEX LFT LGA LGB \n",
      "  0   0   0   0   0   0   0   0   0   0   0   0   0   0   0   0   0   0   0   0 \n",
      "LIT LNK LSE LWB MAF MBS MCI MCO MDT MDW MEM MFE MFR MGM MHT MIA MKE MLB MLI MLU \n",
      "  0   0   0   0   0   0   0   0   0   0   0   0   0   0   0   0   0   0   0   0 \n",
      "MOB MOT MRY MSN MSO MSP MSY MTJ MYR OAJ OAK OGG OKC OMA OME ONT ORD ORF OTZ PBI \n",
      "  0   0   0   0   0   0   0   0   0   0   0   0   0   0   0   0 237  13   0   0 \n",
      "PDX PFN PHF PHL PHX PIA PIT PNS PSC PSG PSP PVD PWM RAP RDU RIC RNO ROA ROC RST \n",
      "  0   0   0   0   0   0   0   0   0   0   0   0   0   0   0   0   0   0   0   0 \n",
      "RSW SAN SAT SAV SBA SBN SCC SDF SEA SFO SGF SHV SIT SJC SJU SLC SMF SNA SPN SRQ \n",
      "  0   0   0   0   0   0   0   0   0   0   0   0   0   0   0   0   0   0   0   0 \n",
      "STL STT STX SUX SWF SYR TLH TOL TPA TRI TUL TUS TVC TWF TYS VPS WRG YAK \n",
      "  0   0   0   0   0   0   0   0   0   0   0   0   0   0   0   0   0   0 \n"
     ]
    }
   ],
   "source": [
    "%%R\n",
    "table(head(myDF$Origin,n=250))"
   ]
  },
  {
   "cell_type": "code",
   "execution_count": 18,
   "id": "2b3a8d01-4964-4cd2-a9f2-40a709fe9316",
   "metadata": {},
   "outputs": [
    {
     "name": "stdout",
     "output_type": "stream",
     "text": [
      "ORD \n",
      "237 \n"
     ]
    }
   ],
   "source": [
    "%%R\n",
    "table(head(myDF$Origin,n=250))[\"ORD\"]"
   ]
  },
  {
   "cell_type": "code",
   "execution_count": 19,
   "id": "3b8c938d-fe48-436a-9a8c-a15071a6abb8",
   "metadata": {},
   "outputs": [
    {
     "name": "stdout",
     "output_type": "stream",
     "text": [
      "\n",
      "   ABE    ABQ    ACK    ADQ    AGS    AKN    ALB    AMA    ANC    ANI    ATL \n",
      "  7198  36871     40    504   2387    475  11997   4294  19040    133 230470 \n",
      "   AUS    AVL    AVP    AZO    BDL    BET    BFL    BGM    BGR    BHM    BIL \n",
      " 36474   2877   2605   2490  25771    981    455   1422   1589  18118   3701 \n",
      "   BIS    BNA    BOI    BOS    BQN    BRO    BRW    BTR    BTV    BUF    BUR \n",
      "  1417  43382  10174  92852    734    687   1024   4741   3362  19932  31472 \n",
      "   BWI    BZN    CAE    CAK    CDV    CHA    CHS    CID    CLE    CLT    CMH \n",
      " 66154   2205   5714   1574    726   3387   9228   5318  66888 131417  38271 \n",
      "   COS    CRP    CRW    CSG    CVG    DAB    DAL    DAY    DCA    DEN    DFW \n",
      " 12077   4225   2031    971  76629   4364  46570  14524  86266 130327 268127 \n",
      "   DLG    DLH    DRO    DSM    DTW    DUT    EGE    ELM    ELP    ERI    EUG \n",
      "   367   1813    102   9177 147610    379    690   1392  28728   1454   2173 \n",
      "   EVV    EWR    FAI    FAR    FAT    FAY    FCA    FLL    FNT    FSD    FWA \n",
      "   709 109592   4843   2339   2507   2188   1018  33641    248   4343   3354 \n",
      "   GEG    GFK    GNV    GRB    GRR    GSO    GSP    GST    GTF    GUC    HDN \n",
      " 12230   1414   1473   2843   9171  32676   8835     98   2428    243    556 \n",
      "   HLN    HNL    HOU    HPN    HRL    HSV    HTS    HVN    IAD    IAH    ICT \n",
      "  1094  12537  57492   6228   5752   6957    615   1081  33053 121029   7051 \n",
      "   IDA    ILM    IND    ISP    ITH    JAC    JAN    JAX    JFK    JNU    KOA \n",
      "  1298   2204  37092   3111   1056   1424   4945  18184  46187   4130    455 \n",
      "   KSM    KTN    LAN    LAS    LAX    LBB    LEX    LFT    LGA    LGB    LIT \n",
      "   133   2589   2365 112181 179909   6338   5070      2  99225   1401  16652 \n",
      "   LNK    LSE    LWB    MAF    MBS    MCI    MCO    MDT    MDW    MEM    MFE \n",
      "  3488   1392      4   7512   3861  56727  67900   8648  47985  53388   4057 \n",
      "   MFR    MGM    MHT    MIA    MKE    MLB    MLI    MLU    MOB    MOT    MRY \n",
      "  1342   2498   4629  70581  17172   3171   1641   2209   5378   1091   1205 \n",
      "   MSN    MSO    MSP    MSY    MTJ    MYR    OAJ    OAK    OGG    OKC    OMA \n",
      "  4640   1822 136436  49179     45   2720    369  65541   2609  22077  18215 \n",
      "   OME    ONT    ORD    ORF    OTZ    PBI    PDX    PFN    PHF    PHL    PHX \n",
      "  1013  40062 293422  18198   1022  22558  48049   1320   1016  91577 157155 \n",
      "   PIA    PIT    PNS    PSC    PSG    PSP    PVD    PWM    RAP    RDU    RIC \n",
      "    76 126190   6621   1454    725   3132  12530   5451   1077  27642  15990 \n",
      "   RNO    ROA    ROC    RST    RSW    SAN    SAT    SAV    SBA    SBN    SCC \n",
      " 20727   3312  16130   3514  14990  65731  38060   5763   1480   3560    632 \n",
      "   SDF    SEA    SFO    SGF    SHV    SIT    SJC    SJU    SLC    SMF    SNA \n",
      " 24094  92016 129137   1575   4552   1311  39283  21458  84056  36051  36159 \n",
      "   SPN    SRQ    STL    STT    STX    SUX    SWF    SYR    TLH    TOL    TPA \n",
      "   105   6863 174847   2874   1059    710   4402  12592   4668   2461  45782 \n",
      "   TRI    TUL    TUS    TVC    TWF    TYS    VPS    WRG    YAK \n",
      "  3056  20795  18549   1055     23   9509   1094    726    726 \n"
     ]
    }
   ],
   "source": [
    "%%R\n",
    "table(myDF$Origin)"
   ]
  },
  {
   "cell_type": "code",
   "execution_count": 20,
   "id": "acb78eb5-e3d0-4d54-a2ae-13aae47ce5a2",
   "metadata": {},
   "outputs": [
    {
     "name": "stdout",
     "output_type": "stream",
     "text": [
      "\n",
      "   LFT    LWB    TWF    ACK    MTJ    PIA    GST    DRO    SPN    ANI    KSM \n",
      "     2      4     23     40     45     76     98    102    105    133    133 \n",
      "   GUC    FNT    DLG    OAJ    DUT    BFL    KOA    AKN    ADQ    HDN    HTS \n",
      "   243    248    367    369    379    455    455    475    504    556    615 \n",
      "   SCC    BRO    EGE    EVV    SUX    PSG    CDV    WRG    YAK    BQN    CSG \n",
      "   632    687    690    709    710    725    726    726    726    734    971 \n",
      "   BET    OME    PHF    FCA    OTZ    BRW    TVC    ITH    STX    RAP    HVN \n",
      "   981   1013   1016   1018   1022   1024   1055   1056   1059   1077   1081 \n",
      "   MOT    HLN    VPS    MRY    IDA    SIT    PFN    MFR    ELM    LSE    LGB \n",
      "  1091   1094   1094   1205   1298   1311   1320   1342   1392   1392   1401 \n",
      "   GFK    BIS    BGM    JAC    ERI    PSC    GNV    SBA    CAK    SGF    BGR \n",
      "  1414   1417   1422   1424   1454   1454   1473   1480   1574   1575   1589 \n",
      "   MLI    DLH    MSO    CRW    EUG    FAY    ILM    BZN    MLU    FAR    LAN \n",
      "  1641   1813   1822   2031   2173   2188   2204   2205   2209   2339   2365 \n",
      "   AGS    GTF    TOL    AZO    MGM    FAT    KTN    AVP    OGG    MYR    GRB \n",
      "  2387   2428   2461   2490   2498   2507   2589   2605   2609   2720   2843 \n",
      "   STT    AVL    TRI    ISP    PSP    MLB    ROA    FWA    BTV    CHA    LNK \n",
      "  2874   2877   3056   3111   3132   3171   3312   3354   3362   3387   3488 \n",
      "   RST    SBN    BIL    MBS    MFE    JNU    CRP    AMA    FSD    DAB    SWF \n",
      "  3514   3560   3701   3861   4057   4130   4225   4294   4343   4364   4402 \n",
      "   SHV    MHT    MSN    TLH    BTR    FAI    JAN    LEX    CID    MOB    PWM \n",
      "  4552   4629   4640   4668   4741   4843   4945   5070   5318   5378   5451 \n",
      "   CAE    HRL    SAV    HPN    LBB    PNS    SRQ    HSV    ICT    ABE    MAF \n",
      "  5714   5752   5763   6228   6338   6621   6863   6957   7051   7198   7512 \n",
      "   MDT    GSP    GRR    DSM    CHS    TYS    BOI    ALB    COS    GEG    PVD \n",
      "  8648   8835   9171   9177   9228   9509  10174  11997  12077  12230  12530 \n",
      "   HNL    SYR    DAY    RSW    RIC    ROC    LIT    MKE    BHM    JAX    ORF \n",
      " 12537  12592  14524  14990  15990  16130  16652  17172  18118  18184  18198 \n",
      "   OMA    TUS    ANC    BUF    RNO    TUL    SJU    OKC    PBI    SDF    BDL \n",
      " 18215  18549  19040  19932  20727  20795  21458  22077  22558  24094  25771 \n",
      "   RDU    ELP    BUR    GSO    IAD    FLL    SMF    SNA    AUS    ABQ    IND \n",
      " 27642  28728  31472  32676  33053  33641  36051  36159  36474  36871  37092 \n",
      "   SAT    CMH    SJC    ONT    BNA    TPA    JFK    DAL    MDW    PDX    MSY \n",
      " 38060  38271  39283  40062  43382  45782  46187  46570  47985  48049  49179 \n",
      "   MEM    MCI    HOU    OAK    SAN    BWI    CLE    MCO    MIA    CVG    SLC \n",
      " 53388  56727  57492  65541  65731  66154  66888  67900  70581  76629  84056 \n",
      "   DCA    PHL    SEA    BOS    LGA    EWR    LAS    IAH    PIT    SFO    DEN \n",
      " 86266  91577  92016  92852  99225 109592 112181 121029 126190 129137 130327 \n",
      "   CLT    MSP    DTW    PHX    STL    LAX    ATL    DFW    ORD \n",
      "131417 136436 147610 157155 174847 179909 230470 268127 293422 \n"
     ]
    }
   ],
   "source": [
    "%%R\n",
    "sort(table(myDF$Origin))"
   ]
  },
  {
   "cell_type": "code",
   "execution_count": 12,
   "id": "86dfee80-bc69-4dd3-9d43-524fb22d4d5d",
   "metadata": {},
   "outputs": [
    {
     "name": "stdout",
     "output_type": "stream",
     "text": [
      "\n",
      "   PHX    STL    LAX    ATL    DFW    ORD \n",
      "157155 174847 179909 230470 268127 293422 \n"
     ]
    }
   ],
   "source": [
    "%%R\n",
    "tail(sort(table(myDF$Origin)))"
   ]
  },
  {
   "cell_type": "code",
   "execution_count": 13,
   "id": "3bbea917-883c-46a2-b54c-7c0dc152c61e",
   "metadata": {},
   "outputs": [
    {
     "name": "stdout",
     "output_type": "stream",
     "text": [
      "\n",
      "   ORD    DFW    ATL    LAX    STL    PHX    DTW    MSP    CLT    DEN    SFO \n",
      "293422 268127 230470 179909 174847 157155 147610 136436 131417 130327 129137 \n",
      "   PIT    IAH    LAS    EWR    LGA    BOS    SEA    PHL    DCA    SLC    CVG \n",
      "126190 121029 112181 109592  99225  92852  92016  91577  86266  84056  76629 \n",
      "   MIA    MCO    CLE    BWI    SAN    OAK    HOU    MCI    MEM    MSY    PDX \n",
      " 70581  67900  66888  66154  65731  65541  57492  56727  53388  49179  48049 \n",
      "   MDW    DAL    JFK    TPA    BNA    ONT    SJC    CMH    SAT    IND    ABQ \n",
      " 47985  46570  46187  45782  43382  40062  39283  38271  38060  37092  36871 \n",
      "   AUS    SNA    SMF    FLL    IAD    GSO    BUR    ELP    RDU    BDL    SDF \n",
      " 36474  36159  36051  33641  33053  32676  31472  28728  27642  25771  24094 \n",
      "   PBI    OKC    SJU    TUL    RNO    BUF    ANC    TUS    OMA    ORF    JAX \n",
      " 22558  22077  21458  20795  20727  19932  19040  18549  18215  18198  18184 \n",
      "   BHM    MKE    LIT    ROC    RIC    RSW    DAY    SYR    HNL    PVD    GEG \n",
      " 18118  17172  16652  16130  15990  14990  14524  12592  12537  12530  12230 \n",
      "   COS    ALB    BOI    TYS    CHS    DSM    GRR    GSP    MDT    MAF    ABE \n",
      " 12077  11997  10174   9509   9228   9177   9171   8835   8648   7512   7198 \n",
      "   ICT    HSV    SRQ    PNS    LBB    HPN    SAV    HRL    CAE    PWM    MOB \n",
      "  7051   6957   6863   6621   6338   6228   5763   5752   5714   5451   5378 \n",
      "   CID    LEX    JAN    FAI    BTR    TLH    MSN    MHT    SHV    SWF    DAB \n",
      "  5318   5070   4945   4843   4741   4668   4640   4629   4552   4402   4364 \n",
      "   FSD    AMA    CRP    JNU    MFE    MBS    BIL    SBN    RST    LNK    CHA \n",
      "  4343   4294   4225   4130   4057   3861   3701   3560   3514   3488   3387 \n",
      "   BTV    FWA    ROA    MLB    PSP    ISP    TRI    AVL    STT    GRB    MYR \n",
      "  3362   3354   3312   3171   3132   3111   3056   2877   2874   2843   2720 \n",
      "   OGG    AVP    KTN    FAT    MGM    AZO    TOL    GTF    AGS    LAN    FAR \n",
      "  2609   2605   2589   2507   2498   2490   2461   2428   2387   2365   2339 \n",
      "   MLU    BZN    ILM    FAY    EUG    CRW    MSO    DLH    MLI    BGR    SGF \n",
      "  2209   2205   2204   2188   2173   2031   1822   1813   1641   1589   1575 \n",
      "   CAK    SBA    GNV    ERI    PSC    JAC    BGM    BIS    GFK    LGB    ELM \n",
      "  1574   1480   1473   1454   1454   1424   1422   1417   1414   1401   1392 \n",
      "   LSE    MFR    PFN    SIT    IDA    MRY    HLN    VPS    MOT    HVN    RAP \n",
      "  1392   1342   1320   1311   1298   1205   1094   1094   1091   1081   1077 \n",
      "   STX    ITH    TVC    BRW    OTZ    FCA    PHF    OME    BET    CSG    BQN \n",
      "  1059   1056   1055   1024   1022   1018   1016   1013    981    971    734 \n",
      "   CDV    WRG    YAK    PSG    SUX    EVV    EGE    BRO    SCC    HTS    HDN \n",
      "   726    726    726    725    710    709    690    687    632    615    556 \n",
      "   ADQ    AKN    BFL    KOA    DUT    OAJ    DLG    FNT    GUC    ANI    KSM \n",
      "   504    475    455    455    379    369    367    248    243    133    133 \n",
      "   SPN    DRO    GST    PIA    MTJ    ACK    TWF    LWB    LFT \n",
      "   105    102     98     76     45     40     23      4      2 \n"
     ]
    }
   ],
   "source": [
    "%%R\n",
    "sort(table(myDF$Origin),decreasing=TRUE)"
   ]
  },
  {
   "cell_type": "code",
   "execution_count": 14,
   "id": "7d93cc49-cd36-4d41-93ba-3831bd5ff8cb",
   "metadata": {},
   "outputs": [
    {
     "name": "stdout",
     "output_type": "stream",
     "text": [
      "\n",
      "   ORD    DFW    ATL    LAX    STL    PHX \n",
      "293422 268127 230470 179909 174847 157155 \n"
     ]
    }
   ],
   "source": [
    "%%R\n",
    "head(sort(table(myDF$Origin),decreasing=TRUE))"
   ]
  },
  {
   "cell_type": "markdown",
   "id": "bdb15906-0c42-4b24-ae0f-0ec512cf02e8",
   "metadata": {},
   "source": [
    "a. The type of data in the vector myairports is Factor with 218 levels.\n",
    "b. How many of the first 250 flights departed from O’Hare? 237. To get this you can use either the code with \"ORD\" or without. \n",
    "c. How many flights departed by O’Hare altogether in 1995? 293422. To get this you can use either of the last four code.\n",
    "\n"
   ]
  },
  {
   "cell_type": "markdown",
   "id": "8e586edd-ff26-4ce2-8f6b-2424b26f2929",
   "metadata": {},
   "source": [
    "## Question 3"
   ]
  },
  {
   "cell_type": "code",
   "execution_count": 15,
   "id": "cf3c5c03-2598-4235-a831-aba5a683e097",
   "metadata": {},
   "outputs": [
    {
     "name": "stdout",
     "output_type": "stream",
     "text": [
      "\n",
      "   ABE    ABQ    ACK    ADQ    AGS    AKN    ALB    AMA    ANC    ANI    ATL \n",
      "  7198  36871     40    504   2387    475  11997   4294  19040    133 230470 \n",
      "   AUS    AVL    AVP    AZO    BDL    BET    BFL    BGM    BGR    BHM    BIL \n",
      " 36474   2877   2605   2490  25771    981    455   1422   1589  18118   3701 \n",
      "   BIS    BNA    BOI    BOS    BQN    BRO    BRW    BTR    BTV    BUF    BUR \n",
      "  1417  43382  10174  92852    734    687   1024   4741   3362  19932  31472 \n",
      "   BWI    BZN    CAE    CAK    CDV    CHA    CHS    CID    CLE    CLT    CMH \n",
      " 66154   2205   5714   1574    726   3387   9228   5318  66888 131417  38271 \n",
      "   COS    CRP    CRW    CSG    CVG    DAB    DAL    DAY    DCA    DEN    DFW \n",
      " 12077   4225   2031    971  76629   4364  46570  14524  86266 130327 268127 \n",
      "   DLG    DLH    DRO    DSM    DTW    DUT    EGE    ELM    ELP    ERI    EUG \n",
      "   367   1813    102   9177 147610    379    690   1392  28728   1454   2173 \n",
      "   EVV    EWR    FAI    FAR    FAT    FAY    FCA    FLL    FNT    FSD    FWA \n",
      "   709 109592   4843   2339   2507   2188   1018  33641    248   4343   3354 \n",
      "   GEG    GFK    GNV    GRB    GRR    GSO    GSP    GST    GTF    GUC    HDN \n",
      " 12230   1414   1473   2843   9171  32676   8835     98   2428    243    556 \n",
      "   HLN    HNL    HOU    HPN    HRL    HSV    HTS    HVN    IAD    IAH    ICT \n",
      "  1094  12537  57492   6228   5752   6957    615   1081  33053 121029   7051 \n",
      "   IDA    ILM    IND    ISP    ITH    JAC    JAN    JAX    JFK    JNU    KOA \n",
      "  1298   2204  37092   3111   1056   1424   4945  18184  46187   4130    455 \n",
      "   KSM    KTN    LAN    LAS    LAX    LBB    LEX    LFT    LGA    LGB    LIT \n",
      "   133   2589   2365 112181 179909   6338   5070      2  99225   1401  16652 \n",
      "   LNK    LSE    LWB    MAF    MBS    MCI    MCO    MDT    MDW    MEM    MFE \n",
      "  3488   1392      4   7512   3861  56727  67900   8648  47985  53388   4057 \n",
      "   MFR    MGM    MHT    MIA    MKE    MLB    MLI    MLU    MOB    MOT    MRY \n",
      "  1342   2498   4629  70581  17172   3171   1641   2209   5378   1091   1205 \n",
      "   MSN    MSO    MSP    MSY    MTJ    MYR    OAJ    OAK    OGG    OKC    OMA \n",
      "  4640   1822 136436  49179     45   2720    369  65541   2609  22077  18215 \n",
      "   OME    ONT    ORD    ORF    OTZ    PBI    PDX    PFN    PHF    PHL    PHX \n",
      "  1013  40062 293422  18198   1022  22558  48049   1320   1016  91577 157155 \n",
      "   PIA    PIT    PNS    PSC    PSG    PSP    PVD    PWM    RAP    RDU    RIC \n",
      "    76 126190   6621   1454    725   3132  12530   5451   1077  27642  15990 \n",
      "   RNO    ROA    ROC    RST    RSW    SAN    SAT    SAV    SBA    SBN    SCC \n",
      " 20727   3312  16130   3514  14990  65731  38060   5763   1480   3560    632 \n",
      "   SDF    SEA    SFO    SGF    SHV    SIT    SJC    SJU    SLC    SMF    SNA \n",
      " 24094  92016 129137   1575   4552   1311  39283  21458  84056  36051  36159 \n",
      "   SPN    SRQ    STL    STT    STX    SUX    SWF    SYR    TLH    TOL    TPA \n",
      "   105   6863 174847   2874   1059    710   4402  12592   4668   2461  45782 \n",
      "   TRI    TUL    TUS    TVC    TWF    TYS    VPS    WRG    YAK \n",
      "  3056  20795  18549   1055     23   9509   1094    726    726 \n"
     ]
    }
   ],
   "source": [
    "%%R\n",
    "table(myDF$Origin)"
   ]
  },
  {
   "cell_type": "code",
   "execution_count": 16,
   "id": "b7a1c1d5-cdc4-485e-ba59-97f163db3c7d",
   "metadata": {},
   "outputs": [
    {
     "name": "stdout",
     "output_type": "stream",
     "text": [
      "\n",
      "   LFT    LWB    TWF    ACK    MTJ    PIA    GST    DRO    SPN    ANI    KSM \n",
      "     2      4     23     40     45     76     98    102    105    133    133 \n",
      "   GUC    FNT    DLG    OAJ    DUT    BFL    KOA    AKN    ADQ    HDN    HTS \n",
      "   243    248    367    369    379    455    455    475    504    556    615 \n",
      "   SCC    BRO    EGE    EVV    SUX    PSG    CDV    WRG    YAK    BQN    CSG \n",
      "   632    687    690    709    710    725    726    726    726    734    971 \n",
      "   BET    OME    PHF    FCA    OTZ    BRW    TVC    ITH    STX    RAP    HVN \n",
      "   981   1013   1016   1018   1022   1024   1055   1056   1059   1077   1081 \n",
      "   MOT    HLN    VPS    MRY    IDA    SIT    PFN    MFR    ELM    LSE    LGB \n",
      "  1091   1094   1094   1205   1298   1311   1320   1342   1392   1392   1401 \n",
      "   GFK    BIS    BGM    JAC    ERI    PSC    GNV    SBA    CAK    SGF    BGR \n",
      "  1414   1417   1422   1424   1454   1454   1473   1480   1574   1575   1589 \n",
      "   MLI    DLH    MSO    CRW    EUG    FAY    ILM    BZN    MLU    FAR    LAN \n",
      "  1641   1813   1822   2031   2173   2188   2204   2205   2209   2339   2365 \n",
      "   AGS    GTF    TOL    AZO    MGM    FAT    KTN    AVP    OGG    MYR    GRB \n",
      "  2387   2428   2461   2490   2498   2507   2589   2605   2609   2720   2843 \n",
      "   STT    AVL    TRI    ISP    PSP    MLB    ROA    FWA    BTV    CHA    LNK \n",
      "  2874   2877   3056   3111   3132   3171   3312   3354   3362   3387   3488 \n",
      "   RST    SBN    BIL    MBS    MFE    JNU    CRP    AMA    FSD    DAB    SWF \n",
      "  3514   3560   3701   3861   4057   4130   4225   4294   4343   4364   4402 \n",
      "   SHV    MHT    MSN    TLH    BTR    FAI    JAN    LEX    CID    MOB    PWM \n",
      "  4552   4629   4640   4668   4741   4843   4945   5070   5318   5378   5451 \n",
      "   CAE    HRL    SAV    HPN    LBB    PNS    SRQ    HSV    ICT    ABE    MAF \n",
      "  5714   5752   5763   6228   6338   6621   6863   6957   7051   7198   7512 \n",
      "   MDT    GSP    GRR    DSM    CHS    TYS    BOI    ALB    COS    GEG    PVD \n",
      "  8648   8835   9171   9177   9228   9509  10174  11997  12077  12230  12530 \n",
      "   HNL    SYR    DAY    RSW    RIC    ROC    LIT    MKE    BHM    JAX    ORF \n",
      " 12537  12592  14524  14990  15990  16130  16652  17172  18118  18184  18198 \n",
      "   OMA    TUS    ANC    BUF    RNO    TUL    SJU    OKC    PBI    SDF    BDL \n",
      " 18215  18549  19040  19932  20727  20795  21458  22077  22558  24094  25771 \n",
      "   RDU    ELP    BUR    GSO    IAD    FLL    SMF    SNA    AUS    ABQ    IND \n",
      " 27642  28728  31472  32676  33053  33641  36051  36159  36474  36871  37092 \n",
      "   SAT    CMH    SJC    ONT    BNA    TPA    JFK    DAL    MDW    PDX    MSY \n",
      " 38060  38271  39283  40062  43382  45782  46187  46570  47985  48049  49179 \n",
      "   MEM    MCI    HOU    OAK    SAN    BWI    CLE    MCO    MIA    CVG    SLC \n",
      " 53388  56727  57492  65541  65731  66154  66888  67900  70581  76629  84056 \n",
      "   DCA    PHL    SEA    BOS    LGA    EWR    LAS    IAH    PIT    SFO    DEN \n",
      " 86266  91577  92016  92852  99225 109592 112181 121029 126190 129137 130327 \n",
      "   CLT    MSP    DTW    PHX    STL    LAX    ATL    DFW    ORD \n",
      "131417 136436 147610 157155 174847 179909 230470 268127 293422 \n"
     ]
    }
   ],
   "source": [
    "%%R\n",
    "sort(table(myDF$Origin))"
   ]
  },
  {
   "cell_type": "code",
   "execution_count": 17,
   "id": "650bdf59-bad8-4eda-80c1-4becd2f7d453",
   "metadata": {},
   "outputs": [
    {
     "name": "stdout",
     "output_type": "stream",
     "text": [
      "\n",
      "   ABE    ABQ    ACK    ADQ    AGS    AKN    ALB    AMA    ANC    ANI    ATL \n",
      "  7192  36865     39    504   2386    475  11992   4289  19047    133 230485 \n",
      "   ATW    AUS    AVL    AVP    AZO    BDL    BET    BFL    BGM    BGR    BHM \n",
      "     1  36462   2877   2608   2489  25766    981    454   1422   1592  18121 \n",
      "   BIL    BIS    BNA    BOI    BOS    BQN    BRO    BRW    BTR    BTV    BUF \n",
      "  3700   1418  43374  10176  92738    733    688   1024   4737   3362  19931 \n",
      "   BUR    BWI    BZN    CAE    CAK    CDV    CHA    CHS    CID    CLE    CLT \n",
      " 31471  66443   2204   5712   1574    726   3389   9226   5321  66874 131420 \n",
      "   CMH    COS    CRP    CRW    CSG    CVG    DAB    DAL    DAY    DCA    DEN \n",
      " 38283  12081   4223   2030    971  76605   4363  46570  14524  86239 130322 \n",
      "   DFW    DLG    DLH    DRO    DSM    DTW    DUT    EGE    ELM    ELP    ERI \n",
      "268159    367   1813    102   9174 147570    379    689   1392  28724   1454 \n",
      "   EUG    EVV    EWR    FAI    FAR    FAT    FAY    FCA    FLL    FNT    FSD \n",
      "  2173    708 109570   4844   2340   2503   2188   1019  33632    247   4345 \n",
      "   FWA    GEG    GFK    GNV    GRB    GRR    GSO    GSP    GST    GTF    GUC \n",
      "  3355  12234   1415   1475   2844   9168  32671   8833     98   2430    241 \n",
      "   GUM    HDN    HLN    HNL    HOU    HPN    HRL    HSV    HTS    HVN    IAD \n",
      "   105    557   1094  12539  57483   6228   5752   6957    614   1081  33053 \n",
      "   IAH    ICT    IDA    ILM    IND    ISP    ITH    JAC    JAN    JAX    JFK \n",
      "121026   7050   1298   2204  37103   3110   1056   1421   4946  18183  46194 \n",
      "   JNU    KOA    KSM    KTN    LAN    LAS    LAX    LBB    LEX    LGA    LGB \n",
      "  4130    456    133   2589   2366 112200 179950   6339   5071  99229   1401 \n",
      "   LIT    LNK    LSE    LWB    MAF    MBS    MCI    MCO    MDT    MDW    MEM \n",
      " 16651   3486   1393      4   7513   3860  56733  67915   8652  47976  53402 \n",
      "   MFE    MFR    MGM    MHT    MIA    MKE    MLB    MLI    MLU    MOB    MOT \n",
      "  4060   1341   2496   4628  70609  17176   3173   1641   2209   5373   1092 \n",
      "   MRY    MSN    MSO    MSP    MSY    MTJ    MYR    OAJ    OAK    OGG    OKC \n",
      "  1206   4642   1822 136419  49170     45   2721    368  65538   2609  22064 \n",
      "   OMA    OME    ONT    ORD    ORF    OTZ    PBI    PDX    PFN    PHF    PHL \n",
      " 18217   1013  40057 293472  18200   1022  22543  48042   1321   1014  91700 \n",
      "   PHX    PIA    PIT    PNS    PSC    PSG    PSP    PVD    PWM    RAP    RDU \n",
      "157158     75 126225   6621   1453    726   3133  12536   5452   1077  27646 \n",
      "   RIC    RNO    ROA    ROC    RST    RSW    SAN    SAT    SAV    SBA    SBN \n",
      " 15991  20723   3312  16105   3515  14997  65724  38056   5762   1479   3562 \n",
      "   SCC    SDF    SEA    SFO    SGF    SHV    SIT    SJC    SJU    SLC    SMF \n",
      "   632  24098  92016 129158   1573   4546   1310  39276  21082  84064  36056 \n",
      "   SNA    SRQ    STL    STT    STX    SUX    SWF    SYR    TLH    TOL    TPA \n",
      " 36158   6860 174846   2946   1059    710   4401  12590   4667   2461  45760 \n",
      "   TRI    TUL    TUS    TVC    TWF    TYS    VPS    WRG    YAK \n",
      "  3057  20805  18546   1056     23   9512   1094    725    726 \n"
     ]
    }
   ],
   "source": [
    "%%R\n",
    "table(myDF$Dest)"
   ]
  },
  {
   "cell_type": "code",
   "execution_count": 7,
   "id": "aa7f6b4f-9d69-47f0-9bb6-7ffbcbfa5dd0",
   "metadata": {},
   "outputs": [
    {
     "name": "stdout",
     "output_type": "stream",
     "text": [
      "  IND \n",
      "37103 \n"
     ]
    }
   ],
   "source": [
    "%%R\n",
    "table(myDF$Dest)[\"IND\"]"
   ]
  },
  {
   "cell_type": "code",
   "execution_count": 18,
   "id": "9f060a77-9058-45d1-8404-266ee5cae429",
   "metadata": {},
   "outputs": [
    {
     "name": "stdout",
     "output_type": "stream",
     "text": [
      "\n",
      "   ATW    LWB    TWF    ACK    MTJ    PIA    GST    DRO    GUM    ANI    KSM \n",
      "     1      4     23     39     45     75     98    102    105    133    133 \n",
      "   GUC    FNT    DLG    OAJ    DUT    BFL    KOA    AKN    ADQ    HDN    HTS \n",
      "   241    247    367    368    379    454    456    475    504    557    614 \n",
      "   SCC    BRO    EGE    EVV    SUX    WRG    CDV    PSG    YAK    BQN    CSG \n",
      "   632    688    689    708    710    725    726    726    726    733    971 \n",
      "   BET    OME    PHF    FCA    OTZ    BRW    ITH    TVC    STX    RAP    HVN \n",
      "   981   1013   1014   1019   1022   1024   1056   1056   1059   1077   1081 \n",
      "   MOT    HLN    VPS    MRY    IDA    SIT    PFN    MFR    ELM    LSE    LGB \n",
      "  1092   1094   1094   1206   1298   1310   1321   1341   1392   1393   1401 \n",
      "   GFK    BIS    JAC    BGM    PSC    ERI    GNV    SBA    SGF    CAK    BGR \n",
      "  1415   1418   1421   1422   1453   1454   1475   1479   1573   1574   1592 \n",
      "   MLI    DLH    MSO    CRW    EUG    FAY    BZN    ILM    MLU    FAR    LAN \n",
      "  1641   1813   1822   2030   2173   2188   2204   2204   2209   2340   2366 \n",
      "   AGS    GTF    TOL    AZO    MGM    FAT    KTN    AVP    OGG    MYR    GRB \n",
      "  2386   2430   2461   2489   2496   2503   2589   2608   2609   2721   2844 \n",
      "   AVL    STT    TRI    ISP    PSP    MLB    ROA    FWA    BTV    CHA    LNK \n",
      "  2877   2946   3057   3110   3133   3173   3312   3355   3362   3389   3486 \n",
      "   RST    SBN    BIL    MBS    MFE    JNU    CRP    AMA    FSD    DAB    SWF \n",
      "  3515   3562   3700   3860   4060   4130   4223   4289   4345   4363   4401 \n",
      "   SHV    MHT    MSN    TLH    BTR    FAI    JAN    LEX    CID    MOB    PWM \n",
      "  4546   4628   4642   4667   4737   4844   4946   5071   5321   5373   5452 \n",
      "   CAE    HRL    SAV    HPN    LBB    PNS    SRQ    HSV    ICT    ABE    MAF \n",
      "  5712   5752   5762   6228   6339   6621   6860   6957   7050   7192   7513 \n",
      "   MDT    GSP    GRR    DSM    CHS    TYS    BOI    ALB    COS    GEG    PVD \n",
      "  8652   8833   9168   9174   9226   9512  10176  11992  12081  12234  12536 \n",
      "   HNL    SYR    DAY    RSW    RIC    ROC    LIT    MKE    BHM    JAX    ORF \n",
      " 12539  12590  14524  14997  15991  16105  16651  17176  18121  18183  18200 \n",
      "   OMA    TUS    ANC    BUF    RNO    TUL    SJU    OKC    PBI    SDF    BDL \n",
      " 18217  18546  19047  19931  20723  20805  21082  22064  22543  24098  25766 \n",
      "   RDU    ELP    BUR    GSO    IAD    FLL    SMF    SNA    AUS    ABQ    IND \n",
      " 27646  28724  31471  32671  33053  33632  36056  36158  36462  36865  37103 \n",
      "   SAT    CMH    SJC    ONT    BNA    TPA    JFK    DAL    MDW    PDX    MSY \n",
      " 38056  38283  39276  40057  43374  45760  46194  46570  47976  48042  49170 \n",
      "   MEM    MCI    HOU    OAK    SAN    BWI    CLE    MCO    MIA    CVG    SLC \n",
      " 53402  56733  57483  65538  65724  66443  66874  67915  70609  76605  84064 \n",
      "   DCA    PHL    SEA    BOS    LGA    EWR    LAS    IAH    PIT    SFO    DEN \n",
      " 86239  91700  92016  92738  99229 109570 112200 121026 126225 129158 130322 \n",
      "   CLT    MSP    DTW    PHX    STL    LAX    ATL    DFW    ORD \n",
      "131420 136419 147570 157158 174846 179950 230485 268159 293472 \n"
     ]
    }
   ],
   "source": [
    "%%R\n",
    "sort(table(myDF$Dest))"
   ]
  },
  {
   "cell_type": "code",
   "execution_count": 8,
   "id": "6a75262a-bdf5-4632-b8eb-24c1e7f368ec",
   "metadata": {},
   "outputs": [
    {
     "name": "stdout",
     "output_type": "stream",
     "text": [
      "  IND \n",
      "37103 \n"
     ]
    }
   ],
   "source": [
    "%%R\n",
    "table(myDF$Dest)[\"IND\"]"
   ]
  },
  {
   "cell_type": "code",
   "execution_count": 19,
   "id": "0c8c76aa-f4ad-40a0-9c9f-cd9cd1adedc2",
   "metadata": {},
   "outputs": [
    {
     "name": "stdout",
     "output_type": "stream",
     "text": [
      "[1] ORD ORD ORD ORD ORD ORD\n",
      "218 Levels: ABE ABQ ACK ADQ AGS AKN ALB AMA ANC ANI ATL AUS AVL AVP AZO ... YAK\n"
     ]
    }
   ],
   "source": [
    "%%R\n",
    "head(myDF$Origin,row=894)"
   ]
  },
  {
   "cell_type": "code",
   "execution_count": 6,
   "id": "01bc1d9e-0f99-4780-8157-ec076f72af95",
   "metadata": {},
   "outputs": [
    {
     "name": "stdout",
     "output_type": "stream",
     "text": [
      "  Year Month DayofMonth DayOfWeek DepTime CRSDepTime ArrTime CRSArrTime\n",
      "1 1995     1          6         5     657        645     952        937\n",
      "2 1995     1          7         6     648        645     938        937\n",
      "3 1995     1          8         7     649        645     932        937\n",
      "4 1995     1          9         1     645        645     928        937\n",
      "5 1995     1         10         2     645        645     931        937\n",
      "6 1995     1         11         3     646        645     929        937\n",
      "  UniqueCarrier FlightNum TailNum ActualElapsedTime CRSElapsedTime AirTime\n",
      "1            UA       482  N7298U               115            112      83\n",
      "2            UA       482  N7449U               110            112      88\n",
      "3            UA       482  N7453U               103            112      83\n",
      "4            UA       482  N7288U               103            112      84\n",
      "5            UA       482  N7275U               106            112      82\n",
      "6            UA       482  N7281U               103            112      85\n",
      "  ArrDelay DepDelay Origin Dest Distance TaxiIn TaxiOut Cancelled\n",
      "1       15       12    ORD  PHL      678      7      25         0\n",
      "2        1        3    ORD  PHL      678      5      17         0\n",
      "3       -5        4    ORD  PHL      678      3      17         0\n",
      "4       -9        0    ORD  PHL      678      3      16         0\n",
      "5       -6        0    ORD  PHL      678      6      18         0\n",
      "6       -8        1    ORD  PHL      678      5      13         0\n",
      "  CancellationCode Diverted CarrierDelay WeatherDelay NASDelay SecurityDelay\n",
      "1               NA        0           NA           NA       NA            NA\n",
      "2               NA        0           NA           NA       NA            NA\n",
      "3               NA        0           NA           NA       NA            NA\n",
      "4               NA        0           NA           NA       NA            NA\n",
      "5               NA        0           NA           NA       NA            NA\n",
      "6               NA        0           NA           NA       NA            NA\n",
      "  LateAircraftDelay\n",
      "1                NA\n",
      "2                NA\n",
      "3                NA\n",
      "4                NA\n",
      "5                NA\n",
      "6                NA\n"
     ]
    }
   ],
   "source": [
    "%%R\n",
    "head(myDF,row=894)"
   ]
  },
  {
   "cell_type": "code",
   "execution_count": 23,
   "id": "324b2853-7f58-4c3d-a3c2-0adb3282adc2",
   "metadata": {},
   "outputs": [
    {
     "name": "stdout",
     "output_type": "stream",
     "text": [
      "[1] PHL PHL PHL PHL PHL PHL\n",
      "218 Levels: ABE ABQ ACK ADQ AGS AKN ALB AMA ANC ANI ATL ATW AUS AVL AVP ... YAK\n"
     ]
    }
   ],
   "source": [
    "%%R\n",
    "head(myDF$Dest,row=894)"
   ]
  },
  {
   "cell_type": "code",
   "execution_count": 7,
   "id": "e3311634-c0a5-4816-9a0e-9265cbb4d803",
   "metadata": {},
   "outputs": [
    {
     "name": "stdout",
     "output_type": "stream",
     "text": [
      "  Year Month DayofMonth DayOfWeek DepTime CRSDepTime ArrTime CRSArrTime\n",
      "1 1995     1          6         5     657        645     952        937\n",
      "2 1995     1          7         6     648        645     938        937\n",
      "3 1995     1          8         7     649        645     932        937\n",
      "4 1995     1          9         1     645        645     928        937\n",
      "5 1995     1         10         2     645        645     931        937\n",
      "6 1995     1         11         3     646        645     929        937\n",
      "  UniqueCarrier FlightNum TailNum ActualElapsedTime CRSElapsedTime AirTime\n",
      "1            UA       482  N7298U               115            112      83\n",
      "2            UA       482  N7449U               110            112      88\n",
      "3            UA       482  N7453U               103            112      83\n",
      "4            UA       482  N7288U               103            112      84\n",
      "5            UA       482  N7275U               106            112      82\n",
      "6            UA       482  N7281U               103            112      85\n",
      "  ArrDelay DepDelay Origin Dest Distance TaxiIn TaxiOut Cancelled\n",
      "1       15       12    ORD  PHL      678      7      25         0\n",
      "2        1        3    ORD  PHL      678      5      17         0\n",
      "3       -5        4    ORD  PHL      678      3      17         0\n",
      "4       -9        0    ORD  PHL      678      3      16         0\n",
      "5       -6        0    ORD  PHL      678      6      18         0\n",
      "6       -8        1    ORD  PHL      678      5      13         0\n",
      "  CancellationCode Diverted CarrierDelay WeatherDelay NASDelay SecurityDelay\n",
      "1               NA        0           NA           NA       NA            NA\n",
      "2               NA        0           NA           NA       NA            NA\n",
      "3               NA        0           NA           NA       NA            NA\n",
      "4               NA        0           NA           NA       NA            NA\n",
      "5               NA        0           NA           NA       NA            NA\n",
      "6               NA        0           NA           NA       NA            NA\n",
      "  LateAircraftDelay\n",
      "1                NA\n",
      "2                NA\n",
      "3                NA\n",
      "4                NA\n",
      "5                NA\n",
      "6                NA\n"
     ]
    }
   ],
   "source": [
    "%%R\n",
    "head(myDF,row=894)"
   ]
  },
  {
   "cell_type": "code",
   "execution_count": 2,
   "id": "7ac17290-b447-426d-8325-ce5d478dfded",
   "metadata": {},
   "outputs": [
    {
     "name": "stdout",
     "output_type": "stream",
     "text": [
      "  Year Month DayofMonth DayOfWeek DepTime CRSDepTime ArrTime CRSArrTime\n",
      "1 1995     1          6         5     657        645     952        937\n",
      "2 1995     1          7         6     648        645     938        937\n",
      "3 1995     1          8         7     649        645     932        937\n",
      "4 1995     1          9         1     645        645     928        937\n",
      "5 1995     1         10         2     645        645     931        937\n",
      "6 1995     1         11         3     646        645     929        937\n",
      "  UniqueCarrier FlightNum TailNum ActualElapsedTime CRSElapsedTime AirTime\n",
      "1            UA       482  N7298U               115            112      83\n",
      "2            UA       482  N7449U               110            112      88\n",
      "3            UA       482  N7453U               103            112      83\n",
      "4            UA       482  N7288U               103            112      84\n",
      "5            UA       482  N7275U               106            112      82\n",
      "6            UA       482  N7281U               103            112      85\n",
      "  ArrDelay DepDelay Origin Dest Distance TaxiIn TaxiOut Cancelled\n",
      "1       15       12    ORD  PHL      678      7      25         0\n",
      "2        1        3    ORD  PHL      678      5      17         0\n",
      "3       -5        4    ORD  PHL      678      3      17         0\n",
      "4       -9        0    ORD  PHL      678      3      16         0\n",
      "5       -6        0    ORD  PHL      678      6      18         0\n",
      "6       -8        1    ORD  PHL      678      5      13         0\n",
      "  CancellationCode Diverted CarrierDelay WeatherDelay NASDelay SecurityDelay\n",
      "1               NA        0           NA           NA       NA            NA\n",
      "2               NA        0           NA           NA       NA            NA\n",
      "3               NA        0           NA           NA       NA            NA\n",
      "4               NA        0           NA           NA       NA            NA\n",
      "5               NA        0           NA           NA       NA            NA\n",
      "6               NA        0           NA           NA       NA            NA\n",
      "  LateAircraftDelay\n",
      "1                NA\n",
      "2                NA\n",
      "3                NA\n",
      "4                NA\n",
      "5                NA\n",
      "6                NA\n"
     ]
    }
   ],
   "source": [
    "%%R\n",
    "head(myDF)"
   ]
  },
  {
   "cell_type": "code",
   "execution_count": 3,
   "id": "e75993f0-9a6f-4068-9757-9b9b41bd33f7",
   "metadata": {},
   "outputs": [
    {
     "name": "stdout",
     "output_type": "stream",
     "text": [
      "[1] 678 678 678 678 678 678\n"
     ]
    }
   ],
   "source": [
    "%%R\n",
    "head(myDF$Dist)"
   ]
  },
  {
   "cell_type": "code",
   "execution_count": 4,
   "id": "d6067ba6-50fa-44e9-8269-dc00b0768af2",
   "metadata": {},
   "outputs": [
    {
     "name": "stdout",
     "output_type": "stream",
     "text": [
      "[1] 770 770 770 770 770 770\n"
     ]
    }
   ],
   "source": [
    "%%R\n",
    "tail(myDF$Dist)"
   ]
  },
  {
   "cell_type": "code",
   "execution_count": 5,
   "id": "7f02a1d8-3b75-4572-b5e7-2a72f9df258f",
   "metadata": {},
   "outputs": [
    {
     "name": "stdout",
     "output_type": "stream",
     "text": [
      "   Min. 1st Qu.  Median    Mean 3rd Qu.    Max.    NA's \n",
      "   11.0   316.0   545.0   695.5   934.0  4502.0    5987 \n"
     ]
    }
   ],
   "source": [
    "%%R\n",
    "summary(myDF$Dist)"
   ]
  },
  {
   "cell_type": "code",
   "execution_count": 19,
   "id": "38ec7e25-804c-4e5f-a8c2-5c00efe7defa",
   "metadata": {},
   "outputs": [
    {
     "name": "stdout",
     "output_type": "stream",
     "text": [
      "[1] 475141\n"
     ]
    }
   ],
   "source": [
    "%%R\n",
    "length(myDF$Dist[myDF$Dist <200])\n",
    "# this method includes the NA values ( it keeps the NA values around, incase you want them)\n"
   ]
  },
  {
   "cell_type": "code",
   "execution_count": 16,
   "id": "ca1e3083-2902-4d65-aae0-be978b393e98",
   "metadata": {},
   "outputs": [
    {
     "name": "stdout",
     "output_type": "stream",
     "text": [
      "[1] FALSE FALSE FALSE FALSE FALSE FALSE\n"
     ]
    }
   ],
   "source": [
    "%%R\n",
    "head(myDF$Dist < 200)"
   ]
  },
  {
   "cell_type": "code",
   "execution_count": 17,
   "id": "aa9f381e-ccb2-4fdb-9181-706419bb969c",
   "metadata": {},
   "outputs": [
    {
     "name": "stdout",
     "output_type": "stream",
     "text": [
      "[1] TRUE TRUE TRUE TRUE TRUE TRUE\n"
     ]
    }
   ],
   "source": [
    "%%R\n",
    "head(myDF$Dist >= 200)"
   ]
  },
  {
   "cell_type": "code",
   "execution_count": 20,
   "id": "0f5b7a7f-d419-4783-917b-7e59367fad52",
   "metadata": {},
   "outputs": [
    {
     "name": "stdout",
     "output_type": "stream",
     "text": [
      "[1] NA\n"
     ]
    }
   ],
   "source": [
    "%%R\n",
    "sum(myDF$Dist < 200)\n",
    "# when i tried adding TRUEand FALSE values\n",
    "# the TRUE values become 1\n",
    "# the FALSE value become 0\n",
    "# so the sum is the number of true values"
   ]
  },
  {
   "cell_type": "code",
   "execution_count": 22,
   "id": "ecd6e2c8-d5ea-4632-9c20-125e7e8d368e",
   "metadata": {},
   "outputs": [
    {
     "name": "stdout",
     "output_type": "stream",
     "text": [
      "[1] 469154\n"
     ]
    }
   ],
   "source": [
    "%%R\n",
    "sum(myDF$Dist < 200, na.rm=TRUE)\n",
    "# when i tried adding TRUEand FALSE values\n",
    "# the TRUE values become 1\n",
    "# the FALSE value become 0\n",
    "# so the sum is the number of true values"
   ]
  },
  {
   "cell_type": "code",
   "execution_count": 23,
   "id": "9bdb8bb5-4714-4dfa-a53b-51f4b95e6d01",
   "metadata": {},
   "outputs": [
    {
     "name": "stdout",
     "output_type": "stream",
     "text": [
      "[1] 475141\n"
     ]
    }
   ],
   "source": [
    "%%R\n",
    "469154 + 5987"
   ]
  },
  {
   "cell_type": "code",
   "execution_count": 25,
   "id": "ec95ff2d-e43a-4883-af10-d8f437361b2d",
   "metadata": {},
   "outputs": [
    {
     "name": "stdout",
     "output_type": "stream",
     "text": [
      "[1] 469154\n"
     ]
    }
   ],
   "source": [
    "%%R\n",
    "sum(myDF$Dist < 200, na.rm=TRUE)"
   ]
  },
  {
   "cell_type": "code",
   "execution_count": 26,
   "id": "f2015ed2-e84f-460c-bbbc-2f9920b499cf",
   "metadata": {},
   "outputs": [
    {
     "name": "stdout",
     "output_type": "stream",
     "text": [
      "[1] 4852294\n"
     ]
    }
   ],
   "source": [
    "%%R\n",
    "sum(myDF$Dist >= 200, na.rm=TRUE)"
   ]
  },
  {
   "cell_type": "code",
   "execution_count": 28,
   "id": "0b275351-f4db-45bc-8713-35ad706cd186",
   "metadata": {},
   "outputs": [
    {
     "name": "stdout",
     "output_type": "stream",
     "text": [
      "[1] 5987\n"
     ]
    }
   ],
   "source": [
    "%%R\n",
    "sum(is.na(myDF$Dist))"
   ]
  },
  {
   "cell_type": "code",
   "execution_count": 29,
   "id": "0966ca04-2a6e-40fe-b719-1554f079cb57",
   "metadata": {},
   "outputs": [
    {
     "name": "stdout",
     "output_type": "stream",
     "text": [
      "[1] 5327435\n"
     ]
    }
   ],
   "source": [
    "%%R\n",
    "469154 + 4852294 + 5987"
   ]
  },
  {
   "cell_type": "code",
   "execution_count": null,
   "id": "a04ad5f3-61b7-450f-bd5d-9183ee3f20fb",
   "metadata": {},
   "outputs": [],
   "source": []
  },
  {
   "cell_type": "markdown",
   "id": "47c6229f-35f7-400c-8366-c442baa5cf47",
   "metadata": {
    "tags": []
   },
   "source": [
    "How many flights departed from Indianapolis (IND) in 1995? 37092\n",
    "How many flights landed there? 37103\n",
    "Consider the flight data from row 894 the data frame. What airport did it depart from? ORD\n",
    "Where did it arrive? PHL\n",
    "How many flights have a distance of less than 200 miles? 475141\n",
    "\n"
   ]
  },
  {
   "cell_type": "markdown",
   "id": "da22f29c-d245-4d2b-9fc1-ca14cb6087d9",
   "metadata": {},
   "source": [
    "## Question 4"
   ]
  },
  {
   "cell_type": "code",
   "execution_count": 3,
   "id": "8cffc767-d1c8-4d64-b7dc-f0d2ee8a80d1",
   "metadata": {},
   "outputs": [
    {
     "name": "stdout",
     "output_type": "stream",
     "text": [
      "\n",
      "    AA     AS     CO     DL     HP     NW     TW     UA     US     WN \n",
      "688471 135124 434425 884019 194508 521693 272452 724807 778835 693101 \n"
     ]
    }
   ],
   "source": [
    "%%R\n",
    "table(myDF$UniqueCarrier)"
   ]
  },
  {
   "cell_type": "code",
   "execution_count": 4,
   "id": "567971a4-bbe4-4eb0-b633-55217ca353bd",
   "metadata": {},
   "outputs": [
    {
     "name": "stdout",
     "output_type": "stream",
     "text": [
      "\n",
      "    AS     HP     TW     CO     NW     AA     WN     UA     US     DL \n",
      "135124 194508 272452 434425 521693 688471 693101 724807 778835 884019 \n"
     ]
    }
   ],
   "source": [
    "%%R\n",
    "sort(table(myDF$UniqueCarrier))"
   ]
  },
  {
   "cell_type": "code",
   "execution_count": 5,
   "id": "7467916a-1f5d-443f-91e9-96aeb8db1246",
   "metadata": {},
   "outputs": [
    {
     "name": "stdout",
     "output_type": "stream",
     "text": [
      "\n",
      "    DL     US     UA     WN     AA     NW     CO     TW     HP     AS \n",
      "884019 778835 724807 693101 688471 521693 434425 272452 194508 135124 \n"
     ]
    }
   ],
   "source": [
    "%%R\n",
    "sort(table(myDF$UniqueCarrier), decreasing=TRUE)"
   ]
  },
  {
   "cell_type": "code",
   "execution_count": 6,
   "id": "8ba7eed7-05dd-4f47-bcdb-76f7b3dce1f3",
   "metadata": {},
   "outputs": [
    {
     "name": "stdout",
     "output_type": "stream",
     "text": [
      "\n",
      "    DL     US     UA     WN     AA \n",
      "884019 778835 724807 693101 688471 \n"
     ]
    }
   ],
   "source": [
    "%%R\n",
    "head(sort(table(myDF$UniqueCarrier), decreasing=TRUE), n=5)"
   ]
  },
  {
   "cell_type": "code",
   "execution_count": 7,
   "id": "88eb84bc-f3f7-4bfe-98c7-4f81899b8ae8",
   "metadata": {},
   "outputs": [
    {
     "name": "stdout",
     "output_type": "stream",
     "text": [
      "\n",
      "    DL     US     UA \n",
      "884019 778835 724807 \n"
     ]
    }
   ],
   "source": [
    "%%R\n",
    "head(sort(table(myDF$UniqueCarrier), decreasing=TRUE), n=3)"
   ]
  },
  {
   "cell_type": "code",
   "execution_count": 8,
   "id": "83128707-88e6-4586-a9f7-ec2a458a9257",
   "metadata": {},
   "outputs": [
    {
     "name": "stdout",
     "output_type": "stream",
     "text": [
      "  Year Month DayofMonth DayOfWeek DepTime CRSDepTime ArrTime CRSArrTime\n",
      "1 1995     1          6         5     657        645     952        937\n",
      "2 1995     1          7         6     648        645     938        937\n",
      "3 1995     1          8         7     649        645     932        937\n",
      "4 1995     1          9         1     645        645     928        937\n",
      "5 1995     1         10         2     645        645     931        937\n",
      "6 1995     1         11         3     646        645     929        937\n",
      "  UniqueCarrier FlightNum TailNum ActualElapsedTime CRSElapsedTime AirTime\n",
      "1            UA       482  N7298U               115            112      83\n",
      "2            UA       482  N7449U               110            112      88\n",
      "3            UA       482  N7453U               103            112      83\n",
      "4            UA       482  N7288U               103            112      84\n",
      "5            UA       482  N7275U               106            112      82\n",
      "6            UA       482  N7281U               103            112      85\n",
      "  ArrDelay DepDelay Origin Dest Distance TaxiIn TaxiOut Cancelled\n",
      "1       15       12    ORD  PHL      678      7      25         0\n",
      "2        1        3    ORD  PHL      678      5      17         0\n",
      "3       -5        4    ORD  PHL      678      3      17         0\n",
      "4       -9        0    ORD  PHL      678      3      16         0\n",
      "5       -6        0    ORD  PHL      678      6      18         0\n",
      "6       -8        1    ORD  PHL      678      5      13         0\n",
      "  CancellationCode Diverted CarrierDelay WeatherDelay NASDelay SecurityDelay\n",
      "1               NA        0           NA           NA       NA            NA\n",
      "2               NA        0           NA           NA       NA            NA\n",
      "3               NA        0           NA           NA       NA            NA\n",
      "4               NA        0           NA           NA       NA            NA\n",
      "5               NA        0           NA           NA       NA            NA\n",
      "6               NA        0           NA           NA       NA            NA\n",
      "  LateAircraftDelay\n",
      "1                NA\n",
      "2                NA\n",
      "3                NA\n",
      "4                NA\n",
      "5                NA\n",
      "6                NA\n"
     ]
    }
   ],
   "source": [
    "%%R\n",
    "head(myDF)"
   ]
  },
  {
   "cell_type": "code",
   "execution_count": 9,
   "id": "3cf44f59-c708-4b37-a354-899700b894a9",
   "metadata": {},
   "outputs": [
    {
     "name": "stdout",
     "output_type": "stream",
     "text": [
      "[1] N7298U N7449U N7453U N7288U N7275U N7281U\n",
      "3508 Levels: 112 EI-BOM EI-BON EI-BWD EI-CAL EI-CAM EI-CIW N000AA ... UNKNOW\n"
     ]
    }
   ],
   "source": [
    "%%R\n",
    "head(myDF$TailNum)"
   ]
  },
  {
   "cell_type": "code",
   "execution_count": 14,
   "id": "3130d2fe-96aa-4249-8fe5-c6cca09e636f",
   "metadata": {},
   "outputs": [
    {
     "name": "stdout",
     "output_type": "stream",
     "text": [
      "\n",
      "UNKNOW    N67    N89    N83    N71   N103 \n",
      " 65072   3485   3479   3476   3474   3463 \n"
     ]
    }
   ],
   "source": [
    "%%R\n",
    "head(sort(table(myDF$TailNum),decreasing=TRUE))"
   ]
  },
  {
   "cell_type": "code",
   "execution_count": 15,
   "id": "2597f2a1-d54e-47a3-844a-38bb6e09ceed",
   "metadata": {},
   "outputs": [
    {
     "name": "stdout",
     "output_type": "stream",
     "text": [
      "\n",
      "UNKNOW    N67    N89    N83    N71   N103    N68   N102    N91    N59    N64 \n",
      " 65072   3485   3479   3476   3474   3463   3458   3448   3448   3447   3434 \n",
      "   N92    N20    N23    N86   N130    N62    N61    N73    N82   N511    N57 \n",
      "  3433   3430   3427   3426   3424   3424   3414   3409   3407   3401   3400 \n",
      "  N104   N514    N93    N28    N74   N326   N519   N520    N85   N359    N90 \n",
      "  3397   3396   3393   3387   3384   3383   3383   3383   3380   3372   3371 \n",
      "  N522    N63    N95   N358   N105   N526    N54   N512   N504   N523   N361 \n",
      "  3368   3365   3363   3360   3359   3359   3359   3353   3349   3346   3343 \n",
      "  N503   N515    N94   N325   N323    N60 \n",
      "  3340   3339   3335   3332   3331   3331 \n"
     ]
    }
   ],
   "source": [
    "%%R\n",
    "head(sort(table(myDF$TailNum),decreasing=TRUE), n=50)"
   ]
  },
  {
   "cell_type": "code",
   "execution_count": null,
   "id": "fd5708da-be58-4d0c-a5dc-11e48754a913",
   "metadata": {},
   "outputs": [],
   "source": []
  },
  {
   "cell_type": "markdown",
   "id": "0d552245-b4d6-474a-9cc9-fa7b8e674d55",
   "metadata": {},
   "source": [
    "a. Rank the airline companies\n",
    "\n",
    "    AS     HP     TW     CO     NW     AA     WN     UA     US     DL \n",
    "    135124 194508 272452 434425 521693 688471 693101 724807 778835 884019 \n",
    "\n",
    "b. Which are the three most popular airlines from 1995?    \n",
    "     \n",
    "       DL     US     UA \n",
    "    884019 778835 724807 \n",
    "   \n",
    "c. Now find the ten airplanes that had the most flights in 1995. List them in order, from most popular to least popular. Do you notice anything unusual about the results?\n",
    "\n",
    "          N67    N89    N83    N71   N103    N68   N102    N91    N59    N64 \n",
    "         3485   3479   3476   3474   3463   3458   3448   3448   3447   3434\n",
    "     their differences or variation from each other is pretty minimal.\n"
   ]
  },
  {
   "cell_type": "markdown",
   "id": "88c9cdac-3e92-498f-83fa-e089bfc44ac8",
   "metadata": {},
   "source": [
    "## Question 5"
   ]
  },
  {
   "cell_type": "code",
   "execution_count": 2,
   "id": "d370d7c9-06db-42b9-b75f-240481a5c491",
   "metadata": {},
   "outputs": [
    {
     "name": "stdout",
     "output_type": "stream",
     "text": [
      "\n",
      "   ABE    ABQ    ACK    ADQ    AGS    AKN    ALB    AMA    ANC    ANI    ATL \n",
      "  7198  36871     40    504   2387    475  11997   4294  19040    133 230470 \n",
      "   AUS    AVL    AVP    AZO    BDL    BET    BFL    BGM    BGR    BHM    BIL \n",
      " 36474   2877   2605   2490  25771    981    455   1422   1589  18118   3701 \n",
      "   BIS    BNA    BOI    BOS    BQN    BRO    BRW    BTR    BTV    BUF    BUR \n",
      "  1417  43382  10174  92852    734    687   1024   4741   3362  19932  31472 \n",
      "   BWI    BZN    CAE    CAK    CDV    CHA    CHS    CID    CLE    CLT    CMH \n",
      " 66154   2205   5714   1574    726   3387   9228   5318  66888 131417  38271 \n",
      "   COS    CRP    CRW    CSG    CVG    DAB    DAL    DAY    DCA    DEN    DFW \n",
      " 12077   4225   2031    971  76629   4364  46570  14524  86266 130327 268127 \n",
      "   DLG    DLH    DRO    DSM    DTW    DUT    EGE    ELM    ELP    ERI    EUG \n",
      "   367   1813    102   9177 147610    379    690   1392  28728   1454   2173 \n",
      "   EVV    EWR    FAI    FAR    FAT    FAY    FCA    FLL    FNT    FSD    FWA \n",
      "   709 109592   4843   2339   2507   2188   1018  33641    248   4343   3354 \n",
      "   GEG    GFK    GNV    GRB    GRR    GSO    GSP    GST    GTF    GUC    HDN \n",
      " 12230   1414   1473   2843   9171  32676   8835     98   2428    243    556 \n",
      "   HLN    HNL    HOU    HPN    HRL    HSV    HTS    HVN    IAD    IAH    ICT \n",
      "  1094  12537  57492   6228   5752   6957    615   1081  33053 121029   7051 \n",
      "   IDA    ILM    IND    ISP    ITH    JAC    JAN    JAX    JFK    JNU    KOA \n",
      "  1298   2204  37092   3111   1056   1424   4945  18184  46187   4130    455 \n",
      "   KSM    KTN    LAN    LAS    LAX    LBB    LEX    LFT    LGA    LGB    LIT \n",
      "   133   2589   2365 112181 179909   6338   5070      2  99225   1401  16652 \n",
      "   LNK    LSE    LWB    MAF    MBS    MCI    MCO    MDT    MDW    MEM    MFE \n",
      "  3488   1392      4   7512   3861  56727  67900   8648  47985  53388   4057 \n",
      "   MFR    MGM    MHT    MIA    MKE    MLB    MLI    MLU    MOB    MOT    MRY \n",
      "  1342   2498   4629  70581  17172   3171   1641   2209   5378   1091   1205 \n",
      "   MSN    MSO    MSP    MSY    MTJ    MYR    OAJ    OAK    OGG    OKC    OMA \n",
      "  4640   1822 136436  49179     45   2720    369  65541   2609  22077  18215 \n",
      "   OME    ONT    ORD    ORF    OTZ    PBI    PDX    PFN    PHF    PHL    PHX \n",
      "  1013  40062 293422  18198   1022  22558  48049   1320   1016  91577 157155 \n",
      "   PIA    PIT    PNS    PSC    PSG    PSP    PVD    PWM    RAP    RDU    RIC \n",
      "    76 126190   6621   1454    725   3132  12530   5451   1077  27642  15990 \n",
      "   RNO    ROA    ROC    RST    RSW    SAN    SAT    SAV    SBA    SBN    SCC \n",
      " 20727   3312  16130   3514  14990  65731  38060   5763   1480   3560    632 \n",
      "   SDF    SEA    SFO    SGF    SHV    SIT    SJC    SJU    SLC    SMF    SNA \n",
      " 24094  92016 129137   1575   4552   1311  39283  21458  84056  36051  36159 \n",
      "   SPN    SRQ    STL    STT    STX    SUX    SWF    SYR    TLH    TOL    TPA \n",
      "   105   6863 174847   2874   1059    710   4402  12592   4668   2461  45782 \n",
      "   TRI    TUL    TUS    TVC    TWF    TYS    VPS    WRG    YAK \n",
      "  3056  20795  18549   1055     23   9509   1094    726    726 \n"
     ]
    }
   ],
   "source": [
    "%%R\n",
    "table(myDF$Origin)"
   ]
  },
  {
   "cell_type": "code",
   "execution_count": 3,
   "id": "8b586446-e138-4ebd-90eb-38a164af6269",
   "metadata": {},
   "outputs": [
    {
     "name": "stdout",
     "output_type": "stream",
     "text": [
      "\n",
      "   ORD    DFW    ATL    LAX    STL    PHX    DTW    MSP    CLT    DEN    SFO \n",
      "293422 268127 230470 179909 174847 157155 147610 136436 131417 130327 129137 \n",
      "   PIT    IAH    LAS    EWR    LGA    BOS    SEA    PHL    DCA    SLC    CVG \n",
      "126190 121029 112181 109592  99225  92852  92016  91577  86266  84056  76629 \n",
      "   MIA    MCO    CLE    BWI    SAN    OAK    HOU    MCI    MEM    MSY    PDX \n",
      " 70581  67900  66888  66154  65731  65541  57492  56727  53388  49179  48049 \n",
      "   MDW    DAL    JFK    TPA    BNA    ONT    SJC    CMH    SAT    IND    ABQ \n",
      " 47985  46570  46187  45782  43382  40062  39283  38271  38060  37092  36871 \n",
      "   AUS    SNA    SMF    FLL    IAD    GSO    BUR    ELP    RDU    BDL    SDF \n",
      " 36474  36159  36051  33641  33053  32676  31472  28728  27642  25771  24094 \n",
      "   PBI    OKC    SJU    TUL    RNO    BUF    ANC    TUS    OMA    ORF    JAX \n",
      " 22558  22077  21458  20795  20727  19932  19040  18549  18215  18198  18184 \n",
      "   BHM    MKE    LIT    ROC    RIC    RSW    DAY    SYR    HNL    PVD    GEG \n",
      " 18118  17172  16652  16130  15990  14990  14524  12592  12537  12530  12230 \n",
      "   COS    ALB    BOI    TYS    CHS    DSM    GRR    GSP    MDT    MAF    ABE \n",
      " 12077  11997  10174   9509   9228   9177   9171   8835   8648   7512   7198 \n",
      "   ICT    HSV    SRQ    PNS    LBB    HPN    SAV    HRL    CAE    PWM    MOB \n",
      "  7051   6957   6863   6621   6338   6228   5763   5752   5714   5451   5378 \n",
      "   CID    LEX    JAN    FAI    BTR    TLH    MSN    MHT    SHV    SWF    DAB \n",
      "  5318   5070   4945   4843   4741   4668   4640   4629   4552   4402   4364 \n",
      "   FSD    AMA    CRP    JNU    MFE    MBS    BIL    SBN    RST    LNK    CHA \n",
      "  4343   4294   4225   4130   4057   3861   3701   3560   3514   3488   3387 \n",
      "   BTV    FWA    ROA    MLB    PSP    ISP    TRI    AVL    STT    GRB    MYR \n",
      "  3362   3354   3312   3171   3132   3111   3056   2877   2874   2843   2720 \n",
      "   OGG    AVP    KTN    FAT    MGM    AZO    TOL    GTF    AGS    LAN    FAR \n",
      "  2609   2605   2589   2507   2498   2490   2461   2428   2387   2365   2339 \n",
      "   MLU    BZN    ILM    FAY    EUG    CRW    MSO    DLH    MLI    BGR    SGF \n",
      "  2209   2205   2204   2188   2173   2031   1822   1813   1641   1589   1575 \n",
      "   CAK    SBA    GNV    ERI    PSC    JAC    BGM    BIS    GFK    LGB    ELM \n",
      "  1574   1480   1473   1454   1454   1424   1422   1417   1414   1401   1392 \n",
      "   LSE    MFR    PFN    SIT    IDA    MRY    HLN    VPS    MOT    HVN    RAP \n",
      "  1392   1342   1320   1311   1298   1205   1094   1094   1091   1081   1077 \n",
      "   STX    ITH    TVC    BRW    OTZ    FCA    PHF    OME    BET    CSG    BQN \n",
      "  1059   1056   1055   1024   1022   1018   1016   1013    981    971    734 \n",
      "   CDV    WRG    YAK    PSG    SUX    EVV    EGE    BRO    SCC    HTS    HDN \n",
      "   726    726    726    725    710    709    690    687    632    615    556 \n",
      "   ADQ    AKN    BFL    KOA    DUT    OAJ    DLG    FNT    GUC    ANI    KSM \n",
      "   504    475    455    455    379    369    367    248    243    133    133 \n",
      "   SPN    DRO    GST    PIA    MTJ    ACK    TWF    LWB    LFT \n",
      "   105    102     98     76     45     40     23      4      2 \n"
     ]
    }
   ],
   "source": [
    "%%R\n",
    "sort(table(myDF$Origin),decreasing=TRUE)"
   ]
  },
  {
   "cell_type": "code",
   "execution_count": 5,
   "id": "1e0d4858-0069-4290-b92e-a5b9f166c4f4",
   "metadata": {},
   "outputs": [
    {
     "name": "stdout",
     "output_type": "stream",
     "text": [
      "\n",
      "   ORD    DFW    ATL    LAX    STL    PHX    DTW    MSP    CLT    DEN    SFO \n",
      "293422 268127 230470 179909 174847 157155 147610 136436 131417 130327 129137 \n",
      "   PIT    IAH    LAS    EWR    LGA    BOS    SEA    PHL    DCA    SLC    CVG \n",
      "126190 121029 112181 109592  99225  92852  92016  91577  86266  84056  76629 \n",
      "   MIA    MCO    CLE \n",
      " 70581  67900  66888 \n"
     ]
    }
   ],
   "source": [
    "%%R\n",
    "head(sort(table(myDF$Origin),decreasing=TRUE),n=25)"
   ]
  },
  {
   "cell_type": "code",
   "execution_count": 11,
   "id": "5bc5c629-3001-4daa-af86-047ae8a65907",
   "metadata": {},
   "outputs": [
    {
     "data": {
      "image/png": "[encoded data removed]"
     },
     "metadata": {},
     "output_type": "display_data"
    }
   ],
   "source": [
    "%%R\n",
    "plot(head(sort(table(myDF$Origin),decreasing=TRUE),n=25))"
   ]
  },
  {
   "cell_type": "code",
   "execution_count": 12,
   "id": "1f515068-8adb-49a0-98ee-b6a11c0b8139",
   "metadata": {},
   "outputs": [
    {
     "data": {
      "image/png": "[encoded data removed]"
     },
     "metadata": {},
     "output_type": "display_data"
    }
   ],
   "source": [
    "%%R\n",
    "dotchart(head(sort(table(myDF$Origin),decreasing=TRUE),n=25))"
   ]
  },
  {
   "cell_type": "code",
   "execution_count": 13,
   "id": "001fe29d-6395-4bc3-8e13-72996dde0603",
   "metadata": {},
   "outputs": [
    {
     "data": {
      "image/png": "[encoded data removed]"
     },
     "metadata": {},
     "output_type": "display_data"
    }
   ],
   "source": [
    "%%R\n",
    "dotchart( rev(head(sort(table(myDF$Origin),decreasing=TRUE),n=25) ))"
   ]
  },
  {
   "cell_type": "code",
   "execution_count": null,
   "id": "4bb2e251-571b-400d-befb-c756d09fbb46",
   "metadata": {},
   "outputs": [],
   "source": []
  },
  {
   "cell_type": "code",
   "execution_count": null,
   "id": "3057be3e-0c92-4c51-8fd2-402732d70868",
   "metadata": {},
   "outputs": [],
   "source": []
  },
  {
   "cell_type": "code",
   "execution_count": null,
   "id": "8005b989-14cc-4d76-bd71-f03c4caf0810",
   "metadata": {},
   "outputs": [],
   "source": []
  },
  {
   "cell_type": "markdown",
   "id": "9fbf00fb-2418-460f-ae94-2a32b0c28952",
   "metadata": {},
   "source": [
    "Descibe any patterns you may see in the plot and the dotchart. It has a snake like shape."
   ]
  },
  {
   "cell_type": "markdown",
   "id": "f76442d6-d02e-4f26-b9d6-c3183e1d6929",
   "metadata": {},
   "source": [
    "## Pledge\n",
    "\n",
    "By submitting this work I hereby pledge that this is my own, personal work. I've acknowledged in the designated place at the top of this file all sources that I used to complete said work, including but not limited to: online resources, books, and electronic communications. I've noted all collaboration with fellow students and/or TA's. I did not copy or plagiarize another's work.\n",
    "\n",
    "> As a Boilermaker pursuing academic excellence, I pledge to be honest and true in all that I do. Accountable together – We are Purdue."
   ]
  }
 ],
 "metadata": {
  "kernelspec": {
   "display_name": "f2022-s2023",
   "language": "python",
   "name": "f2022-s2023"
  },
  "language_info": {
   "codemirror_mode": {
    "name": "ipython",
    "version": 3
   },
   "file_extension": ".py",
   "mimetype": "text/x-python",
   "name": "python",
   "nbconvert_exporter": "python",
   "pygments_lexer": "ipython3",
   "version": "3.10.5"
  }
 },
 "nbformat": 4,
 "nbformat_minor": 5
}
