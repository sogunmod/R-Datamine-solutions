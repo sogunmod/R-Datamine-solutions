{
 "cells": [
  {
   "cell_type": "markdown",
   "id": "be02a957-7133-4d02-818e-fedeb3cecb05",
   "metadata": {},
   "source": [
    "# Project 7 -- SEYI OGUNMODEDE"
   ]
  },
  {
   "cell_type": "markdown",
   "id": "a1228853-dd19-4ab2-89e0-0394d7d72de3",
   "metadata": {},
   "source": [
    "**Instructor:** Dr. Mark Daniel\n",
    "\n",
    "- The videos posting make me have more interest in the learning being a novice from the scratch.\n",
    "    \n",
    "**Collaboration:** \n",
    "    \n"
   ]
  },
  {
   "cell_type": "markdown",
   "id": "6180e742-8e39-4698-98ff-5b00c8cf8ea0",
   "metadata": {},
   "source": [
    "## Question 1"
   ]
  },
  {
   "cell_type": "code",
   "execution_count": 1,
   "id": "49445606-d363-41b4-b479-e319a9a84c01",
   "metadata": {},
   "outputs": [],
   "source": [
    "library(data.table)"
   ]
  },
  {
   "cell_type": "code",
   "execution_count": 2,
   "id": "64a6d207-f572-4722-9f40-07bc485989d0",
   "metadata": {},
   "outputs": [],
   "source": [
    "titles <- data.frame(fread(\"/anvil/projects/tdm/data/movies_and_tv/titles.csv\"))"
   ]
  },
  {
   "cell_type": "code",
   "execution_count": 3,
   "id": "dfd2adfa-8970-4085-bd8b-4eae1758f16b",
   "metadata": {},
   "outputs": [],
   "source": [
    "episodes <- data.frame(fread(\"/anvil/projects/tdm/data/movies_and_tv/episodes.csv\"))"
   ]
  },
  {
   "cell_type": "code",
   "execution_count": 4,
   "id": "88f5e10c-4295-4343-a3d0-db6ce9c2a230",
   "metadata": {},
   "outputs": [],
   "source": [
    "people <- data.frame(fread(\"/anvil/projects/tdm/data/movies_and_tv/people.csv\"))"
   ]
  },
  {
   "cell_type": "code",
   "execution_count": 5,
   "id": "45e834f3-78f1-465a-bea1-80eec4b1db80",
   "metadata": {},
   "outputs": [],
   "source": [
    "ratings <- data.frame(fread(\"/anvil/projects/tdm/data/movies_and_tv/ratings.csv\"))"
   ]
  },
  {
   "cell_type": "code",
   "execution_count": 6,
   "id": "51b22e19-aeb1-40ab-9b9a-fa7070051f61",
   "metadata": {},
   "outputs": [],
   "source": [
    "options(jupyter.rich_display = F)"
   ]
  },
  {
   "cell_type": "code",
   "execution_count": 7,
   "id": "8cec9b09-4c25-410a-a5df-ddc163a65337",
   "metadata": {},
   "outputs": [],
   "source": [
    "options(repr.matrix.max.cols=50, repr.matrix.max.rows=200)"
   ]
  },
  {
   "cell_type": "code",
   "execution_count": 8,
   "id": "8a00fe80-b098-4ef6-b5e1-48695d219bf0",
   "metadata": {},
   "outputs": [
    {
     "data": {
      "text/plain": [
       "  title_id  type  primary_title          original_title         is_adult\n",
       "1 tt0000001 short Carmencita             Carmencita             0       \n",
       "2 tt0000002 short Le clown et ses chiens Le clown et ses chiens 0       \n",
       "3 tt0000003 short Pauvre Pierrot         Pauvre Pierrot         0       \n",
       "4 tt0000004 short Un bon bock            Un bon bock            0       \n",
       "5 tt0000005 short Blacksmith Scene       Blacksmith Scene       0       \n",
       "6 tt0000006 short Chinese Opium Den      Chinese Opium Den      0       \n",
       "  premiered ended runtime_minutes genres                  \n",
       "1 1894      NA     1              Documentary,Short       \n",
       "2 1892      NA     5              Animation,Short         \n",
       "3 1892      NA     4              Animation,Comedy,Romance\n",
       "4 1892      NA    12              Animation,Short         \n",
       "5 1893      NA     1              Comedy,Short            \n",
       "6 1894      NA     1              Short                   "
      ]
     },
     "metadata": {},
     "output_type": "display_data"
    }
   ],
   "source": [
    "head (titles)\n",
    "# looking up the kind of data frame it is."
   ]
  },
  {
   "cell_type": "code",
   "execution_count": 9,
   "id": "b693c542-d9d6-4946-9383-adcd96a9e2e3",
   "metadata": {},
   "outputs": [
    {
     "data": {
      "text/plain": [
       "       title_id  type     primary_title original_title is_adult premiered ended\n",
       "106408 tt0108778 tvSeries Friends       Friends        0        1994      2004 \n",
       "       runtime_minutes genres        \n",
       "106408 22              Comedy,Romance"
      ]
     },
     "metadata": {},
     "output_type": "display_data"
    }
   ],
   "source": [
    " titles [titles$ title_id == \"tt0108778\", ]\n",
    "# to find out the row in the title table that corressponds to the whole friends show,look up the title df \n",
    "# and find out the role of the title id is (equalto the one for friends), we get the row and all the columns"
   ]
  },
  {
   "cell_type": "code",
   "execution_count": 10,
   "id": "0a94e5d0-d1e7-4ace-9475-04a12f4d1876",
   "metadata": {},
   "outputs": [
    {
     "data": {
      "text/plain": [
       "        title_id  type  primary_title                 \n",
       "7683192 tt9114286 movie Black Panther: Wakanda Forever\n",
       "        original_title                 is_adult premiered ended runtime_minutes\n",
       "7683192 Black Panther: Wakanda Forever 0        2022      NA    NA             \n",
       "        genres                \n",
       "7683192 Action,Adventure,Drama"
      ]
     },
     "metadata": {},
     "output_type": "display_data"
    }
   ],
   "source": [
    " titles [titles$ title_id == \"tt9114286\", ]\n",
    "# personally for black panther movie"
   ]
  },
  {
   "cell_type": "code",
   "execution_count": 11,
   "id": "7179f48a-3231-41c3-9af3-0119c2c37e68",
   "metadata": {},
   "outputs": [
    {
     "data": {
      "text/plain": [
       "  episode_title_id show_title_id season_number episode_number\n",
       "1 tt0041951        tt0041038      1            9             \n",
       "2 tt0042816        tt0989125      1            17            \n",
       "3 tt0042889        tt0989125     NA            \\\\N           \n",
       "4 tt0043426        tt0040051      3            42            \n",
       "5 tt0043631        tt0989125      2            16            \n",
       "6 tt0043693        tt0989125      2            8             "
      ]
     },
     "metadata": {},
     "output_type": "display_data"
    }
   ],
   "source": [
    "head (episodes )"
   ]
  },
  {
   "cell_type": "code",
   "execution_count": 13,
   "id": "e849a4da-8186-42f2-88e1-fec99b254351",
   "metadata": {},
   "outputs": [
    {
     "data": {
      "text/plain": [
       "  person_id name            born died\n",
       "1 nm0000001 Fred Astaire    1899 1987\n",
       "2 nm0000002 Lauren Bacall   1924 2014\n",
       "3 nm0000003 Brigitte Bardot 1934   NA\n",
       "4 nm0000004 John Belushi    1949 1982\n",
       "5 nm0000005 Ingmar Bergman  1918 2007\n",
       "6 nm0000006 Ingrid Bergman  1915 1982"
      ]
     },
     "metadata": {},
     "output_type": "display_data"
    }
   ],
   "source": [
    "head (people)"
   ]
  },
  {
   "cell_type": "code",
   "execution_count": 14,
   "id": "7ed2cfc4-04f0-4141-9a3f-e8135482f5b0",
   "metadata": {},
   "outputs": [
    {
     "data": {
      "text/plain": [
       "  title_id  rating votes\n",
       "1 tt0000001 5.7    1718 \n",
       "2 tt0000002 6.0     211 \n",
       "3 tt0000003 6.5    1480 \n",
       "4 tt0000004 6.1     124 \n",
       "5 tt0000005 6.2    2283 \n",
       "6 tt0000006 5.1     127 "
      ]
     },
     "metadata": {},
     "output_type": "display_data"
    }
   ],
   "source": [
    "head (ratings)"
   ]
  },
  {
   "cell_type": "code",
   "execution_count": 15,
   "id": "f69b8203-f089-4617-b7ac-8ddcb7cffa56",
   "metadata": {},
   "outputs": [
    {
     "data": {
      "text/plain": [
       "[1] \"Documentary,Short\"        \"Animation,Short\"         \n",
       "[3] \"Animation,Comedy,Romance\" \"Animation,Short\"         \n",
       "[5] \"Comedy,Short\"             \"Short\"                   "
      ]
     },
     "metadata": {},
     "output_type": "display_data"
    }
   ],
   "source": [
    "head(titles$genres)\n",
    "# the first six category of artistic composition"
   ]
  },
  {
   "cell_type": "code",
   "execution_count": 16,
   "id": "e8a1f9f8-45bf-4eda-99c0-86da16e707e7",
   "metadata": {},
   "outputs": [
    {
     "data": {
      "text/plain": [
       " [1] \"Documentary,Short\"        \"Animation,Short\"         \n",
       " [3] \"Animation,Comedy,Romance\" \"Animation,Short\"         \n",
       " [5] \"Comedy,Short\"             \"Short\"                   \n",
       " [7] \"Short,Sport\"              \"Documentary,Short\"       \n",
       " [9] \"Romance,Short\"            \"Documentary,Short\"       \n",
       "[11] \"Documentary,Short\"        \"Documentary,Short\"       \n",
       "[13] \"Documentary,Short\"        \"Comedy,Short\"            \n",
       "[15] \"Animation,Short\"          \"Documentary,Short\"       \n",
       "[17] \"Documentary,Short\"        \"Short\"                   \n",
       "[19] \"Comedy,Short\"             \"Documentary,Short,Sport\" \n",
       "[21] \"Documentary,Short\"        \"Documentary,Short\"       \n",
       "[23] \"News,Short\"               \"News,Short,Sport\"        \n",
       "[25] \"Documentary,Short\"        \"Documentary,Short\"       \n",
       "[27] \"Documentary,Short\"        \"Documentary,Short\"       \n",
       "[29] \"Documentary,Short\"        \"Documentary,Short\"       \n",
       "[31] \"Short\"                    \"Comedy,Documentary,Short\"\n",
       "[33] \"Documentary,Short\"        \"Comedy,Short\"            \n",
       "[35] \"Drama,Short\"              \"Short\"                   \n",
       "[37] \"Documentary,Short,Sport\"  \"Short\"                   \n",
       "[39] \"Documentary,Short\"        \"Comedy,Documentary,Short\"\n",
       "[41] \"Documentary,Short\"        \"Documentary,Short\"       \n",
       "[43] \"Short\"                    \"Short\"                   \n",
       "[45] \"Documentary,Short\"        \"Documentary,Short\"       \n",
       "[47] \"Short\"                    \"Short,Sport\"             \n",
       "[49] \"Documentary,Short\"        \"Documentary,Short\"       "
      ]
     },
     "metadata": {},
     "output_type": "display_data"
    }
   ],
   "source": [
    "head(titles$genres, n=50)\n",
    "# the first 50 of them"
   ]
  },
  {
   "cell_type": "code",
   "execution_count": 17,
   "id": "03226e4b-8b01-41f5-ad72-a45f9cf3badc",
   "metadata": {},
   "outputs": [
    {
     "data": {
      "text/plain": [
       "[1] 8064259"
      ]
     },
     "metadata": {},
     "output_type": "display_data"
    }
   ],
   "source": [
    "length(titles$genres)\n",
    "# there total together with repitition"
   ]
  },
  {
   "cell_type": "code",
   "execution_count": 18,
   "id": "dfec5a71-2a4a-4067-91ad-dd58dcb3a777",
   "metadata": {},
   "outputs": [
    {
     "data": {
      "text/plain": [
       "[1] 2283"
      ]
     },
     "metadata": {},
     "output_type": "display_data"
    }
   ],
   "source": [
    "length(unique(titles$genres))\n",
    "# the unique title of the category of artistic composition"
   ]
  },
  {
   "cell_type": "code",
   "execution_count": 19,
   "id": "aabc879e-285a-45fb-b646-cd796320badd",
   "metadata": {},
   "outputs": [
    {
     "data": {
      "text/plain": [
       "[1] \"Documentary,Short\"        \"Animation,Short\"         \n",
       "[3] \"Animation,Comedy,Romance\" \"Comedy,Short\"            \n",
       "[5] \"Short\"                    \"Short,Sport\"             "
      ]
     },
     "metadata": {},
     "output_type": "display_data"
    }
   ],
   "source": [
    "head(unique(titles$genres))\n",
    "# No repitition of titles of the first six category of artistic composition"
   ]
  },
  {
   "cell_type": "code",
   "execution_count": 20,
   "id": "8934b705-fcd7-41fd-b1fe-bb77df6ec68c",
   "metadata": {},
   "outputs": [
    {
     "data": {
      "text/plain": [
       " [1] \"Documentary,Short\"        \"Animation,Short\"         \n",
       " [3] \"Animation,Comedy,Romance\" \"Comedy,Short\"            \n",
       " [5] \"Short\"                    \"Short,Sport\"             \n",
       " [7] \"Romance,Short\"            \"Documentary,Short,Sport\" \n",
       " [9] \"News,Short\"               \"News,Short,Sport\"        \n",
       "[11] \"Comedy,Documentary,Short\" \"Drama,Short\"             \n",
       "[13] \"Fantasy,Short\"            \"Horror,Short\"            \n",
       "[15] \"Comedy,Horror,Short\"      \"Biography,Short\"         \n",
       "[17] \"Music,Short\"              \"Documentary,News,Short\"  \n",
       "[19] \"Fantasy,Horror,Short\"     \"Short,War\"               \n",
       "[21] \"Crime,Short\"              \"Short,Western\"           \n",
       "[23] \"Comedy,Short,Sport\"       \"Comedy,Fantasy,Horror\"   \n",
       "[25] \"Biography,Drama,Short\"    \"Family,Fantasy,Romance\"  \n",
       "[27] \"Drama,Short,War\"          \"Drama,Family,Fantasy\"    \n",
       "[29] \"Adventure,Fantasy,Horror\" \"Comedy,Romance,Short\"    \n",
       "[31] \"Action,Crime,Drama\"       \"Comedy,Fantasy,Short\"    \n",
       "[33] \"Animation,Comedy,Fantasy\" \"Family,Short\"            \n",
       "[35] \"Drama,History,Short\"      \"Action,Drama,Short\"      \n",
       "[37] \"Crime,Drama,Short\"        \"Fantasy,Romance,Short\"   \n",
       "[39] \"Drama,Fantasy,Horror\"     \"Drama,Horror,Short\"      \n",
       "[41] \"Drama,Fantasy,Short\"      \"History,Short\"           \n",
       "[43] \"Action,Adventure,Comedy\"  \"Family,Fantasy,Short\"    \n",
       "[45] \"Action,Crime,Short\"       \"Adventure,Drama,Short\"   \n",
       "[47] \"Action,Short\"             \"Comedy,Music,Short\"      \n",
       "[49] \"Adventure,Fantasy,Short\"  \"Comedy,Family,Short\"     "
      ]
     },
     "metadata": {},
     "output_type": "display_data"
    }
   ],
   "source": [
    "head(unique(titles$genres), n=50)\n",
    "# first 50 no repitition like the previous"
   ]
  },
  {
   "cell_type": "code",
   "execution_count": 22,
   "id": "2c9e3769-59c1-4bd5-8acf-5d66b8f83421",
   "metadata": {},
   "outputs": [
    {
     "data": {
      "text/plain": [
       "[[1]]\n",
       "[1] \"Documentary\" \"Short\"      \n",
       "\n",
       "[[2]]\n",
       "[1] \"Animation\" \"Short\"    \n",
       "\n",
       "[[3]]\n",
       "[1] \"Animation\" \"Comedy\"    \"Romance\"  \n",
       "\n",
       "[[4]]\n",
       "[1] \"Comedy\" \"Short\" \n",
       "\n",
       "[[5]]\n",
       "[1] \"Short\"\n",
       "\n",
       "[[6]]\n",
       "[1] \"Short\" \"Sport\"\n"
      ]
     },
     "metadata": {},
     "output_type": "display_data"
    }
   ],
   "source": [
    "head(strsplit(unique(titles$genres), \",\"))\n",
    "# then you can do string split\n",
    "# split these unique occurrences of the genres column in the titles table\n",
    "# split according to a comma\n",
    "# then the first six\n"
   ]
  },
  {
   "cell_type": "code",
   "execution_count": 21,
   "id": "4fe19e24-6d1c-47a6-99e9-cb7ab090e0c2",
   "metadata": {},
   "outputs": [
    {
     "data": {
      "text/plain": [
       "[1] \"list\""
      ]
     },
     "metadata": {},
     "output_type": "display_data"
    }
   ],
   "source": [
    "class(strsplit(unique(titles$genres), \",\"))"
   ]
  },
  {
   "cell_type": "code",
   "execution_count": 22,
   "id": "88517380-24a0-4227-8865-18c4262e12df",
   "metadata": {},
   "outputs": [
    {
     "data": {
      "text/plain": [
       "[1] \"Documentary\" \"Short\"       \"Animation\"   \"Short\"       \"Animation\"  \n",
       "[6] \"Comedy\"     "
      ]
     },
     "metadata": {},
     "output_type": "display_data"
    }
   ],
   "source": [
    "head(unlist(strsplit(unique(titles$genres), \",\")))"
   ]
  },
  {
   "cell_type": "code",
   "execution_count": 23,
   "id": "6cace740-3dde-4d05-baa0-274351454b5b",
   "metadata": {},
   "outputs": [
    {
     "data": {
      "text/plain": [
       " [1] \"Documentary\" \"Short\"       \"Animation\"   \"Short\"       \"Animation\"  \n",
       " [6] \"Comedy\"      \"Romance\"     \"Comedy\"      \"Short\"       \"Short\"      \n",
       "[11] \"Short\"       \"Sport\"       \"Romance\"     \"Short\"       \"Documentary\"\n",
       "[16] \"Short\"       \"Sport\"       \"News\"        \"Short\"       \"News\"       \n",
       "[21] \"Short\"       \"Sport\"       \"Comedy\"      \"Documentary\" \"Short\"      \n",
       "[26] \"Drama\"       \"Short\"       \"Fantasy\"     \"Short\"       \"Horror\"     \n",
       "[31] \"Short\"       \"Comedy\"      \"Horror\"      \"Short\"       \"Biography\"  \n",
       "[36] \"Short\"       \"Music\"       \"Short\"       \"Documentary\" \"News\"       \n",
       "[41] \"Short\"       \"Fantasy\"     \"Horror\"      \"Short\"       \"Short\"      \n",
       "[46] \"War\"         \"Crime\"       \"Short\"       \"Short\"       \"Western\"    "
      ]
     },
     "metadata": {},
     "output_type": "display_data"
    }
   ],
   "source": [
    "head(unlist(strsplit(unique(titles$genres), \",\")), n=50)"
   ]
  },
  {
   "cell_type": "code",
   "execution_count": 24,
   "id": "494cf8d0-19b4-4076-a705-cf091327dbb2",
   "metadata": {},
   "outputs": [
    {
     "data": {
      "text/plain": [
       " [1] \"Documentary\" \"Short\"       \"Animation\"   \"Comedy\"      \"Romance\"    \n",
       " [6] \"Sport\"       \"News\"        \"Drama\"       \"Fantasy\"     \"Horror\"     \n",
       "[11] \"Biography\"   \"Music\"       \"War\"         \"Crime\"       \"Western\"    \n",
       "[16] \"Family\"      \"Adventure\"   \"Action\"      \"History\"     \"Mystery\"    \n",
       "[21] \"\\\\N\"         \"Sci-Fi\"      \"Musical\"     \"Thriller\"    \"Film-Noir\"  \n",
       "[26] \"Talk-Show\"   \"Game-Show\"   \"Reality-TV\"  \"Adult\"      "
      ]
     },
     "metadata": {},
     "output_type": "display_data"
    }
   ],
   "source": [
    "unique(unlist(strsplit(unique(titles$genres), \",\")))\n",
    "# to check for the unique listed genres in the titles table after unlisted."
   ]
  },
  {
   "cell_type": "code",
   "execution_count": 25,
   "id": "8a111290-4d84-4fed-8778-9ea53f09cf8c",
   "metadata": {},
   "outputs": [
    {
     "data": {
      "text/plain": [
       "[1] \"Documentary,Short\"        \"Animation,Short\"         \n",
       "[3] \"Animation,Comedy,Romance\" \"Animation,Short\"         \n",
       "[5] \"Comedy,Short\"             \"Short\"                   "
      ]
     },
     "metadata": {},
     "output_type": "display_data"
    }
   ],
   "source": [
    "head(titles$genres)"
   ]
  },
  {
   "cell_type": "code",
   "execution_count": 26,
   "id": "79e6aed7-84cf-41ad-bb70-89bf087f8b8a",
   "metadata": {},
   "outputs": [
    {
     "data": {
      "text/plain": [
       "[1] FALSE FALSE  TRUE FALSE  TRUE FALSE"
      ]
     },
     "metadata": {},
     "output_type": "display_data"
    }
   ],
   "source": [
    "grepl(\"Comedy\",head(titles$genres))\n",
    "# allow us to extract just the rows in which comedy appear."
   ]
  },
  {
   "cell_type": "code",
   "execution_count": 28,
   "id": "3005baef-9e0a-46a0-bc62-4a08581a56dc",
   "metadata": {},
   "outputs": [
    {
     "data": {
      "text/plain": [
       "   title_id  type  primary_title        original_title           is_adult\n",
       "3  tt0000003 short Pauvre Pierrot       Pauvre Pierrot           0       \n",
       "5  tt0000005 short Blacksmith Scene     Blacksmith Scene         0       \n",
       "14 tt0000014 short The Waterer Watered  L'arroseur arros\\303\\251 0       \n",
       "19 tt0000019 short The Clown Barber     The Clown Barber         0       \n",
       "32 tt0000033 short Trick Riding         La voltige               0       \n",
       "34 tt0000035 short Watering the Flowers L'arroseur               0       \n",
       "   premiered ended runtime_minutes genres                  \n",
       "3  1892      NA     4              Animation,Comedy,Romance\n",
       "5  1893      NA     1              Comedy,Short            \n",
       "14 1895      NA     1              Comedy,Short            \n",
       "19 1898      NA    NA              Comedy,Short            \n",
       "32 1895      NA     1              Comedy,Documentary,Short\n",
       "34 1896      NA     1              Comedy,Short            "
      ]
     },
     "metadata": {},
     "output_type": "display_data"
    }
   ],
   "source": [
    "head(titles[grepl(\"Comedy\", titles$genres), ])"
   ]
  },
  {
   "cell_type": "code",
   "execution_count": 29,
   "id": "d98881d6-4efe-4c27-8c3f-234c593671e2",
   "metadata": {},
   "outputs": [
    {
     "data": {
      "text/plain": [
       "[1] 1892 1893 1895 1898 1895 1896"
      ]
     },
     "metadata": {},
     "output_type": "display_data"
    }
   ],
   "source": [
    "head(titles[grepl(\"Comedy\", titles$genres), ]$premiered)\n",
    "# this display their years of premiered"
   ]
  },
  {
   "cell_type": "code",
   "execution_count": 30,
   "id": "6976789f-348c-4d04-bc26-2ceafee9cd36",
   "metadata": {},
   "outputs": [
    {
     "data": {
      "text/plain": [
       "\n",
       " 1892  1893  1894  1895  1896  1897  1898  1899  1900  1901  1902  1903  1904 \n",
       "    1     1     5     8    42   112   192   201   239   165   229   429   344 \n",
       " 1905  1906  1907  1908  1909  1910  1911  1912  1913  1914  1915  1916  1917 \n",
       "  366   407   736  1090  1360  1622  1961  2639  3005  3043  2745  2238  1709 \n",
       " 1918  1919  1920  1921  1922  1923  1924  1925  1926  1927  1928  1929  1930 \n",
       " 1232  1102  1325   997   912   766   801   943   993  1036   917   876   808 \n",
       " 1931  1932  1933  1934  1935  1936  1937  1938  1939  1940  1941  1942  1943 \n",
       "  845   739   773   797   766   852   871   883   716   663   691   635   561 \n",
       " 1944  1945  1946  1947  1948  1949  1950  1951  1952  1953  1954  1955  1956 \n",
       "  466   420   566   653   714  1051  1510  1882  1883  2412  2959  3321  3083 \n",
       " 1957  1958  1959  1960  1961  1962  1963  1964  1965  1966  1967  1968  1969 \n",
       " 3074  3196  3204  3680  3953  3957  4337  4356  4963  4777  5111  4895  5572 \n",
       " 1970  1971  1972  1973  1974  1975  1976  1977  1978  1979  1980  1981  1982 \n",
       " 5543  5752  6035  6748  6156  6245  6043  5936  5402  5408  6173  5521  6533 \n",
       " 1983  1984  1985  1986  1987  1988  1989  1990  1991  1992  1993  1994  1995 \n",
       " 6115  6017  6070  6858  8151  7597  9180  8903 11346 10933 11570 12423 14673 \n",
       " 1996  1997  1998  1999  2000  2001  2002  2003  2004  2005  2006  2007  2008 \n",
       "15480 17180 18826 18500 18195 19903 21090 23804 26087 28952 34078 37103 39734 \n",
       " 2009  2010  2011  2012  2013  2014  2015  2016  2017  2018  2019  2020  2021 \n",
       "43095 48825 57892 65305 71963 77034 80199 84227 83916 78393 70457 61237 28693 \n",
       " 2022  2023  2024  2025  2026 \n",
       "  753    39    11     1     3 "
      ]
     },
     "metadata": {},
     "output_type": "display_data"
    }
   ],
   "source": [
    "table(titles[grepl(\"Comedy\", titles$genres), ]$premiered)"
   ]
  },
  {
   "cell_type": "code",
   "execution_count": 31,
   "id": "0222ffab-1890-4163-80a8-087f0deeb4f1",
   "metadata": {},
   "outputs": [
    {
     "data": {
      "text/plain": [
       "\n",
       " 2016  2017  2015  2018  2014  2013  2019  2012  2020  2011  2010  2009  2008 \n",
       "84227 83916 80199 78393 77034 71963 70457 65305 61237 57892 48825 43095 39734 \n",
       " 2007  2006  2005  2021  2004  2003  2002  2001  1998  1999  2000  1997  1996 \n",
       "37103 34078 28952 28693 26087 23804 21090 19903 18826 18500 18195 17180 15480 \n",
       " 1995  1994  1993  1991  1992  1989  1990  1987  1988  1986  1973  1982  1975 \n",
       "14673 12423 11570 11346 10933  9180  8903  8151  7597  6858  6748  6533  6245 \n",
       " 1980  1974  1983  1985  1976  1972  1984  1977  1971  1969  1970  1981  1979 \n",
       " 6173  6156  6115  6070  6043  6035  6017  5936  5752  5572  5543  5521  5408 \n",
       " 1978  1967  1965  1968  1966  1964  1963  1962  1961  1960  1955  1959  1958 \n",
       " 5402  5111  4963  4895  4777  4356  4337  3957  3953  3680  3321  3204  3196 \n",
       " 1956  1957  1914  1913  1954  1915  1912  1953  1916  1911  1952  1951  1917 \n",
       " 3083  3074  3043  3005  2959  2745  2639  2412  2238  1961  1883  1882  1709 \n",
       " 1910  1950  1909  1920  1918  1919  1908  1949  1927  1921  1926  1925  1928 \n",
       " 1622  1510  1360  1325  1232  1102  1090  1051  1036   997   993   943   917 \n",
       " 1922  1938  1929  1937  1936  1931  1930  1924  1934  1933  1923  1935  2022 \n",
       "  912   883   876   871   852   845   808   801   797   773   766   766   753 \n",
       " 1932  1907  1939  1948  1941  1940  1947  1942  1946  1943  1944  1903  1945 \n",
       "  739   736   716   714   691   663   653   635   566   561   466   429   420 \n",
       " 1906  1905  1904  1900  1902  1899  1898  1901  1897  1896  2023  2024  1895 \n",
       "  407   366   344   239   229   201   192   165   112    42    39    11     8 \n",
       " 1894  2026  1892  1893  2025 \n",
       "    5     3     1     1     1 "
      ]
     },
     "metadata": {},
     "output_type": "display_data"
    }
   ],
   "source": [
    "sort(table(titles[grepl(\"Comedy\", titles$genres), ]$premiered), decreasing = TRUE)"
   ]
  },
  {
   "cell_type": "markdown",
   "id": "b456e57c-4a12-464b-999a-ef2df5af80c1",
   "metadata": {},
   "source": [
    "What are all the different listed genres (in the titles table)? There are 29 of them, though one appears to be erroneous among them.\n",
    "\n",
    "  [1] \"Documentary\" \"Short\"       \"Animation\"   \"Comedy\"      \"Romance\"    \n",
    "  [6] \"Sport\"       \"News\"        \"Drama\"       \"Fantasy\"     \"Horror\"     \n",
    " [11] \"Biography\"   \"Music\"       \"War\"         \"Crime\"       \"Western\"    \n",
    " [16] \"Family\"      \"Adventure\"   \"Action\"      \"History\"     \"Mystery\"    \n",
    " [21] \"\\\\N\"         \"Sci-Fi\"      \"Musical\"     \"Thriller\"    \"Film-Noir\"  \n",
    " [26] \"Talk-Show\"   \"Game-Show\"   \"Reality-TV\"  \"Adult\" \n",
    "\n",
    "Look at the years column and the genres column. In which year did the most comedies debut?  year 2016\n",
    "\n",
    "  2016  2017  2015  2018  2014  2013  2019  2012  2020  2011  2010  2009  2008 \n",
    " 84227 83916 80199 78393 77034 71963 70457 65305 61237 57892 48825 43095 39734 \n",
    " "
   ]
  },
  {
   "cell_type": "markdown",
   "id": "fc601975-35ed-4680-a4e1-0273ee3cc047",
   "metadata": {},
   "source": [
    "## Question 2"
   ]
  },
  {
   "cell_type": "code",
   "execution_count": 32,
   "id": "a16336a1-1ef0-41e8-bc7c-49387db27497",
   "metadata": {},
   "outputs": [],
   "source": [
    "outcomeDF <- merge(episodes, titles, by.x = \"episode_title_id\", by.y = \"title_id\")"
   ]
  },
  {
   "cell_type": "code",
   "execution_count": 33,
   "id": "fb4fbe64-a5ac-4413-8ead-8dd6199e8b9a",
   "metadata": {},
   "outputs": [
    {
     "data": {
      "text/plain": [
       "  episode_title_id show_title_id season_number episode_number type     \n",
       "1 tt0041951        tt0041038      1            9              tvEpisode\n",
       "2 tt0042816        tt0989125      1            17             tvEpisode\n",
       "3 tt0042889        tt0989125     NA            \\\\N            tvEpisode\n",
       "4 tt0043426        tt0040051      3            42             tvEpisode\n",
       "5 tt0043631        tt0989125      2            16             tvEpisode\n",
       "6 tt0043693        tt0989125      2            8              tvEpisode\n",
       "  primary_title                     original_title                    is_adult\n",
       "1 The Tenderfeet                    The Tenderfeet                    0       \n",
       "2 Othello                           Othello                           0       \n",
       "3 The Tragedy of King Richard II/II The Tragedy of King Richard II/II 0       \n",
       "4 Coriolanus                        Coriolanus                        0       \n",
       "5 The Life of King Henry V          The Life of King Henry V          0       \n",
       "6 Julius Caesar                     Julius Caesar                     0       \n",
       "  premiered ended runtime_minutes genres \n",
       "1 1949      NA     30             Western\n",
       "2 1950      NA    135             Drama  \n",
       "3 1950      NA    145             Drama  \n",
       "4 1951      NA     60             Drama  \n",
       "5 1951      NA    133             Drama  \n",
       "6 1951      NA     NA             Drama  "
      ]
     },
     "metadata": {},
     "output_type": "display_data"
    }
   ],
   "source": [
    "head(outcomeDF)"
   ]
  },
  {
   "cell_type": "code",
   "execution_count": 34,
   "id": "3d63ddea-2303-494f-bb06-d63ae49d2786",
   "metadata": {},
   "outputs": [
    {
     "data": {
      "text/plain": [
       "     episode_title_id show_title_id season_number episode_number type\n",
       "     primary_title original_title is_adult premiered ended runtime_minutes\n",
       "     genres"
      ]
     },
     "metadata": {},
     "output_type": "display_data"
    }
   ],
   "source": [
    "outcomeDF[outcomeDF$show_title_id == \"tt9114286\", ]\n",
    "# for black panther"
   ]
  },
  {
   "cell_type": "code",
   "execution_count": 35,
   "id": "808a01fc-7a18-4ac7-9533-1e737e5a3d19",
   "metadata": {},
   "outputs": [
    {
     "data": {
      "text/plain": [
       "[1]  0 12"
      ]
     },
     "metadata": {},
     "output_type": "display_data"
    }
   ],
   "source": [
    "dim(outcomeDF[outcomeDF$show_title_id == \"tt9114286\", ])\n",
    "# for black panther"
   ]
  },
  {
   "cell_type": "code",
   "execution_count": 36,
   "id": "ff52a482-69cc-4df2-8141-b1ec6d2c87ab",
   "metadata": {},
   "outputs": [
    {
     "data": {
      "text/plain": [
       "[1] 235  12"
      ]
     },
     "metadata": {},
     "output_type": "display_data"
    }
   ],
   "source": [
    "dim(outcomeDF[outcomeDF$show_title_id == \"tt0108778\", ])\n",
    "# for Freinds shows"
   ]
  },
  {
   "cell_type": "markdown",
   "id": "14dc22d4-ddc3-41cc-a91a-cb0025bc0c80",
   "metadata": {},
   "source": [
    "Use the episode_title_id column and the title_id column from the episodes and titles data.frame’s (respectively) to merge the two data.frames.\n",
    "\n",
    "outcomeDF <- merge(episodes, titles, by.x = \"episode_title_id\", by.y = \"title_id\")"
   ]
  },
  {
   "cell_type": "markdown",
   "id": "8e586edd-ff26-4ce2-8f6b-2424b26f2929",
   "metadata": {},
   "source": [
    "## Question 3"
   ]
  },
  {
   "cell_type": "code",
   "execution_count": 37,
   "id": "1474d20e-578b-4c23-8199-3d6f8b36b54f",
   "metadata": {},
   "outputs": [],
   "source": [
    "expectDF <- outcomeDF[outcomeDF$show_title_id == \"tt0108778\", ]\n",
    "# daeling with only show called Friends"
   ]
  },
  {
   "cell_type": "code",
   "execution_count": 38,
   "id": "19cef658-40a2-458f-bb91-d1f73997be82",
   "metadata": {},
   "outputs": [
    {
     "data": {
      "text/plain": [
       "[1] 235  12"
      ]
     },
     "metadata": {},
     "output_type": "display_data"
    }
   ],
   "source": [
    "dim (expectDF)"
   ]
  },
  {
   "cell_type": "code",
   "execution_count": 39,
   "id": "9dd7b40a-dea3-4662-887d-9f77efac9ad3",
   "metadata": {},
   "outputs": [
    {
     "data": {
      "text/plain": [
       "      episode_title_id show_title_id season_number episode_number type     \n",
       "93207 tt0583431        tt0108778      7            8              tvEpisode\n",
       "93208 tt0583432        tt0108778     10            9              tvEpisode\n",
       "93209 tt0583433        tt0108778     10            17             tvEpisode\n",
       "93210 tt0583435        tt0108778      8            1              tvEpisode\n",
       "93211 tt0583436        tt0108778     10            1              tvEpisode\n",
       "93212 tt0583437        tt0108778      5            1              tvEpisode\n",
       "      primary_title                           \n",
       "93207 The One Where Chandler Doesn't Like Dogs\n",
       "93208 The One with the Birth Mother           \n",
       "93209 The Last One                            \n",
       "93210 The One After I Do                      \n",
       "93211 The One After Joey and Rachel Kiss      \n",
       "93212 The One After Ross Says Rachel          \n",
       "      original_title                           is_adult premiered ended\n",
       "93207 The One Where Chandler Doesn't Like Dogs 0        2000      NA   \n",
       "93208 The One with the Birth Mother            0        2004      NA   \n",
       "93209 The Last One                             0        2004      NA   \n",
       "93210 The One After I Do                       0        2001      NA   \n",
       "93211 The One After Joey and Rachel Kiss       0        2003      NA   \n",
       "93212 The One After Ross Says Rachel           0        1998      NA   \n",
       "      runtime_minutes genres        \n",
       "93207 22              Comedy,Romance\n",
       "93208 22              Comedy,Romance\n",
       "93209 30              Comedy,Romance\n",
       "93210 22              Comedy,Romance\n",
       "93211 22              Comedy,Romance\n",
       "93212 22              Comedy,Romance"
      ]
     },
     "metadata": {},
     "output_type": "display_data"
    }
   ],
   "source": [
    "head(expectDF)"
   ]
  },
  {
   "cell_type": "code",
   "execution_count": null,
   "id": "f7d172c3-1785-4c08-a5d5-8946698db2e8",
   "metadata": {},
   "outputs": [],
   "source": [
    "# no title of Friends anywhere."
   ]
  },
  {
   "cell_type": "code",
   "execution_count": 40,
   "id": "8052c320-1153-43c9-b395-fd1a0cd9b9c8",
   "metadata": {},
   "outputs": [
    {
     "data": {
      "text/plain": [
       "  show_title_id episode_title_id season_number episode_number type.x   \n",
       "1 tt0108778     tt0583431         7            8              tvEpisode\n",
       "2 tt0108778     tt0583432        10            9              tvEpisode\n",
       "3 tt0108778     tt0583433        10            17             tvEpisode\n",
       "4 tt0108778     tt0583435         8            1              tvEpisode\n",
       "5 tt0108778     tt0583436        10            1              tvEpisode\n",
       "6 tt0108778     tt0583437         5            1              tvEpisode\n",
       "  primary_title.x                         \n",
       "1 The One Where Chandler Doesn't Like Dogs\n",
       "2 The One with the Birth Mother           \n",
       "3 The Last One                            \n",
       "4 The One After I Do                      \n",
       "5 The One After Joey and Rachel Kiss      \n",
       "6 The One After Ross Says Rachel          \n",
       "  original_title.x                         is_adult.x premiered.x ended.x\n",
       "1 The One Where Chandler Doesn't Like Dogs 0          2000        NA     \n",
       "2 The One with the Birth Mother            0          2004        NA     \n",
       "3 The Last One                             0          2004        NA     \n",
       "4 The One After I Do                       0          2001        NA     \n",
       "5 The One After Joey and Rachel Kiss       0          2003        NA     \n",
       "6 The One After Ross Says Rachel           0          1998        NA     \n",
       "  runtime_minutes.x genres.x       type.y   primary_title.y original_title.y\n",
       "1 22                Comedy,Romance tvSeries Friends         Friends         \n",
       "2 22                Comedy,Romance tvSeries Friends         Friends         \n",
       "3 30                Comedy,Romance tvSeries Friends         Friends         \n",
       "4 22                Comedy,Romance tvSeries Friends         Friends         \n",
       "5 22                Comedy,Romance tvSeries Friends         Friends         \n",
       "6 22                Comedy,Romance tvSeries Friends         Friends         \n",
       "  is_adult.y premiered.y ended.y runtime_minutes.y genres.y      \n",
       "1 0          1994        2004    22                Comedy,Romance\n",
       "2 0          1994        2004    22                Comedy,Romance\n",
       "3 0          1994        2004    22                Comedy,Romance\n",
       "4 0          1994        2004    22                Comedy,Romance\n",
       "5 0          1994        2004    22                Comedy,Romance\n",
       "6 0          1994        2004    22                Comedy,Romance"
      ]
     },
     "metadata": {},
     "output_type": "display_data"
    }
   ],
   "source": [
    "head(merge(expectDF, titles, by.x = \"show_title_id\", by.y = \"title_id\"))\n",
    "# it shows the title_id and Primary titles, Friends"
   ]
  },
  {
   "cell_type": "code",
   "execution_count": 41,
   "id": "b6e0e7d2-3017-4b63-bb4f-fc76dc8e6622",
   "metadata": {},
   "outputs": [],
   "source": [
    "deepDF <- merge(expectDF, titles, by.x = \"show_title_id\", by.y = \"title_id\")"
   ]
  },
  {
   "cell_type": "code",
   "execution_count": 42,
   "id": "e617fbf0-86d2-4e5e-b1a8-ebabcff7377a",
   "metadata": {},
   "outputs": [
    {
     "data": {
      "text/plain": [
       "  episode_title_id show_title_id season_number episode_number type.x   \n",
       "1 tt0583431        tt0108778      7            8              tvEpisode\n",
       "2 tt0583432        tt0108778     10            9              tvEpisode\n",
       "3 tt0583433        tt0108778     10            17             tvEpisode\n",
       "4 tt0583435        tt0108778      8            1              tvEpisode\n",
       "5 tt0583436        tt0108778     10            1              tvEpisode\n",
       "6 tt0583437        tt0108778      5            1              tvEpisode\n",
       "  primary_title.x                         \n",
       "1 The One Where Chandler Doesn't Like Dogs\n",
       "2 The One with the Birth Mother           \n",
       "3 The Last One                            \n",
       "4 The One After I Do                      \n",
       "5 The One After Joey and Rachel Kiss      \n",
       "6 The One After Ross Says Rachel          \n",
       "  original_title.x                         is_adult.x premiered.x ended.x\n",
       "1 The One Where Chandler Doesn't Like Dogs 0          2000        NA     \n",
       "2 The One with the Birth Mother            0          2004        NA     \n",
       "3 The Last One                             0          2004        NA     \n",
       "4 The One After I Do                       0          2001        NA     \n",
       "5 The One After Joey and Rachel Kiss       0          2003        NA     \n",
       "6 The One After Ross Says Rachel           0          1998        NA     \n",
       "  runtime_minutes.x genres.x       type.y   primary_title.y original_title.y\n",
       "1 22                Comedy,Romance tvSeries Friends         Friends         \n",
       "2 22                Comedy,Romance tvSeries Friends         Friends         \n",
       "3 30                Comedy,Romance tvSeries Friends         Friends         \n",
       "4 22                Comedy,Romance tvSeries Friends         Friends         \n",
       "5 22                Comedy,Romance tvSeries Friends         Friends         \n",
       "6 22                Comedy,Romance tvSeries Friends         Friends         \n",
       "  is_adult.y premiered.y ended.y runtime_minutes.y genres.y       rating votes\n",
       "1 0          1994        2004    22                Comedy,Romance 8.2     3380\n",
       "2 0          1994        2004    22                Comedy,Romance 8.6     3489\n",
       "3 0          1994        2004    22                Comedy,Romance 9.7    13064\n",
       "4 0          1994        2004    22                Comedy,Romance 8.7     3679\n",
       "5 0          1994        2004    22                Comedy,Romance 8.5     3784\n",
       "6 0          1994        2004    22                Comedy,Romance 8.9     4354"
      ]
     },
     "metadata": {},
     "output_type": "display_data"
    }
   ],
   "source": [
    "head(merge(deepDF, ratings, by.x = \"episode_title_id\", by.y = \"title_id\"))"
   ]
  },
  {
   "cell_type": "code",
   "execution_count": 43,
   "id": "25feb9ab-a90e-4e8e-8b8f-785d837cdcf5",
   "metadata": {},
   "outputs": [],
   "source": [
    "newDF <- merge(deepDF, ratings, by.x = \"episode_title_id\", by.y = \"title_id\")"
   ]
  },
  {
   "cell_type": "code",
   "execution_count": 45,
   "id": "a9169026-3904-42e4-9948-5204d2922056",
   "metadata": {},
   "outputs": [
    {
     "data": {
      "text/plain": [
       "  show_title_id episode_title_id season_number episode_number type.x   \n",
       "1 tt0108778     tt0583431         7            8              tvEpisode\n",
       "2 tt0108778     tt0583432        10            9              tvEpisode\n",
       "3 tt0108778     tt0583433        10            17             tvEpisode\n",
       "4 tt0108778     tt0583435         8            1              tvEpisode\n",
       "5 tt0108778     tt0583436        10            1              tvEpisode\n",
       "6 tt0108778     tt0583437         5            1              tvEpisode\n",
       "  primary_title.x                         \n",
       "1 The One Where Chandler Doesn't Like Dogs\n",
       "2 The One with the Birth Mother           \n",
       "3 The Last One                            \n",
       "4 The One After I Do                      \n",
       "5 The One After Joey and Rachel Kiss      \n",
       "6 The One After Ross Says Rachel          \n",
       "  original_title.x                         is_adult.x premiered.x ended.x\n",
       "1 The One Where Chandler Doesn't Like Dogs 0          2000        NA     \n",
       "2 The One with the Birth Mother            0          2004        NA     \n",
       "3 The Last One                             0          2004        NA     \n",
       "4 The One After I Do                       0          2001        NA     \n",
       "5 The One After Joey and Rachel Kiss       0          2003        NA     \n",
       "6 The One After Ross Says Rachel           0          1998        NA     \n",
       "  runtime_minutes.x genres.x       type.y   primary_title.y original_title.y\n",
       "1 22                Comedy,Romance tvSeries Friends         Friends         \n",
       "2 22                Comedy,Romance tvSeries Friends         Friends         \n",
       "3 30                Comedy,Romance tvSeries Friends         Friends         \n",
       "4 22                Comedy,Romance tvSeries Friends         Friends         \n",
       "5 22                Comedy,Romance tvSeries Friends         Friends         \n",
       "6 22                Comedy,Romance tvSeries Friends         Friends         \n",
       "  is_adult.y premiered.y ended.y runtime_minutes.y genres.y       rating.x\n",
       "1 0          1994        2004    22                Comedy,Romance 8.2     \n",
       "2 0          1994        2004    22                Comedy,Romance 8.6     \n",
       "3 0          1994        2004    22                Comedy,Romance 9.7     \n",
       "4 0          1994        2004    22                Comedy,Romance 8.7     \n",
       "5 0          1994        2004    22                Comedy,Romance 8.5     \n",
       "6 0          1994        2004    22                Comedy,Romance 8.9     \n",
       "  votes.x rating.y votes.y\n",
       "1  3380   8.9      869810 \n",
       "2  3489   8.9      869810 \n",
       "3 13064   8.9      869810 \n",
       "4  3679   8.9      869810 \n",
       "5  3784   8.9      869810 \n",
       "6  4354   8.9      869810 "
      ]
     },
     "metadata": {},
     "output_type": "display_data"
    }
   ],
   "source": [
    "head(merge(newDF, ratings, by.x = \"show_title_id\", by.y = \"title_id\"))\n",
    "# this gave ratings of episodes and of friends together."
   ]
  },
  {
   "cell_type": "code",
   "execution_count": 44,
   "id": "b8a4de6c-14d4-44b6-9199-e49a98713eb1",
   "metadata": {},
   "outputs": [
    {
     "data": {
      "text/plain": [
       "  primary_title.x                          primary_title.y rating.x rating.y\n",
       "1 The One Where Chandler Doesn't Like Dogs Friends         8.2      8.9     \n",
       "2 The One with the Birth Mother            Friends         8.6      8.9     \n",
       "3 The Last One                             Friends         9.7      8.9     \n",
       "4 The One After I Do                       Friends         8.7      8.9     \n",
       "5 The One After Joey and Rachel Kiss       Friends         8.5      8.9     \n",
       "6 The One After Ross Says Rachel           Friends         8.9      8.9     "
      ]
     },
     "metadata": {},
     "output_type": "display_data"
    }
   ],
   "source": [
    "head(merge(newDF, ratings, by.x = \"show_title_id\", by.y = \"title_id\")[ ,c(\"primary_title.x\", \"primary_title.y\", \"rating.x\", \"rating.y\")])"
   ]
  },
  {
   "cell_type": "code",
   "execution_count": 45,
   "id": "7e1ae81a-8b5d-46a8-abc5-1918320858fc",
   "metadata": {},
   "outputs": [],
   "source": [
    "friendsDF <- merge(newDF, ratings, by.x = \"show_title_id\", by.y = \"title_id\")[ ,c(\"primary_title.x\", \"primary_title.y\", \"rating.x\", \"rating.y\")]"
   ]
  },
  {
   "cell_type": "code",
   "execution_count": 46,
   "id": "f58322e2-e4c8-4844-8b8f-9ebe6054d834",
   "metadata": {},
   "outputs": [
    {
     "data": {
      "text/plain": [
       "[1] 235   4"
      ]
     },
     "metadata": {},
     "output_type": "display_data"
    }
   ],
   "source": [
    "dim(friendsDF)"
   ]
  },
  {
   "cell_type": "code",
   "execution_count": 47,
   "id": "9b7bc7cd-10c1-4e4c-8795-ceba83172ed4",
   "metadata": {},
   "outputs": [
    {
     "data": {
      "text/plain": [
       "  primary_title.x                          primary_title.y rating.x rating.y\n",
       "1 The One Where Chandler Doesn't Like Dogs Friends         8.2      8.9     \n",
       "2 The One with the Birth Mother            Friends         8.6      8.9     \n",
       "3 The Last One                             Friends         9.7      8.9     \n",
       "4 The One After I Do                       Friends         8.7      8.9     \n",
       "5 The One After Joey and Rachel Kiss       Friends         8.5      8.9     \n",
       "6 The One After Ross Says Rachel           Friends         8.9      8.9     "
      ]
     },
     "metadata": {},
     "output_type": "display_data"
    }
   ],
   "source": [
    "head(friendsDF)"
   ]
  },
  {
   "cell_type": "code",
   "execution_count": 48,
   "id": "bc16b745-5f11-45f8-b6fc-1f5308f1788c",
   "metadata": {},
   "outputs": [],
   "source": [
    "names(friendsDF) <- c(\"episode_title\", \"show_title\", \"episode_rating\", \"show_rating\")"
   ]
  },
  {
   "cell_type": "code",
   "execution_count": 49,
   "id": "d9b1b8c3-b1f3-4ca9-ac47-ebeb38e2d984",
   "metadata": {},
   "outputs": [
    {
     "data": {
      "text/plain": [
       "  episode_title                            show_title episode_rating\n",
       "1 The One Where Chandler Doesn't Like Dogs Friends    8.2           \n",
       "2 The One with the Birth Mother            Friends    8.6           \n",
       "3 The Last One                             Friends    9.7           \n",
       "4 The One After I Do                       Friends    8.7           \n",
       "5 The One After Joey and Rachel Kiss       Friends    8.5           \n",
       "6 The One After Ross Says Rachel           Friends    8.9           \n",
       "  show_rating\n",
       "1 8.9        \n",
       "2 8.9        \n",
       "3 8.9        \n",
       "4 8.9        \n",
       "5 8.9        \n",
       "6 8.9        "
      ]
     },
     "metadata": {},
     "output_type": "display_data"
    }
   ],
   "source": [
    "head(friendsDF)"
   ]
  },
  {
   "cell_type": "code",
   "execution_count": 50,
   "id": "88ef5c57-50f9-4348-8a73-f7e7eb0b2f51",
   "metadata": {},
   "outputs": [
    {
     "data": {
      "text/plain": [
       "[1] 8.2 8.6 9.7 8.7 8.5 8.9"
      ]
     },
     "metadata": {},
     "output_type": "display_data"
    }
   ],
   "source": [
    "head(friendsDF$episode_rating)"
   ]
  },
  {
   "cell_type": "code",
   "execution_count": 51,
   "id": "cb289c6e-bf95-43d5-a41f-12d1ffb221c5",
   "metadata": {},
   "outputs": [
    {
     "data": {
      "text/plain": [
       "  [1] 185  94 229 231  85 105 164 169 170  44  59 104 106 107 215  14  39 100\n",
       " [19] 132 134 158 161 178 186 188 196 197 214 227  29  31  34  43  62  72  87\n",
       " [37]  88  90  97 103 111 115 116 135 139 151 152 155 163 168 184 191 212 218\n",
       " [55] 220 221 224   1  30  36  46  52  61  68  75  81  86  91  92 101 114 119\n",
       " [73] 121 122 124 127 140 143 147 148 150 159 165 171 172 200 210 211 213 216\n",
       " [91]  17  22  27  28  42  49  55  64  84  93 113 145 153 154 156 181 183 194\n",
       "[109] 198 204 206  16  37  47  83  89  95  96 112 176 182 201 230   5  10  11\n",
       "[127]  15  18  20  23  24  26  56  66  71  79  80 102 108 118 125 126 129 136\n",
       "[145] 138 142 162 166 177 179 180 192 195 226 228   2   8  12  19  25  32  54\n",
       "[163]  58  60  67  73 110 141 160 175 193 207 208   4   7  13  45  48  74 123\n",
       "[181] 128 133 144 149 157 189 217 222   9  40  53  65  69  77 120 131 203 232\n",
       "[199]   6  38  41  57  98 109 117 190 199  33  35  50  63  76 146 174 223  70\n",
       "[217]  78  82 130 137 173 187 205 233  51  99 219 234 209 225 235 202 167   3\n",
       "[235]  21"
      ]
     },
     "metadata": {},
     "output_type": "display_data"
    }
   ],
   "source": [
    "order(friendsDF$episode_rating)\n",
    "# this get the analogous rows in the order"
   ]
  },
  {
   "cell_type": "code",
   "execution_count": 52,
   "id": "9d4e131d-9d96-4310-93d3-64b269fe2469",
   "metadata": {},
   "outputs": [
    {
     "data": {
      "text/plain": [
       "    episode_title                     show_title episode_rating show_rating\n",
       "209 The One with the Rumor            Friends    9.3            8.9        \n",
       "225 The One with the Videotape        Friends    9.3            8.9        \n",
       "235 The One with the Proposal         Friends    9.3            8.9        \n",
       "202 The One with the Prom Video       Friends    9.4            8.9        \n",
       "167 The One with the Embryos          Friends    9.5            8.9        \n",
       "3   The Last One                      Friends    9.7            8.9        \n",
       "21  The One Where Everybody Finds Out Friends    9.7            8.9        "
      ]
     },
     "metadata": {},
     "output_type": "display_data"
    }
   ],
   "source": [
    "tail(friendsDF[order(friendsDF$episode_rating), ], n=7)\n",
    "# it gives all of the columns organized\n",
    "# look for the tail and the , last 7\n",
    "# these are the highest rated episodes of friends across all ten seasons of friends\n"
   ]
  },
  {
   "cell_type": "markdown",
   "id": "47c6229f-35f7-400c-8366-c442baa5cf47",
   "metadata": {},
   "source": [
    "Show the top 5 rows of your final data.frame that contain the top 5 rated episodes.\n",
    " episode_title                     show_title episode_rating show_rating\n",
    "209 The One with the Rumor            Friends    9.3            8.9        \n",
    "225 The One with the Videotape        Friends    9.3            8.9        \n",
    "235 The One with the Proposal         Friends    9.3            8.9        \n",
    "202 The One with the Prom Video       Friends    9.4            8.9        \n",
    "167 The One with the Embryos          Friends    9.5            8.9        \n",
    "3   The Last One                      Friends    9.7            8.9        \n",
    "21  The One Where Everybody Finds Out Friends    9.7            8.9 "
   ]
  },
  {
   "cell_type": "markdown",
   "id": "da22f29c-d245-4d2b-9fc1-ca14cb6087d9",
   "metadata": {},
   "source": [
    "## Question 4"
   ]
  },
  {
   "cell_type": "code",
   "execution_count": 53,
   "id": "b136cc9c-0c8d-4466-80b9-d74b8e3b96dc",
   "metadata": {},
   "outputs": [],
   "source": [
    "outcomeDF <- merge(episodes, titles, by.x = \"episode_title_id\", by.y = \"title_id\")"
   ]
  },
  {
   "cell_type": "code",
   "execution_count": 54,
   "id": "fee08fe7-a6bf-4d08-8f7e-65ac5296bc6a",
   "metadata": {},
   "outputs": [],
   "source": [
    "expectDF <- outcomeDF[outcomeDF$show_title_id == \"tt0108778\", ]"
   ]
  },
  {
   "cell_type": "code",
   "execution_count": 55,
   "id": "cb2addc3-97df-4b5a-afce-9429a3d0fe65",
   "metadata": {},
   "outputs": [],
   "source": [
    "deepDF <- merge(expectDF, titles, by.x = \"show_title_id\", by.y = \"title_id\")"
   ]
  },
  {
   "cell_type": "code",
   "execution_count": 56,
   "id": "7cf7a833-ee4f-4565-8d1c-37a436b8c00e",
   "metadata": {},
   "outputs": [],
   "source": [
    "newDF <- merge(deepDF, ratings, by.x = \"episode_title_id\", by.y = \"title_id\")"
   ]
  },
  {
   "cell_type": "code",
   "execution_count": 57,
   "id": "be94fc50-ea8d-4891-8d96-2c2c2cf3a998",
   "metadata": {},
   "outputs": [],
   "source": [
    "friendsDF <- merge(newDF, ratings, by.x = \"show_title_id\", by.y = \"title_id\")"
   ]
  },
  {
   "cell_type": "code",
   "execution_count": 58,
   "id": "7b0d9735-2a39-40c2-b949-9eb9cf4175d0",
   "metadata": {},
   "outputs": [],
   "source": [
    "friendsDF <- merge(newDF, ratings, by.x = \"show_title_id\", by.y = \"title_id\")[ ,c(\"primary_title.x\", \"primary_title.y\", \"rating.x\", \"rating.y\", \"season_number\")]"
   ]
  },
  {
   "cell_type": "code",
   "execution_count": 59,
   "id": "1e368d8b-c723-4ff4-8883-0be693d9abe0",
   "metadata": {},
   "outputs": [],
   "source": [
    "names(friendsDF) <- c(\"episode_title\", \"show_title\", \"episode_rating\", \"show_rating\", \"season_number\")"
   ]
  },
  {
   "cell_type": "code",
   "execution_count": 60,
   "id": "ab7f0226-c61a-4e02-91d2-8578806a8fc2",
   "metadata": {},
   "outputs": [
    {
     "data": {
      "text/plain": [
       "  episode_title                            show_title episode_rating\n",
       "1 The One Where Chandler Doesn't Like Dogs Friends    8.2           \n",
       "2 The One with the Birth Mother            Friends    8.6           \n",
       "3 The Last One                             Friends    9.7           \n",
       "4 The One After I Do                       Friends    8.7           \n",
       "5 The One After Joey and Rachel Kiss       Friends    8.5           \n",
       "6 The One After Ross Says Rachel           Friends    8.9           \n",
       "  show_rating season_number\n",
       "1 8.9          7           \n",
       "2 8.9         10           \n",
       "3 8.9         10           \n",
       "4 8.9          8           \n",
       "5 8.9         10           \n",
       "6 8.9          5           "
      ]
     },
     "metadata": {},
     "output_type": "display_data"
    }
   ],
   "source": [
    "head(friendsDF)"
   ]
  },
  {
   "cell_type": "code",
   "execution_count": 61,
   "id": "bfd8a3bd-2584-498a-b00d-add1b57c42c4",
   "metadata": {},
   "outputs": [
    {
     "data": {
      "text/plain": [
       "    episode_title                      show_title episode_rating show_rating\n",
       "21  The One Where Everybody Finds Out  Friends    9.7            8.9        \n",
       "78  The One with All the Resolutions   Friends    9.1            8.9        \n",
       "130 The One with Ross's Sandwich       Friends    9.1            8.9        \n",
       "219 The One with All the Thanksgivings Friends    9.2            8.9        \n",
       "233 The One in Vegas: Part 2           Friends    9.1            8.9        \n",
       "    season_number\n",
       "21  5            \n",
       "78  5            \n",
       "130 5            \n",
       "219 5            \n",
       "233 5            "
      ]
     },
     "metadata": {},
     "output_type": "display_data"
    }
   ],
   "source": [
    "friendsDF[ (friendsDF$episode_rating>9)& (friendsDF$season_number ==5), ]"
   ]
  },
  {
   "cell_type": "code",
   "execution_count": 62,
   "id": "e85992c4-95fb-4763-813c-f316d45f7504",
   "metadata": {},
   "outputs": [
    {
     "data": {
      "text/plain": [
       "    episode_title                      show_title episode_rating show_rating\n",
       "21  The One Where Everybody Finds Out  Friends    9.7            8.9        \n",
       "78  The One with All the Resolutions   Friends    9.1            8.9        \n",
       "130 The One with Ross's Sandwich       Friends    9.1            8.9        \n",
       "219 The One with All the Thanksgivings Friends    9.2            8.9        \n",
       "233 The One in Vegas: Part 2           Friends    9.1            8.9        \n",
       "    season_number\n",
       "21  5            \n",
       "78  5            \n",
       "130 5            \n",
       "219 5            \n",
       "233 5            "
      ]
     },
     "metadata": {},
     "output_type": "display_data"
    }
   ],
   "source": [
    "subset( friendsDF, (episode_rating>9)& (season_number ==5))"
   ]
  },
  {
   "cell_type": "markdown",
   "id": "0d552245-b4d6-474a-9cc9-fa7b8e674d55",
   "metadata": {},
   "source": [
    "Use regular old indexing to find all episodes of friends with an episode_rating greater than 9 and season_number of exactly 5.\n",
    "\n",
    "Repeat the process, but this time use the subset function instead."
   ]
  },
  {
   "cell_type": "markdown",
   "id": "88c9cdac-3e92-498f-83fa-e089bfc44ac8",
   "metadata": {},
   "source": [
    "## Question 5"
   ]
  },
  {
   "cell_type": "code",
   "execution_count": 70,
   "id": "d370d7c9-06db-42b9-b75f-240481a5c491",
   "metadata": {},
   "outputs": [],
   "source": [
    "season_number = 5"
   ]
  },
  {
   "cell_type": "code",
   "execution_count": 71,
   "id": "44df6a85-36bc-4fbf-a1c3-9c7c76ae0605",
   "metadata": {},
   "outputs": [
    {
     "data": {
      "text/plain": [
       "    episode_title                      show_title episode_rating show_rating\n",
       "21  The One Where Everybody Finds Out  Friends    9.7            8.9        \n",
       "78  The One with All the Resolutions   Friends    9.1            8.9        \n",
       "130 The One with Ross's Sandwich       Friends    9.1            8.9        \n",
       "219 The One with All the Thanksgivings Friends    9.2            8.9        \n",
       "233 The One in Vegas: Part 2           Friends    9.1            8.9        \n",
       "    season_number\n",
       "21  5            \n",
       "78  5            \n",
       "130 5            \n",
       "219 5            \n",
       "233 5            "
      ]
     },
     "metadata": {},
     "output_type": "display_data"
    }
   ],
   "source": [
    "friendsDF[friendsDF$episode_rating>9 & friendsDF$season_number ==season_number, ]"
   ]
  },
  {
   "cell_type": "code",
   "execution_count": 72,
   "id": "2df6d3a1-823f-4561-8b32-79544da6ba85",
   "metadata": {},
   "outputs": [
    {
     "data": {
      "text/plain": [
       "    episode_title                                      show_title\n",
       "3   The Last One                                       Friends   \n",
       "21  The One Where Everybody Finds Out                  Friends   \n",
       "51  The One Where Ross Got High                        Friends   \n",
       "70  The One with the Morning After                     Friends   \n",
       "78  The One with All the Resolutions                   Friends   \n",
       "82  The One with Chandler in a Box                     Friends   \n",
       "99  The One with Monica and Chandler's Wedding: Part 2 Friends   \n",
       "130 The One with Ross's Sandwich                       Friends   \n",
       "137 The One with Unagi                                 Friends   \n",
       "167 The One with the Embryos                           Friends   \n",
       "173 The One with the Flashback                         Friends   \n",
       "187 The One with the Jellyfish                         Friends   \n",
       "202 The One with the Prom Video                        Friends   \n",
       "205 The One with the Red Sweater                       Friends   \n",
       "209 The One with the Rumor                             Friends   \n",
       "219 The One with All the Thanksgivings                 Friends   \n",
       "225 The One with the Videotape                         Friends   \n",
       "233 The One in Vegas: Part 2                           Friends   \n",
       "234 The One with Ross's Wedding: Part 2                Friends   \n",
       "235 The One with the Proposal                          Friends   \n",
       "    episode_rating show_rating season_number\n",
       "3   9.7            8.9         10           \n",
       "21  9.7            8.9          5           \n",
       "51  9.2            8.9          6           \n",
       "70  9.1            8.9          3           \n",
       "78  9.1            8.9          5           \n",
       "82  9.1            8.9          4           \n",
       "99  9.2            8.9          7           \n",
       "130 9.1            8.9          5           \n",
       "137 9.1            8.9          6           \n",
       "167 9.5            8.9          4           \n",
       "173 9.1            8.9          3           \n",
       "187 9.1            8.9          4           \n",
       "202 9.4            8.9          2           \n",
       "205 9.1            8.9          8           \n",
       "209 9.3            8.9          8           \n",
       "219 9.2            8.9          5           \n",
       "225 9.3            8.9          8           \n",
       "233 9.1            8.9          5           \n",
       "234 9.2            8.9          4           \n",
       "235 9.3            8.9          6           "
      ]
     },
     "metadata": {},
     "output_type": "display_data"
    }
   ],
   "source": [
    "subset(friendsDF, episode_rating> 9 & season_number == season_number)"
   ]
  },
  {
   "cell_type": "code",
   "execution_count": 73,
   "id": "4911c78f-8561-4b9d-8656-6f0bd441a7e9",
   "metadata": {},
   "outputs": [],
   "source": [
    "season_number = 6"
   ]
  },
  {
   "cell_type": "code",
   "execution_count": 74,
   "id": "b2361518-4f0f-4b4b-a8df-494ae19349d3",
   "metadata": {},
   "outputs": [
    {
     "data": {
      "text/plain": [
       "    episode_title               show_title episode_rating show_rating\n",
       "51  The One Where Ross Got High Friends    9.2            8.9        \n",
       "137 The One with Unagi          Friends    9.1            8.9        \n",
       "235 The One with the Proposal   Friends    9.3            8.9        \n",
       "    season_number\n",
       "51  6            \n",
       "137 6            \n",
       "235 6            "
      ]
     },
     "metadata": {},
     "output_type": "display_data"
    }
   ],
   "source": [
    "friendsDF[friendsDF$episode_rating>9 & friendsDF$season_number ==season_number, ]"
   ]
  },
  {
   "cell_type": "code",
   "execution_count": 75,
   "id": "d32e11de-898d-4806-8ee7-a02a18dfb374",
   "metadata": {},
   "outputs": [
    {
     "data": {
      "text/plain": [
       "    episode_title                                      show_title\n",
       "3   The Last One                                       Friends   \n",
       "21  The One Where Everybody Finds Out                  Friends   \n",
       "51  The One Where Ross Got High                        Friends   \n",
       "70  The One with the Morning After                     Friends   \n",
       "78  The One with All the Resolutions                   Friends   \n",
       "82  The One with Chandler in a Box                     Friends   \n",
       "99  The One with Monica and Chandler's Wedding: Part 2 Friends   \n",
       "130 The One with Ross's Sandwich                       Friends   \n",
       "137 The One with Unagi                                 Friends   \n",
       "167 The One with the Embryos                           Friends   \n",
       "173 The One with the Flashback                         Friends   \n",
       "187 The One with the Jellyfish                         Friends   \n",
       "202 The One with the Prom Video                        Friends   \n",
       "205 The One with the Red Sweater                       Friends   \n",
       "209 The One with the Rumor                             Friends   \n",
       "219 The One with All the Thanksgivings                 Friends   \n",
       "225 The One with the Videotape                         Friends   \n",
       "233 The One in Vegas: Part 2                           Friends   \n",
       "234 The One with Ross's Wedding: Part 2                Friends   \n",
       "235 The One with the Proposal                          Friends   \n",
       "    episode_rating show_rating season_number\n",
       "3   9.7            8.9         10           \n",
       "21  9.7            8.9          5           \n",
       "51  9.2            8.9          6           \n",
       "70  9.1            8.9          3           \n",
       "78  9.1            8.9          5           \n",
       "82  9.1            8.9          4           \n",
       "99  9.2            8.9          7           \n",
       "130 9.1            8.9          5           \n",
       "137 9.1            8.9          6           \n",
       "167 9.5            8.9          4           \n",
       "173 9.1            8.9          3           \n",
       "187 9.1            8.9          4           \n",
       "202 9.4            8.9          2           \n",
       "205 9.1            8.9          8           \n",
       "209 9.3            8.9          8           \n",
       "219 9.2            8.9          5           \n",
       "225 9.3            8.9          8           \n",
       "233 9.1            8.9          5           \n",
       "234 9.2            8.9          4           \n",
       "235 9.3            8.9          6           "
      ]
     },
     "metadata": {},
     "output_type": "display_data"
    }
   ],
   "source": [
    "subset(friendsDF, episode_rating> 9 & season_number == season_number)"
   ]
  },
  {
   "cell_type": "markdown",
   "id": "9fbf00fb-2418-460f-ae94-2a32b0c28952",
   "metadata": {},
   "source": [
    "Read that provided article and do your best to explain why subset gets a different result than our example that uses regular indexing.\n",
    "# By defaults subset removes NA rows\n",
    "# Subset is useful interactive shortcut for subsetting data frame, instead of repeating the names of dataframe many times, you save some typing.\n",
    "# majorly it avoid repitition of output that are thesame.\n"
   ]
  },
  {
   "cell_type": "markdown",
   "id": "f76442d6-d02e-4f26-b9d6-c3183e1d6929",
   "metadata": {},
   "source": [
    "## Pledge\n",
    "\n",
    "By submitting this work I hereby pledge that this is my own, personal work. I've acknowledged in the designated place at the top of this file all sources that I used to complete said work, including but not limited to: online resources, books, and electronic communications. I've noted all collaboration with fellow students and/or TA's. I did not copy or plagiarize another's work.\n",
    "\n",
    "> As a Boilermaker pursuing academic excellence, I pledge to be honest and true in all that I do. Accountable together – We are Purdue."
   ]
  }
 ],
 "metadata": {
  "kernelspec": {
   "display_name": "f2022-s2023-r",
   "language": "R",
   "name": "f2022-s2023-r"
  },
  "language_info": {
   "codemirror_mode": "r",
   "file_extension": ".r",
   "mimetype": "text/x-r-source",
   "name": "R",
   "pygments_lexer": "r",
   "version": "4.2.1"
  }
 },
 "nbformat": 4,
 "nbformat_minor": 5
}
