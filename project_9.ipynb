{
 "cells": [
  {
   "cell_type": "markdown",
   "id": "be02a957-7133-4d02-818e-fedeb3cecb05",
   "metadata": {},
   "source": [
    "# Project 9-- Seyi Ogunmodede"
   ]
  },
  {
   "cell_type": "markdown",
   "id": "a1228853-dd19-4ab2-89e0-0394d7d72de3",
   "metadata": {},
   "source": [
    "**Instructor:** Dr. Mark\n",
    "\n",
    "- Help with figuring out how to write a function.\n",
    "    \n",
    "**Collaboration:** \n",
    "    \n"
   ]
  },
  {
   "cell_type": "markdown",
   "id": "6180e742-8e39-4698-98ff-5b00c8cf8ea0",
   "metadata": {},
   "source": [
    "## Question 1"
   ]
  },
  {
   "cell_type": "code",
   "execution_count": 1,
   "id": "a27e78fa-2f29-4c56-847c-9dc76724eb5d",
   "metadata": {},
   "outputs": [],
   "source": [
    "options(jupyter.rich_display = F)"
   ]
  },
  {
   "cell_type": "code",
   "execution_count": 2,
   "id": "de492ac0-6452-43b5-b140-98bd3ba300bf",
   "metadata": {},
   "outputs": [],
   "source": [
    "options(repr.matrix.max.cols=50, repr.matrix.max.rows=200)"
   ]
  },
  {
   "cell_type": "code",
   "execution_count": 3,
   "id": "98e56bca-47f8-4914-9d15-71b4fe0268e9",
   "metadata": {},
   "outputs": [],
   "source": [
    "library(data.table)"
   ]
  },
  {
   "cell_type": "code",
   "execution_count": 4,
   "id": "f099511e-c4fd-41c6-a14b-ec7d5fbea862",
   "metadata": {},
   "outputs": [],
   "source": [
    "itcont <- fread(\"/anvil/projects/tdm/data/election/escaped/itcont2020sample.txt\")"
   ]
  },
  {
   "cell_type": "code",
   "execution_count": 5,
   "id": "5d3bfccb-ff87-451c-a3dd-2ca119bc8f3c",
   "metadata": {},
   "outputs": [
    {
     "data": {
      "text/plain": [
       "  CMTE_ID   AMNDT_IND RPT_TP TRANSACTION_PGI IMAGE_NUM          TRANSACTION_TP\n",
       "1 C00401224 N         YE                     202001299174394423 24T           \n",
       "2 C00401224 N         M4     P               202004219229686792 24T           \n",
       "3 C00193433 N         YE     P               202001219167282616 15            \n",
       "4 C00401224 N         YE                     202001299171436527 24T           \n",
       "5 C00401224 N         MY                     201907299161204221 24T           \n",
       "6 C00618371 N         Q3     P               201910159164412175 15            \n",
       "  ENTITY_TP NAME             CITY         STATE ZIP_CODE EMPLOYER    \n",
       "1 IND       SOLOMON, VICTOR  CAPE CORAL   FL    33904    RETIRED     \n",
       "2 IND       MYERS, ELIZABETH SCOTTSVILLE  NY    14546    NOT EMPLOYED\n",
       "3 IND       HASKINS, GEORGE  HARTSDALE    NY    10530    NOT EMPLOYED\n",
       "4 IND       KOLBE, NINA      WASHINGTON   DC    20003    SELF        \n",
       "5 IND       ESSENBERG, PENNY GRAND RAPIDS MI    49534                \n",
       "6 IND       GIEBEL, BETTY    KISSIMMEE    FL    34744    HOMEMAKER   \n",
       "  OCCUPATION          TRANSACTION_DT TRANSACTION_AMT OTHER_ID  TRAN_ID         \n",
       "1 NOT EMPLOYED         7112019       15              C00042366 SA11AI_165851302\n",
       "2 NOT EMPLOYED         3042020       39              C00696948 SA11AI_216676150\n",
       "3 NOT EMPLOYED        12182019       15                        6260719         \n",
       "4 HEALTH PROFESSIONAL  8302019       10              C00637074 SA11AI_174544101\n",
       "5                      3212019       16              C00580068 SB28A_145393165 \n",
       "6 HOMEMAKER            7112019       42                        SA11AI.178611   \n",
       "  FILE_NUM MEMO_CD\n",
       "1 1378435         \n",
       "2 1402724         \n",
       "3 1371576         \n",
       "4 1378435         \n",
       "5 1344765         \n",
       "6 1358506         \n",
       "  MEMO_TEXT                                                                              \n",
       "1 EARMARKED FOR DSCC (C00042366)                                                         \n",
       "2 EARMARKED FOR BERNIE 2020 (C00696948)                                                  \n",
       "3                                                                                        \n",
       "4 EARMARKED FOR FINKENAUER FOR CONGRESS (C00637074)                                      \n",
       "5 REFUND OF CONTRIBUTION, INITIALLY EARMARKED FOR PROGRESSIVE TURNOUT PROJECT (C00580068)\n",
       "6                                                                                        \n",
       "  SUB_ID             \n",
       "1 4030220201233264164\n",
       "2 4051420201750154629\n",
       "3 4012220201685443186\n",
       "4 4030220201214307726\n",
       "5 4082820191108588209\n",
       "6 4101820191674758801"
      ]
     },
     "metadata": {},
     "output_type": "display_data"
    }
   ],
   "source": [
    "head(itcont)"
   ]
  },
  {
   "cell_type": "code",
   "execution_count": 6,
   "id": "28571b5a-b75d-4384-ace5-bbd442d76443",
   "metadata": {},
   "outputs": [],
   "source": [
    "benford_law <- function (d) { log((d+1)/d)/ log(10) }"
   ]
  },
  {
   "cell_type": "code",
   "execution_count": 7,
   "id": "8f75e6b6-11cf-4dde-a8c1-9a19386bf699",
   "metadata": {},
   "outputs": [
    {
     "data": {
      "text/plain": [
       "[1] 0.30103"
      ]
     },
     "metadata": {},
     "output_type": "display_data"
    }
   ],
   "source": [
    "benford_law (1)"
   ]
  },
  {
   "cell_type": "code",
   "execution_count": 8,
   "id": "2f7aa869-8d27-4802-9519-c1368d88fd2a",
   "metadata": {},
   "outputs": [],
   "source": [
    "digits <- 1:9"
   ]
  },
  {
   "cell_type": "code",
   "execution_count": 9,
   "id": "390f5fe6-cb81-4a22-a43d-9ecb8eee026c",
   "metadata": {},
   "outputs": [
    {
     "data": {
      "text/plain": [
       "[1] 1 2 3 4 5 6 7 8 9"
      ]
     },
     "metadata": {},
     "output_type": "display_data"
    }
   ],
   "source": [
    "digits"
   ]
  },
  {
   "cell_type": "code",
   "execution_count": 10,
   "id": "ee153bef-84bc-41b2-a3ea-da8140d531b6",
   "metadata": {},
   "outputs": [
    {
     "data": {
      "text/plain": [
       "[1] 0.1760913"
      ]
     },
     "metadata": {},
     "output_type": "display_data"
    }
   ],
   "source": [
    "benford_law (2)\n",
    "# this can be done but it bwill take lot of time"
   ]
  },
  {
   "cell_type": "code",
   "execution_count": 11,
   "id": "bd0c15da-ebf6-4ff2-970b-30df274801df",
   "metadata": {},
   "outputs": [
    {
     "data": {
      "text/plain": [
       "[1] 0.30103000 0.17609126 0.12493874 0.09691001 0.07918125 0.06694679 0.05799195\n",
       "[8] 0.05115252 0.04575749"
      ]
     },
     "metadata": {},
     "output_type": "display_data"
    }
   ],
   "source": [
    "sapply(digits,benford_law )"
   ]
  },
  {
   "cell_type": "code",
   "execution_count": 12,
   "id": "fe8633ac-2396-4038-999d-a3c30b8c8749",
   "metadata": {},
   "outputs": [
    {
     "data": {
      "text/plain": [
       "[1] 1"
      ]
     },
     "metadata": {},
     "output_type": "display_data"
    }
   ],
   "source": [
    "sum(sapply(digits,benford_law ))\n",
    "# the summation is 1 to prove probability summation"
   ]
  },
  {
   "cell_type": "code",
   "execution_count": 13,
   "id": "9a495301-3d89-4c66-88d3-2da9d73e6d28",
   "metadata": {},
   "outputs": [
    {
     "data": {
      "image/png": "[encoded data removed]",
      "text/plain": [
       "plot without title"
      ]
     },
     "metadata": {
      "image/png": {
       "height": 420,
       "width": 420
      }
     },
     "output_type": "display_data"
    }
   ],
   "source": [
    "plot(sapply(digits,benford_law ))"
   ]
  },
  {
   "cell_type": "code",
   "execution_count": 14,
   "id": "5513f00c-9b6e-4f8b-b452-3ffa560680b0",
   "metadata": {},
   "outputs": [
    {
     "data": {
      "image/png": "[encoded data removed]",
      "text/plain": [
       "plot without title"
      ]
     },
     "metadata": {
      "image/png": {
       "height": 420,
       "width": 420
      }
     },
     "output_type": "display_data"
    }
   ],
   "source": [
    "barplot(sapply(digits,benford_law ))"
   ]
  },
  {
   "cell_type": "markdown",
   "id": "b456e57c-4a12-464b-999a-ef2df5af80c1",
   "metadata": {},
   "source": [
    "Markdown notes and sentences and analysis written here."
   ]
  },
  {
   "cell_type": "markdown",
   "id": "fc601975-35ed-4680-a4e1-0273ee3cc047",
   "metadata": {},
   "source": [
    "## Question 2"
   ]
  },
  {
   "cell_type": "code",
   "execution_count": 15,
   "id": "a16336a1-1ef0-41e8-bc7c-49387db27497",
   "metadata": {},
   "outputs": [
    {
     "data": {
      "text/plain": [
       "  CMTE_ID   AMNDT_IND RPT_TP TRANSACTION_PGI IMAGE_NUM          TRANSACTION_TP\n",
       "1 C00401224 N         YE                     202001299174394423 24T           \n",
       "2 C00401224 N         M4     P               202004219229686792 24T           \n",
       "3 C00193433 N         YE     P               202001219167282616 15            \n",
       "4 C00401224 N         YE                     202001299171436527 24T           \n",
       "5 C00401224 N         MY                     201907299161204221 24T           \n",
       "6 C00618371 N         Q3     P               201910159164412175 15            \n",
       "  ENTITY_TP NAME             CITY         STATE ZIP_CODE EMPLOYER    \n",
       "1 IND       SOLOMON, VICTOR  CAPE CORAL   FL    33904    RETIRED     \n",
       "2 IND       MYERS, ELIZABETH SCOTTSVILLE  NY    14546    NOT EMPLOYED\n",
       "3 IND       HASKINS, GEORGE  HARTSDALE    NY    10530    NOT EMPLOYED\n",
       "4 IND       KOLBE, NINA      WASHINGTON   DC    20003    SELF        \n",
       "5 IND       ESSENBERG, PENNY GRAND RAPIDS MI    49534                \n",
       "6 IND       GIEBEL, BETTY    KISSIMMEE    FL    34744    HOMEMAKER   \n",
       "  OCCUPATION          TRANSACTION_DT TRANSACTION_AMT OTHER_ID  TRAN_ID         \n",
       "1 NOT EMPLOYED         7112019       15              C00042366 SA11AI_165851302\n",
       "2 NOT EMPLOYED         3042020       39              C00696948 SA11AI_216676150\n",
       "3 NOT EMPLOYED        12182019       15                        6260719         \n",
       "4 HEALTH PROFESSIONAL  8302019       10              C00637074 SA11AI_174544101\n",
       "5                      3212019       16              C00580068 SB28A_145393165 \n",
       "6 HOMEMAKER            7112019       42                        SA11AI.178611   \n",
       "  FILE_NUM MEMO_CD\n",
       "1 1378435         \n",
       "2 1402724         \n",
       "3 1371576         \n",
       "4 1378435         \n",
       "5 1344765         \n",
       "6 1358506         \n",
       "  MEMO_TEXT                                                                              \n",
       "1 EARMARKED FOR DSCC (C00042366)                                                         \n",
       "2 EARMARKED FOR BERNIE 2020 (C00696948)                                                  \n",
       "3                                                                                        \n",
       "4 EARMARKED FOR FINKENAUER FOR CONGRESS (C00637074)                                      \n",
       "5 REFUND OF CONTRIBUTION, INITIALLY EARMARKED FOR PROGRESSIVE TURNOUT PROJECT (C00580068)\n",
       "6                                                                                        \n",
       "  SUB_ID             \n",
       "1 4030220201233264164\n",
       "2 4051420201750154629\n",
       "3 4012220201685443186\n",
       "4 4030220201214307726\n",
       "5 4082820191108588209\n",
       "6 4101820191674758801"
      ]
     },
     "metadata": {},
     "output_type": "display_data"
    }
   ],
   "source": [
    "head(itcont)"
   ]
  },
  {
   "cell_type": "code",
   "execution_count": 16,
   "id": "fa147824-1a5f-4513-88ac-312b46316c56",
   "metadata": {},
   "outputs": [
    {
     "data": {
      "text/plain": [
       "[1] 15 39 15 10 16 42"
      ]
     },
     "metadata": {},
     "output_type": "display_data"
    }
   ],
   "source": [
    "head(itcont$TRANSACTION_AMT)"
   ]
  },
  {
   "cell_type": "code",
   "execution_count": 17,
   "id": "23f8cab3-92aa-42d5-a5e1-1556b218f835",
   "metadata": {},
   "outputs": [
    {
     "data": {
      "text/plain": [
       "[1] \"1\" \"3\" \"1\" \"1\" \"1\" \"4\""
      ]
     },
     "metadata": {},
     "output_type": "display_data"
    }
   ],
   "source": [
    "substr(head(itcont$TRANSACTION_AMT), 1,1)\n",
    "# using substring to go to first position and get the first digits of those numbers using 1,1"
   ]
  },
  {
   "cell_type": "code",
   "execution_count": 18,
   "id": "80acf530-144b-4d71-af7f-1107e696964c",
   "metadata": {},
   "outputs": [
    {
     "data": {
      "text/plain": [
       " [1] \"1\" \"3\" \"1\" \"1\" \"1\" \"4\" \"5\" \"1\" \"5\" \"2\" \"2\" \"8\" \"1\" \"5\" \"2\" \"5\" \"5\" \"4\" \"5\"\n",
       "[20] \"2\" \"5\" \"2\" \"2\" \"1\" \"5\" \"1\" \"1\" \"3\" \"5\" \"1\" \"1\" \"3\" \"2\" \"2\" \"2\" \"2\" \"2\" \"2\"\n",
       "[39] \"3\" \"2\" \"3\" \"2\" \"1\" \"1\" \"6\" \"7\" \"6\" \"3\" \"5\" \"3\""
      ]
     },
     "metadata": {},
     "output_type": "display_data"
    }
   ],
   "source": [
    "substr(head(itcont$TRANSACTION_AMT, n=50), 1,1)\n",
    "#  this is for the first 50 number"
   ]
  },
  {
   "cell_type": "code",
   "execution_count": 19,
   "id": "3ecca8ff-ae37-4287-b1e3-df61c2f7f285",
   "metadata": {},
   "outputs": [
    {
     "data": {
      "text/plain": [
       "\n",
       "   -    0    1    2    3    4    5    6    7    8    9 \n",
       "  52   54 2969 3287  886  351 1864  212  165  106   54 "
      ]
     },
     "metadata": {},
     "output_type": "display_data"
    }
   ],
   "source": [
    "table(substr(head(itcont$TRANSACTION_AMT, n=10000), 1,1))\n",
    "# from the table there are -ve and zeros with values"
   ]
  },
  {
   "cell_type": "code",
   "execution_count": 20,
   "id": "dc4c1401-5350-429c-939b-0f694d6e7588",
   "metadata": {},
   "outputs": [
    {
     "data": {
      "text/plain": [
       "\n",
       "      -       0       1       2       3       4       5       6       7       8 \n",
       "  22428   23054 1355315 1551720  430503  160707  887424   92464   81086   44403 \n",
       "      9 \n",
       "  29658 "
      ]
     },
     "metadata": {},
     "output_type": "display_data"
    }
   ],
   "source": [
    "table(substr(itcont$TRANSACTION_AMT, 1,1))\n",
    "\n",
    "# this is the table of all the results \n",
    "# Then need to remove those of -ve and zeros\n",
    "# to do that there are eleven element from -ve to 9 (1:11)"
   ]
  },
  {
   "cell_type": "code",
   "execution_count": 21,
   "id": "3b7dda14-cb22-4420-a40f-2e17b46c0b8a",
   "metadata": {},
   "outputs": [
    {
     "data": {
      "text/plain": [
       "\n",
       "      1       2       3       4       5       6       7       8       9 \n",
       "1355315 1551720  430503  160707  887424   92464   81086   44403   29658 "
      ]
     },
     "metadata": {},
     "output_type": "display_data"
    }
   ],
   "source": [
    "table(substr(itcont$TRANSACTION_AMT, 1,1)) [3:11]\n",
    "\n",
    "#this is from 3:11 elements\n",
    "# this show only the digits from 1:9"
   ]
  },
  {
   "cell_type": "code",
   "execution_count": 22,
   "id": "770dc753-07d9-4cd2-b9ef-ac8b07700125",
   "metadata": {},
   "outputs": [],
   "source": [
    "firstdigit <- table(substr(itcont$TRANSACTION_AMT, 1,1)) [3:11]\n",
    "# create a vector called first digit"
   ]
  },
  {
   "cell_type": "code",
   "execution_count": 23,
   "id": "00b5a633-ee1c-45b3-b05f-a7823294f1b8",
   "metadata": {},
   "outputs": [
    {
     "data": {
      "text/plain": [
       "[1] \"table\""
      ]
     },
     "metadata": {},
     "output_type": "display_data"
    }
   ],
   "source": [
    "class(firstdigit)"
   ]
  },
  {
   "cell_type": "code",
   "execution_count": 24,
   "id": "55cf9cd7-34ef-48ba-b035-8441fe7b5bcd",
   "metadata": {},
   "outputs": [
    {
     "data": {
      "image/png": "[encoded data removed]",
      "text/plain": [
       "plot without title"
      ]
     },
     "metadata": {
      "image/png": {
       "height": 420,
       "width": 420
      }
     },
     "output_type": "display_data"
    }
   ],
   "source": [
    "plot (firstdigit)"
   ]
  },
  {
   "cell_type": "code",
   "execution_count": 25,
   "id": "21e2f085-f5be-467d-be49-b6d52e1290a2",
   "metadata": {},
   "outputs": [
    {
     "data": {
      "text/plain": [
       "\n",
       "      1       2       3       4       5       6       7       8       9 \n",
       "1355315 1551720  430503  160707  887424   92464   81086   44403   29658 "
      ]
     },
     "metadata": {},
     "output_type": "display_data"
    }
   ],
   "source": [
    "firstdigit"
   ]
  },
  {
   "cell_type": "code",
   "execution_count": 26,
   "id": "0a75e163-6caf-4cf7-819a-60835617d08b",
   "metadata": {},
   "outputs": [
    {
     "data": {
      "text/plain": [
       "[1] 0.30103000 0.17609126 0.12493874 0.09691001 0.07918125 0.06694679 0.05799195\n",
       "[8] 0.05115252 0.04575749"
      ]
     },
     "metadata": {},
     "output_type": "display_data"
    }
   ],
   "source": [
    "sapply(digits,benford_law )"
   ]
  },
  {
   "cell_type": "code",
   "execution_count": 27,
   "id": "84568d45-6c7b-430c-bffa-e782dbc4aca0",
   "metadata": {},
   "outputs": [
    {
     "data": {
      "text/plain": [
       "\n",
       "         1          2          3          4          5          6          7 \n",
       " 4502259.0  8812021.7  3445712.8  1658311.6 11207502.3  1381156.6  1398228.6 \n",
       "         8          9 \n",
       "  868051.0   648156.2 "
      ]
     },
     "metadata": {},
     "output_type": "display_data"
    }
   ],
   "source": [
    "firstdigit/sapply(digits,benford_law )"
   ]
  },
  {
   "cell_type": "markdown",
   "id": "14dc22d4-ddc3-41cc-a91a-cb0025bc0c80",
   "metadata": {},
   "source": [
    "Markdown notes and sentences and analysis written here."
   ]
  },
  {
   "cell_type": "markdown",
   "id": "8e586edd-ff26-4ce2-8f6b-2424b26f2929",
   "metadata": {},
   "source": [
    "## Question 3"
   ]
  },
  {
   "cell_type": "code",
   "execution_count": 28,
   "id": "bbe0f40d-9655-4653-9ca8-886bdb61cb91",
   "metadata": {},
   "outputs": [
    {
     "data": {
      "text/plain": [
       "  CMTE_ID   AMNDT_IND RPT_TP TRANSACTION_PGI IMAGE_NUM          TRANSACTION_TP\n",
       "1 C00401224 N         YE                     202001299174394423 24T           \n",
       "2 C00401224 N         M4     P               202004219229686792 24T           \n",
       "3 C00193433 N         YE     P               202001219167282616 15            \n",
       "4 C00401224 N         YE                     202001299171436527 24T           \n",
       "5 C00401224 N         MY                     201907299161204221 24T           \n",
       "6 C00618371 N         Q3     P               201910159164412175 15            \n",
       "  ENTITY_TP NAME             CITY         STATE ZIP_CODE EMPLOYER    \n",
       "1 IND       SOLOMON, VICTOR  CAPE CORAL   FL    33904    RETIRED     \n",
       "2 IND       MYERS, ELIZABETH SCOTTSVILLE  NY    14546    NOT EMPLOYED\n",
       "3 IND       HASKINS, GEORGE  HARTSDALE    NY    10530    NOT EMPLOYED\n",
       "4 IND       KOLBE, NINA      WASHINGTON   DC    20003    SELF        \n",
       "5 IND       ESSENBERG, PENNY GRAND RAPIDS MI    49534                \n",
       "6 IND       GIEBEL, BETTY    KISSIMMEE    FL    34744    HOMEMAKER   \n",
       "  OCCUPATION          TRANSACTION_DT TRANSACTION_AMT OTHER_ID  TRAN_ID         \n",
       "1 NOT EMPLOYED         7112019       15              C00042366 SA11AI_165851302\n",
       "2 NOT EMPLOYED         3042020       39              C00696948 SA11AI_216676150\n",
       "3 NOT EMPLOYED        12182019       15                        6260719         \n",
       "4 HEALTH PROFESSIONAL  8302019       10              C00637074 SA11AI_174544101\n",
       "5                      3212019       16              C00580068 SB28A_145393165 \n",
       "6 HOMEMAKER            7112019       42                        SA11AI.178611   \n",
       "  FILE_NUM MEMO_CD\n",
       "1 1378435         \n",
       "2 1402724         \n",
       "3 1371576         \n",
       "4 1378435         \n",
       "5 1344765         \n",
       "6 1358506         \n",
       "  MEMO_TEXT                                                                              \n",
       "1 EARMARKED FOR DSCC (C00042366)                                                         \n",
       "2 EARMARKED FOR BERNIE 2020 (C00696948)                                                  \n",
       "3                                                                                        \n",
       "4 EARMARKED FOR FINKENAUER FOR CONGRESS (C00637074)                                      \n",
       "5 REFUND OF CONTRIBUTION, INITIALLY EARMARKED FOR PROGRESSIVE TURNOUT PROJECT (C00580068)\n",
       "6                                                                                        \n",
       "  SUB_ID             \n",
       "1 4030220201233264164\n",
       "2 4051420201750154629\n",
       "3 4012220201685443186\n",
       "4 4030220201214307726\n",
       "5 4082820191108588209\n",
       "6 4101820191674758801"
      ]
     },
     "metadata": {},
     "output_type": "display_data"
    }
   ],
   "source": [
    "head(itcont)"
   ]
  },
  {
   "cell_type": "code",
   "execution_count": 29,
   "id": "daf6e011-1cdf-48d4-855d-ebb6058c16be",
   "metadata": {},
   "outputs": [
    {
     "data": {
      "text/plain": [
       "[1] \"RETIRED\"      \"NOT EMPLOYED\" \"NOT EMPLOYED\" \"SELF\"         \"\"            \n",
       "[6] \"HOMEMAKER\"   "
      ]
     },
     "metadata": {},
     "output_type": "display_data"
    }
   ],
   "source": [
    "head(itcont$EMPLOYER) "
   ]
  },
  {
   "cell_type": "code",
   "execution_count": 30,
   "id": "465c9448-50f4-4a54-a32b-e6f8026a00d2",
   "metadata": {},
   "outputs": [
    {
     "data": {
      "text/plain": [
       "[1] \"NOT EMPLOYED\"        \"NOT EMPLOYED\"        \"NOT EMPLOYED\"       \n",
       "[4] \"HEALTH PROFESSIONAL\" \"\"                    \"HOMEMAKER\"          "
      ]
     },
     "metadata": {},
     "output_type": "display_data"
    }
   ],
   "source": [
    " head(itcont$OCCUPATION) "
   ]
  },
  {
   "cell_type": "code",
   "execution_count": 31,
   "id": "a495e261-d07f-4ceb-b136-4687ac1f395c",
   "metadata": {},
   "outputs": [],
   "source": [
    "k <- rep(TRUE,6)\n",
    "# let k rep TRUEfor the first 6 for both employer and occupation"
   ]
  },
  {
   "cell_type": "code",
   "execution_count": 32,
   "id": "4ccc78e5-ec93-4d24-a901-f9d7f60e522f",
   "metadata": {},
   "outputs": [
    {
     "data": {
      "text/plain": [
       "[1] TRUE TRUE TRUE TRUE TRUE TRUE"
      ]
     },
     "metadata": {},
     "output_type": "display_data"
    }
   ],
   "source": [
    "k"
   ]
  },
  {
   "cell_type": "code",
   "execution_count": 33,
   "id": "0fc9a686-4547-4076-8e28-f0e3aa2efedf",
   "metadata": {},
   "outputs": [],
   "source": [
    "k[head(itcont$EMPLOYER) == \"NOT EMPLOYED\"] <- FALSE\n",
    "\n",
    "#  FALSE column if employer is not employed"
   ]
  },
  {
   "cell_type": "code",
   "execution_count": 34,
   "id": "17acca1c-cb95-40bb-bd2a-b11ac4afb06e",
   "metadata": {},
   "outputs": [],
   "source": [
    "k[head(itcont$OCCUPATION) == \"NOT EMPLOYED\"] <- FALSE\n",
    "#  FALSE column if occupation is not employed"
   ]
  },
  {
   "cell_type": "code",
   "execution_count": 35,
   "id": "ca29f4bb-1ca8-41ef-a07e-65d3e2d9c9ad",
   "metadata": {},
   "outputs": [
    {
     "data": {
      "text/plain": [
       "[1] FALSE FALSE FALSE  TRUE  TRUE  TRUE"
      ]
     },
     "metadata": {},
     "output_type": "display_data"
    }
   ],
   "source": [
    "k\n",
    "\n",
    "# it false for the first value because occupation say not employed\n",
    "# false second and third value because both says not employed\n",
    "# false for forth, fifth and sixth value because it is notemployed for the three"
   ]
  },
  {
   "cell_type": "code",
   "execution_count": 36,
   "id": "4ad7467b-7ebd-4b7c-9cae-0d4198a07ecc",
   "metadata": {},
   "outputs": [],
   "source": [
    "itcont$employed <- TRUE"
   ]
  },
  {
   "cell_type": "code",
   "execution_count": 37,
   "id": "9c9b1bdc-c1b4-4ba5-b9b3-a1fde7409576",
   "metadata": {},
   "outputs": [],
   "source": [
    "itcont$employed[itcont$EMPLOYER == \"NOT EMPLOYED\"]<- FALSE"
   ]
  },
  {
   "cell_type": "code",
   "execution_count": 38,
   "id": "b2ee0bcd-2458-4d7c-8c9a-f75b597e9a43",
   "metadata": {},
   "outputs": [],
   "source": [
    "itcont$employed[itcont$OCCUPATION == \"NOT EMPLOYED\"]<- FALSE"
   ]
  },
  {
   "cell_type": "code",
   "execution_count": 39,
   "id": "f66e6a98-b4ed-4929-aa4a-fe69d8a5a74e",
   "metadata": {},
   "outputs": [
    {
     "data": {
      "text/plain": [
       "\n",
       "  FALSE    TRUE \n",
       "1136507 3542255 "
      ]
     },
     "metadata": {},
     "output_type": "display_data"
    }
   ],
   "source": [
    "table(itcont$employed)"
   ]
  },
  {
   "cell_type": "code",
   "execution_count": 40,
   "id": "4dd1a8ed-f451-410b-853b-62d9d0a8a416",
   "metadata": {},
   "outputs": [],
   "source": [
    "myemployerarray <- function (relaydf) {\n",
    "    # since I called the function relaydf, i must change itcont to relaydf\n",
    "    relaydf$employed <- TRUE\n",
    "    relaydf$employed[itcont$EMPLOYER == \"NOT EMPLOYED\"]<- FALSE\n",
    "    relaydf$employed[itcont$OCCUPATION == \"NOT EMPLOYED\"]<- FALSE\n",
    "    return(relaydf)\n",
    "}\n",
    " "
   ]
  },
  {
   "cell_type": "code",
   "execution_count": 41,
   "id": "c95e93d4-1a4e-472e-a256-8435f456417b",
   "metadata": {},
   "outputs": [
    {
     "data": {
      "text/plain": [
       "  CMTE_ID   AMNDT_IND RPT_TP TRANSACTION_PGI IMAGE_NUM          TRANSACTION_TP\n",
       "1 C00401224 N         YE                     202001299174394423 24T           \n",
       "2 C00401224 N         M4     P               202004219229686792 24T           \n",
       "3 C00193433 N         YE     P               202001219167282616 15            \n",
       "4 C00401224 N         YE                     202001299171436527 24T           \n",
       "5 C00401224 N         MY                     201907299161204221 24T           \n",
       "6 C00618371 N         Q3     P               201910159164412175 15            \n",
       "  ENTITY_TP NAME             CITY         STATE ZIP_CODE EMPLOYER    \n",
       "1 IND       SOLOMON, VICTOR  CAPE CORAL   FL    33904    RETIRED     \n",
       "2 IND       MYERS, ELIZABETH SCOTTSVILLE  NY    14546    NOT EMPLOYED\n",
       "3 IND       HASKINS, GEORGE  HARTSDALE    NY    10530    NOT EMPLOYED\n",
       "4 IND       KOLBE, NINA      WASHINGTON   DC    20003    SELF        \n",
       "5 IND       ESSENBERG, PENNY GRAND RAPIDS MI    49534                \n",
       "6 IND       GIEBEL, BETTY    KISSIMMEE    FL    34744    HOMEMAKER   \n",
       "  OCCUPATION          TRANSACTION_DT TRANSACTION_AMT OTHER_ID  TRAN_ID         \n",
       "1 NOT EMPLOYED         7112019       15              C00042366 SA11AI_165851302\n",
       "2 NOT EMPLOYED         3042020       39              C00696948 SA11AI_216676150\n",
       "3 NOT EMPLOYED        12182019       15                        6260719         \n",
       "4 HEALTH PROFESSIONAL  8302019       10              C00637074 SA11AI_174544101\n",
       "5                      3212019       16              C00580068 SB28A_145393165 \n",
       "6 HOMEMAKER            7112019       42                        SA11AI.178611   \n",
       "  FILE_NUM MEMO_CD\n",
       "1 1378435         \n",
       "2 1402724         \n",
       "3 1371576         \n",
       "4 1378435         \n",
       "5 1344765         \n",
       "6 1358506         \n",
       "  MEMO_TEXT                                                                              \n",
       "1 EARMARKED FOR DSCC (C00042366)                                                         \n",
       "2 EARMARKED FOR BERNIE 2020 (C00696948)                                                  \n",
       "3                                                                                        \n",
       "4 EARMARKED FOR FINKENAUER FOR CONGRESS (C00637074)                                      \n",
       "5 REFUND OF CONTRIBUTION, INITIALLY EARMARKED FOR PROGRESSIVE TURNOUT PROJECT (C00580068)\n",
       "6                                                                                        \n",
       "  SUB_ID              employed\n",
       "1 4030220201233264164 FALSE   \n",
       "2 4051420201750154629 FALSE   \n",
       "3 4012220201685443186 FALSE   \n",
       "4 4030220201214307726  TRUE   \n",
       "5 4082820191108588209  TRUE   \n",
       "6 4101820191674758801  TRUE   "
      ]
     },
     "metadata": {},
     "output_type": "display_data"
    }
   ],
   "source": [
    "head(myemployerarray(itcont))"
   ]
  },
  {
   "cell_type": "code",
   "execution_count": 42,
   "id": "08a2404b-d492-454e-a4fd-3b77e885289b",
   "metadata": {},
   "outputs": [
    {
     "data": {
      "text/plain": [
       "\n",
       "  FALSE    TRUE \n",
       "1136507 3542255 "
      ]
     },
     "metadata": {},
     "output_type": "display_data"
    }
   ],
   "source": [
    "table(myemployerarray(itcont)$employed)"
   ]
  },
  {
   "cell_type": "markdown",
   "id": "47c6229f-35f7-400c-8366-c442baa5cf47",
   "metadata": {},
   "source": [
    "Markdown notes and sentences and analysis written here."
   ]
  },
  {
   "cell_type": "markdown",
   "id": "da22f29c-d245-4d2b-9fc1-ca14cb6087d9",
   "metadata": {},
   "source": [
    "## Question 4"
   ]
  },
  {
   "cell_type": "code",
   "execution_count": 43,
   "id": "8cffc767-d1c8-4d64-b7dc-f0d2ee8a80d1",
   "metadata": {},
   "outputs": [],
   "source": [
    "myemployerarray <- function (relaydf) {\n",
    "    # it has one argument\n",
    "    relaydf$employed <- TRUE\n",
    "    # create a data frame that has all EMPLOYER employed to be true\n",
    "    relaydf$employed[itcont$EMPLOYER == \"NOT EMPLOYED\"]<- FALSE\n",
    "    # a data frame for EMPLOYER when it is not employed to reflect false\n",
    "    relaydf$employed[itcont$OCCUPATION == \"NOT EMPLOYED\"]<- FALSE\n",
    "     # a data frame for OCCUPATION when it is not employed to reflect false\n",
    "    return(relaydf)\n",
    "    #return (the number of TRUE from FALSE in the argument data frame)\n",
    "}"
   ]
  },
  {
   "cell_type": "code",
   "execution_count": 44,
   "id": "81644a18-40a3-4f92-b6c3-f0443f5ff299",
   "metadata": {},
   "outputs": [
    {
     "data": {
      "text/plain": [
       "\n",
       "  FALSE    TRUE \n",
       "1136507 3542255 "
      ]
     },
     "metadata": {},
     "output_type": "display_data"
    }
   ],
   "source": [
    "table(myemployerarray(itcont)$employed)"
   ]
  },
  {
   "cell_type": "code",
   "execution_count": 45,
   "id": "9ba06215-08c0-46c9-b4e1-f0e898106a3c",
   "metadata": {},
   "outputs": [
    {
     "name": "stderr",
     "output_type": "stream",
     "text": [
      "Warning message in dotchart(table(myemployerarray(itcont)$employed)):\n",
      "\"'x' is neither a vector nor a matrix: using as.numeric(x)\"\n"
     ]
    },
    {
     "data": {
      "image/png": "[encoded data removed]",
      "text/plain": [
       "plot without title"
      ]
     },
     "metadata": {
      "image/png": {
       "height": 420,
       "width": 420
      }
     },
     "output_type": "display_data"
    }
   ],
   "source": [
    "dotchart(table(myemployerarray(itcont)$employed))"
   ]
  },
  {
   "cell_type": "code",
   "execution_count": 46,
   "id": "64173b8c-5a80-4882-9fc3-fa89f5e43628",
   "metadata": {},
   "outputs": [
    {
     "data": {
      "image/png": "[encoded data removed]",
      "text/plain": [
       "plot without title"
      ]
     },
     "metadata": {
      "image/png": {
       "height": 420,
       "width": 420
      }
     },
     "output_type": "display_data"
    }
   ],
   "source": [
    "plot(table(myemployerarray(itcont)$employed))"
   ]
  },
  {
   "cell_type": "code",
   "execution_count": 47,
   "id": "b1ed15f6-a7aa-4074-ad35-6d77ac6cddff",
   "metadata": {},
   "outputs": [],
   "source": [
    "gotcha<-table(itcont$employed)\n",
    "# to show the percentage of individuals employed vs not employed"
   ]
  },
  {
   "cell_type": "code",
   "execution_count": 48,
   "id": "3dda90ce-fbdb-4f48-aed5-57f8ee229095",
   "metadata": {},
   "outputs": [
    {
     "data": {
      "text/plain": [
       "\n",
       "    FALSE      TRUE \n",
       " 568253.5 1771127.5 "
      ]
     },
     "metadata": {},
     "output_type": "display_data"
    }
   ],
   "source": [
    "gotcha/2\n",
    "# divididing the equation by 2\n",
    "# sample for verification"
   ]
  },
  {
   "cell_type": "code",
   "execution_count": 49,
   "id": "2b0e50de-2360-434f-bc59-7e9924bda615",
   "metadata": {},
   "outputs": [
    {
     "data": {
      "text/plain": [
       "\n",
       "   FALSE     TRUE \n",
       "24.29076 75.70924 "
      ]
     },
     "metadata": {},
     "output_type": "display_data"
    }
   ],
   "source": [
    "(gotcha/sum(gotcha))*100\n",
    "# individual ( TRUE, FALSE) divided by their summation\n",
    "# multiply the answer by 100 to change to percentage"
   ]
  },
  {
   "cell_type": "code",
   "execution_count": 50,
   "id": "8991ea76-c74a-450f-8f96-de3860cd4fc4",
   "metadata": {},
   "outputs": [
    {
     "data": {
      "image/png": "[encoded data removed]",
      "text/plain": [
       "plot without title"
      ]
     },
     "metadata": {
      "image/png": {
       "height": 420,
       "width": 420
      }
     },
     "output_type": "display_data"
    }
   ],
   "source": [
    "barplot((gotcha/sum(gotcha))*100)\n",
    "# barplot graph"
   ]
  },
  {
   "cell_type": "code",
   "execution_count": 51,
   "id": "24b8d658-efbd-4d5e-9e72-30592c861f47",
   "metadata": {},
   "outputs": [],
   "source": [
    "percentage <-((gotcha/sum(gotcha))*100)\n",
    "# create  data frame for the division oucome"
   ]
  },
  {
   "cell_type": "code",
   "execution_count": 52,
   "id": "03086e72-5e82-49f3-9bac-9406c959d5f0",
   "metadata": {},
   "outputs": [
    {
     "data": {
      "image/png": "[encoded data removed]",
      "text/plain": [
       "Plot with title \"percentage of individuals employed vs not employed\""
      ]
     },
     "metadata": {
      "image/png": {
       "height": 420,
       "width": 420
      }
     },
     "output_type": "display_data"
    }
   ],
   "source": [
    "barplot(percentage, main=\"percentage of individuals employed vs not employed\",\n",
    "        xlab= \"employment status\", col= c(\"darkblue\",\"red\"),\n",
    "       ylab = \"percentage\")\n",
    "\n",
    "# to put label and clour"
   ]
  },
  {
   "cell_type": "markdown",
   "id": "0d552245-b4d6-474a-9cc9-fa7b8e674d55",
   "metadata": {},
   "source": [
    "Markdown notes and sentences and analysis written here."
   ]
  },
  {
   "cell_type": "markdown",
   "id": "88c9cdac-3e92-498f-83fa-e089bfc44ac8",
   "metadata": {},
   "source": [
    "## Question 5"
   ]
  },
  {
   "cell_type": "code",
   "execution_count": 53,
   "id": "d370d7c9-06db-42b9-b75f-240481a5c491",
   "metadata": {},
   "outputs": [
    {
     "data": {
      "text/plain": [
       "  CMTE_ID   AMNDT_IND RPT_TP TRANSACTION_PGI IMAGE_NUM          TRANSACTION_TP\n",
       "1 C00401224 N         YE                     202001299174394423 24T           \n",
       "2 C00401224 N         M4     P               202004219229686792 24T           \n",
       "3 C00193433 N         YE     P               202001219167282616 15            \n",
       "4 C00401224 N         YE                     202001299171436527 24T           \n",
       "5 C00401224 N         MY                     201907299161204221 24T           \n",
       "6 C00618371 N         Q3     P               201910159164412175 15            \n",
       "  ENTITY_TP NAME             CITY         STATE ZIP_CODE EMPLOYER    \n",
       "1 IND       SOLOMON, VICTOR  CAPE CORAL   FL    33904    RETIRED     \n",
       "2 IND       MYERS, ELIZABETH SCOTTSVILLE  NY    14546    NOT EMPLOYED\n",
       "3 IND       HASKINS, GEORGE  HARTSDALE    NY    10530    NOT EMPLOYED\n",
       "4 IND       KOLBE, NINA      WASHINGTON   DC    20003    SELF        \n",
       "5 IND       ESSENBERG, PENNY GRAND RAPIDS MI    49534                \n",
       "6 IND       GIEBEL, BETTY    KISSIMMEE    FL    34744    HOMEMAKER   \n",
       "  OCCUPATION          TRANSACTION_DT TRANSACTION_AMT OTHER_ID  TRAN_ID         \n",
       "1 NOT EMPLOYED         7112019       15              C00042366 SA11AI_165851302\n",
       "2 NOT EMPLOYED         3042020       39              C00696948 SA11AI_216676150\n",
       "3 NOT EMPLOYED        12182019       15                        6260719         \n",
       "4 HEALTH PROFESSIONAL  8302019       10              C00637074 SA11AI_174544101\n",
       "5                      3212019       16              C00580068 SB28A_145393165 \n",
       "6 HOMEMAKER            7112019       42                        SA11AI.178611   \n",
       "  FILE_NUM MEMO_CD\n",
       "1 1378435         \n",
       "2 1402724         \n",
       "3 1371576         \n",
       "4 1378435         \n",
       "5 1344765         \n",
       "6 1358506         \n",
       "  MEMO_TEXT                                                                              \n",
       "1 EARMARKED FOR DSCC (C00042366)                                                         \n",
       "2 EARMARKED FOR BERNIE 2020 (C00696948)                                                  \n",
       "3                                                                                        \n",
       "4 EARMARKED FOR FINKENAUER FOR CONGRESS (C00637074)                                      \n",
       "5 REFUND OF CONTRIBUTION, INITIALLY EARMARKED FOR PROGRESSIVE TURNOUT PROJECT (C00580068)\n",
       "6                                                                                        \n",
       "  SUB_ID              employed\n",
       "1 4030220201233264164 FALSE   \n",
       "2 4051420201750154629 FALSE   \n",
       "3 4012220201685443186 FALSE   \n",
       "4 4030220201214307726  TRUE   \n",
       "5 4082820191108588209  TRUE   \n",
       "6 4101820191674758801  TRUE   "
      ]
     },
     "metadata": {},
     "output_type": "display_data"
    }
   ],
   "source": [
    "head(itcont)"
   ]
  },
  {
   "cell_type": "code",
   "execution_count": 54,
   "id": "af63acf9-9a1e-410c-9048-3b471033cda1",
   "metadata": {},
   "outputs": [],
   "source": [
    "temp <- function(state, max_amount) {\n",
    "     yope<-itcont[itcont$STATE==state]\n",
    "    rope<- yope[yope$TRANSACTION_AMT <= max_amount]\n",
    "    return (rope)\n",
    "    \n",
    "    \n",
    "}"
   ]
  },
  {
   "cell_type": "code",
   "execution_count": 55,
   "id": "981bb447-a897-44c1-9e7b-185649796a60",
   "metadata": {},
   "outputs": [],
   "source": [
    "state<- \"FL\""
   ]
  },
  {
   "cell_type": "code",
   "execution_count": 56,
   "id": "feb4f068-8fa9-4235-9bd2-42ec9f8338fb",
   "metadata": {},
   "outputs": [],
   "source": [
    " yope<-itcont[itcont$STATE==state]"
   ]
  },
  {
   "cell_type": "code",
   "execution_count": 57,
   "id": "420fcb89-9229-4f40-9af0-25560023b1fc",
   "metadata": {},
   "outputs": [
    {
     "data": {
      "text/plain": [
       "  CMTE_ID   AMNDT_IND RPT_TP TRANSACTION_PGI IMAGE_NUM          TRANSACTION_TP\n",
       "1 C00401224 N         YE                     202001299174394423 24T           \n",
       "2 C00618371 N         Q3     P               201910159164412175 15            \n",
       "3 C00696948 N         M2     P2020           202002209186793664 15E           \n",
       "4 C00365536 A         YE     P               202002219187239283 15            \n",
       "5 C00580068 N         M4     P               202004189219713222 15E           \n",
       "6 C00615294 N         YE     P2020           202001289167425289 15            \n",
       "  ENTITY_TP NAME                   CITY              STATE ZIP_CODE \n",
       "1 IND       SOLOMON, VICTOR        CAPE CORAL        FL    33904    \n",
       "2 IND       GIEBEL, BETTY          KISSIMMEE         FL    34744    \n",
       "3 IND       PIRONKOVA IRWIN, MARIA COCOA             FL    329262715\n",
       "4 IND       HALLETT, JEFFREY       PONTE VEDRA BEACH FL    320823306\n",
       "5 IND       KLAUDER, JOHN          GAINESVILLE       FL    326118440\n",
       "6 IND       HARRISON, JEFFREY P    JACKSONVILLE      FL    322248610\n",
       "  EMPLOYER                    OCCUPATION   TRANSACTION_DT TRANSACTION_AMT\n",
       "1 RETIRED                     NOT EMPLOYED  7112019        15            \n",
       "2 HOMEMAKER                   HOMEMAKER     7112019        42            \n",
       "3 INMARSAT                    ACCOUNTANT    1192020         6            \n",
       "4 N/A                         NOT EMPLOYED 12162019        25            \n",
       "5 NOT EMPLOYED                NOT EMPLOYED  3192020         5            \n",
       "6 UNIVERSITY OF NORTH FLORIDA PROFESSOR    12312019       500            \n",
       "  OTHER_ID  TRAN_ID              FILE_NUM MEMO_CD\n",
       "1 C00042366 SA11AI_165851302     1378435         \n",
       "2           SA11AI.178611        1358506         \n",
       "3 C00401224 16026593             1384482         \n",
       "4           VTEJXXZAS92          1385412         \n",
       "5 C00401224 VR05RVEGS48          1401936         \n",
       "6           AB6E5E4EDF0BE4A1B9AA 1374121         \n",
       "  MEMO_TEXT                           SUB_ID              employed\n",
       "1 EARMARKED FOR DSCC (C00042366)      4030220201233264164 FALSE   \n",
       "2                                     4101820191674758801  TRUE   \n",
       "3 * EARMARKED CONTRIBUTION: SEE BELOW 4030420201701013665  TRUE   \n",
       "4                                     4022920201700024212 FALSE   \n",
       "5 * EARMARKED CONTRIBUTION: SEE BELOW 4042020201737459079 FALSE   \n",
       "6                                     4012920201686048107  TRUE   "
      ]
     },
     "metadata": {},
     "output_type": "display_data"
    }
   ],
   "source": [
    "head(yope)\n",
    "# a subset of itcont  inside one state"
   ]
  },
  {
   "cell_type": "code",
   "execution_count": 58,
   "id": "6703f21b-0c48-407c-95de-e3febaf3afda",
   "metadata": {},
   "outputs": [],
   "source": [
    "rope<- yope[yope$TRANSACTION_AMT <= 15]"
   ]
  },
  {
   "cell_type": "code",
   "execution_count": 59,
   "id": "9bdaefb2-24ac-471e-a9b6-7ee8dbb27ca9",
   "metadata": {},
   "outputs": [
    {
     "data": {
      "text/plain": [
       "  CMTE_ID   AMNDT_IND RPT_TP TRANSACTION_PGI IMAGE_NUM          TRANSACTION_TP\n",
       "1 C00401224 N         YE                     202001299174394423 24T           \n",
       "2 C00696948 N         M2     P2020           202002209186793664 15E           \n",
       "3 C00580068 N         M4     P               202004189219713222 15E           \n",
       "4 C00618371 N         Q1     P               202004159219383798 15            \n",
       "5 C00401224 N         YE                     202001299170214666 24T           \n",
       "6 C00401224 N         YE                     202001299170938312 24T           \n",
       "  ENTITY_TP NAME                   CITY         STATE ZIP_CODE  EMPLOYER    \n",
       "1 IND       SOLOMON, VICTOR        CAPE CORAL   FL    33904     RETIRED     \n",
       "2 IND       PIRONKOVA IRWIN, MARIA COCOA        FL    329262715 INMARSAT    \n",
       "3 IND       KLAUDER, JOHN          GAINESVILLE  FL    326118440 NOT EMPLOYED\n",
       "4 IND       DOWNES, CHERYL         ORMOND BEACH FL    32176     RETIRED     \n",
       "5 IND       GRAFF, SHERRY          CAPE CORAL   FL    33914     NONE        \n",
       "6 IND       INGRAM, ELOISE         NAPLES       FL    34105     NOT EMPLOYED\n",
       "  OCCUPATION   TRANSACTION_DT TRANSACTION_AMT OTHER_ID  TRAN_ID         \n",
       "1 NOT EMPLOYED 7112019         15             C00042366 SA11AI_165851302\n",
       "2 ACCOUNTANT   1192020          6             C00401224 16026593        \n",
       "3 NOT EMPLOYED 3192020          5             C00401224 VR05RVEGS48     \n",
       "4 RETIRED      2182020        -53                       SA11AI.132097   \n",
       "5 NONE         7132019         15             C00513176 SA11AI_166129533\n",
       "6 NOT EMPLOYED 8032019         15             C00580068 SA11AI_169905472\n",
       "  FILE_NUM MEMO_CD\n",
       "1 1378435         \n",
       "2 1384482         \n",
       "3 1401936         \n",
       "4 1400385         \n",
       "5 1378435         \n",
       "6 1378435         \n",
       "  MEMO_TEXT                                                     \n",
       "1 EARMARKED FOR DSCC (C00042366)                                \n",
       "2 * EARMARKED CONTRIBUTION: SEE BELOW                           \n",
       "3 * EARMARKED CONTRIBUTION: SEE BELOW                           \n",
       "4                                                               \n",
       "5 EARMARKED FOR CONGRESSIONAL PROGRESSIVE CAUCUS PAC (C00513176)\n",
       "6 EARMARKED FOR PROGRESSIVE TURNOUT PROJECT (C00580068)         \n",
       "  SUB_ID              employed\n",
       "1 4030220201233264164 FALSE   \n",
       "2 4030420201701013665  TRUE   \n",
       "3 4042020201737459079 FALSE   \n",
       "4 4042320201737951518  TRUE   \n",
       "5 4030220201227106593  TRUE   \n",
       "6 4030220201218197752 FALSE   "
      ]
     },
     "metadata": {},
     "output_type": "display_data"
    }
   ],
   "source": [
    "head(rope)"
   ]
  },
  {
   "cell_type": "code",
   "execution_count": 60,
   "id": "744756cb-20dc-4f60-bb20-8e32b24a1eea",
   "metadata": {},
   "outputs": [
    {
     "data": {
      "text/plain": [
       "  CMTE_ID   AMNDT_IND RPT_TP TRANSACTION_PGI IMAGE_NUM          TRANSACTION_TP\n",
       "1 C00401224 N         YE                     202001299174394423 24T           \n",
       "2 C00696948 N         M2     P2020           202002209186793664 15E           \n",
       "3 C00580068 N         M4     P               202004189219713222 15E           \n",
       "4 C00618371 N         Q1     P               202004159219383798 15            \n",
       "5 C00401224 N         YE                     202001299170214666 24T           \n",
       "6 C00401224 N         YE                     202001299170938312 24T           \n",
       "  ENTITY_TP NAME                   CITY         STATE ZIP_CODE  EMPLOYER    \n",
       "1 IND       SOLOMON, VICTOR        CAPE CORAL   FL    33904     RETIRED     \n",
       "2 IND       PIRONKOVA IRWIN, MARIA COCOA        FL    329262715 INMARSAT    \n",
       "3 IND       KLAUDER, JOHN          GAINESVILLE  FL    326118440 NOT EMPLOYED\n",
       "4 IND       DOWNES, CHERYL         ORMOND BEACH FL    32176     RETIRED     \n",
       "5 IND       GRAFF, SHERRY          CAPE CORAL   FL    33914     NONE        \n",
       "6 IND       INGRAM, ELOISE         NAPLES       FL    34105     NOT EMPLOYED\n",
       "  OCCUPATION   TRANSACTION_DT TRANSACTION_AMT OTHER_ID  TRAN_ID         \n",
       "1 NOT EMPLOYED 7112019         15             C00042366 SA11AI_165851302\n",
       "2 ACCOUNTANT   1192020          6             C00401224 16026593        \n",
       "3 NOT EMPLOYED 3192020          5             C00401224 VR05RVEGS48     \n",
       "4 RETIRED      2182020        -53                       SA11AI.132097   \n",
       "5 NONE         7132019         15             C00513176 SA11AI_166129533\n",
       "6 NOT EMPLOYED 8032019         15             C00580068 SA11AI_169905472\n",
       "  FILE_NUM MEMO_CD\n",
       "1 1378435         \n",
       "2 1384482         \n",
       "3 1401936         \n",
       "4 1400385         \n",
       "5 1378435         \n",
       "6 1378435         \n",
       "  MEMO_TEXT                                                     \n",
       "1 EARMARKED FOR DSCC (C00042366)                                \n",
       "2 * EARMARKED CONTRIBUTION: SEE BELOW                           \n",
       "3 * EARMARKED CONTRIBUTION: SEE BELOW                           \n",
       "4                                                               \n",
       "5 EARMARKED FOR CONGRESSIONAL PROGRESSIVE CAUCUS PAC (C00513176)\n",
       "6 EARMARKED FOR PROGRESSIVE TURNOUT PROJECT (C00580068)         \n",
       "  SUB_ID              employed\n",
       "1 4030220201233264164 FALSE   \n",
       "2 4030420201701013665  TRUE   \n",
       "3 4042020201737459079 FALSE   \n",
       "4 4042320201737951518  TRUE   \n",
       "5 4030220201227106593  TRUE   \n",
       "6 4030220201218197752 FALSE   "
      ]
     },
     "metadata": {},
     "output_type": "display_data"
    }
   ],
   "source": [
    "head(temp (\"FL\",15))"
   ]
  },
  {
   "cell_type": "code",
   "execution_count": 61,
   "id": "73041b62-e6d1-4b1a-841b-adcc7f3af331",
   "metadata": {},
   "outputs": [
    {
     "data": {
      "text/plain": [
       "  CMTE_ID   AMNDT_IND RPT_TP TRANSACTION_PGI IMAGE_NUM          TRANSACTION_TP\n",
       "1 C00696948 N         M2     P2020           202002209186793664 15E           \n",
       "2 C00580068 N         M4     P               202004189219713222 15E           \n",
       "3 C00618371 N         Q1     P               202004159219383798 15            \n",
       "4 C00401224 N         YE                     202001299170228603 24T           \n",
       "5 C00401224 N         YE                     202001299169021444 24T           \n",
       "6 C00703975 A         Q3     P2020           201912179166342286 15E           \n",
       "  ENTITY_TP NAME                   CITY         STATE ZIP_CODE \n",
       "1 IND       PIRONKOVA IRWIN, MARIA COCOA        FL    329262715\n",
       "2 IND       KLAUDER, JOHN          GAINESVILLE  FL    326118440\n",
       "3 IND       DOWNES, CHERYL         ORMOND BEACH FL    32176    \n",
       "4 IND       GRANT, JILL            POMONA PARK  FL    32181    \n",
       "5 IND       CRUZ, MICHELLE         VENICE       FL    34293    \n",
       "6 IND       VECCHITTO, JAMES       ST AUGUSTINE FL    320920713\n",
       "  EMPLOYER                       OCCUPATION   TRANSACTION_DT TRANSACTION_AMT\n",
       "1 INMARSAT                       ACCOUNTANT   1192020          6            \n",
       "2 NOT EMPLOYED                   NOT EMPLOYED 3192020          5            \n",
       "3 RETIRED                        RETIRED      2182020        -53            \n",
       "4 NOT EMPLOYED                   NOT EMPLOYED 8192019          3            \n",
       "5 CENTURY 21 SCHMIDT REAL ESTATE RECEPTIONIST 7292019          5            \n",
       "6 U.S. ARMY CORPS OF ENGINEERS   ENGINEER     9212019         10            \n",
       "  OTHER_ID  TRAN_ID          FILE_NUM MEMO_CD\n",
       "1 C00401224 16026593         1384482         \n",
       "2 C00401224 VR05RVEGS48      1401936         \n",
       "3           SA11AI.132097    1400385         \n",
       "4 C00580068 SA11AI_172682889 1378435         \n",
       "5 C00696948 SA11AI_168544374 1378435         \n",
       "6 C00401224 1167517          1366605         \n",
       "  MEMO_TEXT                                             SUB_ID             \n",
       "1 * EARMARKED CONTRIBUTION: SEE BELOW                   4030420201701013665\n",
       "2 * EARMARKED CONTRIBUTION: SEE BELOW                   4042020201737459079\n",
       "3                                                       4042320201737951518\n",
       "4 EARMARKED FOR PROGRESSIVE TURNOUT PROJECT (C00580068) 4030220201224626849\n",
       "5 EARMARKED FOR BERNIE 2020 (C00696948)                 4030220201230421192\n",
       "6 * EARMARKED CONTRIBUTION: SEE BELOW                   4010820201683270440\n",
       "  employed\n",
       "1  TRUE   \n",
       "2 FALSE   \n",
       "3  TRUE   \n",
       "4 FALSE   \n",
       "5  TRUE   \n",
       "6  TRUE   "
      ]
     },
     "metadata": {},
     "output_type": "display_data"
    }
   ],
   "source": [
    "head(temp (\"FL\",10))"
   ]
  },
  {
   "cell_type": "markdown",
   "id": "9fbf00fb-2418-460f-ae94-2a32b0c28952",
   "metadata": {},
   "source": [
    "Markdown notes and sentences and analysis written here."
   ]
  },
  {
   "cell_type": "markdown",
   "id": "f76442d6-d02e-4f26-b9d6-c3183e1d6929",
   "metadata": {},
   "source": [
    "## Pledge\n",
    "\n",
    "By submitting this work I hereby pledge that this is my own, personal work. I've acknowledged in the designated place at the top of this file all sources that I used to complete said work, including but not limited to: online resources, books, and electronic communications. I've noted all collaboration with fellow students and/or TA's. I did not copy or plagiarize another's work.\n",
    "\n",
    "> As a Boilermaker pursuing academic excellence, I pledge to be honest and true in all that I do. Accountable together – We are Purdue."
   ]
  }
 ],
 "metadata": {
  "kernelspec": {
   "display_name": "f2022-s2023-r",
   "language": "R",
   "name": "f2022-s2023-r"
  },
  "language_info": {
   "codemirror_mode": "r",
   "file_extension": ".r",
   "mimetype": "text/x-r-source",
   "name": "R",
   "pygments_lexer": "r",
   "version": "4.2.1"
  }
 },
 "nbformat": 4,
 "nbformat_minor": 5
}
