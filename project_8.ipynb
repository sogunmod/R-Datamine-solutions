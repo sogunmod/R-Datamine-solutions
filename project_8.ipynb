{
 "cells": [
  {
   "cell_type": "markdown",
   "id": "be02a957-7133-4d02-818e-fedeb3cecb05",
   "metadata": {},
   "source": [
    "# Project 8 --SEYI OGUNMODEDE"
   ]
  },
  {
   "cell_type": "markdown",
   "id": "a1228853-dd19-4ab2-89e0-0394d7d72de3",
   "metadata": {},
   "source": [
    "**Instructor help:** Dr. Mark\n",
    "\n",
    "- Assisted with videos online to put through and Help with figuring out how to write a function.\n",
    "    \n",
    "**TA:** Ik Su Jeong \n",
    "    \n"
   ]
  },
  {
   "cell_type": "markdown",
   "id": "6180e742-8e39-4698-98ff-5b00c8cf8ea0",
   "metadata": {},
   "source": [
    "## Question 1"
   ]
  },
  {
   "cell_type": "code",
   "execution_count": 1,
   "id": "68f9e3e0-5b84-49d8-89e9-8f1b8a03710d",
   "metadata": {},
   "outputs": [],
   "source": [
    "tricy <- function (k) {\n",
    "    # i can write other lines of R here\n",
    "    k*k*k   # this is the value returned by the function at the end \n",
    "}"
   ]
  },
  {
   "cell_type": "code",
   "execution_count": 2,
   "id": "52411eb0-b1ca-44f2-927a-9c100a5a5fc4",
   "metadata": {},
   "outputs": [
    {
     "data": {
      "text/html": [
       "8000"
      ],
      "text/latex": [
       "8000"
      ],
      "text/markdown": [
       "8000"
      ],
      "text/plain": [
       "[1] 8000"
      ]
     },
     "metadata": {},
     "output_type": "display_data"
    }
   ],
   "source": [
    "tricy(20)"
   ]
  },
  {
   "cell_type": "code",
   "execution_count": 3,
   "id": "a6ab9c41-f142-4bdb-98cf-b0bc9ff3d0e1",
   "metadata": {},
   "outputs": [],
   "source": [
    "library(data.table)"
   ]
  },
  {
   "cell_type": "code",
   "execution_count": 4,
   "id": "9b647c6b-166e-4c1e-8166-d8c0fac115f3",
   "metadata": {},
   "outputs": [],
   "source": [
    "titles <- data.frame(fread(\"/anvil/projects/tdm/data/movies_and_tv/titles.csv\"))"
   ]
  },
  {
   "cell_type": "code",
   "execution_count": 5,
   "id": "0fdf5b5d-12ad-470a-95f1-682bfd73e7e0",
   "metadata": {},
   "outputs": [],
   "source": [
    "episodes <- data.frame(fread(\"/anvil/projects/tdm/data/movies_and_tv/episodes.csv\"))"
   ]
  },
  {
   "cell_type": "code",
   "execution_count": 6,
   "id": "b87dd0a6-4a50-4498-ba3f-b62d208af98b",
   "metadata": {},
   "outputs": [],
   "source": [
    "people <- data.frame(fread(\"/anvil/projects/tdm/data/movies_and_tv/people.csv\"))"
   ]
  },
  {
   "cell_type": "code",
   "execution_count": 7,
   "id": "6d06b9ca-208a-435b-941d-4457bfd6afa6",
   "metadata": {},
   "outputs": [],
   "source": [
    "ratings <- data.frame(fread(\"/anvil/projects/tdm/data/movies_and_tv/ratings.csv\"))"
   ]
  },
  {
   "cell_type": "code",
   "execution_count": 8,
   "id": "f9e4a248-6b2b-49f4-855b-3ee6e9875820",
   "metadata": {},
   "outputs": [
    {
     "data": {
      "text/html": [
       "<table class=\"dataframe\">\n",
       "<caption>A data.frame: 6 x 9</caption>\n",
       "<thead>\n",
       "\t<tr><th></th><th scope=col>title_id</th><th scope=col>type</th><th scope=col>primary_title</th><th scope=col>original_title</th><th scope=col>is_adult</th><th scope=col>premiered</th><th scope=col>ended</th><th scope=col>runtime_minutes</th><th scope=col>genres</th></tr>\n",
       "\t<tr><th></th><th scope=col>&lt;chr&gt;</th><th scope=col>&lt;chr&gt;</th><th scope=col>&lt;chr&gt;</th><th scope=col>&lt;chr&gt;</th><th scope=col>&lt;int&gt;</th><th scope=col>&lt;int&gt;</th><th scope=col>&lt;int&gt;</th><th scope=col>&lt;int&gt;</th><th scope=col>&lt;chr&gt;</th></tr>\n",
       "</thead>\n",
       "<tbody>\n",
       "\t<tr><th scope=row>1</th><td>tt0000001</td><td>short</td><td>Carmencita            </td><td>Carmencita            </td><td>0</td><td>1894</td><td>NA</td><td> 1</td><td>Documentary,Short       </td></tr>\n",
       "\t<tr><th scope=row>2</th><td>tt0000002</td><td>short</td><td>Le clown et ses chiens</td><td>Le clown et ses chiens</td><td>0</td><td>1892</td><td>NA</td><td> 5</td><td>Animation,Short         </td></tr>\n",
       "\t<tr><th scope=row>3</th><td>tt0000003</td><td>short</td><td>Pauvre Pierrot        </td><td>Pauvre Pierrot        </td><td>0</td><td>1892</td><td>NA</td><td> 4</td><td>Animation,Comedy,Romance</td></tr>\n",
       "\t<tr><th scope=row>4</th><td>tt0000004</td><td>short</td><td>Un bon bock           </td><td>Un bon bock           </td><td>0</td><td>1892</td><td>NA</td><td>12</td><td>Animation,Short         </td></tr>\n",
       "\t<tr><th scope=row>5</th><td>tt0000005</td><td>short</td><td>Blacksmith Scene      </td><td>Blacksmith Scene      </td><td>0</td><td>1893</td><td>NA</td><td> 1</td><td>Comedy,Short            </td></tr>\n",
       "\t<tr><th scope=row>6</th><td>tt0000006</td><td>short</td><td>Chinese Opium Den     </td><td>Chinese Opium Den     </td><td>0</td><td>1894</td><td>NA</td><td> 1</td><td>Short                   </td></tr>\n",
       "</tbody>\n",
       "</table>\n"
      ],
      "text/latex": [
       "A data.frame: 6 x 9\n",
       "\\begin{tabular}{r|lllllllll}\n",
       "  & title\\_id & type & primary\\_title & original\\_title & is\\_adult & premiered & ended & runtime\\_minutes & genres\\\\\n",
       "  & <chr> & <chr> & <chr> & <chr> & <int> & <int> & <int> & <int> & <chr>\\\\\n",
       "\\hline\n",
       "\t1 & tt0000001 & short & Carmencita             & Carmencita             & 0 & 1894 & NA &  1 & Documentary,Short       \\\\\n",
       "\t2 & tt0000002 & short & Le clown et ses chiens & Le clown et ses chiens & 0 & 1892 & NA &  5 & Animation,Short         \\\\\n",
       "\t3 & tt0000003 & short & Pauvre Pierrot         & Pauvre Pierrot         & 0 & 1892 & NA &  4 & Animation,Comedy,Romance\\\\\n",
       "\t4 & tt0000004 & short & Un bon bock            & Un bon bock            & 0 & 1892 & NA & 12 & Animation,Short         \\\\\n",
       "\t5 & tt0000005 & short & Blacksmith Scene       & Blacksmith Scene       & 0 & 1893 & NA &  1 & Comedy,Short            \\\\\n",
       "\t6 & tt0000006 & short & Chinese Opium Den      & Chinese Opium Den      & 0 & 1894 & NA &  1 & Short                   \\\\\n",
       "\\end{tabular}\n"
      ],
      "text/markdown": [
       "\n",
       "A data.frame: 6 x 9\n",
       "\n",
       "| <!--/--> | title_id &lt;chr&gt; | type &lt;chr&gt; | primary_title &lt;chr&gt; | original_title &lt;chr&gt; | is_adult &lt;int&gt; | premiered &lt;int&gt; | ended &lt;int&gt; | runtime_minutes &lt;int&gt; | genres &lt;chr&gt; |\n",
       "|---|---|---|---|---|---|---|---|---|---|\n",
       "| 1 | tt0000001 | short | Carmencita             | Carmencita             | 0 | 1894 | NA |  1 | Documentary,Short        |\n",
       "| 2 | tt0000002 | short | Le clown et ses chiens | Le clown et ses chiens | 0 | 1892 | NA |  5 | Animation,Short          |\n",
       "| 3 | tt0000003 | short | Pauvre Pierrot         | Pauvre Pierrot         | 0 | 1892 | NA |  4 | Animation,Comedy,Romance |\n",
       "| 4 | tt0000004 | short | Un bon bock            | Un bon bock            | 0 | 1892 | NA | 12 | Animation,Short          |\n",
       "| 5 | tt0000005 | short | Blacksmith Scene       | Blacksmith Scene       | 0 | 1893 | NA |  1 | Comedy,Short             |\n",
       "| 6 | tt0000006 | short | Chinese Opium Den      | Chinese Opium Den      | 0 | 1894 | NA |  1 | Short                    |\n",
       "\n"
      ],
      "text/plain": [
       "  title_id  type  primary_title          original_title         is_adult\n",
       "1 tt0000001 short Carmencita             Carmencita             0       \n",
       "2 tt0000002 short Le clown et ses chiens Le clown et ses chiens 0       \n",
       "3 tt0000003 short Pauvre Pierrot         Pauvre Pierrot         0       \n",
       "4 tt0000004 short Un bon bock            Un bon bock            0       \n",
       "5 tt0000005 short Blacksmith Scene       Blacksmith Scene       0       \n",
       "6 tt0000006 short Chinese Opium Den      Chinese Opium Den      0       \n",
       "  premiered ended runtime_minutes genres                  \n",
       "1 1894      NA     1              Documentary,Short       \n",
       "2 1892      NA     5              Animation,Short         \n",
       "3 1892      NA     4              Animation,Comedy,Romance\n",
       "4 1892      NA    12              Animation,Short         \n",
       "5 1893      NA     1              Comedy,Short            \n",
       "6 1894      NA     1              Short                   "
      ]
     },
     "metadata": {},
     "output_type": "display_data"
    }
   ],
   "source": [
    "head(titles)"
   ]
  },
  {
   "cell_type": "code",
   "execution_count": 9,
   "id": "d284f684-2fd3-4091-866a-e1e0e973066d",
   "metadata": {},
   "outputs": [
    {
     "data": {
      "text/plain": [
       "\n",
       "       movie radioEpisode  radioSeries        short    tvEpisode tvMiniSeries \n",
       "      581731            1            1       819518      5897385        38185 \n",
       "     tvMovie     tvSeries      tvShort    tvSpecial        video    videoGame \n",
       "      132002       210273        10136        33255       313270        28502 "
      ]
     },
     "metadata": {},
     "output_type": "display_data"
    }
   ],
   "source": [
    "table(titles$type)"
   ]
  },
  {
   "cell_type": "code",
   "execution_count": 10,
   "id": "4469a589-03c7-4d3e-b3a1-47c93ed23269",
   "metadata": {},
   "outputs": [
    {
     "data": {
      "text/plain": [
       "\n",
       "    0     1     2     3     4     5 \n",
       "   10 16069 25790 56038 67054 57258 "
      ]
     },
     "metadata": {},
     "output_type": "display_data"
    }
   ],
   "source": [
    "head(table(titles$runtime_minutes))"
   ]
  },
  {
   "cell_type": "code",
   "execution_count": 11,
   "id": "5347f19b-9d91-4c2a-900f-cb5b0f34dd31",
   "metadata": {},
   "outputs": [],
   "source": [
    "counts <- table(titles$type, titles$runtime_minutes) "
   ]
  },
  {
   "cell_type": "code",
   "execution_count": 12,
   "id": "c698078b-4e72-47aa-b7b8-fd618397920a",
   "metadata": {},
   "outputs": [
    {
     "data": {
      "image/png": "[encoded data removed]",
      "text/plain": [
       "Plot with title \"movies titles by type and runtime_minutes\""
      ]
     },
     "metadata": {
      "image/png": {
       "height": 420,
       "width": 420
      }
     },
     "output_type": "display_data"
    }
   ],
   "source": [
    "barplot(counts, main=\"movies titles by type and runtime_minutes\",\n",
    "        xlab= \"numbers of runtime_minutes\", col= c(\"darkblue\",\"red\"),\n",
    "        legend = rownames(counts), beside=TRUE)"
   ]
  },
  {
   "cell_type": "code",
   "execution_count": 13,
   "id": "e682844a-b6dd-4d05-85e8-05583a73a097",
   "metadata": {},
   "outputs": [
    {
     "data": {
      "image/png": "[encoded data removed]",
      "text/plain": [
       "Plot with title \"movies titles by type and runtime_minutes\""
      ]
     },
     "metadata": {
      "image/png": {
       "height": 420,
       "width": 420
      }
     },
     "output_type": "display_data"
    }
   ],
   "source": [
    "barplot(counts, main=\"movies titles by type and runtime_minutes\",\n",
    "        xlab= \"numbers of types\", col= c(\"darkblue\",\"red\"),\n",
    "        legend = rownames(counts), beside=TRUE)"
   ]
  },
  {
   "cell_type": "code",
   "execution_count": 14,
   "id": "529a493c-96fe-4c0e-a66c-446d4f431797",
   "metadata": {},
   "outputs": [
    {
     "data": {
      "text/plain": [
       "\n",
       "       movie radioEpisode  radioSeries        short    tvEpisode tvMiniSeries \n",
       "      581731            1            1       819518      5897385        38185 \n",
       "     tvMovie     tvSeries      tvShort    tvSpecial        video    videoGame \n",
       "      132002       210273        10136        33255       313270        28502 "
      ]
     },
     "metadata": {},
     "output_type": "display_data"
    }
   ],
   "source": [
    "table(titles$type)"
   ]
  },
  {
   "cell_type": "code",
   "execution_count": 15,
   "id": "f3319dd8-3fb4-4a71-8b67-cae94f753932",
   "metadata": {},
   "outputs": [],
   "source": [
    "titlesub <- subset(titles, (titles$type==\"tvMovie\") | (titles$type ==\"videoGame\"))"
   ]
  },
  {
   "cell_type": "code",
   "execution_count": 16,
   "id": "2707fb06-6129-433f-9970-b2ed631eb360",
   "metadata": {},
   "outputs": [
    {
     "data": {
      "text/html": [
       "<style>\n",
       ".list-inline {list-style: none; margin:0; padding: 0}\n",
       ".list-inline>li {display: inline-block}\n",
       ".list-inline>li:not(:last-child)::after {content: \"\\00b7\"; padding: 0 .5ex}\n",
       "</style>\n",
       "<ol class=list-inline><li>160504</li><li>9</li></ol>\n"
      ],
      "text/latex": [
       "\\begin{enumerate*}\n",
       "\\item 160504\n",
       "\\item 9\n",
       "\\end{enumerate*}\n"
      ],
      "text/markdown": [
       "1. 160504\n",
       "2. 9\n",
       "\n",
       "\n"
      ],
      "text/plain": [
       "[1] 160504      9"
      ]
     },
     "metadata": {},
     "output_type": "display_data"
    }
   ],
   "source": [
    "dim(titlesub)"
   ]
  },
  {
   "cell_type": "code",
   "execution_count": 17,
   "id": "23df05e5-06ff-4789-99f5-4228fd348593",
   "metadata": {},
   "outputs": [
    {
     "data": {
      "text/html": [
       "<table class=\"dataframe\">\n",
       "<caption>A data.frame: 6 x 9</caption>\n",
       "<thead>\n",
       "\t<tr><th></th><th scope=col>title_id</th><th scope=col>type</th><th scope=col>primary_title</th><th scope=col>original_title</th><th scope=col>is_adult</th><th scope=col>premiered</th><th scope=col>ended</th><th scope=col>runtime_minutes</th><th scope=col>genres</th></tr>\n",
       "\t<tr><th></th><th scope=col>&lt;chr&gt;</th><th scope=col>&lt;chr&gt;</th><th scope=col>&lt;chr&gt;</th><th scope=col>&lt;chr&gt;</th><th scope=col>&lt;int&gt;</th><th scope=col>&lt;int&gt;</th><th scope=col>&lt;int&gt;</th><th scope=col>&lt;int&gt;</th><th scope=col>&lt;chr&gt;</th></tr>\n",
       "</thead>\n",
       "<tbody>\n",
       "\t<tr><th scope=row>29774</th><td>tt0030298</td><td>tvMovie</td><td>Julius Caesar            </td><td>Julius Caesar            </td><td>0</td><td>1938</td><td>NA</td><td>101</td><td>Drama,History</td></tr>\n",
       "\t<tr><th scope=row>37643</th><td>tt0038309</td><td>tvMovie</td><td>As You Like It           </td><td>As You Like It           </td><td>0</td><td>1946</td><td>NA</td><td> NA</td><td>Drama        </td></tr>\n",
       "\t<tr><th scope=row>38066</th><td>tt0038738</td><td>tvMovie</td><td>A Midsummer Night's Dream</td><td>A Midsummer Night's Dream</td><td>0</td><td>1946</td><td>NA</td><td>150</td><td>Drama        </td></tr>\n",
       "\t<tr><th scope=row>38766</th><td>tt0039445</td><td>tvMovie</td><td>Hamlet Part 1            </td><td>Hamlet Part 1            </td><td>0</td><td>1947</td><td>NA</td><td> 88</td><td>Drama        </td></tr>\n",
       "\t<tr><th scope=row>38939</th><td>tt0039618</td><td>tvMovie</td><td>The Merchant of Venice   </td><td>The Merchant of Venice   </td><td>0</td><td>1947</td><td>NA</td><td> 90</td><td>Drama        </td></tr>\n",
       "\t<tr><th scope=row>38945</th><td>tt0039624</td><td>tvMovie</td><td>A Midsummer Night's Dream</td><td>A Midsummer Night's Dream</td><td>0</td><td>1947</td><td>NA</td><td> NA</td><td>\\N          </td></tr>\n",
       "</tbody>\n",
       "</table>\n"
      ],
      "text/latex": [
       "A data.frame: 6 x 9\n",
       "\\begin{tabular}{r|lllllllll}\n",
       "  & title\\_id & type & primary\\_title & original\\_title & is\\_adult & premiered & ended & runtime\\_minutes & genres\\\\\n",
       "  & <chr> & <chr> & <chr> & <chr> & <int> & <int> & <int> & <int> & <chr>\\\\\n",
       "\\hline\n",
       "\t29774 & tt0030298 & tvMovie & Julius Caesar             & Julius Caesar             & 0 & 1938 & NA & 101 & Drama,History\\\\\n",
       "\t37643 & tt0038309 & tvMovie & As You Like It            & As You Like It            & 0 & 1946 & NA &  NA & Drama        \\\\\n",
       "\t38066 & tt0038738 & tvMovie & A Midsummer Night's Dream & A Midsummer Night's Dream & 0 & 1946 & NA & 150 & Drama        \\\\\n",
       "\t38766 & tt0039445 & tvMovie & Hamlet Part 1             & Hamlet Part 1             & 0 & 1947 & NA &  88 & Drama        \\\\\n",
       "\t38939 & tt0039618 & tvMovie & The Merchant of Venice    & The Merchant of Venice    & 0 & 1947 & NA &  90 & Drama        \\\\\n",
       "\t38945 & tt0039624 & tvMovie & A Midsummer Night's Dream & A Midsummer Night's Dream & 0 & 1947 & NA &  NA & \\textbackslash{}N          \\\\\n",
       "\\end{tabular}\n"
      ],
      "text/markdown": [
       "\n",
       "A data.frame: 6 x 9\n",
       "\n",
       "| <!--/--> | title_id &lt;chr&gt; | type &lt;chr&gt; | primary_title &lt;chr&gt; | original_title &lt;chr&gt; | is_adult &lt;int&gt; | premiered &lt;int&gt; | ended &lt;int&gt; | runtime_minutes &lt;int&gt; | genres &lt;chr&gt; |\n",
       "|---|---|---|---|---|---|---|---|---|---|\n",
       "| 29774 | tt0030298 | tvMovie | Julius Caesar             | Julius Caesar             | 0 | 1938 | NA | 101 | Drama,History |\n",
       "| 37643 | tt0038309 | tvMovie | As You Like It            | As You Like It            | 0 | 1946 | NA |  NA | Drama         |\n",
       "| 38066 | tt0038738 | tvMovie | A Midsummer Night's Dream | A Midsummer Night's Dream | 0 | 1946 | NA | 150 | Drama         |\n",
       "| 38766 | tt0039445 | tvMovie | Hamlet Part 1             | Hamlet Part 1             | 0 | 1947 | NA |  88 | Drama         |\n",
       "| 38939 | tt0039618 | tvMovie | The Merchant of Venice    | The Merchant of Venice    | 0 | 1947 | NA |  90 | Drama         |\n",
       "| 38945 | tt0039624 | tvMovie | A Midsummer Night's Dream | A Midsummer Night's Dream | 0 | 1947 | NA |  NA | \\N           |\n",
       "\n"
      ],
      "text/plain": [
       "      title_id  type    primary_title             original_title           \n",
       "29774 tt0030298 tvMovie Julius Caesar             Julius Caesar            \n",
       "37643 tt0038309 tvMovie As You Like It            As You Like It           \n",
       "38066 tt0038738 tvMovie A Midsummer Night's Dream A Midsummer Night's Dream\n",
       "38766 tt0039445 tvMovie Hamlet Part 1             Hamlet Part 1            \n",
       "38939 tt0039618 tvMovie The Merchant of Venice    The Merchant of Venice   \n",
       "38945 tt0039624 tvMovie A Midsummer Night's Dream A Midsummer Night's Dream\n",
       "      is_adult premiered ended runtime_minutes genres       \n",
       "29774 0        1938      NA    101             Drama,History\n",
       "37643 0        1946      NA     NA             Drama        \n",
       "38066 0        1946      NA    150             Drama        \n",
       "38766 0        1947      NA     88             Drama        \n",
       "38939 0        1947      NA     90             Drama        \n",
       "38945 0        1947      NA     NA             \\\\N          "
      ]
     },
     "metadata": {},
     "output_type": "display_data"
    }
   ],
   "source": [
    "head(titlesub)"
   ]
  },
  {
   "cell_type": "code",
   "execution_count": 18,
   "id": "d5484191-35cd-4223-af4d-ca2a40b33496",
   "metadata": {},
   "outputs": [
    {
     "data": {
      "text/html": [
       "<table class=\"dataframe\">\n",
       "<caption>A data.frame: 6 x 9</caption>\n",
       "<thead>\n",
       "\t<tr><th></th><th scope=col>title_id</th><th scope=col>type</th><th scope=col>primary_title</th><th scope=col>original_title</th><th scope=col>is_adult</th><th scope=col>premiered</th><th scope=col>ended</th><th scope=col>runtime_minutes</th><th scope=col>genres</th></tr>\n",
       "\t<tr><th></th><th scope=col>&lt;chr&gt;</th><th scope=col>&lt;chr&gt;</th><th scope=col>&lt;chr&gt;</th><th scope=col>&lt;chr&gt;</th><th scope=col>&lt;int&gt;</th><th scope=col>&lt;int&gt;</th><th scope=col>&lt;int&gt;</th><th scope=col>&lt;int&gt;</th><th scope=col>&lt;chr&gt;</th></tr>\n",
       "</thead>\n",
       "<tbody>\n",
       "\t<tr><th scope=row>8063880</th><td>tt9916064</td><td>videoGame</td><td>Aero Dancing i                                   </td><td>Aero Dancing i                                   </td><td>0</td><td>2001</td><td>NA</td><td>NA</td><td>\\N                   </td></tr>\n",
       "\t<tr><th scope=row>8063940</th><td>tt9916192</td><td>tvMovie  </td><td>Danielle Darrieux: Il est poli d'<c3><aa>tre gai!</td><td>Danielle Darrieux: Il est poli d'<c3><aa>tre gai!</td><td>0</td><td>2019</td><td>NA</td><td>53</td><td>Biography             </td></tr>\n",
       "\t<tr><th scope=row>8063967</th><td>tt9916248</td><td>tvMovie  </td><td>Mahiwaga                                         </td><td>Mahiwaga                                         </td><td>0</td><td>1996</td><td>NA</td><td>NA</td><td>Action,Horror,Thriller</td></tr>\n",
       "\t<tr><th scope=row>8064071</th><td>tt9916460</td><td>tvMovie  </td><td>Pink Taxi                                        </td><td>Pink Taxi                                        </td><td>0</td><td>2019</td><td>NA</td><td>NA</td><td>Comedy                </td></tr>\n",
       "\t<tr><th scope=row>8064119</th><td>tt9916560</td><td>tvMovie  </td><td>March of Dimes Presents: Once Upon a Dime        </td><td>March of Dimes Presents: Once Upon a Dime        </td><td>0</td><td>1963</td><td>NA</td><td>58</td><td>Family                </td></tr>\n",
       "\t<tr><th scope=row>8064181</th><td>tt9916692</td><td>tvMovie  </td><td>Teatroteka: Czlowiek bez twarzy                  </td><td>Teatroteka: Czlowiek bez twarzy                  </td><td>0</td><td>2015</td><td>NA</td><td>66</td><td>Drama                 </td></tr>\n",
       "</tbody>\n",
       "</table>\n"
      ],
      "text/latex": [
       "A data.frame: 6 x 9\n",
       "\\begin{tabular}{r|lllllllll}\n",
       "  & title\\_id & type & primary\\_title & original\\_title & is\\_adult & premiered & ended & runtime\\_minutes & genres\\\\\n",
       "  & <chr> & <chr> & <chr> & <chr> & <int> & <int> & <int> & <int> & <chr>\\\\\n",
       "\\hline\n",
       "\t8063880 & tt9916064 & videoGame & Aero Dancing i                                    & Aero Dancing i                                    & 0 & 2001 & NA & NA & \\textbackslash{}N                   \\\\\n",
       "\t8063940 & tt9916192 & tvMovie   & Danielle Darrieux: Il est poli d'<c3><aa>tre gai! & Danielle Darrieux: Il est poli d'<c3><aa>tre gai! & 0 & 2019 & NA & 53 & Biography             \\\\\n",
       "\t8063967 & tt9916248 & tvMovie   & Mahiwaga                                          & Mahiwaga                                          & 0 & 1996 & NA & NA & Action,Horror,Thriller\\\\\n",
       "\t8064071 & tt9916460 & tvMovie   & Pink Taxi                                         & Pink Taxi                                         & 0 & 2019 & NA & NA & Comedy                \\\\\n",
       "\t8064119 & tt9916560 & tvMovie   & March of Dimes Presents: Once Upon a Dime         & March of Dimes Presents: Once Upon a Dime         & 0 & 1963 & NA & 58 & Family                \\\\\n",
       "\t8064181 & tt9916692 & tvMovie   & Teatroteka: Czlowiek bez twarzy                   & Teatroteka: Czlowiek bez twarzy                   & 0 & 2015 & NA & 66 & Drama                 \\\\\n",
       "\\end{tabular}\n"
      ],
      "text/markdown": [
       "\n",
       "A data.frame: 6 x 9\n",
       "\n",
       "| <!--/--> | title_id &lt;chr&gt; | type &lt;chr&gt; | primary_title &lt;chr&gt; | original_title &lt;chr&gt; | is_adult &lt;int&gt; | premiered &lt;int&gt; | ended &lt;int&gt; | runtime_minutes &lt;int&gt; | genres &lt;chr&gt; |\n",
       "|---|---|---|---|---|---|---|---|---|---|\n",
       "| 8063880 | tt9916064 | videoGame | Aero Dancing i                                    | Aero Dancing i                                    | 0 | 2001 | NA | NA | \\N                    |\n",
       "| 8063940 | tt9916192 | tvMovie   | Danielle Darrieux: Il est poli d'<c3><aa>tre gai! | Danielle Darrieux: Il est poli d'<c3><aa>tre gai! | 0 | 2019 | NA | 53 | Biography              |\n",
       "| 8063967 | tt9916248 | tvMovie   | Mahiwaga                                          | Mahiwaga                                          | 0 | 1996 | NA | NA | Action,Horror,Thriller |\n",
       "| 8064071 | tt9916460 | tvMovie   | Pink Taxi                                         | Pink Taxi                                         | 0 | 2019 | NA | NA | Comedy                 |\n",
       "| 8064119 | tt9916560 | tvMovie   | March of Dimes Presents: Once Upon a Dime         | March of Dimes Presents: Once Upon a Dime         | 0 | 1963 | NA | 58 | Family                 |\n",
       "| 8064181 | tt9916692 | tvMovie   | Teatroteka: Czlowiek bez twarzy                   | Teatroteka: Czlowiek bez twarzy                   | 0 | 2015 | NA | 66 | Drama                  |\n",
       "\n"
      ],
      "text/plain": [
       "        title_id  type      primary_title                                    \n",
       "8063880 tt9916064 videoGame Aero Dancing i                                   \n",
       "8063940 tt9916192 tvMovie   Danielle Darrieux: Il est poli d'\\303\\252tre gai!\n",
       "8063967 tt9916248 tvMovie   Mahiwaga                                         \n",
       "8064071 tt9916460 tvMovie   Pink Taxi                                        \n",
       "8064119 tt9916560 tvMovie   March of Dimes Presents: Once Upon a Dime        \n",
       "8064181 tt9916692 tvMovie   Teatroteka: Czlowiek bez twarzy                  \n",
       "        original_title                                    is_adult premiered\n",
       "8063880 Aero Dancing i                                    0        2001     \n",
       "8063940 Danielle Darrieux: Il est poli d'\\303\\252tre gai! 0        2019     \n",
       "8063967 Mahiwaga                                          0        1996     \n",
       "8064071 Pink Taxi                                         0        2019     \n",
       "8064119 March of Dimes Presents: Once Upon a Dime         0        1963     \n",
       "8064181 Teatroteka: Czlowiek bez twarzy                   0        2015     \n",
       "        ended runtime_minutes genres                \n",
       "8063880 NA    NA              \\\\N                   \n",
       "8063940 NA    53              Biography             \n",
       "8063967 NA    NA              Action,Horror,Thriller\n",
       "8064071 NA    NA              Comedy                \n",
       "8064119 NA    58              Family                \n",
       "8064181 NA    66              Drama                 "
      ]
     },
     "metadata": {},
     "output_type": "display_data"
    }
   ],
   "source": [
    "tail(titlesub)"
   ]
  },
  {
   "cell_type": "code",
   "execution_count": 19,
   "id": "7a5d87f3-4711-4a27-8290-f9c52a9d8d13",
   "metadata": {},
   "outputs": [
    {
     "data": {
      "text/plain": [
       "\n",
       "  tvMovie videoGame \n",
       "   132002     28502 "
      ]
     },
     "metadata": {},
     "output_type": "display_data"
    }
   ],
   "source": [
    "table(titlesub$type) "
   ]
  },
  {
   "cell_type": "code",
   "execution_count": 20,
   "id": "38fccacd-c19d-4e76-98e7-9241fcdcf0c5",
   "metadata": {},
   "outputs": [],
   "source": [
    "formms <- table(titlesub$ type, titlesub$genres) "
   ]
  },
  {
   "cell_type": "code",
   "execution_count": 21,
   "id": "f8ac4c6a-c39f-437e-a3ca-139be1734d0e",
   "metadata": {},
   "outputs": [
    {
     "data": {
      "image/png": "[encoded data removed]",
      "text/plain": [
       "Plot with title \"movies titles by type and genres\""
      ]
     },
     "metadata": {
      "image/png": {
       "height": 420,
       "width": 420
      }
     },
     "output_type": "display_data"
    }
   ],
   "source": [
    "barplot(formms, main=\"movies titles by type and genres\",\n",
    "        xlab= \"numbers of types\", col= c(\"darkblue\",\"red\"),\n",
    "        legend = rownames(formms), beside=TRUE)"
   ]
  },
  {
   "cell_type": "code",
   "execution_count": 22,
   "id": "9ad7164a-e87a-4e47-beec-070aca18e4a5",
   "metadata": {},
   "outputs": [
    {
     "data": {
      "text/plain": [
       "\n",
       "        Drama           \\\\N        Comedy     Talk-Show   Documentary \n",
       "       865049        629106        560246        445891        385909 \n",
       "Drama,Romance \n",
       "       351919 "
      ]
     },
     "metadata": {},
     "output_type": "display_data"
    }
   ],
   "source": [
    "head(sort(table(titles$genres), decreasing=TRUE))"
   ]
  },
  {
   "cell_type": "code",
   "execution_count": 23,
   "id": "6e8d71bb-de93-46a7-b9bb-733dd5577048",
   "metadata": {},
   "outputs": [],
   "source": [
    "titlesuper <- subset(titlesub, (titlesub$genres==\"Action\") | (titlesub$genres ==\"Sport\"))"
   ]
  },
  {
   "cell_type": "code",
   "execution_count": 24,
   "id": "1154705a-0fba-4514-b43d-1740d7a03b67",
   "metadata": {},
   "outputs": [
    {
     "data": {
      "text/html": [
       "<style>\n",
       ".list-inline {list-style: none; margin:0; padding: 0}\n",
       ".list-inline>li {display: inline-block}\n",
       ".list-inline>li:not(:last-child)::after {content: \"\\00b7\"; padding: 0 .5ex}\n",
       "</style>\n",
       "<ol class=list-inline><li>7573</li><li>9</li></ol>\n"
      ],
      "text/latex": [
       "\\begin{enumerate*}\n",
       "\\item 7573\n",
       "\\item 9\n",
       "\\end{enumerate*}\n"
      ],
      "text/markdown": [
       "1. 7573\n",
       "2. 9\n",
       "\n",
       "\n"
      ],
      "text/plain": [
       "[1] 7573    9"
      ]
     },
     "metadata": {},
     "output_type": "display_data"
    }
   ],
   "source": [
    "dim(titlesuper)"
   ]
  },
  {
   "cell_type": "code",
   "execution_count": 25,
   "id": "26196447-7c16-4f42-8f0e-650f8662cf50",
   "metadata": {},
   "outputs": [
    {
     "data": {
      "text/plain": [
       "\n",
       "Action  Sport \n",
       "  5147   2426 "
      ]
     },
     "metadata": {},
     "output_type": "display_data"
    }
   ],
   "source": [
    "table(titlesuper$genres)"
   ]
  },
  {
   "cell_type": "code",
   "execution_count": 26,
   "id": "05bfeb54-149c-4085-bb86-30ac5d938a24",
   "metadata": {},
   "outputs": [],
   "source": [
    "dormms <- table(titlesuper$ type, titlesuper$genres) "
   ]
  },
  {
   "cell_type": "code",
   "execution_count": 27,
   "id": "ba393e70-4315-4376-8690-2475be902500",
   "metadata": {},
   "outputs": [
    {
     "data": {
      "image/png": "[encoded data removed]",
      "text/plain": [
       "Plot with title \"movies titles by type and genres\""
      ]
     },
     "metadata": {
      "image/png": {
       "height": 420,
       "width": 420
      }
     },
     "output_type": "display_data"
    }
   ],
   "source": [
    "barplot(dormms, main=\"movies titles by type and genres\",\n",
    "        xlab= \"numbers of types\", col= c(\"darkblue\",\"red\"),\n",
    "        legend = rownames(dormms), beside=TRUE)"
   ]
  },
  {
   "cell_type": "code",
   "execution_count": 28,
   "id": "d43e5930-2fea-4111-9243-e87c90e71cc9",
   "metadata": {},
   "outputs": [
    {
     "data": {
      "text/html": [
       "<table class=\"dataframe\">\n",
       "<caption>A data.frame: 6 x 9</caption>\n",
       "<thead>\n",
       "\t<tr><th></th><th scope=col>title_id</th><th scope=col>type</th><th scope=col>primary_title</th><th scope=col>original_title</th><th scope=col>is_adult</th><th scope=col>premiered</th><th scope=col>ended</th><th scope=col>runtime_minutes</th><th scope=col>genres</th></tr>\n",
       "\t<tr><th></th><th scope=col>&lt;chr&gt;</th><th scope=col>&lt;chr&gt;</th><th scope=col>&lt;chr&gt;</th><th scope=col>&lt;chr&gt;</th><th scope=col>&lt;int&gt;</th><th scope=col>&lt;int&gt;</th><th scope=col>&lt;int&gt;</th><th scope=col>&lt;int&gt;</th><th scope=col>&lt;chr&gt;</th></tr>\n",
       "</thead>\n",
       "<tbody>\n",
       "\t<tr><th scope=row>1</th><td>tt0000001</td><td>short</td><td>Carmencita            </td><td>Carmencita            </td><td>0</td><td>1894</td><td>NA</td><td> 1</td><td>Documentary,Short       </td></tr>\n",
       "\t<tr><th scope=row>2</th><td>tt0000002</td><td>short</td><td>Le clown et ses chiens</td><td>Le clown et ses chiens</td><td>0</td><td>1892</td><td>NA</td><td> 5</td><td>Animation,Short         </td></tr>\n",
       "\t<tr><th scope=row>3</th><td>tt0000003</td><td>short</td><td>Pauvre Pierrot        </td><td>Pauvre Pierrot        </td><td>0</td><td>1892</td><td>NA</td><td> 4</td><td>Animation,Comedy,Romance</td></tr>\n",
       "\t<tr><th scope=row>4</th><td>tt0000004</td><td>short</td><td>Un bon bock           </td><td>Un bon bock           </td><td>0</td><td>1892</td><td>NA</td><td>12</td><td>Animation,Short         </td></tr>\n",
       "\t<tr><th scope=row>5</th><td>tt0000005</td><td>short</td><td>Blacksmith Scene      </td><td>Blacksmith Scene      </td><td>0</td><td>1893</td><td>NA</td><td> 1</td><td>Comedy,Short            </td></tr>\n",
       "\t<tr><th scope=row>6</th><td>tt0000006</td><td>short</td><td>Chinese Opium Den     </td><td>Chinese Opium Den     </td><td>0</td><td>1894</td><td>NA</td><td> 1</td><td>Short                   </td></tr>\n",
       "</tbody>\n",
       "</table>\n"
      ],
      "text/latex": [
       "A data.frame: 6 x 9\n",
       "\\begin{tabular}{r|lllllllll}\n",
       "  & title\\_id & type & primary\\_title & original\\_title & is\\_adult & premiered & ended & runtime\\_minutes & genres\\\\\n",
       "  & <chr> & <chr> & <chr> & <chr> & <int> & <int> & <int> & <int> & <chr>\\\\\n",
       "\\hline\n",
       "\t1 & tt0000001 & short & Carmencita             & Carmencita             & 0 & 1894 & NA &  1 & Documentary,Short       \\\\\n",
       "\t2 & tt0000002 & short & Le clown et ses chiens & Le clown et ses chiens & 0 & 1892 & NA &  5 & Animation,Short         \\\\\n",
       "\t3 & tt0000003 & short & Pauvre Pierrot         & Pauvre Pierrot         & 0 & 1892 & NA &  4 & Animation,Comedy,Romance\\\\\n",
       "\t4 & tt0000004 & short & Un bon bock            & Un bon bock            & 0 & 1892 & NA & 12 & Animation,Short         \\\\\n",
       "\t5 & tt0000005 & short & Blacksmith Scene       & Blacksmith Scene       & 0 & 1893 & NA &  1 & Comedy,Short            \\\\\n",
       "\t6 & tt0000006 & short & Chinese Opium Den      & Chinese Opium Den      & 0 & 1894 & NA &  1 & Short                   \\\\\n",
       "\\end{tabular}\n"
      ],
      "text/markdown": [
       "\n",
       "A data.frame: 6 x 9\n",
       "\n",
       "| <!--/--> | title_id &lt;chr&gt; | type &lt;chr&gt; | primary_title &lt;chr&gt; | original_title &lt;chr&gt; | is_adult &lt;int&gt; | premiered &lt;int&gt; | ended &lt;int&gt; | runtime_minutes &lt;int&gt; | genres &lt;chr&gt; |\n",
       "|---|---|---|---|---|---|---|---|---|---|\n",
       "| 1 | tt0000001 | short | Carmencita             | Carmencita             | 0 | 1894 | NA |  1 | Documentary,Short        |\n",
       "| 2 | tt0000002 | short | Le clown et ses chiens | Le clown et ses chiens | 0 | 1892 | NA |  5 | Animation,Short          |\n",
       "| 3 | tt0000003 | short | Pauvre Pierrot         | Pauvre Pierrot         | 0 | 1892 | NA |  4 | Animation,Comedy,Romance |\n",
       "| 4 | tt0000004 | short | Un bon bock            | Un bon bock            | 0 | 1892 | NA | 12 | Animation,Short          |\n",
       "| 5 | tt0000005 | short | Blacksmith Scene       | Blacksmith Scene       | 0 | 1893 | NA |  1 | Comedy,Short             |\n",
       "| 6 | tt0000006 | short | Chinese Opium Den      | Chinese Opium Den      | 0 | 1894 | NA |  1 | Short                    |\n",
       "\n"
      ],
      "text/plain": [
       "  title_id  type  primary_title          original_title         is_adult\n",
       "1 tt0000001 short Carmencita             Carmencita             0       \n",
       "2 tt0000002 short Le clown et ses chiens Le clown et ses chiens 0       \n",
       "3 tt0000003 short Pauvre Pierrot         Pauvre Pierrot         0       \n",
       "4 tt0000004 short Un bon bock            Un bon bock            0       \n",
       "5 tt0000005 short Blacksmith Scene       Blacksmith Scene       0       \n",
       "6 tt0000006 short Chinese Opium Den      Chinese Opium Den      0       \n",
       "  premiered ended runtime_minutes genres                  \n",
       "1 1894      NA     1              Documentary,Short       \n",
       "2 1892      NA     5              Animation,Short         \n",
       "3 1892      NA     4              Animation,Comedy,Romance\n",
       "4 1892      NA    12              Animation,Short         \n",
       "5 1893      NA     1              Comedy,Short            \n",
       "6 1894      NA     1              Short                   "
      ]
     },
     "metadata": {},
     "output_type": "display_data"
    }
   ],
   "source": [
    "head(titles)"
   ]
  },
  {
   "cell_type": "code",
   "execution_count": 29,
   "id": "c4000847-ed3c-4800-a5d7-9dbae9682f4a",
   "metadata": {},
   "outputs": [],
   "source": [
    "x<- titles$premiered"
   ]
  },
  {
   "cell_type": "code",
   "execution_count": 30,
   "id": "ca8dee48-e948-45ed-89c8-6f8b787fbefe",
   "metadata": {},
   "outputs": [],
   "source": [
    "y<- titles$runtime_minutes"
   ]
  },
  {
   "cell_type": "code",
   "execution_count": 31,
   "id": "e2117349-3c6f-4457-b6cc-186c7cd45230",
   "metadata": {},
   "outputs": [
    {
     "data": {
      "image/png": "[encoded data removed]",
      "text/plain": [
       "plot without title"
      ]
     },
     "metadata": {
      "image/png": {
       "height": 420,
       "width": 420
      }
     },
     "output_type": "display_data"
    }
   ],
   "source": [
    "plot(x, y, type = \"b\", \n",
    "     col = \"red\", xlab = \"x\", ylab = \"y\")"
   ]
  },
  {
   "cell_type": "code",
   "execution_count": 32,
   "id": "bf2a2949-c89b-4e6b-80d5-7926007f37aa",
   "metadata": {},
   "outputs": [
    {
     "data": {
      "image/png": "[encoded data removed]",
      "text/plain": [
       "plot without title"
      ]
     },
     "metadata": {
      "image/png": {
       "height": 420,
       "width": 420
      }
     },
     "output_type": "display_data"
    }
   ],
   "source": [
    "plot(x, y, type = \"s\", \n",
    "     col = \"red\", xlab = \"x\", ylab = \"y\")"
   ]
  },
  {
   "cell_type": "markdown",
   "id": "b456e57c-4a12-464b-999a-ef2df5af80c1",
   "metadata": {},
   "source": [
    "A grouped bar \n",
    "\n",
    "A line plot \n",
    "\n",
    "What information are you gaining from either of these graphs?\n",
    "\n",
    "In the bar plot the values determine the heights of the bars, also known as side by side bar plot or clustered bar chart. While the line plot is, you will have the cordinate vectors of points to join, and different types of plotting to allow/to choose from."
   ]
  },
  {
   "cell_type": "markdown",
   "id": "fc601975-35ed-4680-a4e1-0273ee3cc047",
   "metadata": {},
   "source": [
    "## Question 2"
   ]
  },
  {
   "cell_type": "code",
   "execution_count": 33,
   "id": "7172cc97-e980-4ed3-95bc-f4e412bd3e6a",
   "metadata": {},
   "outputs": [],
   "source": [
    "find_movie_with_at_least_rating <- function(titles_df, ratings_df, ratings_of_at_least) {\n",
    "    results <- merge(ratings_df, titles_df, by.x = \"title_id\", by.y = \"title_id\")\n",
    "    popular_movie_results <- results[results$type == \"movie\" & results$rating >= ratings_of_at_least, ]\n",
    "    return(popular_movie_results)\n",
    "}"
   ]
  },
  {
   "cell_type": "code",
   "execution_count": 34,
   "id": "17c23563-81c4-4462-91cd-ea481c9946f9",
   "metadata": {},
   "outputs": [],
   "source": [
    "newDF <- find_movie_with_at_least_rating(titles, ratings, 9)\n",
    "# outside the function you can pass in anything you like.                                         "
   ]
  },
  {
   "cell_type": "code",
   "execution_count": 35,
   "id": "6fa3ff91-6109-4f60-9821-6d4e205b5f2f",
   "metadata": {},
   "outputs": [
    {
     "data": {
      "text/html": [
       "<style>\n",
       ".list-inline {list-style: none; margin:0; padding: 0}\n",
       ".list-inline>li {display: inline-block}\n",
       ".list-inline>li:not(:last-child)::after {content: \"\\00b7\"; padding: 0 .5ex}\n",
       "</style>\n",
       "<ol class=list-inline><li>8064259</li><li>9</li></ol>\n"
      ],
      "text/latex": [
       "\\begin{enumerate*}\n",
       "\\item 8064259\n",
       "\\item 9\n",
       "\\end{enumerate*}\n"
      ],
      "text/markdown": [
       "1. 8064259\n",
       "2. 9\n",
       "\n",
       "\n"
      ],
      "text/plain": [
       "[1] 8064259       9"
      ]
     },
     "metadata": {},
     "output_type": "display_data"
    }
   ],
   "source": [
    "dim(titles)"
   ]
  },
  {
   "cell_type": "code",
   "execution_count": 36,
   "id": "6a6fb439-0f5e-4b04-b3ad-47d6ebb768fd",
   "metadata": {},
   "outputs": [
    {
     "data": {
      "text/html": [
       "<style>\n",
       ".list-inline {list-style: none; margin:0; padding: 0}\n",
       ".list-inline>li {display: inline-block}\n",
       ".list-inline>li:not(:last-child)::after {content: \"\\00b7\"; padding: 0 .5ex}\n",
       "</style>\n",
       "<ol class=list-inline><li>1170056</li><li>3</li></ol>\n"
      ],
      "text/latex": [
       "\\begin{enumerate*}\n",
       "\\item 1170056\n",
       "\\item 3\n",
       "\\end{enumerate*}\n"
      ],
      "text/markdown": [
       "1. 1170056\n",
       "2. 3\n",
       "\n",
       "\n"
      ],
      "text/plain": [
       "[1] 1170056       3"
      ]
     },
     "metadata": {},
     "output_type": "display_data"
    }
   ],
   "source": [
    "dim (ratings)"
   ]
  },
  {
   "cell_type": "code",
   "execution_count": 37,
   "id": "1eb153bc-9e68-418d-8e3e-1d3274b71236",
   "metadata": {},
   "outputs": [
    {
     "data": {
      "text/html": [
       "<style>\n",
       ".list-inline {list-style: none; margin:0; padding: 0}\n",
       ".list-inline>li {display: inline-block}\n",
       ".list-inline>li:not(:last-child)::after {content: \"\\00b7\"; padding: 0 .5ex}\n",
       "</style>\n",
       "<ol class=list-inline><li>2249</li><li>11</li></ol>\n"
      ],
      "text/latex": [
       "\\begin{enumerate*}\n",
       "\\item 2249\n",
       "\\item 11\n",
       "\\end{enumerate*}\n"
      ],
      "text/markdown": [
       "1. 2249\n",
       "2. 11\n",
       "\n",
       "\n"
      ],
      "text/plain": [
       "[1] 2249   11"
      ]
     },
     "metadata": {},
     "output_type": "display_data"
    }
   ],
   "source": [
    "dim (newDF)"
   ]
  },
  {
   "cell_type": "code",
   "execution_count": 38,
   "id": "1fed1e9e-dba2-41a5-a417-e6bc8991851e",
   "metadata": {},
   "outputs": [
    {
     "data": {
      "text/html": [
       "<table class=\"dataframe\">\n",
       "<caption>A data.frame: 6 x 11</caption>\n",
       "<thead>\n",
       "\t<tr><th></th><th scope=col>title_id</th><th scope=col>rating</th><th scope=col>votes</th><th scope=col>type</th><th scope=col>primary_title</th><th scope=col>original_title</th><th scope=col>is_adult</th><th scope=col>premiered</th><th scope=col>ended</th><th scope=col>runtime_minutes</th><th scope=col>genres</th></tr>\n",
       "\t<tr><th></th><th scope=col>&lt;chr&gt;</th><th scope=col>&lt;dbl&gt;</th><th scope=col>&lt;int&gt;</th><th scope=col>&lt;chr&gt;</th><th scope=col>&lt;chr&gt;</th><th scope=col>&lt;chr&gt;</th><th scope=col>&lt;int&gt;</th><th scope=col>&lt;int&gt;</th><th scope=col>&lt;int&gt;</th><th scope=col>&lt;int&gt;</th><th scope=col>&lt;chr&gt;</th></tr>\n",
       "</thead>\n",
       "<tbody>\n",
       "\t<tr><th scope=row>1867</th><td>tt0006371</td><td>9.2</td><td> 5</td><td>movie</td><td>Arms and the Woman        </td><td>Arms and the Woman       </td><td>0</td><td>1916</td><td>NA</td><td>50</td><td>Drama       </td></tr>\n",
       "\t<tr><th scope=row>2071</th><td>tt0007326</td><td>9.0</td><td> 5</td><td>movie</td><td>Seventeen                 </td><td>Seventeen                </td><td>0</td><td>1916</td><td>NA</td><td>50</td><td>Comedy,Drama</td></tr>\n",
       "\t<tr><th scope=row>2591</th><td>tt0009851</td><td>9.4</td><td> 7</td><td>movie</td><td>Masked Ball               </td><td><c3><81>larcosb<c3><a1>l </td><td>0</td><td>1917</td><td>NA</td><td>NA</td><td>\\N         </td></tr>\n",
       "\t<tr><th scope=row>3230</th><td>tt0012297</td><td>9.4</td><td>12</td><td>movie</td><td>Hunger... Hunger... Hunger</td><td>Golod... golod... golod  </td><td>0</td><td>1921</td><td>NA</td><td>NA</td><td>Documentary </td></tr>\n",
       "\t<tr><th scope=row>3314</th><td>tt0012623</td><td>9.6</td><td> 5</td><td>movie</td><td>The Rider of the King Log </td><td>The Rider of the King Log</td><td>0</td><td>1921</td><td>NA</td><td>NA</td><td>\\N         </td></tr>\n",
       "\t<tr><th scope=row>5320</th><td>tt0018359</td><td>9.2</td><td> 5</td><td>movie</td><td>The Satin Woman           </td><td>The Satin Woman          </td><td>0</td><td>1927</td><td>NA</td><td>70</td><td>Drama       </td></tr>\n",
       "</tbody>\n",
       "</table>\n"
      ],
      "text/latex": [
       "A data.frame: 6 x 11\n",
       "\\begin{tabular}{r|lllllllllll}\n",
       "  & title\\_id & rating & votes & type & primary\\_title & original\\_title & is\\_adult & premiered & ended & runtime\\_minutes & genres\\\\\n",
       "  & <chr> & <dbl> & <int> & <chr> & <chr> & <chr> & <int> & <int> & <int> & <int> & <chr>\\\\\n",
       "\\hline\n",
       "\t1867 & tt0006371 & 9.2 &  5 & movie & Arms and the Woman         & Arms and the Woman        & 0 & 1916 & NA & 50 & Drama       \\\\\n",
       "\t2071 & tt0007326 & 9.0 &  5 & movie & Seventeen                  & Seventeen                 & 0 & 1916 & NA & 50 & Comedy,Drama\\\\\n",
       "\t2591 & tt0009851 & 9.4 &  7 & movie & Masked Ball                & <c3><81>larcosb<c3><a1>l  & 0 & 1917 & NA & NA & \\textbackslash{}N         \\\\\n",
       "\t3230 & tt0012297 & 9.4 & 12 & movie & Hunger... Hunger... Hunger & Golod... golod... golod   & 0 & 1921 & NA & NA & Documentary \\\\\n",
       "\t3314 & tt0012623 & 9.6 &  5 & movie & The Rider of the King Log  & The Rider of the King Log & 0 & 1921 & NA & NA & \\textbackslash{}N         \\\\\n",
       "\t5320 & tt0018359 & 9.2 &  5 & movie & The Satin Woman            & The Satin Woman           & 0 & 1927 & NA & 70 & Drama       \\\\\n",
       "\\end{tabular}\n"
      ],
      "text/markdown": [
       "\n",
       "A data.frame: 6 x 11\n",
       "\n",
       "| <!--/--> | title_id &lt;chr&gt; | rating &lt;dbl&gt; | votes &lt;int&gt; | type &lt;chr&gt; | primary_title &lt;chr&gt; | original_title &lt;chr&gt; | is_adult &lt;int&gt; | premiered &lt;int&gt; | ended &lt;int&gt; | runtime_minutes &lt;int&gt; | genres &lt;chr&gt; |\n",
       "|---|---|---|---|---|---|---|---|---|---|---|---|\n",
       "| 1867 | tt0006371 | 9.2 |  5 | movie | Arms and the Woman         | Arms and the Woman        | 0 | 1916 | NA | 50 | Drama        |\n",
       "| 2071 | tt0007326 | 9.0 |  5 | movie | Seventeen                  | Seventeen                 | 0 | 1916 | NA | 50 | Comedy,Drama |\n",
       "| 2591 | tt0009851 | 9.4 |  7 | movie | Masked Ball                | <c3><81>larcosb<c3><a1>l  | 0 | 1917 | NA | NA | \\N          |\n",
       "| 3230 | tt0012297 | 9.4 | 12 | movie | Hunger... Hunger... Hunger | Golod... golod... golod   | 0 | 1921 | NA | NA | Documentary  |\n",
       "| 3314 | tt0012623 | 9.6 |  5 | movie | The Rider of the King Log  | The Rider of the King Log | 0 | 1921 | NA | NA | \\N          |\n",
       "| 5320 | tt0018359 | 9.2 |  5 | movie | The Satin Woman            | The Satin Woman           | 0 | 1927 | NA | 70 | Drama        |\n",
       "\n"
      ],
      "text/plain": [
       "     title_id  rating votes type  primary_title             \n",
       "1867 tt0006371 9.2     5    movie Arms and the Woman        \n",
       "2071 tt0007326 9.0     5    movie Seventeen                 \n",
       "2591 tt0009851 9.4     7    movie Masked Ball               \n",
       "3230 tt0012297 9.4    12    movie Hunger... Hunger... Hunger\n",
       "3314 tt0012623 9.6     5    movie The Rider of the King Log \n",
       "5320 tt0018359 9.2     5    movie The Satin Woman           \n",
       "     original_title            is_adult premiered ended runtime_minutes\n",
       "1867 Arms and the Woman        0        1916      NA    50             \n",
       "2071 Seventeen                 0        1916      NA    50             \n",
       "2591 \\303\\201larcosb\\303\\241l  0        1917      NA    NA             \n",
       "3230 Golod... golod... golod   0        1921      NA    NA             \n",
       "3314 The Rider of the King Log 0        1921      NA    NA             \n",
       "5320 The Satin Woman           0        1927      NA    70             \n",
       "     genres      \n",
       "1867 Drama       \n",
       "2071 Comedy,Drama\n",
       "2591 \\\\N         \n",
       "3230 Documentary \n",
       "3314 \\\\N         \n",
       "5320 Drama       "
      ]
     },
     "metadata": {},
     "output_type": "display_data"
    }
   ],
   "source": [
    "head (newDF)"
   ]
  },
  {
   "cell_type": "code",
   "execution_count": 39,
   "id": "2c37e9e2-403b-4626-acde-b65745c5c834",
   "metadata": {},
   "outputs": [
    {
     "data": {
      "text/html": [
       "<table class=\"dataframe\">\n",
       "<caption>A data.frame: 6 x 11</caption>\n",
       "<thead>\n",
       "\t<tr><th></th><th scope=col>title_id</th><th scope=col>rating</th><th scope=col>votes</th><th scope=col>type</th><th scope=col>primary_title</th><th scope=col>original_title</th><th scope=col>is_adult</th><th scope=col>premiered</th><th scope=col>ended</th><th scope=col>runtime_minutes</th><th scope=col>genres</th></tr>\n",
       "\t<tr><th></th><th scope=col>&lt;chr&gt;</th><th scope=col>&lt;dbl&gt;</th><th scope=col>&lt;int&gt;</th><th scope=col>&lt;chr&gt;</th><th scope=col>&lt;chr&gt;</th><th scope=col>&lt;chr&gt;</th><th scope=col>&lt;int&gt;</th><th scope=col>&lt;int&gt;</th><th scope=col>&lt;int&gt;</th><th scope=col>&lt;int&gt;</th><th scope=col>&lt;chr&gt;</th></tr>\n",
       "</thead>\n",
       "<tbody>\n",
       "\t<tr><th scope=row>1167663</th><td>tt9839008</td><td>9.0</td><td> 6</td><td>movie</td><td>Man in Manchester of Maharashtra</td><td>Man in Manchester of Maharashtra</td><td>0</td><td>2018</td><td>NA</td><td> NA</td><td>Documentary                </td></tr>\n",
       "\t<tr><th scope=row>1168463</th><td>tt9866712</td><td>9.2</td><td>39</td><td>movie</td><td>Aadim Vichar                    </td><td>Aadim Vichar                    </td><td>0</td><td>2014</td><td>NA</td><td>115</td><td>Comedy,Drama               </td></tr>\n",
       "\t<tr><th scope=row>1168745</th><td>tt9876582</td><td>9.6</td><td> 7</td><td>movie</td><td>Route 66                        </td><td>Route 66                        </td><td>0</td><td>2018</td><td>NA</td><td> 52</td><td>Documentary                </td></tr>\n",
       "\t<tr><th scope=row>1168881</th><td>tt9880724</td><td>9.1</td><td>58</td><td>movie</td><td>Verdict 19                      </td><td>Verdict 19                      </td><td>0</td><td>2019</td><td>NA</td><td> NA</td><td>Biography,Documentary,Drama</td></tr>\n",
       "\t<tr><th scope=row>1169168</th><td>tt9890120</td><td>9.2</td><td> 5</td><td>movie</td><td>Resurrection Corporation        </td><td>Resurrection Corporation        </td><td>0</td><td>2021</td><td>NA</td><td> 77</td><td>Animation,Comedy,Horror    </td></tr>\n",
       "\t<tr><th scope=row>1169637</th><td>tt9905476</td><td>9.0</td><td>22</td><td>movie</td><td>Hand Rolled                     </td><td>Hand Rolled                     </td><td>0</td><td>2019</td><td>NA</td><td> 90</td><td>Documentary                </td></tr>\n",
       "</tbody>\n",
       "</table>\n"
      ],
      "text/latex": [
       "A data.frame: 6 x 11\n",
       "\\begin{tabular}{r|lllllllllll}\n",
       "  & title\\_id & rating & votes & type & primary\\_title & original\\_title & is\\_adult & premiered & ended & runtime\\_minutes & genres\\\\\n",
       "  & <chr> & <dbl> & <int> & <chr> & <chr> & <chr> & <int> & <int> & <int> & <int> & <chr>\\\\\n",
       "\\hline\n",
       "\t1167663 & tt9839008 & 9.0 &  6 & movie & Man in Manchester of Maharashtra & Man in Manchester of Maharashtra & 0 & 2018 & NA &  NA & Documentary                \\\\\n",
       "\t1168463 & tt9866712 & 9.2 & 39 & movie & Aadim Vichar                     & Aadim Vichar                     & 0 & 2014 & NA & 115 & Comedy,Drama               \\\\\n",
       "\t1168745 & tt9876582 & 9.6 &  7 & movie & Route 66                         & Route 66                         & 0 & 2018 & NA &  52 & Documentary                \\\\\n",
       "\t1168881 & tt9880724 & 9.1 & 58 & movie & Verdict 19                       & Verdict 19                       & 0 & 2019 & NA &  NA & Biography,Documentary,Drama\\\\\n",
       "\t1169168 & tt9890120 & 9.2 &  5 & movie & Resurrection Corporation         & Resurrection Corporation         & 0 & 2021 & NA &  77 & Animation,Comedy,Horror    \\\\\n",
       "\t1169637 & tt9905476 & 9.0 & 22 & movie & Hand Rolled                      & Hand Rolled                      & 0 & 2019 & NA &  90 & Documentary                \\\\\n",
       "\\end{tabular}\n"
      ],
      "text/markdown": [
       "\n",
       "A data.frame: 6 x 11\n",
       "\n",
       "| <!--/--> | title_id &lt;chr&gt; | rating &lt;dbl&gt; | votes &lt;int&gt; | type &lt;chr&gt; | primary_title &lt;chr&gt; | original_title &lt;chr&gt; | is_adult &lt;int&gt; | premiered &lt;int&gt; | ended &lt;int&gt; | runtime_minutes &lt;int&gt; | genres &lt;chr&gt; |\n",
       "|---|---|---|---|---|---|---|---|---|---|---|---|\n",
       "| 1167663 | tt9839008 | 9.0 |  6 | movie | Man in Manchester of Maharashtra | Man in Manchester of Maharashtra | 0 | 2018 | NA |  NA | Documentary                 |\n",
       "| 1168463 | tt9866712 | 9.2 | 39 | movie | Aadim Vichar                     | Aadim Vichar                     | 0 | 2014 | NA | 115 | Comedy,Drama                |\n",
       "| 1168745 | tt9876582 | 9.6 |  7 | movie | Route 66                         | Route 66                         | 0 | 2018 | NA |  52 | Documentary                 |\n",
       "| 1168881 | tt9880724 | 9.1 | 58 | movie | Verdict 19                       | Verdict 19                       | 0 | 2019 | NA |  NA | Biography,Documentary,Drama |\n",
       "| 1169168 | tt9890120 | 9.2 |  5 | movie | Resurrection Corporation         | Resurrection Corporation         | 0 | 2021 | NA |  77 | Animation,Comedy,Horror     |\n",
       "| 1169637 | tt9905476 | 9.0 | 22 | movie | Hand Rolled                      | Hand Rolled                      | 0 | 2019 | NA |  90 | Documentary                 |\n",
       "\n"
      ],
      "text/plain": [
       "        title_id  rating votes type  primary_title                   \n",
       "1167663 tt9839008 9.0     6    movie Man in Manchester of Maharashtra\n",
       "1168463 tt9866712 9.2    39    movie Aadim Vichar                    \n",
       "1168745 tt9876582 9.6     7    movie Route 66                        \n",
       "1168881 tt9880724 9.1    58    movie Verdict 19                      \n",
       "1169168 tt9890120 9.2     5    movie Resurrection Corporation        \n",
       "1169637 tt9905476 9.0    22    movie Hand Rolled                     \n",
       "        original_title                   is_adult premiered ended\n",
       "1167663 Man in Manchester of Maharashtra 0        2018      NA   \n",
       "1168463 Aadim Vichar                     0        2014      NA   \n",
       "1168745 Route 66                         0        2018      NA   \n",
       "1168881 Verdict 19                       0        2019      NA   \n",
       "1169168 Resurrection Corporation         0        2021      NA   \n",
       "1169637 Hand Rolled                      0        2019      NA   \n",
       "        runtime_minutes genres                     \n",
       "1167663  NA             Documentary                \n",
       "1168463 115             Comedy,Drama               \n",
       "1168745  52             Documentary                \n",
       "1168881  NA             Biography,Documentary,Drama\n",
       "1169168  77             Animation,Comedy,Horror    \n",
       "1169637  90             Documentary                "
      ]
     },
     "metadata": {},
     "output_type": "display_data"
    }
   ],
   "source": [
    "tail (newDF)"
   ]
  },
  {
   "cell_type": "markdown",
   "id": "14dc22d4-ddc3-41cc-a91a-cb0025bc0c80",
   "metadata": {},
   "source": [
    "Markdown notes and sentences and analysis written here."
   ]
  },
  {
   "cell_type": "markdown",
   "id": "8e586edd-ff26-4ce2-8f6b-2424b26f2929",
   "metadata": {},
   "source": [
    "## Question 3"
   ]
  },
  {
   "cell_type": "code",
   "execution_count": 40,
   "id": "bbe0f40d-9655-4653-9ca8-886bdb61cb91",
   "metadata": {},
   "outputs": [],
   "source": [
    "find_movie_with_at_least_rating <- function(titles_df, ratings_df, ratings_of_at_least) {\n",
    "    # the function contain the different data frame for titles, ratings as i have them above in question 1 folder and the least rating\n",
    "     results <- merge(ratings_df, titles_df, by.x = \"title_id\", by.y = \"title_id\")\n",
    "    # create another folder for merging\n",
    "    # use the command for merging to create merging folder\n",
    "    popular_movie_results <- results[results$type == \"movie\" & results$rating >= ratings_of_at_least, ]\n",
    "    # after merging you run in the result folder, for type and ratings and the least in consideration\n",
    "    return(popular_movie_results)\n",
    "    # it will return the popular movie result\n",
    "}"
   ]
  },
  {
   "cell_type": "markdown",
   "id": "47c6229f-35f7-400c-8366-c442baa5cf47",
   "metadata": {},
   "source": [
    "Markdown notes and sentences and analysis written here."
   ]
  },
  {
   "cell_type": "markdown",
   "id": "da22f29c-d245-4d2b-9fc1-ca14cb6087d9",
   "metadata": {},
   "source": [
    "## Question 4"
   ]
  },
  {
   "cell_type": "code",
   "execution_count": 41,
   "id": "2d5cbfdc-dd8d-41d2-ba9c-ae8973f52165",
   "metadata": {},
   "outputs": [],
   "source": [
    "find_movie_with_at_least_rating <- function(titles_df, ratings_df, ratings_of_at_least) {\n",
    "    results <- merge(ratings_df, titles_df, by.x = \"title_id\", by.y = \"title_id\")\n",
    "    popular_movie_results <- results[results$type == \"movie\" & results$rating >= ratings_of_at_least, ]\n",
    "    return(popular_movie_results)\n",
    "}"
   ]
  },
  {
   "cell_type": "code",
   "execution_count": 42,
   "id": "fb6aec45-59be-4ddb-ae38-fc468f234f9e",
   "metadata": {},
   "outputs": [],
   "source": [
    "my_selection <- find_movie_with_at_least_rating(titles, ratings, 7.6)"
   ]
  },
  {
   "cell_type": "code",
   "execution_count": 43,
   "id": "ece27154-2fe0-40c4-856e-daaa5640b0b6",
   "metadata": {},
   "outputs": [
    {
     "data": {
      "text/html": [
       "<style>\n",
       ".list-inline {list-style: none; margin:0; padding: 0}\n",
       ".list-inline>li {display: inline-block}\n",
       ".list-inline>li:not(:last-child)::after {content: \"\\00b7\"; padding: 0 .5ex}\n",
       "</style>\n",
       "<ol class=list-inline><li>34340</li><li>11</li></ol>\n"
      ],
      "text/latex": [
       "\\begin{enumerate*}\n",
       "\\item 34340\n",
       "\\item 11\n",
       "\\end{enumerate*}\n"
      ],
      "text/markdown": [
       "1. 34340\n",
       "2. 11\n",
       "\n",
       "\n"
      ],
      "text/plain": [
       "[1] 34340    11"
      ]
     },
     "metadata": {},
     "output_type": "display_data"
    }
   ],
   "source": [
    "dim(my_selection)"
   ]
  },
  {
   "cell_type": "code",
   "execution_count": 44,
   "id": "d879248d-151f-496c-b0b8-123955c7b345",
   "metadata": {},
   "outputs": [
    {
     "data": {
      "text/html": [
       "<table class=\"dataframe\">\n",
       "<caption>A data.frame: 6 x 11</caption>\n",
       "<thead>\n",
       "\t<tr><th></th><th scope=col>title_id</th><th scope=col>rating</th><th scope=col>votes</th><th scope=col>type</th><th scope=col>primary_title</th><th scope=col>original_title</th><th scope=col>is_adult</th><th scope=col>premiered</th><th scope=col>ended</th><th scope=col>runtime_minutes</th><th scope=col>genres</th></tr>\n",
       "\t<tr><th></th><th scope=col>&lt;chr&gt;</th><th scope=col>&lt;dbl&gt;</th><th scope=col>&lt;int&gt;</th><th scope=col>&lt;chr&gt;</th><th scope=col>&lt;chr&gt;</th><th scope=col>&lt;chr&gt;</th><th scope=col>&lt;int&gt;</th><th scope=col>&lt;int&gt;</th><th scope=col>&lt;int&gt;</th><th scope=col>&lt;int&gt;</th><th scope=col>&lt;chr&gt;</th></tr>\n",
       "</thead>\n",
       "<tbody>\n",
       "\t<tr><th scope=row>834</th><td>tt0001498</td><td>7.7</td><td> 6</td><td>movie</td><td>The Battle of Trafalgar</td><td>The Battle of Trafalgar</td><td>0</td><td>1911</td><td>NA</td><td>51</td><td>War            </td></tr>\n",
       "\t<tr><th scope=row>1057</th><td>tt0002305</td><td>7.6</td><td>17</td><td>movie</td><td>Life of Villa          </td><td>Life of Villa          </td><td>0</td><td>1912</td><td>NA</td><td>NA</td><td>Documentary,War</td></tr>\n",
       "\t<tr><th scope=row>1153</th><td>tt0002637</td><td>7.7</td><td> 6</td><td>movie</td><td>Arizona                </td><td>Arizona                </td><td>0</td><td>1913</td><td>NA</td><td>NA</td><td>Western        </td></tr>\n",
       "\t<tr><th scope=row>1188</th><td>tt0002832</td><td>7.8</td><td>10</td><td>movie</td><td>Evangeline             </td><td>Evangeline             </td><td>0</td><td>1914</td><td>NA</td><td>50</td><td>Drama          </td></tr>\n",
       "\t<tr><th scope=row>1282</th><td>tt0003386</td><td>7.7</td><td> 9</td><td>movie</td><td>Sodoms Ende            </td><td>Sodoms Ende            </td><td>0</td><td>1913</td><td>NA</td><td>NA</td><td>Drama          </td></tr>\n",
       "\t<tr><th scope=row>1362</th><td>tt0003748</td><td>8.3</td><td> 6</td><td>movie</td><td>Captain Alvarez        </td><td>Captain Alvarez        </td><td>0</td><td>1914</td><td>NA</td><td>60</td><td>Drama          </td></tr>\n",
       "</tbody>\n",
       "</table>\n"
      ],
      "text/latex": [
       "A data.frame: 6 x 11\n",
       "\\begin{tabular}{r|lllllllllll}\n",
       "  & title\\_id & rating & votes & type & primary\\_title & original\\_title & is\\_adult & premiered & ended & runtime\\_minutes & genres\\\\\n",
       "  & <chr> & <dbl> & <int> & <chr> & <chr> & <chr> & <int> & <int> & <int> & <int> & <chr>\\\\\n",
       "\\hline\n",
       "\t834 & tt0001498 & 7.7 &  6 & movie & The Battle of Trafalgar & The Battle of Trafalgar & 0 & 1911 & NA & 51 & War            \\\\\n",
       "\t1057 & tt0002305 & 7.6 & 17 & movie & Life of Villa           & Life of Villa           & 0 & 1912 & NA & NA & Documentary,War\\\\\n",
       "\t1153 & tt0002637 & 7.7 &  6 & movie & Arizona                 & Arizona                 & 0 & 1913 & NA & NA & Western        \\\\\n",
       "\t1188 & tt0002832 & 7.8 & 10 & movie & Evangeline              & Evangeline              & 0 & 1914 & NA & 50 & Drama          \\\\\n",
       "\t1282 & tt0003386 & 7.7 &  9 & movie & Sodoms Ende             & Sodoms Ende             & 0 & 1913 & NA & NA & Drama          \\\\\n",
       "\t1362 & tt0003748 & 8.3 &  6 & movie & Captain Alvarez         & Captain Alvarez         & 0 & 1914 & NA & 60 & Drama          \\\\\n",
       "\\end{tabular}\n"
      ],
      "text/markdown": [
       "\n",
       "A data.frame: 6 x 11\n",
       "\n",
       "| <!--/--> | title_id &lt;chr&gt; | rating &lt;dbl&gt; | votes &lt;int&gt; | type &lt;chr&gt; | primary_title &lt;chr&gt; | original_title &lt;chr&gt; | is_adult &lt;int&gt; | premiered &lt;int&gt; | ended &lt;int&gt; | runtime_minutes &lt;int&gt; | genres &lt;chr&gt; |\n",
       "|---|---|---|---|---|---|---|---|---|---|---|---|\n",
       "| 834 | tt0001498 | 7.7 |  6 | movie | The Battle of Trafalgar | The Battle of Trafalgar | 0 | 1911 | NA | 51 | War             |\n",
       "| 1057 | tt0002305 | 7.6 | 17 | movie | Life of Villa           | Life of Villa           | 0 | 1912 | NA | NA | Documentary,War |\n",
       "| 1153 | tt0002637 | 7.7 |  6 | movie | Arizona                 | Arizona                 | 0 | 1913 | NA | NA | Western         |\n",
       "| 1188 | tt0002832 | 7.8 | 10 | movie | Evangeline              | Evangeline              | 0 | 1914 | NA | 50 | Drama           |\n",
       "| 1282 | tt0003386 | 7.7 |  9 | movie | Sodoms Ende             | Sodoms Ende             | 0 | 1913 | NA | NA | Drama           |\n",
       "| 1362 | tt0003748 | 8.3 |  6 | movie | Captain Alvarez         | Captain Alvarez         | 0 | 1914 | NA | 60 | Drama           |\n",
       "\n"
      ],
      "text/plain": [
       "     title_id  rating votes type  primary_title          \n",
       "834  tt0001498 7.7     6    movie The Battle of Trafalgar\n",
       "1057 tt0002305 7.6    17    movie Life of Villa          \n",
       "1153 tt0002637 7.7     6    movie Arizona                \n",
       "1188 tt0002832 7.8    10    movie Evangeline             \n",
       "1282 tt0003386 7.7     9    movie Sodoms Ende            \n",
       "1362 tt0003748 8.3     6    movie Captain Alvarez        \n",
       "     original_title          is_adult premiered ended runtime_minutes\n",
       "834  The Battle of Trafalgar 0        1911      NA    51             \n",
       "1057 Life of Villa           0        1912      NA    NA             \n",
       "1153 Arizona                 0        1913      NA    NA             \n",
       "1188 Evangeline              0        1914      NA    50             \n",
       "1282 Sodoms Ende             0        1913      NA    NA             \n",
       "1362 Captain Alvarez         0        1914      NA    60             \n",
       "     genres         \n",
       "834  War            \n",
       "1057 Documentary,War\n",
       "1153 Western        \n",
       "1188 Drama          \n",
       "1282 Drama          \n",
       "1362 Drama          "
      ]
     },
     "metadata": {},
     "output_type": "display_data"
    }
   ],
   "source": [
    "head(my_selection)"
   ]
  },
  {
   "cell_type": "code",
   "execution_count": 45,
   "id": "207d74a0-09d8-4f01-88e7-f03a74bf29dc",
   "metadata": {},
   "outputs": [
    {
     "data": {
      "text/html": [
       "<table class=\"dataframe\">\n",
       "<caption>A data.frame: 6 x 11</caption>\n",
       "<thead>\n",
       "\t<tr><th></th><th scope=col>title_id</th><th scope=col>rating</th><th scope=col>votes</th><th scope=col>type</th><th scope=col>primary_title</th><th scope=col>original_title</th><th scope=col>is_adult</th><th scope=col>premiered</th><th scope=col>ended</th><th scope=col>runtime_minutes</th><th scope=col>genres</th></tr>\n",
       "\t<tr><th></th><th scope=col>&lt;chr&gt;</th><th scope=col>&lt;dbl&gt;</th><th scope=col>&lt;int&gt;</th><th scope=col>&lt;chr&gt;</th><th scope=col>&lt;chr&gt;</th><th scope=col>&lt;chr&gt;</th><th scope=col>&lt;int&gt;</th><th scope=col>&lt;int&gt;</th><th scope=col>&lt;int&gt;</th><th scope=col>&lt;int&gt;</th><th scope=col>&lt;chr&gt;</th></tr>\n",
       "</thead>\n",
       "<tbody>\n",
       "\t<tr><th scope=row>1169830</th><td>tt9911774</td><td>7.7</td><td>267</td><td>movie</td><td>Padmavyuhathile Abhimanyu   </td><td>Padmavyuhathile Abhimanyu   </td><td>0</td><td>2019</td><td>NA</td><td>130</td><td>Drama      </td></tr>\n",
       "\t<tr><th scope=row>1169969</th><td>tt9914254</td><td>7.9</td><td>  7</td><td>movie</td><td>A Cherry Tale               </td><td>Kirseb<c3><a6>reventyret    </td><td>0</td><td>2019</td><td>NA</td><td> 85</td><td>Documentary</td></tr>\n",
       "\t<tr><th scope=row>1169981</th><td>tt9914642</td><td>8.1</td><td> 32</td><td>movie</td><td>Albatross                   </td><td>Albatross                   </td><td>0</td><td>2017</td><td>NA</td><td> 97</td><td>Documentary</td></tr>\n",
       "\t<tr><th scope=row>1169982</th><td>tt9914644</td><td>8.3</td><td> 69</td><td>movie</td><td>9/11: Escape from the Towers</td><td>9/11: Escape from the Towers</td><td>0</td><td>2018</td><td>NA</td><td>120</td><td>Documentary</td></tr>\n",
       "\t<tr><th scope=row>1169991</th><td>tt9914972</td><td>7.9</td><td>  9</td><td>movie</td><td>Blind Ambition              </td><td>Blind Ambition              </td><td>0</td><td>2021</td><td>NA</td><td> 96</td><td>Documentary</td></tr>\n",
       "\t<tr><th scope=row>1170046</th><td>tt9916538</td><td>8.3</td><td>  6</td><td>movie</td><td>Kuambil Lagi Hatiku         </td><td>Kuambil Lagi Hatiku         </td><td>0</td><td>2019</td><td>NA</td><td>123</td><td>Drama      </td></tr>\n",
       "</tbody>\n",
       "</table>\n"
      ],
      "text/latex": [
       "A data.frame: 6 x 11\n",
       "\\begin{tabular}{r|lllllllllll}\n",
       "  & title\\_id & rating & votes & type & primary\\_title & original\\_title & is\\_adult & premiered & ended & runtime\\_minutes & genres\\\\\n",
       "  & <chr> & <dbl> & <int> & <chr> & <chr> & <chr> & <int> & <int> & <int> & <int> & <chr>\\\\\n",
       "\\hline\n",
       "\t1169830 & tt9911774 & 7.7 & 267 & movie & Padmavyuhathile Abhimanyu    & Padmavyuhathile Abhimanyu    & 0 & 2019 & NA & 130 & Drama      \\\\\n",
       "\t1169969 & tt9914254 & 7.9 &   7 & movie & A Cherry Tale                & Kirseb<c3><a6>reventyret     & 0 & 2019 & NA &  85 & Documentary\\\\\n",
       "\t1169981 & tt9914642 & 8.1 &  32 & movie & Albatross                    & Albatross                    & 0 & 2017 & NA &  97 & Documentary\\\\\n",
       "\t1169982 & tt9914644 & 8.3 &  69 & movie & 9/11: Escape from the Towers & 9/11: Escape from the Towers & 0 & 2018 & NA & 120 & Documentary\\\\\n",
       "\t1169991 & tt9914972 & 7.9 &   9 & movie & Blind Ambition               & Blind Ambition               & 0 & 2021 & NA &  96 & Documentary\\\\\n",
       "\t1170046 & tt9916538 & 8.3 &   6 & movie & Kuambil Lagi Hatiku          & Kuambil Lagi Hatiku          & 0 & 2019 & NA & 123 & Drama      \\\\\n",
       "\\end{tabular}\n"
      ],
      "text/markdown": [
       "\n",
       "A data.frame: 6 x 11\n",
       "\n",
       "| <!--/--> | title_id &lt;chr&gt; | rating &lt;dbl&gt; | votes &lt;int&gt; | type &lt;chr&gt; | primary_title &lt;chr&gt; | original_title &lt;chr&gt; | is_adult &lt;int&gt; | premiered &lt;int&gt; | ended &lt;int&gt; | runtime_minutes &lt;int&gt; | genres &lt;chr&gt; |\n",
       "|---|---|---|---|---|---|---|---|---|---|---|---|\n",
       "| 1169830 | tt9911774 | 7.7 | 267 | movie | Padmavyuhathile Abhimanyu    | Padmavyuhathile Abhimanyu    | 0 | 2019 | NA | 130 | Drama       |\n",
       "| 1169969 | tt9914254 | 7.9 |   7 | movie | A Cherry Tale                | Kirseb<c3><a6>reventyret     | 0 | 2019 | NA |  85 | Documentary |\n",
       "| 1169981 | tt9914642 | 8.1 |  32 | movie | Albatross                    | Albatross                    | 0 | 2017 | NA |  97 | Documentary |\n",
       "| 1169982 | tt9914644 | 8.3 |  69 | movie | 9/11: Escape from the Towers | 9/11: Escape from the Towers | 0 | 2018 | NA | 120 | Documentary |\n",
       "| 1169991 | tt9914972 | 7.9 |   9 | movie | Blind Ambition               | Blind Ambition               | 0 | 2021 | NA |  96 | Documentary |\n",
       "| 1170046 | tt9916538 | 8.3 |   6 | movie | Kuambil Lagi Hatiku          | Kuambil Lagi Hatiku          | 0 | 2019 | NA | 123 | Drama       |\n",
       "\n"
      ],
      "text/plain": [
       "        title_id  rating votes type  primary_title               \n",
       "1169830 tt9911774 7.7    267   movie Padmavyuhathile Abhimanyu   \n",
       "1169969 tt9914254 7.9      7   movie A Cherry Tale               \n",
       "1169981 tt9914642 8.1     32   movie Albatross                   \n",
       "1169982 tt9914644 8.3     69   movie 9/11: Escape from the Towers\n",
       "1169991 tt9914972 7.9      9   movie Blind Ambition              \n",
       "1170046 tt9916538 8.3      6   movie Kuambil Lagi Hatiku         \n",
       "        original_title               is_adult premiered ended runtime_minutes\n",
       "1169830 Padmavyuhathile Abhimanyu    0        2019      NA    130            \n",
       "1169969 Kirseb\\303\\246reventyret     0        2019      NA     85            \n",
       "1169981 Albatross                    0        2017      NA     97            \n",
       "1169982 9/11: Escape from the Towers 0        2018      NA    120            \n",
       "1169991 Blind Ambition               0        2021      NA     96            \n",
       "1170046 Kuambil Lagi Hatiku          0        2019      NA    123            \n",
       "        genres     \n",
       "1169830 Drama      \n",
       "1169969 Documentary\n",
       "1169981 Documentary\n",
       "1169982 Documentary\n",
       "1169991 Documentary\n",
       "1170046 Drama      "
      ]
     },
     "metadata": {},
     "output_type": "display_data"
    }
   ],
   "source": [
    "tail(my_selection)"
   ]
  },
  {
   "cell_type": "code",
   "execution_count": 46,
   "id": "e8ec7a64-7b8d-43e7-a3c8-619303f5cb95",
   "metadata": {
    "tags": []
   },
   "outputs": [],
   "source": [
    "find_movie_with_at_most_rating <- function(titles_df, ratings_df, ratings_of_at_most) {\n",
    "    results <- merge(ratings_df, titles_df, by.x = \"title_id\", by.y = \"title_id\")\n",
    "    popular_movie_results <- results[results$type == \"movie\" & results$rating <= ratings_of_at_most, ]\n",
    "    return(popular_movie_results)\n",
    "}"
   ]
  },
  {
   "cell_type": "code",
   "execution_count": 47,
   "id": "933e1460-bf96-48a2-9ec2-5981698a9ece",
   "metadata": {},
   "outputs": [],
   "source": [
    "my_view <- find_movie_with_at_most_rating(titles, ratings, 6.0)"
   ]
  },
  {
   "cell_type": "code",
   "execution_count": 48,
   "id": "88f00db8-c587-4c0a-9c0e-9d580d397af4",
   "metadata": {},
   "outputs": [
    {
     "data": {
      "text/html": [
       "<style>\n",
       ".list-inline {list-style: none; margin:0; padding: 0}\n",
       ".list-inline>li {display: inline-block}\n",
       ".list-inline>li:not(:last-child)::after {content: \"\\00b7\"; padding: 0 .5ex}\n",
       "</style>\n",
       "<ol class=list-inline><li>114707</li><li>11</li></ol>\n"
      ],
      "text/latex": [
       "\\begin{enumerate*}\n",
       "\\item 114707\n",
       "\\item 11\n",
       "\\end{enumerate*}\n"
      ],
      "text/markdown": [
       "1. 114707\n",
       "2. 11\n",
       "\n",
       "\n"
      ],
      "text/plain": [
       "[1] 114707     11"
      ]
     },
     "metadata": {},
     "output_type": "display_data"
    }
   ],
   "source": [
    "dim(my_view)"
   ]
  },
  {
   "cell_type": "code",
   "execution_count": 49,
   "id": "219222a8-1912-4b0a-ac51-516b969030cd",
   "metadata": {},
   "outputs": [
    {
     "data": {
      "text/html": [
       "<table class=\"dataframe\">\n",
       "<caption>A data.frame: 6 x 11</caption>\n",
       "<thead>\n",
       "\t<tr><th></th><th scope=col>title_id</th><th scope=col>rating</th><th scope=col>votes</th><th scope=col>type</th><th scope=col>primary_title</th><th scope=col>original_title</th><th scope=col>is_adult</th><th scope=col>premiered</th><th scope=col>ended</th><th scope=col>runtime_minutes</th><th scope=col>genres</th></tr>\n",
       "\t<tr><th></th><th scope=col>&lt;chr&gt;</th><th scope=col>&lt;dbl&gt;</th><th scope=col>&lt;int&gt;</th><th scope=col>&lt;chr&gt;</th><th scope=col>&lt;chr&gt;</th><th scope=col>&lt;chr&gt;</th><th scope=col>&lt;int&gt;</th><th scope=col>&lt;int&gt;</th><th scope=col>&lt;int&gt;</th><th scope=col>&lt;int&gt;</th><th scope=col>&lt;chr&gt;</th></tr>\n",
       "</thead>\n",
       "<tbody>\n",
       "\t<tr><th scope=row>341</th><td>tt0000502</td><td>4.5</td><td> 8</td><td>movie</td><td>Bohemios                      </td><td>Bohemios                      </td><td>0</td><td>1905</td><td>NA</td><td>100</td><td>\\N              </td></tr>\n",
       "\t<tr><th scope=row>384</th><td>tt0000591</td><td>5.2</td><td> 6</td><td>movie</td><td>The Prodigal Son              </td><td>L'enfant prodigue             </td><td>0</td><td>1907</td><td>NA</td><td> 90</td><td>Drama            </td></tr>\n",
       "\t<tr><th scope=row>399</th><td>tt0000615</td><td>4.5</td><td>14</td><td>movie</td><td>Robbery Under Arms            </td><td>Robbery Under Arms            </td><td>0</td><td>1907</td><td>NA</td><td> NA</td><td>Drama            </td></tr>\n",
       "\t<tr><th scope=row>407</th><td>tt0000630</td><td>3.8</td><td>12</td><td>movie</td><td>Hamlet                        </td><td>Amleto                        </td><td>0</td><td>1908</td><td>NA</td><td> NA</td><td>Drama            </td></tr>\n",
       "\t<tr><th scope=row>437</th><td>tt0000675</td><td>4.9</td><td> 9</td><td>movie</td><td>Don Quijote                   </td><td>Don Quijote                   </td><td>0</td><td>1908</td><td>NA</td><td> NA</td><td>Drama            </td></tr>\n",
       "\t<tr><th scope=row>440</th><td>tt0000679</td><td>5.2</td><td>35</td><td>movie</td><td>The Fairylogue and Radio-Plays</td><td>The Fairylogue and Radio-Plays</td><td>0</td><td>1908</td><td>NA</td><td>120</td><td>Adventure,Fantasy</td></tr>\n",
       "</tbody>\n",
       "</table>\n"
      ],
      "text/latex": [
       "A data.frame: 6 x 11\n",
       "\\begin{tabular}{r|lllllllllll}\n",
       "  & title\\_id & rating & votes & type & primary\\_title & original\\_title & is\\_adult & premiered & ended & runtime\\_minutes & genres\\\\\n",
       "  & <chr> & <dbl> & <int> & <chr> & <chr> & <chr> & <int> & <int> & <int> & <int> & <chr>\\\\\n",
       "\\hline\n",
       "\t341 & tt0000502 & 4.5 &  8 & movie & Bohemios                       & Bohemios                       & 0 & 1905 & NA & 100 & \\textbackslash{}N              \\\\\n",
       "\t384 & tt0000591 & 5.2 &  6 & movie & The Prodigal Son               & L'enfant prodigue              & 0 & 1907 & NA &  90 & Drama            \\\\\n",
       "\t399 & tt0000615 & 4.5 & 14 & movie & Robbery Under Arms             & Robbery Under Arms             & 0 & 1907 & NA &  NA & Drama            \\\\\n",
       "\t407 & tt0000630 & 3.8 & 12 & movie & Hamlet                         & Amleto                         & 0 & 1908 & NA &  NA & Drama            \\\\\n",
       "\t437 & tt0000675 & 4.9 &  9 & movie & Don Quijote                    & Don Quijote                    & 0 & 1908 & NA &  NA & Drama            \\\\\n",
       "\t440 & tt0000679 & 5.2 & 35 & movie & The Fairylogue and Radio-Plays & The Fairylogue and Radio-Plays & 0 & 1908 & NA & 120 & Adventure,Fantasy\\\\\n",
       "\\end{tabular}\n"
      ],
      "text/markdown": [
       "\n",
       "A data.frame: 6 x 11\n",
       "\n",
       "| <!--/--> | title_id &lt;chr&gt; | rating &lt;dbl&gt; | votes &lt;int&gt; | type &lt;chr&gt; | primary_title &lt;chr&gt; | original_title &lt;chr&gt; | is_adult &lt;int&gt; | premiered &lt;int&gt; | ended &lt;int&gt; | runtime_minutes &lt;int&gt; | genres &lt;chr&gt; |\n",
       "|---|---|---|---|---|---|---|---|---|---|---|---|\n",
       "| 341 | tt0000502 | 4.5 |  8 | movie | Bohemios                       | Bohemios                       | 0 | 1905 | NA | 100 | \\N               |\n",
       "| 384 | tt0000591 | 5.2 |  6 | movie | The Prodigal Son               | L'enfant prodigue              | 0 | 1907 | NA |  90 | Drama             |\n",
       "| 399 | tt0000615 | 4.5 | 14 | movie | Robbery Under Arms             | Robbery Under Arms             | 0 | 1907 | NA |  NA | Drama             |\n",
       "| 407 | tt0000630 | 3.8 | 12 | movie | Hamlet                         | Amleto                         | 0 | 1908 | NA |  NA | Drama             |\n",
       "| 437 | tt0000675 | 4.9 |  9 | movie | Don Quijote                    | Don Quijote                    | 0 | 1908 | NA |  NA | Drama             |\n",
       "| 440 | tt0000679 | 5.2 | 35 | movie | The Fairylogue and Radio-Plays | The Fairylogue and Radio-Plays | 0 | 1908 | NA | 120 | Adventure,Fantasy |\n",
       "\n"
      ],
      "text/plain": [
       "    title_id  rating votes type  primary_title                 \n",
       "341 tt0000502 4.5     8    movie Bohemios                      \n",
       "384 tt0000591 5.2     6    movie The Prodigal Son              \n",
       "399 tt0000615 4.5    14    movie Robbery Under Arms            \n",
       "407 tt0000630 3.8    12    movie Hamlet                        \n",
       "437 tt0000675 4.9     9    movie Don Quijote                   \n",
       "440 tt0000679 5.2    35    movie The Fairylogue and Radio-Plays\n",
       "    original_title                 is_adult premiered ended runtime_minutes\n",
       "341 Bohemios                       0        1905      NA    100            \n",
       "384 L'enfant prodigue              0        1907      NA     90            \n",
       "399 Robbery Under Arms             0        1907      NA     NA            \n",
       "407 Amleto                         0        1908      NA     NA            \n",
       "437 Don Quijote                    0        1908      NA     NA            \n",
       "440 The Fairylogue and Radio-Plays 0        1908      NA    120            \n",
       "    genres           \n",
       "341 \\\\N              \n",
       "384 Drama            \n",
       "399 Drama            \n",
       "407 Drama            \n",
       "437 Drama            \n",
       "440 Adventure,Fantasy"
      ]
     },
     "metadata": {},
     "output_type": "display_data"
    }
   ],
   "source": [
    "head(my_view)"
   ]
  },
  {
   "cell_type": "code",
   "execution_count": 50,
   "id": "0b5578d9-f5d2-4b3c-915a-54d1c8b280f8",
   "metadata": {},
   "outputs": [
    {
     "data": {
      "text/html": [
       "<table class=\"dataframe\">\n",
       "<caption>A data.frame: 6 x 11</caption>\n",
       "<thead>\n",
       "\t<tr><th></th><th scope=col>title_id</th><th scope=col>rating</th><th scope=col>votes</th><th scope=col>type</th><th scope=col>primary_title</th><th scope=col>original_title</th><th scope=col>is_adult</th><th scope=col>premiered</th><th scope=col>ended</th><th scope=col>runtime_minutes</th><th scope=col>genres</th></tr>\n",
       "\t<tr><th></th><th scope=col>&lt;chr&gt;</th><th scope=col>&lt;dbl&gt;</th><th scope=col>&lt;int&gt;</th><th scope=col>&lt;chr&gt;</th><th scope=col>&lt;chr&gt;</th><th scope=col>&lt;chr&gt;</th><th scope=col>&lt;int&gt;</th><th scope=col>&lt;int&gt;</th><th scope=col>&lt;int&gt;</th><th scope=col>&lt;int&gt;</th><th scope=col>&lt;chr&gt;</th></tr>\n",
       "</thead>\n",
       "<tbody>\n",
       "\t<tr><th scope=row>1169963</th><td>tt9913872</td><td>3.9</td><td>  11</td><td>movie</td><td>De la piel del Diablo       </td><td>De la piel del Diablo       </td><td>0</td><td>2019</td><td>NA</td><td>75</td><td>Thriller                     </td></tr>\n",
       "\t<tr><th scope=row>1169968</th><td>tt9914192</td><td>5.6</td><td> 191</td><td>movie</td><td>No Gog<c3><b3> do Paulinho  </td><td>No Gog<c3><b3> do Paulinho  </td><td>0</td><td>2020</td><td>NA</td><td>98</td><td>Comedy                       </td></tr>\n",
       "\t<tr><th scope=row>1170028</th><td>tt9916132</td><td>4.0</td><td>   6</td><td>movie</td><td>The Mystery of a Buryat Lama</td><td>The Mystery of a Buryat Lama</td><td>0</td><td>2018</td><td>NA</td><td>94</td><td>Biography,Documentary,History</td></tr>\n",
       "\t<tr><th scope=row>1170031</th><td>tt9916190</td><td>3.6</td><td> 139</td><td>movie</td><td>Safeguard                   </td><td>Safeguard                   </td><td>0</td><td>2020</td><td>NA</td><td>90</td><td>Action,Adventure,Thriller    </td></tr>\n",
       "\t<tr><th scope=row>1170037</th><td>tt9916270</td><td>5.8</td><td>1085</td><td>movie</td><td>Il talento del calabrone    </td><td>Il talento del calabrone    </td><td>0</td><td>2020</td><td>NA</td><td>84</td><td>Thriller                     </td></tr>\n",
       "\t<tr><th scope=row>1170043</th><td>tt9916428</td><td>3.8</td><td>  12</td><td>movie</td><td>The Secret of China         </td><td>Hong xing zhao yao Zhong guo</td><td>0</td><td>2019</td><td>NA</td><td>NA</td><td>Adventure,History,War        </td></tr>\n",
       "</tbody>\n",
       "</table>\n"
      ],
      "text/latex": [
       "A data.frame: 6 x 11\n",
       "\\begin{tabular}{r|lllllllllll}\n",
       "  & title\\_id & rating & votes & type & primary\\_title & original\\_title & is\\_adult & premiered & ended & runtime\\_minutes & genres\\\\\n",
       "  & <chr> & <dbl> & <int> & <chr> & <chr> & <chr> & <int> & <int> & <int> & <int> & <chr>\\\\\n",
       "\\hline\n",
       "\t1169963 & tt9913872 & 3.9 &   11 & movie & De la piel del Diablo        & De la piel del Diablo        & 0 & 2019 & NA & 75 & Thriller                     \\\\\n",
       "\t1169968 & tt9914192 & 5.6 &  191 & movie & No Gog<c3><b3> do Paulinho   & No Gog<c3><b3> do Paulinho   & 0 & 2020 & NA & 98 & Comedy                       \\\\\n",
       "\t1170028 & tt9916132 & 4.0 &    6 & movie & The Mystery of a Buryat Lama & The Mystery of a Buryat Lama & 0 & 2018 & NA & 94 & Biography,Documentary,History\\\\\n",
       "\t1170031 & tt9916190 & 3.6 &  139 & movie & Safeguard                    & Safeguard                    & 0 & 2020 & NA & 90 & Action,Adventure,Thriller    \\\\\n",
       "\t1170037 & tt9916270 & 5.8 & 1085 & movie & Il talento del calabrone     & Il talento del calabrone     & 0 & 2020 & NA & 84 & Thriller                     \\\\\n",
       "\t1170043 & tt9916428 & 3.8 &   12 & movie & The Secret of China          & Hong xing zhao yao Zhong guo & 0 & 2019 & NA & NA & Adventure,History,War        \\\\\n",
       "\\end{tabular}\n"
      ],
      "text/markdown": [
       "\n",
       "A data.frame: 6 x 11\n",
       "\n",
       "| <!--/--> | title_id &lt;chr&gt; | rating &lt;dbl&gt; | votes &lt;int&gt; | type &lt;chr&gt; | primary_title &lt;chr&gt; | original_title &lt;chr&gt; | is_adult &lt;int&gt; | premiered &lt;int&gt; | ended &lt;int&gt; | runtime_minutes &lt;int&gt; | genres &lt;chr&gt; |\n",
       "|---|---|---|---|---|---|---|---|---|---|---|---|\n",
       "| 1169963 | tt9913872 | 3.9 |   11 | movie | De la piel del Diablo        | De la piel del Diablo        | 0 | 2019 | NA | 75 | Thriller                      |\n",
       "| 1169968 | tt9914192 | 5.6 |  191 | movie | No Gog<c3><b3> do Paulinho   | No Gog<c3><b3> do Paulinho   | 0 | 2020 | NA | 98 | Comedy                        |\n",
       "| 1170028 | tt9916132 | 4.0 |    6 | movie | The Mystery of a Buryat Lama | The Mystery of a Buryat Lama | 0 | 2018 | NA | 94 | Biography,Documentary,History |\n",
       "| 1170031 | tt9916190 | 3.6 |  139 | movie | Safeguard                    | Safeguard                    | 0 | 2020 | NA | 90 | Action,Adventure,Thriller     |\n",
       "| 1170037 | tt9916270 | 5.8 | 1085 | movie | Il talento del calabrone     | Il talento del calabrone     | 0 | 2020 | NA | 84 | Thriller                      |\n",
       "| 1170043 | tt9916428 | 3.8 |   12 | movie | The Secret of China          | Hong xing zhao yao Zhong guo | 0 | 2019 | NA | NA | Adventure,History,War         |\n",
       "\n"
      ],
      "text/plain": [
       "        title_id  rating votes type  primary_title               \n",
       "1169963 tt9913872 3.9      11  movie De la piel del Diablo       \n",
       "1169968 tt9914192 5.6     191  movie No Gog\\303\\263 do Paulinho  \n",
       "1170028 tt9916132 4.0       6  movie The Mystery of a Buryat Lama\n",
       "1170031 tt9916190 3.6     139  movie Safeguard                   \n",
       "1170037 tt9916270 5.8    1085  movie Il talento del calabrone    \n",
       "1170043 tt9916428 3.8      12  movie The Secret of China         \n",
       "        original_title               is_adult premiered ended runtime_minutes\n",
       "1169963 De la piel del Diablo        0        2019      NA    75             \n",
       "1169968 No Gog\\303\\263 do Paulinho   0        2020      NA    98             \n",
       "1170028 The Mystery of a Buryat Lama 0        2018      NA    94             \n",
       "1170031 Safeguard                    0        2020      NA    90             \n",
       "1170037 Il talento del calabrone     0        2020      NA    84             \n",
       "1170043 Hong xing zhao yao Zhong guo 0        2019      NA    NA             \n",
       "        genres                       \n",
       "1169963 Thriller                     \n",
       "1169968 Comedy                       \n",
       "1170028 Biography,Documentary,History\n",
       "1170031 Action,Adventure,Thriller    \n",
       "1170037 Thriller                     \n",
       "1170043 Adventure,History,War        "
      ]
     },
     "metadata": {},
     "output_type": "display_data"
    }
   ],
   "source": [
    "tail(my_view)"
   ]
  },
  {
   "cell_type": "code",
   "execution_count": 51,
   "id": "0bdfc618-d95f-43a7-96ca-83218c186170",
   "metadata": {},
   "outputs": [],
   "source": [
    "find_movie_with_at_most_rating <- function(titles_df, ratings_df, ratings_of_at_most) {\n",
    "    results <- merge(ratings_df, titles_df, by.x = \"title_id\", by.y = \"title_id\")\n",
    "    popular_movie_results <- results[results$type == \"movie\" & results$rating < ratings_of_at_most, ]\n",
    "    return(popular_movie_results)\n",
    "}"
   ]
  },
  {
   "cell_type": "code",
   "execution_count": 52,
   "id": "6ad7c39a-3d71-4152-9e87-f4d968092087",
   "metadata": {},
   "outputs": [],
   "source": [
    "my_consent <- find_movie_with_at_most_rating(titles, ratings, 6.0)"
   ]
  },
  {
   "cell_type": "code",
   "execution_count": 53,
   "id": "b775941f-0979-49e5-aba6-27a9bdd7893a",
   "metadata": {},
   "outputs": [
    {
     "data": {
      "text/html": [
       "<style>\n",
       ".list-inline {list-style: none; margin:0; padding: 0}\n",
       ".list-inline>li {display: inline-block}\n",
       ".list-inline>li:not(:last-child)::after {content: \"\\00b7\"; padding: 0 .5ex}\n",
       "</style>\n",
       "<ol class=list-inline><li>106471</li><li>11</li></ol>\n"
      ],
      "text/latex": [
       "\\begin{enumerate*}\n",
       "\\item 106471\n",
       "\\item 11\n",
       "\\end{enumerate*}\n"
      ],
      "text/markdown": [
       "1. 106471\n",
       "2. 11\n",
       "\n",
       "\n"
      ],
      "text/plain": [
       "[1] 106471     11"
      ]
     },
     "metadata": {},
     "output_type": "display_data"
    }
   ],
   "source": [
    "dim(my_consent)"
   ]
  },
  {
   "cell_type": "code",
   "execution_count": 54,
   "id": "03deca69-1751-48ef-9433-707dd2350688",
   "metadata": {},
   "outputs": [
    {
     "data": {
      "text/html": [
       "<table class=\"dataframe\">\n",
       "<caption>A data.frame: 6 x 11</caption>\n",
       "<thead>\n",
       "\t<tr><th></th><th scope=col>title_id</th><th scope=col>rating</th><th scope=col>votes</th><th scope=col>type</th><th scope=col>primary_title</th><th scope=col>original_title</th><th scope=col>is_adult</th><th scope=col>premiered</th><th scope=col>ended</th><th scope=col>runtime_minutes</th><th scope=col>genres</th></tr>\n",
       "\t<tr><th></th><th scope=col>&lt;chr&gt;</th><th scope=col>&lt;dbl&gt;</th><th scope=col>&lt;int&gt;</th><th scope=col>&lt;chr&gt;</th><th scope=col>&lt;chr&gt;</th><th scope=col>&lt;chr&gt;</th><th scope=col>&lt;int&gt;</th><th scope=col>&lt;int&gt;</th><th scope=col>&lt;int&gt;</th><th scope=col>&lt;int&gt;</th><th scope=col>&lt;chr&gt;</th></tr>\n",
       "</thead>\n",
       "<tbody>\n",
       "\t<tr><th scope=row>341</th><td>tt0000502</td><td>4.5</td><td> 8</td><td>movie</td><td>Bohemios                      </td><td>Bohemios                      </td><td>0</td><td>1905</td><td>NA</td><td>100</td><td>\\N              </td></tr>\n",
       "\t<tr><th scope=row>384</th><td>tt0000591</td><td>5.2</td><td> 6</td><td>movie</td><td>The Prodigal Son              </td><td>L'enfant prodigue             </td><td>0</td><td>1907</td><td>NA</td><td> 90</td><td>Drama            </td></tr>\n",
       "\t<tr><th scope=row>399</th><td>tt0000615</td><td>4.5</td><td>14</td><td>movie</td><td>Robbery Under Arms            </td><td>Robbery Under Arms            </td><td>0</td><td>1907</td><td>NA</td><td> NA</td><td>Drama            </td></tr>\n",
       "\t<tr><th scope=row>407</th><td>tt0000630</td><td>3.8</td><td>12</td><td>movie</td><td>Hamlet                        </td><td>Amleto                        </td><td>0</td><td>1908</td><td>NA</td><td> NA</td><td>Drama            </td></tr>\n",
       "\t<tr><th scope=row>437</th><td>tt0000675</td><td>4.9</td><td> 9</td><td>movie</td><td>Don Quijote                   </td><td>Don Quijote                   </td><td>0</td><td>1908</td><td>NA</td><td> NA</td><td>Drama            </td></tr>\n",
       "\t<tr><th scope=row>440</th><td>tt0000679</td><td>5.2</td><td>35</td><td>movie</td><td>The Fairylogue and Radio-Plays</td><td>The Fairylogue and Radio-Plays</td><td>0</td><td>1908</td><td>NA</td><td>120</td><td>Adventure,Fantasy</td></tr>\n",
       "</tbody>\n",
       "</table>\n"
      ],
      "text/latex": [
       "A data.frame: 6 x 11\n",
       "\\begin{tabular}{r|lllllllllll}\n",
       "  & title\\_id & rating & votes & type & primary\\_title & original\\_title & is\\_adult & premiered & ended & runtime\\_minutes & genres\\\\\n",
       "  & <chr> & <dbl> & <int> & <chr> & <chr> & <chr> & <int> & <int> & <int> & <int> & <chr>\\\\\n",
       "\\hline\n",
       "\t341 & tt0000502 & 4.5 &  8 & movie & Bohemios                       & Bohemios                       & 0 & 1905 & NA & 100 & \\textbackslash{}N              \\\\\n",
       "\t384 & tt0000591 & 5.2 &  6 & movie & The Prodigal Son               & L'enfant prodigue              & 0 & 1907 & NA &  90 & Drama            \\\\\n",
       "\t399 & tt0000615 & 4.5 & 14 & movie & Robbery Under Arms             & Robbery Under Arms             & 0 & 1907 & NA &  NA & Drama            \\\\\n",
       "\t407 & tt0000630 & 3.8 & 12 & movie & Hamlet                         & Amleto                         & 0 & 1908 & NA &  NA & Drama            \\\\\n",
       "\t437 & tt0000675 & 4.9 &  9 & movie & Don Quijote                    & Don Quijote                    & 0 & 1908 & NA &  NA & Drama            \\\\\n",
       "\t440 & tt0000679 & 5.2 & 35 & movie & The Fairylogue and Radio-Plays & The Fairylogue and Radio-Plays & 0 & 1908 & NA & 120 & Adventure,Fantasy\\\\\n",
       "\\end{tabular}\n"
      ],
      "text/markdown": [
       "\n",
       "A data.frame: 6 x 11\n",
       "\n",
       "| <!--/--> | title_id &lt;chr&gt; | rating &lt;dbl&gt; | votes &lt;int&gt; | type &lt;chr&gt; | primary_title &lt;chr&gt; | original_title &lt;chr&gt; | is_adult &lt;int&gt; | premiered &lt;int&gt; | ended &lt;int&gt; | runtime_minutes &lt;int&gt; | genres &lt;chr&gt; |\n",
       "|---|---|---|---|---|---|---|---|---|---|---|---|\n",
       "| 341 | tt0000502 | 4.5 |  8 | movie | Bohemios                       | Bohemios                       | 0 | 1905 | NA | 100 | \\N               |\n",
       "| 384 | tt0000591 | 5.2 |  6 | movie | The Prodigal Son               | L'enfant prodigue              | 0 | 1907 | NA |  90 | Drama             |\n",
       "| 399 | tt0000615 | 4.5 | 14 | movie | Robbery Under Arms             | Robbery Under Arms             | 0 | 1907 | NA |  NA | Drama             |\n",
       "| 407 | tt0000630 | 3.8 | 12 | movie | Hamlet                         | Amleto                         | 0 | 1908 | NA |  NA | Drama             |\n",
       "| 437 | tt0000675 | 4.9 |  9 | movie | Don Quijote                    | Don Quijote                    | 0 | 1908 | NA |  NA | Drama             |\n",
       "| 440 | tt0000679 | 5.2 | 35 | movie | The Fairylogue and Radio-Plays | The Fairylogue and Radio-Plays | 0 | 1908 | NA | 120 | Adventure,Fantasy |\n",
       "\n"
      ],
      "text/plain": [
       "    title_id  rating votes type  primary_title                 \n",
       "341 tt0000502 4.5     8    movie Bohemios                      \n",
       "384 tt0000591 5.2     6    movie The Prodigal Son              \n",
       "399 tt0000615 4.5    14    movie Robbery Under Arms            \n",
       "407 tt0000630 3.8    12    movie Hamlet                        \n",
       "437 tt0000675 4.9     9    movie Don Quijote                   \n",
       "440 tt0000679 5.2    35    movie The Fairylogue and Radio-Plays\n",
       "    original_title                 is_adult premiered ended runtime_minutes\n",
       "341 Bohemios                       0        1905      NA    100            \n",
       "384 L'enfant prodigue              0        1907      NA     90            \n",
       "399 Robbery Under Arms             0        1907      NA     NA            \n",
       "407 Amleto                         0        1908      NA     NA            \n",
       "437 Don Quijote                    0        1908      NA     NA            \n",
       "440 The Fairylogue and Radio-Plays 0        1908      NA    120            \n",
       "    genres           \n",
       "341 \\\\N              \n",
       "384 Drama            \n",
       "399 Drama            \n",
       "407 Drama            \n",
       "437 Drama            \n",
       "440 Adventure,Fantasy"
      ]
     },
     "metadata": {},
     "output_type": "display_data"
    }
   ],
   "source": [
    "head(my_consent)"
   ]
  },
  {
   "cell_type": "code",
   "execution_count": 55,
   "id": "acbef064-290e-4b5a-b958-cd2e3554a949",
   "metadata": {},
   "outputs": [
    {
     "data": {
      "text/html": [
       "<table class=\"dataframe\">\n",
       "<caption>A data.frame: 6 x 11</caption>\n",
       "<thead>\n",
       "\t<tr><th></th><th scope=col>title_id</th><th scope=col>rating</th><th scope=col>votes</th><th scope=col>type</th><th scope=col>primary_title</th><th scope=col>original_title</th><th scope=col>is_adult</th><th scope=col>premiered</th><th scope=col>ended</th><th scope=col>runtime_minutes</th><th scope=col>genres</th></tr>\n",
       "\t<tr><th></th><th scope=col>&lt;chr&gt;</th><th scope=col>&lt;dbl&gt;</th><th scope=col>&lt;int&gt;</th><th scope=col>&lt;chr&gt;</th><th scope=col>&lt;chr&gt;</th><th scope=col>&lt;chr&gt;</th><th scope=col>&lt;int&gt;</th><th scope=col>&lt;int&gt;</th><th scope=col>&lt;int&gt;</th><th scope=col>&lt;int&gt;</th><th scope=col>&lt;chr&gt;</th></tr>\n",
       "</thead>\n",
       "<tbody>\n",
       "\t<tr><th scope=row>1169963</th><td>tt9913872</td><td>3.9</td><td>  11</td><td>movie</td><td>De la piel del Diablo       </td><td>De la piel del Diablo       </td><td>0</td><td>2019</td><td>NA</td><td>75</td><td>Thriller                     </td></tr>\n",
       "\t<tr><th scope=row>1169968</th><td>tt9914192</td><td>5.6</td><td> 191</td><td>movie</td><td>No Gog<c3><b3> do Paulinho  </td><td>No Gog<c3><b3> do Paulinho  </td><td>0</td><td>2020</td><td>NA</td><td>98</td><td>Comedy                       </td></tr>\n",
       "\t<tr><th scope=row>1170028</th><td>tt9916132</td><td>4.0</td><td>   6</td><td>movie</td><td>The Mystery of a Buryat Lama</td><td>The Mystery of a Buryat Lama</td><td>0</td><td>2018</td><td>NA</td><td>94</td><td>Biography,Documentary,History</td></tr>\n",
       "\t<tr><th scope=row>1170031</th><td>tt9916190</td><td>3.6</td><td> 139</td><td>movie</td><td>Safeguard                   </td><td>Safeguard                   </td><td>0</td><td>2020</td><td>NA</td><td>90</td><td>Action,Adventure,Thriller    </td></tr>\n",
       "\t<tr><th scope=row>1170037</th><td>tt9916270</td><td>5.8</td><td>1085</td><td>movie</td><td>Il talento del calabrone    </td><td>Il talento del calabrone    </td><td>0</td><td>2020</td><td>NA</td><td>84</td><td>Thriller                     </td></tr>\n",
       "\t<tr><th scope=row>1170043</th><td>tt9916428</td><td>3.8</td><td>  12</td><td>movie</td><td>The Secret of China         </td><td>Hong xing zhao yao Zhong guo</td><td>0</td><td>2019</td><td>NA</td><td>NA</td><td>Adventure,History,War        </td></tr>\n",
       "</tbody>\n",
       "</table>\n"
      ],
      "text/latex": [
       "A data.frame: 6 x 11\n",
       "\\begin{tabular}{r|lllllllllll}\n",
       "  & title\\_id & rating & votes & type & primary\\_title & original\\_title & is\\_adult & premiered & ended & runtime\\_minutes & genres\\\\\n",
       "  & <chr> & <dbl> & <int> & <chr> & <chr> & <chr> & <int> & <int> & <int> & <int> & <chr>\\\\\n",
       "\\hline\n",
       "\t1169963 & tt9913872 & 3.9 &   11 & movie & De la piel del Diablo        & De la piel del Diablo        & 0 & 2019 & NA & 75 & Thriller                     \\\\\n",
       "\t1169968 & tt9914192 & 5.6 &  191 & movie & No Gog<c3><b3> do Paulinho   & No Gog<c3><b3> do Paulinho   & 0 & 2020 & NA & 98 & Comedy                       \\\\\n",
       "\t1170028 & tt9916132 & 4.0 &    6 & movie & The Mystery of a Buryat Lama & The Mystery of a Buryat Lama & 0 & 2018 & NA & 94 & Biography,Documentary,History\\\\\n",
       "\t1170031 & tt9916190 & 3.6 &  139 & movie & Safeguard                    & Safeguard                    & 0 & 2020 & NA & 90 & Action,Adventure,Thriller    \\\\\n",
       "\t1170037 & tt9916270 & 5.8 & 1085 & movie & Il talento del calabrone     & Il talento del calabrone     & 0 & 2020 & NA & 84 & Thriller                     \\\\\n",
       "\t1170043 & tt9916428 & 3.8 &   12 & movie & The Secret of China          & Hong xing zhao yao Zhong guo & 0 & 2019 & NA & NA & Adventure,History,War        \\\\\n",
       "\\end{tabular}\n"
      ],
      "text/markdown": [
       "\n",
       "A data.frame: 6 x 11\n",
       "\n",
       "| <!--/--> | title_id &lt;chr&gt; | rating &lt;dbl&gt; | votes &lt;int&gt; | type &lt;chr&gt; | primary_title &lt;chr&gt; | original_title &lt;chr&gt; | is_adult &lt;int&gt; | premiered &lt;int&gt; | ended &lt;int&gt; | runtime_minutes &lt;int&gt; | genres &lt;chr&gt; |\n",
       "|---|---|---|---|---|---|---|---|---|---|---|---|\n",
       "| 1169963 | tt9913872 | 3.9 |   11 | movie | De la piel del Diablo        | De la piel del Diablo        | 0 | 2019 | NA | 75 | Thriller                      |\n",
       "| 1169968 | tt9914192 | 5.6 |  191 | movie | No Gog<c3><b3> do Paulinho   | No Gog<c3><b3> do Paulinho   | 0 | 2020 | NA | 98 | Comedy                        |\n",
       "| 1170028 | tt9916132 | 4.0 |    6 | movie | The Mystery of a Buryat Lama | The Mystery of a Buryat Lama | 0 | 2018 | NA | 94 | Biography,Documentary,History |\n",
       "| 1170031 | tt9916190 | 3.6 |  139 | movie | Safeguard                    | Safeguard                    | 0 | 2020 | NA | 90 | Action,Adventure,Thriller     |\n",
       "| 1170037 | tt9916270 | 5.8 | 1085 | movie | Il talento del calabrone     | Il talento del calabrone     | 0 | 2020 | NA | 84 | Thriller                      |\n",
       "| 1170043 | tt9916428 | 3.8 |   12 | movie | The Secret of China          | Hong xing zhao yao Zhong guo | 0 | 2019 | NA | NA | Adventure,History,War         |\n",
       "\n"
      ],
      "text/plain": [
       "        title_id  rating votes type  primary_title               \n",
       "1169963 tt9913872 3.9      11  movie De la piel del Diablo       \n",
       "1169968 tt9914192 5.6     191  movie No Gog\\303\\263 do Paulinho  \n",
       "1170028 tt9916132 4.0       6  movie The Mystery of a Buryat Lama\n",
       "1170031 tt9916190 3.6     139  movie Safeguard                   \n",
       "1170037 tt9916270 5.8    1085  movie Il talento del calabrone    \n",
       "1170043 tt9916428 3.8      12  movie The Secret of China         \n",
       "        original_title               is_adult premiered ended runtime_minutes\n",
       "1169963 De la piel del Diablo        0        2019      NA    75             \n",
       "1169968 No Gog\\303\\263 do Paulinho   0        2020      NA    98             \n",
       "1170028 The Mystery of a Buryat Lama 0        2018      NA    94             \n",
       "1170031 Safeguard                    0        2020      NA    90             \n",
       "1170037 Il talento del calabrone     0        2020      NA    84             \n",
       "1170043 Hong xing zhao yao Zhong guo 0        2019      NA    NA             \n",
       "        genres                       \n",
       "1169963 Thriller                     \n",
       "1169968 Comedy                       \n",
       "1170028 Biography,Documentary,History\n",
       "1170031 Action,Adventure,Thriller    \n",
       "1170037 Thriller                     \n",
       "1170043 Adventure,History,War        "
      ]
     },
     "metadata": {},
     "output_type": "display_data"
    }
   ],
   "source": [
    "tail(my_consent)"
   ]
  },
  {
   "cell_type": "markdown",
   "id": "0d552245-b4d6-474a-9cc9-fa7b8e674d55",
   "metadata": {},
   "source": [
    "How many movies in total are there, which are above that limit? 34340.11\n",
    "\n",
    "Change the limits in the function from \"at least 6.0\" to \"lower than 6.0\". 114707.11\n",
    "\n",
    "How many movies have ratings lower than 6.0? 106471.11"
   ]
  },
  {
   "cell_type": "markdown",
   "id": "88c9cdac-3e92-498f-83fa-e089bfc44ac8",
   "metadata": {},
   "source": [
    "## Question 5"
   ]
  },
  {
   "cell_type": "code",
   "execution_count": 56,
   "id": "a4cd7949-20d3-4276-b2f5-164b3e86672f",
   "metadata": {},
   "outputs": [
    {
     "ename": "ERROR",
     "evalue": "Error in parse(text = x, srcfile = src): <text>:6:0: unexpected end of input\n4:                         # make an even smaller data frame, with rows that have the property myDF$rating = max(myDF$rating)\n5:                         # return that even smaller data frame\n  ^\n",
     "output_type": "error",
     "traceback": [
      "Error in parse(text = x, srcfile = src): <text>:6:0: unexpected end of input\n4:                         # make an even smaller data frame, with rows that have the property myDF$rating = max(myDF$rating)\n5:                         # return that even smaller data frame\n  ^\nTraceback:\n"
     ]
    }
   ],
   "source": [
    "my_most_popular_movie <- # send the titles data frame, ratings data frame, and the name of the genres\n",
    "                        #  merge the data frames, just like we did above\n",
    "                        #  make a similar data frame, only contain movies which are only from the genre you picked\n",
    "                        # make an even smaller data frame, with rows that have the property myDF$rating = max(myDF$rating)\n",
    "                        # return that even smaller data frame"
   ]
  },
  {
   "cell_type": "code",
   "execution_count": 57,
   "id": "633f6de6-9d74-4750-9de3-06a37f04c0ba",
   "metadata": {},
   "outputs": [],
   "source": [
    "my_best_movie <- function(titles_df, ratings_df, genre) {\n",
    "    results <- merge(ratings_df, titles_df, by.x = \"title_id\", by.y = \"title_id\")\n",
    "    my_genres_output <- results[results$type == \"movie\" & results$genres == genre, ]\n",
    "    famous <-  my_genres_output[ my_genres_output$rating== max( my_genres_output$rating), ]\n",
    "     return(famous)\n",
    "}  \n",
    "                        "
   ]
  },
  {
   "cell_type": "code",
   "execution_count": 58,
   "id": "5035ef4e-de7c-47b3-8623-54e05afc2bfe",
   "metadata": {
    "tags": []
   },
   "outputs": [],
   "source": [
    " results <- merge(ratings, titles, by.x = \"title_id\", by.y = \"title_id\")\n"
   ]
  },
  {
   "cell_type": "code",
   "execution_count": 59,
   "id": "d5421692-216f-4cc2-9af0-c61ede159ed6",
   "metadata": {},
   "outputs": [
    {
     "data": {
      "text/html": [
       "<style>\n",
       ".list-inline {list-style: none; margin:0; padding: 0}\n",
       ".list-inline>li {display: inline-block}\n",
       ".list-inline>li:not(:last-child)::after {content: \"\\00b7\"; padding: 0 .5ex}\n",
       "</style>\n",
       "<ol class=list-inline><li>1170056</li><li>11</li></ol>\n"
      ],
      "text/latex": [
       "\\begin{enumerate*}\n",
       "\\item 1170056\n",
       "\\item 11\n",
       "\\end{enumerate*}\n"
      ],
      "text/markdown": [
       "1. 1170056\n",
       "2. 11\n",
       "\n",
       "\n"
      ],
      "text/plain": [
       "[1] 1170056      11"
      ]
     },
     "metadata": {},
     "output_type": "display_data"
    }
   ],
   "source": [
    "dim(results)"
   ]
  },
  {
   "cell_type": "code",
   "execution_count": 60,
   "id": "c0e9ed24-85ff-48ab-9c9a-2d5deab668d2",
   "metadata": {},
   "outputs": [],
   "source": [
    "genre<- \"Thriller\""
   ]
  },
  {
   "cell_type": "code",
   "execution_count": 61,
   "id": "723e5559-94db-40c2-940e-0a1b9273852d",
   "metadata": {},
   "outputs": [],
   "source": [
    " my_genres_output <- results[results$type == \"movie\" & results$genres == genre, ]"
   ]
  },
  {
   "cell_type": "code",
   "execution_count": 62,
   "id": "fbbf8cf6-73c1-4c73-af3d-1753ecc5f097",
   "metadata": {},
   "outputs": [],
   "source": [
    " famous <-  my_genres_output[ my_genres_output$rating== max( my_genres_output$rating), ]"
   ]
  },
  {
   "cell_type": "code",
   "execution_count": 63,
   "id": "f48c16e1-9831-4cb5-9c5b-8aaaaabac6ec",
   "metadata": {},
   "outputs": [],
   "source": [
    "thrillerDF<-my_best_movie(titles,ratings,\"Thriller\")"
   ]
  },
  {
   "cell_type": "code",
   "execution_count": 64,
   "id": "c5f49507-0060-4cb7-b21b-983c8211acb9",
   "metadata": {},
   "outputs": [
    {
     "data": {
      "text/html": [
       "<style>\n",
       ".list-inline {list-style: none; margin:0; padding: 0}\n",
       ".list-inline>li {display: inline-block}\n",
       ".list-inline>li:not(:last-child)::after {content: \"\\00b7\"; padding: 0 .5ex}\n",
       "</style>\n",
       "<ol class=list-inline><li>1</li><li>11</li></ol>\n"
      ],
      "text/latex": [
       "\\begin{enumerate*}\n",
       "\\item 1\n",
       "\\item 11\n",
       "\\end{enumerate*}\n"
      ],
      "text/markdown": [
       "1. 1\n",
       "2. 11\n",
       "\n",
       "\n"
      ],
      "text/plain": [
       "[1]  1 11"
      ]
     },
     "metadata": {},
     "output_type": "display_data"
    }
   ],
   "source": [
    "dim(thrillerDF)"
   ]
  },
  {
   "cell_type": "code",
   "execution_count": 65,
   "id": "cc6389b7-771e-4ffd-8ef8-84c15ff35b81",
   "metadata": {},
   "outputs": [
    {
     "data": {
      "text/html": [
       "<table class=\"dataframe\">\n",
       "<caption>A data.frame: 1 x 11</caption>\n",
       "<thead>\n",
       "\t<tr><th></th><th scope=col>title_id</th><th scope=col>rating</th><th scope=col>votes</th><th scope=col>type</th><th scope=col>primary_title</th><th scope=col>original_title</th><th scope=col>is_adult</th><th scope=col>premiered</th><th scope=col>ended</th><th scope=col>runtime_minutes</th><th scope=col>genres</th></tr>\n",
       "\t<tr><th></th><th scope=col>&lt;chr&gt;</th><th scope=col>&lt;dbl&gt;</th><th scope=col>&lt;int&gt;</th><th scope=col>&lt;chr&gt;</th><th scope=col>&lt;chr&gt;</th><th scope=col>&lt;chr&gt;</th><th scope=col>&lt;int&gt;</th><th scope=col>&lt;int&gt;</th><th scope=col>&lt;int&gt;</th><th scope=col>&lt;int&gt;</th><th scope=col>&lt;chr&gt;</th></tr>\n",
       "</thead>\n",
       "<tbody>\n",
       "\t<tr><th scope=row>616603</th><td>tt13992188</td><td>9.4</td><td>31</td><td>movie</td><td>House of Cards - Rust</td><td>House of Cards - Rust</td><td>0</td><td>2021</td><td>NA</td><td>55</td><td>Thriller</td></tr>\n",
       "</tbody>\n",
       "</table>\n"
      ],
      "text/latex": [
       "A data.frame: 1 x 11\n",
       "\\begin{tabular}{r|lllllllllll}\n",
       "  & title\\_id & rating & votes & type & primary\\_title & original\\_title & is\\_adult & premiered & ended & runtime\\_minutes & genres\\\\\n",
       "  & <chr> & <dbl> & <int> & <chr> & <chr> & <chr> & <int> & <int> & <int> & <int> & <chr>\\\\\n",
       "\\hline\n",
       "\t616603 & tt13992188 & 9.4 & 31 & movie & House of Cards - Rust & House of Cards - Rust & 0 & 2021 & NA & 55 & Thriller\\\\\n",
       "\\end{tabular}\n"
      ],
      "text/markdown": [
       "\n",
       "A data.frame: 1 x 11\n",
       "\n",
       "| <!--/--> | title_id &lt;chr&gt; | rating &lt;dbl&gt; | votes &lt;int&gt; | type &lt;chr&gt; | primary_title &lt;chr&gt; | original_title &lt;chr&gt; | is_adult &lt;int&gt; | premiered &lt;int&gt; | ended &lt;int&gt; | runtime_minutes &lt;int&gt; | genres &lt;chr&gt; |\n",
       "|---|---|---|---|---|---|---|---|---|---|---|---|\n",
       "| 616603 | tt13992188 | 9.4 | 31 | movie | House of Cards - Rust | House of Cards - Rust | 0 | 2021 | NA | 55 | Thriller |\n",
       "\n"
      ],
      "text/plain": [
       "       title_id   rating votes type  primary_title        \n",
       "616603 tt13992188 9.4    31    movie House of Cards - Rust\n",
       "       original_title        is_adult premiered ended runtime_minutes genres  \n",
       "616603 House of Cards - Rust 0        2021      NA    55              Thriller"
      ]
     },
     "metadata": {},
     "output_type": "display_data"
    }
   ],
   "source": [
    "thrillerDF"
   ]
  },
  {
   "cell_type": "code",
   "execution_count": 66,
   "id": "43ffb1c5-ece6-4948-a511-dc2ff6063629",
   "metadata": {},
   "outputs": [
    {
     "data": {
      "text/html": [
       "<style>\n",
       ".list-inline {list-style: none; margin:0; padding: 0}\n",
       ".list-inline>li {display: inline-block}\n",
       ".list-inline>li:not(:last-child)::after {content: \"\\00b7\"; padding: 0 .5ex}\n",
       "</style>\n",
       "<ol class=list-inline><li>3772</li><li>11</li></ol>\n"
      ],
      "text/latex": [
       "\\begin{enumerate*}\n",
       "\\item 3772\n",
       "\\item 11\n",
       "\\end{enumerate*}\n"
      ],
      "text/markdown": [
       "1. 3772\n",
       "2. 11\n",
       "\n",
       "\n"
      ],
      "text/plain": [
       "[1] 3772   11"
      ]
     },
     "metadata": {},
     "output_type": "display_data"
    }
   ],
   "source": [
    "dim(my_genres_output)"
   ]
  },
  {
   "cell_type": "code",
   "execution_count": 67,
   "id": "c0ccc5b3-d722-47e0-8c82-1418ceb2d156",
   "metadata": {},
   "outputs": [
    {
     "data": {
      "text/html": [
       "<style>\n",
       ".list-inline {list-style: none; margin:0; padding: 0}\n",
       ".list-inline>li {display: inline-block}\n",
       ".list-inline>li:not(:last-child)::after {content: \"\\00b7\"; padding: 0 .5ex}\n",
       "</style>\n",
       "<ol class=list-inline><li>1</li><li>11</li></ol>\n"
      ],
      "text/latex": [
       "\\begin{enumerate*}\n",
       "\\item 1\n",
       "\\item 11\n",
       "\\end{enumerate*}\n"
      ],
      "text/markdown": [
       "1. 1\n",
       "2. 11\n",
       "\n",
       "\n"
      ],
      "text/plain": [
       "[1]  1 11"
      ]
     },
     "metadata": {},
     "output_type": "display_data"
    }
   ],
   "source": [
    "dim(famous)"
   ]
  },
  {
   "cell_type": "code",
   "execution_count": 68,
   "id": "f113a00f-25be-4d3a-81fc-1333ffdb9675",
   "metadata": {},
   "outputs": [],
   "source": [
    "thrillerDF<-my_best_movie(titles,ratings,\"Romance\")"
   ]
  },
  {
   "cell_type": "code",
   "execution_count": 69,
   "id": "aa591241-c6b3-48ce-a13c-ed48d3626c4a",
   "metadata": {},
   "outputs": [
    {
     "data": {
      "text/html": [
       "<style>\n",
       ".list-inline {list-style: none; margin:0; padding: 0}\n",
       ".list-inline>li {display: inline-block}\n",
       ".list-inline>li:not(:last-child)::after {content: \"\\00b7\"; padding: 0 .5ex}\n",
       "</style>\n",
       "<ol class=list-inline><li>1</li><li>11</li></ol>\n"
      ],
      "text/latex": [
       "\\begin{enumerate*}\n",
       "\\item 1\n",
       "\\item 11\n",
       "\\end{enumerate*}\n"
      ],
      "text/markdown": [
       "1. 1\n",
       "2. 11\n",
       "\n",
       "\n"
      ],
      "text/plain": [
       "[1]  1 11"
      ]
     },
     "metadata": {},
     "output_type": "display_data"
    }
   ],
   "source": [
    "dim(thrillerDF)"
   ]
  },
  {
   "cell_type": "code",
   "execution_count": 70,
   "id": "94c0c907-ebcd-447a-9ebb-2beed86e4efb",
   "metadata": {},
   "outputs": [
    {
     "data": {
      "text/html": [
       "<table class=\"dataframe\">\n",
       "<caption>A data.frame: 1 x 11</caption>\n",
       "<thead>\n",
       "\t<tr><th></th><th scope=col>title_id</th><th scope=col>rating</th><th scope=col>votes</th><th scope=col>type</th><th scope=col>primary_title</th><th scope=col>original_title</th><th scope=col>is_adult</th><th scope=col>premiered</th><th scope=col>ended</th><th scope=col>runtime_minutes</th><th scope=col>genres</th></tr>\n",
       "\t<tr><th></th><th scope=col>&lt;chr&gt;</th><th scope=col>&lt;dbl&gt;</th><th scope=col>&lt;int&gt;</th><th scope=col>&lt;chr&gt;</th><th scope=col>&lt;chr&gt;</th><th scope=col>&lt;chr&gt;</th><th scope=col>&lt;int&gt;</th><th scope=col>&lt;int&gt;</th><th scope=col>&lt;int&gt;</th><th scope=col>&lt;int&gt;</th><th scope=col>&lt;chr&gt;</th></tr>\n",
       "</thead>\n",
       "<tbody>\n",
       "\t<tr><th scope=row>135262</th><td>tt0211363</td><td>9.4</td><td>5</td><td>movie</td><td>The Feather</td><td>The Feather</td><td>0</td><td>1929</td><td>NA</td><td>88</td><td>Romance</td></tr>\n",
       "</tbody>\n",
       "</table>\n"
      ],
      "text/latex": [
       "A data.frame: 1 x 11\n",
       "\\begin{tabular}{r|lllllllllll}\n",
       "  & title\\_id & rating & votes & type & primary\\_title & original\\_title & is\\_adult & premiered & ended & runtime\\_minutes & genres\\\\\n",
       "  & <chr> & <dbl> & <int> & <chr> & <chr> & <chr> & <int> & <int> & <int> & <int> & <chr>\\\\\n",
       "\\hline\n",
       "\t135262 & tt0211363 & 9.4 & 5 & movie & The Feather & The Feather & 0 & 1929 & NA & 88 & Romance\\\\\n",
       "\\end{tabular}\n"
      ],
      "text/markdown": [
       "\n",
       "A data.frame: 1 x 11\n",
       "\n",
       "| <!--/--> | title_id &lt;chr&gt; | rating &lt;dbl&gt; | votes &lt;int&gt; | type &lt;chr&gt; | primary_title &lt;chr&gt; | original_title &lt;chr&gt; | is_adult &lt;int&gt; | premiered &lt;int&gt; | ended &lt;int&gt; | runtime_minutes &lt;int&gt; | genres &lt;chr&gt; |\n",
       "|---|---|---|---|---|---|---|---|---|---|---|---|\n",
       "| 135262 | tt0211363 | 9.4 | 5 | movie | The Feather | The Feather | 0 | 1929 | NA | 88 | Romance |\n",
       "\n"
      ],
      "text/plain": [
       "       title_id  rating votes type  primary_title original_title is_adult\n",
       "135262 tt0211363 9.4    5     movie The Feather   The Feather    0       \n",
       "       premiered ended runtime_minutes genres \n",
       "135262 1929      NA    88              Romance"
      ]
     },
     "metadata": {},
     "output_type": "display_data"
    }
   ],
   "source": [
    "thrillerDF"
   ]
  },
  {
   "cell_type": "code",
   "execution_count": 71,
   "id": "5cee62b5-e198-4f7e-86ad-34b2932aff3d",
   "metadata": {},
   "outputs": [],
   "source": [
    "thrillerDF<-my_best_movie(titles,ratings,\"Action\")"
   ]
  },
  {
   "cell_type": "code",
   "execution_count": 72,
   "id": "49f69cf4-8c08-4b7e-92bc-cc06dfb3584b",
   "metadata": {},
   "outputs": [
    {
     "data": {
      "text/html": [
       "<style>\n",
       ".list-inline {list-style: none; margin:0; padding: 0}\n",
       ".list-inline>li {display: inline-block}\n",
       ".list-inline>li:not(:last-child)::after {content: \"\\00b7\"; padding: 0 .5ex}\n",
       "</style>\n",
       "<ol class=list-inline><li>2</li><li>11</li></ol>\n"
      ],
      "text/latex": [
       "\\begin{enumerate*}\n",
       "\\item 2\n",
       "\\item 11\n",
       "\\end{enumerate*}\n"
      ],
      "text/markdown": [
       "1. 2\n",
       "2. 11\n",
       "\n",
       "\n"
      ],
      "text/plain": [
       "[1]  2 11"
      ]
     },
     "metadata": {},
     "output_type": "display_data"
    }
   ],
   "source": [
    "dim(thrillerDF)"
   ]
  },
  {
   "cell_type": "code",
   "execution_count": 73,
   "id": "f21cfe36-781a-4170-841b-5e27ad753f27",
   "metadata": {},
   "outputs": [
    {
     "data": {
      "text/html": [
       "<table class=\"dataframe\">\n",
       "<caption>A data.frame: 2 x 11</caption>\n",
       "<thead>\n",
       "\t<tr><th></th><th scope=col>title_id</th><th scope=col>rating</th><th scope=col>votes</th><th scope=col>type</th><th scope=col>primary_title</th><th scope=col>original_title</th><th scope=col>is_adult</th><th scope=col>premiered</th><th scope=col>ended</th><th scope=col>runtime_minutes</th><th scope=col>genres</th></tr>\n",
       "\t<tr><th></th><th scope=col>&lt;chr&gt;</th><th scope=col>&lt;dbl&gt;</th><th scope=col>&lt;int&gt;</th><th scope=col>&lt;chr&gt;</th><th scope=col>&lt;chr&gt;</th><th scope=col>&lt;chr&gt;</th><th scope=col>&lt;int&gt;</th><th scope=col>&lt;int&gt;</th><th scope=col>&lt;int&gt;</th><th scope=col>&lt;int&gt;</th><th scope=col>&lt;chr&gt;</th></tr>\n",
       "</thead>\n",
       "<tbody>\n",
       "\t<tr><th scope=row>487348</th><td>tt10915200</td><td>9.4</td><td>7</td><td>movie</td><td>Not<c3><ad>cias do fim do mundo</td><td>Not<c3><ad>cias do fim do mundo</td><td>0</td><td>2019</td><td>NA</td><td> 70</td><td>Action</td></tr>\n",
       "\t<tr><th scope=row>1158637</th><td>tt9526156 </td><td>9.4</td><td>8</td><td>movie</td><td>College Diary                  </td><td>College Diary                  </td><td>0</td><td>2019</td><td>NA</td><td>151</td><td>Action</td></tr>\n",
       "</tbody>\n",
       "</table>\n"
      ],
      "text/latex": [
       "A data.frame: 2 x 11\n",
       "\\begin{tabular}{r|lllllllllll}\n",
       "  & title\\_id & rating & votes & type & primary\\_title & original\\_title & is\\_adult & premiered & ended & runtime\\_minutes & genres\\\\\n",
       "  & <chr> & <dbl> & <int> & <chr> & <chr> & <chr> & <int> & <int> & <int> & <int> & <chr>\\\\\n",
       "\\hline\n",
       "\t487348 & tt10915200 & 9.4 & 7 & movie & Not<c3><ad>cias do fim do mundo & Not<c3><ad>cias do fim do mundo & 0 & 2019 & NA &  70 & Action\\\\\n",
       "\t1158637 & tt9526156  & 9.4 & 8 & movie & College Diary                   & College Diary                   & 0 & 2019 & NA & 151 & Action\\\\\n",
       "\\end{tabular}\n"
      ],
      "text/markdown": [
       "\n",
       "A data.frame: 2 x 11\n",
       "\n",
       "| <!--/--> | title_id &lt;chr&gt; | rating &lt;dbl&gt; | votes &lt;int&gt; | type &lt;chr&gt; | primary_title &lt;chr&gt; | original_title &lt;chr&gt; | is_adult &lt;int&gt; | premiered &lt;int&gt; | ended &lt;int&gt; | runtime_minutes &lt;int&gt; | genres &lt;chr&gt; |\n",
       "|---|---|---|---|---|---|---|---|---|---|---|---|\n",
       "| 487348 | tt10915200 | 9.4 | 7 | movie | Not<c3><ad>cias do fim do mundo | Not<c3><ad>cias do fim do mundo | 0 | 2019 | NA |  70 | Action |\n",
       "| 1158637 | tt9526156  | 9.4 | 8 | movie | College Diary                   | College Diary                   | 0 | 2019 | NA | 151 | Action |\n",
       "\n"
      ],
      "text/plain": [
       "        title_id   rating votes type  primary_title                  \n",
       "487348  tt10915200 9.4    7     movie Not\\303\\255cias do fim do mundo\n",
       "1158637 tt9526156  9.4    8     movie College Diary                  \n",
       "        original_title                  is_adult premiered ended\n",
       "487348  Not\\303\\255cias do fim do mundo 0        2019      NA   \n",
       "1158637 College Diary                   0        2019      NA   \n",
       "        runtime_minutes genres\n",
       "487348   70             Action\n",
       "1158637 151             Action"
      ]
     },
     "metadata": {},
     "output_type": "display_data"
    }
   ],
   "source": [
    "thrillerDF"
   ]
  },
  {
   "cell_type": "code",
   "execution_count": 74,
   "id": "bd8be1df-a0f4-4eb8-8548-bfb01a63ad7f",
   "metadata": {},
   "outputs": [
    {
     "data": {
      "text/html": [
       "<table class=\"dataframe\">\n",
       "<caption>A data.frame: 6 x 11</caption>\n",
       "<thead>\n",
       "\t<tr><th></th><th scope=col>title_id</th><th scope=col>rating</th><th scope=col>votes</th><th scope=col>type</th><th scope=col>primary_title</th><th scope=col>original_title</th><th scope=col>is_adult</th><th scope=col>premiered</th><th scope=col>ended</th><th scope=col>runtime_minutes</th><th scope=col>genres</th></tr>\n",
       "\t<tr><th></th><th scope=col>&lt;chr&gt;</th><th scope=col>&lt;dbl&gt;</th><th scope=col>&lt;int&gt;</th><th scope=col>&lt;chr&gt;</th><th scope=col>&lt;chr&gt;</th><th scope=col>&lt;chr&gt;</th><th scope=col>&lt;int&gt;</th><th scope=col>&lt;int&gt;</th><th scope=col>&lt;int&gt;</th><th scope=col>&lt;int&gt;</th><th scope=col>&lt;chr&gt;</th></tr>\n",
       "</thead>\n",
       "<tbody>\n",
       "\t<tr><th scope=row>1</th><td>tt0000001</td><td>5.7</td><td>1718</td><td>short</td><td>Carmencita            </td><td>Carmencita            </td><td>0</td><td>1894</td><td>NA</td><td> 1</td><td>Documentary,Short       </td></tr>\n",
       "\t<tr><th scope=row>2</th><td>tt0000002</td><td>6.0</td><td> 211</td><td>short</td><td>Le clown et ses chiens</td><td>Le clown et ses chiens</td><td>0</td><td>1892</td><td>NA</td><td> 5</td><td>Animation,Short         </td></tr>\n",
       "\t<tr><th scope=row>3</th><td>tt0000003</td><td>6.5</td><td>1480</td><td>short</td><td>Pauvre Pierrot        </td><td>Pauvre Pierrot        </td><td>0</td><td>1892</td><td>NA</td><td> 4</td><td>Animation,Comedy,Romance</td></tr>\n",
       "\t<tr><th scope=row>4</th><td>tt0000004</td><td>6.1</td><td> 124</td><td>short</td><td>Un bon bock           </td><td>Un bon bock           </td><td>0</td><td>1892</td><td>NA</td><td>12</td><td>Animation,Short         </td></tr>\n",
       "\t<tr><th scope=row>5</th><td>tt0000005</td><td>6.2</td><td>2283</td><td>short</td><td>Blacksmith Scene      </td><td>Blacksmith Scene      </td><td>0</td><td>1893</td><td>NA</td><td> 1</td><td>Comedy,Short            </td></tr>\n",
       "\t<tr><th scope=row>6</th><td>tt0000006</td><td>5.1</td><td> 127</td><td>short</td><td>Chinese Opium Den     </td><td>Chinese Opium Den     </td><td>0</td><td>1894</td><td>NA</td><td> 1</td><td>Short                   </td></tr>\n",
       "</tbody>\n",
       "</table>\n"
      ],
      "text/latex": [
       "A data.frame: 6 x 11\n",
       "\\begin{tabular}{r|lllllllllll}\n",
       "  & title\\_id & rating & votes & type & primary\\_title & original\\_title & is\\_adult & premiered & ended & runtime\\_minutes & genres\\\\\n",
       "  & <chr> & <dbl> & <int> & <chr> & <chr> & <chr> & <int> & <int> & <int> & <int> & <chr>\\\\\n",
       "\\hline\n",
       "\t1 & tt0000001 & 5.7 & 1718 & short & Carmencita             & Carmencita             & 0 & 1894 & NA &  1 & Documentary,Short       \\\\\n",
       "\t2 & tt0000002 & 6.0 &  211 & short & Le clown et ses chiens & Le clown et ses chiens & 0 & 1892 & NA &  5 & Animation,Short         \\\\\n",
       "\t3 & tt0000003 & 6.5 & 1480 & short & Pauvre Pierrot         & Pauvre Pierrot         & 0 & 1892 & NA &  4 & Animation,Comedy,Romance\\\\\n",
       "\t4 & tt0000004 & 6.1 &  124 & short & Un bon bock            & Un bon bock            & 0 & 1892 & NA & 12 & Animation,Short         \\\\\n",
       "\t5 & tt0000005 & 6.2 & 2283 & short & Blacksmith Scene       & Blacksmith Scene       & 0 & 1893 & NA &  1 & Comedy,Short            \\\\\n",
       "\t6 & tt0000006 & 5.1 &  127 & short & Chinese Opium Den      & Chinese Opium Den      & 0 & 1894 & NA &  1 & Short                   \\\\\n",
       "\\end{tabular}\n"
      ],
      "text/markdown": [
       "\n",
       "A data.frame: 6 x 11\n",
       "\n",
       "| <!--/--> | title_id &lt;chr&gt; | rating &lt;dbl&gt; | votes &lt;int&gt; | type &lt;chr&gt; | primary_title &lt;chr&gt; | original_title &lt;chr&gt; | is_adult &lt;int&gt; | premiered &lt;int&gt; | ended &lt;int&gt; | runtime_minutes &lt;int&gt; | genres &lt;chr&gt; |\n",
       "|---|---|---|---|---|---|---|---|---|---|---|---|\n",
       "| 1 | tt0000001 | 5.7 | 1718 | short | Carmencita             | Carmencita             | 0 | 1894 | NA |  1 | Documentary,Short        |\n",
       "| 2 | tt0000002 | 6.0 |  211 | short | Le clown et ses chiens | Le clown et ses chiens | 0 | 1892 | NA |  5 | Animation,Short          |\n",
       "| 3 | tt0000003 | 6.5 | 1480 | short | Pauvre Pierrot         | Pauvre Pierrot         | 0 | 1892 | NA |  4 | Animation,Comedy,Romance |\n",
       "| 4 | tt0000004 | 6.1 |  124 | short | Un bon bock            | Un bon bock            | 0 | 1892 | NA | 12 | Animation,Short          |\n",
       "| 5 | tt0000005 | 6.2 | 2283 | short | Blacksmith Scene       | Blacksmith Scene       | 0 | 1893 | NA |  1 | Comedy,Short             |\n",
       "| 6 | tt0000006 | 5.1 |  127 | short | Chinese Opium Den      | Chinese Opium Den      | 0 | 1894 | NA |  1 | Short                    |\n",
       "\n"
      ],
      "text/plain": [
       "  title_id  rating votes type  primary_title          original_title        \n",
       "1 tt0000001 5.7    1718  short Carmencita             Carmencita            \n",
       "2 tt0000002 6.0     211  short Le clown et ses chiens Le clown et ses chiens\n",
       "3 tt0000003 6.5    1480  short Pauvre Pierrot         Pauvre Pierrot        \n",
       "4 tt0000004 6.1     124  short Un bon bock            Un bon bock           \n",
       "5 tt0000005 6.2    2283  short Blacksmith Scene       Blacksmith Scene      \n",
       "6 tt0000006 5.1     127  short Chinese Opium Den      Chinese Opium Den     \n",
       "  is_adult premiered ended runtime_minutes genres                  \n",
       "1 0        1894      NA     1              Documentary,Short       \n",
       "2 0        1892      NA     5              Animation,Short         \n",
       "3 0        1892      NA     4              Animation,Comedy,Romance\n",
       "4 0        1892      NA    12              Animation,Short         \n",
       "5 0        1893      NA     1              Comedy,Short            \n",
       "6 0        1894      NA     1              Short                   "
      ]
     },
     "metadata": {},
     "output_type": "display_data"
    }
   ],
   "source": [
    "head(results)"
   ]
  },
  {
   "cell_type": "code",
   "execution_count": 75,
   "id": "8eef7e4d-1ce9-4c17-848e-57819bf68442",
   "metadata": {},
   "outputs": [],
   "source": [
    "my_best_movie_by_vote <- function(titles_df, ratings_df, genre) {\n",
    "    results <- merge(ratings_df, titles_df, by.x = \"title_id\", by.y = \"title_id\")\n",
    "    my_genres_output <- results[results$type == \"movie\" & results$genres == genre, ]\n",
    "    # to look for best movie by vote, you will replace votes for rating\n",
    "    famous <-  my_genres_output[ my_genres_output$votes== max( my_genres_output$votes), ]\n",
    "     return(famous)\n",
    "}  "
   ]
  },
  {
   "cell_type": "code",
   "execution_count": 76,
   "id": "08971d76-b30c-43dc-923d-513edb9ee8fc",
   "metadata": {},
   "outputs": [],
   "source": [
    "thrillerDF<-my_best_movie_by_vote(titles,ratings,\"Action\")"
   ]
  },
  {
   "cell_type": "code",
   "execution_count": 77,
   "id": "f28b06a9-87fa-46bd-9c71-0a5caeab3bcf",
   "metadata": {},
   "outputs": [
    {
     "data": {
      "text/html": [
       "<table class=\"dataframe\">\n",
       "<caption>A data.frame: 1 x 11</caption>\n",
       "<thead>\n",
       "\t<tr><th></th><th scope=col>title_id</th><th scope=col>rating</th><th scope=col>votes</th><th scope=col>type</th><th scope=col>primary_title</th><th scope=col>original_title</th><th scope=col>is_adult</th><th scope=col>premiered</th><th scope=col>ended</th><th scope=col>runtime_minutes</th><th scope=col>genres</th></tr>\n",
       "\t<tr><th></th><th scope=col>&lt;chr&gt;</th><th scope=col>&lt;dbl&gt;</th><th scope=col>&lt;int&gt;</th><th scope=col>&lt;chr&gt;</th><th scope=col>&lt;chr&gt;</th><th scope=col>&lt;chr&gt;</th><th scope=col>&lt;int&gt;</th><th scope=col>&lt;int&gt;</th><th scope=col>&lt;int&gt;</th><th scope=col>&lt;int&gt;</th><th scope=col>&lt;chr&gt;</th></tr>\n",
       "</thead>\n",
       "<tbody>\n",
       "\t<tr><th scope=row>562664</th><td>tt1258972</td><td>5.4</td><td>61150</td><td>movie</td><td>The Man with the Iron Fists</td><td>The Man with the Iron Fists</td><td>0</td><td>2012</td><td>NA</td><td>95</td><td>Action</td></tr>\n",
       "</tbody>\n",
       "</table>\n"
      ],
      "text/latex": [
       "A data.frame: 1 x 11\n",
       "\\begin{tabular}{r|lllllllllll}\n",
       "  & title\\_id & rating & votes & type & primary\\_title & original\\_title & is\\_adult & premiered & ended & runtime\\_minutes & genres\\\\\n",
       "  & <chr> & <dbl> & <int> & <chr> & <chr> & <chr> & <int> & <int> & <int> & <int> & <chr>\\\\\n",
       "\\hline\n",
       "\t562664 & tt1258972 & 5.4 & 61150 & movie & The Man with the Iron Fists & The Man with the Iron Fists & 0 & 2012 & NA & 95 & Action\\\\\n",
       "\\end{tabular}\n"
      ],
      "text/markdown": [
       "\n",
       "A data.frame: 1 x 11\n",
       "\n",
       "| <!--/--> | title_id &lt;chr&gt; | rating &lt;dbl&gt; | votes &lt;int&gt; | type &lt;chr&gt; | primary_title &lt;chr&gt; | original_title &lt;chr&gt; | is_adult &lt;int&gt; | premiered &lt;int&gt; | ended &lt;int&gt; | runtime_minutes &lt;int&gt; | genres &lt;chr&gt; |\n",
       "|---|---|---|---|---|---|---|---|---|---|---|---|\n",
       "| 562664 | tt1258972 | 5.4 | 61150 | movie | The Man with the Iron Fists | The Man with the Iron Fists | 0 | 2012 | NA | 95 | Action |\n",
       "\n"
      ],
      "text/plain": [
       "       title_id  rating votes type  primary_title              \n",
       "562664 tt1258972 5.4    61150 movie The Man with the Iron Fists\n",
       "       original_title              is_adult premiered ended runtime_minutes\n",
       "562664 The Man with the Iron Fists 0        2012      NA    95             \n",
       "       genres\n",
       "562664 Action"
      ]
     },
     "metadata": {},
     "output_type": "display_data"
    }
   ],
   "source": [
    "thrillerDF"
   ]
  },
  {
   "cell_type": "code",
   "execution_count": 78,
   "id": "6f2bd18c-6953-40ca-9c8c-89399ab46f00",
   "metadata": {},
   "outputs": [],
   "source": [
    "thrillerDF<-my_best_movie_by_vote(titles,ratings,\"Romance\")"
   ]
  },
  {
   "cell_type": "code",
   "execution_count": 79,
   "id": "6e703791-c055-49ce-bed2-c0f31dd73578",
   "metadata": {},
   "outputs": [
    {
     "data": {
      "text/html": [
       "<table class=\"dataframe\">\n",
       "<caption>A data.frame: 1 x 11</caption>\n",
       "<thead>\n",
       "\t<tr><th></th><th scope=col>title_id</th><th scope=col>rating</th><th scope=col>votes</th><th scope=col>type</th><th scope=col>primary_title</th><th scope=col>original_title</th><th scope=col>is_adult</th><th scope=col>premiered</th><th scope=col>ended</th><th scope=col>runtime_minutes</th><th scope=col>genres</th></tr>\n",
       "\t<tr><th></th><th scope=col>&lt;chr&gt;</th><th scope=col>&lt;dbl&gt;</th><th scope=col>&lt;int&gt;</th><th scope=col>&lt;chr&gt;</th><th scope=col>&lt;chr&gt;</th><th scope=col>&lt;chr&gt;</th><th scope=col>&lt;int&gt;</th><th scope=col>&lt;int&gt;</th><th scope=col>&lt;int&gt;</th><th scope=col>&lt;int&gt;</th><th scope=col>&lt;chr&gt;</th></tr>\n",
       "</thead>\n",
       "<tbody>\n",
       "\t<tr><th scope=row>998547</th><td>tt5934922</td><td>6.1</td><td>6477</td><td>movie</td><td>Ikimizin Yerine</td><td>Ikimizin Yerine</td><td>0</td><td>2016</td><td>NA</td><td>126</td><td>Romance</td></tr>\n",
       "</tbody>\n",
       "</table>\n"
      ],
      "text/latex": [
       "A data.frame: 1 x 11\n",
       "\\begin{tabular}{r|lllllllllll}\n",
       "  & title\\_id & rating & votes & type & primary\\_title & original\\_title & is\\_adult & premiered & ended & runtime\\_minutes & genres\\\\\n",
       "  & <chr> & <dbl> & <int> & <chr> & <chr> & <chr> & <int> & <int> & <int> & <int> & <chr>\\\\\n",
       "\\hline\n",
       "\t998547 & tt5934922 & 6.1 & 6477 & movie & Ikimizin Yerine & Ikimizin Yerine & 0 & 2016 & NA & 126 & Romance\\\\\n",
       "\\end{tabular}\n"
      ],
      "text/markdown": [
       "\n",
       "A data.frame: 1 x 11\n",
       "\n",
       "| <!--/--> | title_id &lt;chr&gt; | rating &lt;dbl&gt; | votes &lt;int&gt; | type &lt;chr&gt; | primary_title &lt;chr&gt; | original_title &lt;chr&gt; | is_adult &lt;int&gt; | premiered &lt;int&gt; | ended &lt;int&gt; | runtime_minutes &lt;int&gt; | genres &lt;chr&gt; |\n",
       "|---|---|---|---|---|---|---|---|---|---|---|---|\n",
       "| 998547 | tt5934922 | 6.1 | 6477 | movie | Ikimizin Yerine | Ikimizin Yerine | 0 | 2016 | NA | 126 | Romance |\n",
       "\n"
      ],
      "text/plain": [
       "       title_id  rating votes type  primary_title   original_title  is_adult\n",
       "998547 tt5934922 6.1    6477  movie Ikimizin Yerine Ikimizin Yerine 0       \n",
       "       premiered ended runtime_minutes genres \n",
       "998547 2016      NA    126             Romance"
      ]
     },
     "metadata": {},
     "output_type": "display_data"
    }
   ],
   "source": [
    "thrillerDF"
   ]
  },
  {
   "cell_type": "markdown",
   "id": "9fbf00fb-2418-460f-ae94-2a32b0c28952",
   "metadata": {},
   "source": [
    "the movie from that genre that has the largest number of votes, OR\n",
    "\n",
    "the movie from that genre that has the highest rating."
   ]
  },
  {
   "cell_type": "markdown",
   "id": "f76442d6-d02e-4f26-b9d6-c3183e1d6929",
   "metadata": {},
   "source": [
    "## Pledge\n",
    "\n",
    "By submitting this work I hereby pledge that this is my own, personal work. I've acknowledged in the designated place at the top of this file all sources that I used to complete said work, including but not limited to: online resources, books, and electronic communications. I've noted all collaboration with fellow students and/or TA's. I did not copy or plagiarize another's work.\n",
    "\n",
    "> As a Boilermaker pursuing academic excellence, I pledge to be honest and true in all that I do. Accountable together – We are Purdue."
   ]
  }
 ],
 "metadata": {
  "kernelspec": {
   "display_name": "f2022-s2023-r",
   "language": "R",
   "name": "f2022-s2023-r"
  },
  "language_info": {
   "codemirror_mode": "r",
   "file_extension": ".r",
   "mimetype": "text/x-r-source",
   "name": "R",
   "pygments_lexer": "r",
   "version": "4.2.1"
  }
 },
 "nbformat": 4,
 "nbformat_minor": 5
}
