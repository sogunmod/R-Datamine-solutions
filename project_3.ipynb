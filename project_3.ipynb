{
 "cells": [
  {
   "cell_type": "markdown",
   "id": "be02a957-7133-4d02-818e-fedeb3cecb05",
   "metadata": {},
   "source": [
    "# Project 3 -- Seyi Ogunmodede"
   ]
  },
  {
   "cell_type": "markdown",
   "id": "a1228853-dd19-4ab2-89e0-0394d7d72de3",
   "metadata": {},
   "source": [
    "**Instructor:** Dr. Ward Daniel\n",
    "- The videos help a lot\n",
    "\n",
    "\n",
    "    \n",
    "**Collaboration:** \n",
    "    \n"
   ]
  },
  {
   "cell_type": "markdown",
   "id": "6180e742-8e39-4698-98ff-5b00c8cf8ea0",
   "metadata": {
    "tags": []
   },
   "source": [
    "Question 1"
   ]
  },
  {
   "cell_type": "code",
   "execution_count": 4,
   "id": "49445606-d363-41b4-b479-e319a9a84c01",
   "metadata": {},
   "outputs": [],
   "source": [
    "options(jupyter.rich_display = F)"
   ]
  },
  {
   "cell_type": "code",
   "execution_count": 5,
   "id": "19b74366-6fad-4054-85d5-7b6b90364dbf",
   "metadata": {},
   "outputs": [
    {
     "data": {
      "text/plain": [
       " [1] \"7_dwarfs_train.csv\"                \"alien_saucers.csv\"                \n",
       " [3] \"dinosaur.csv\"                      \"entities.csv\"                     \n",
       " [5] \"expedition_everest.csv\"            \"flight_of_passage.csv\"            \n",
       " [7] \"kilimanjaro_safaris.csv\"           \"metadata.csv\"                     \n",
       " [9] \"navi_river.csv\"                    \"pirates_of_caribbean.csv\"         \n",
       "[11] \"rock_n_rollercoaster.csv\"          \"slinky_dog.csv\"                   \n",
       "[13] \"soarin.csv\"                        \"spaceship_earth.csv\"              \n",
       "[15] \"splash_mountain.csv\"               \"total.parquet\"                    \n",
       "[17] \"touringplans_data_dictionary.xlsx\" \"toy_story_mania.csv\"              \n",
       "[19] \"update.py\"                        "
      ]
     },
     "metadata": {},
     "output_type": "display_data"
    }
   ],
   "source": [
    "list.files(\"/anvil/projects/tdm/data/disney\")"
   ]
  },
  {
   "cell_type": "code",
   "execution_count": 2,
   "id": "1366b95a-9e4e-4896-952c-97c73e051990",
   "metadata": {},
   "outputs": [],
   "source": [
    "myDF <- read.csv(\"/anvil/projects/tdm/data/disney/7_dwarfs_train.csv\", stringsAsFactors = TRUE)"
   ]
  },
  {
   "cell_type": "code",
   "execution_count": 6,
   "id": "3749f406-ba33-4181-9499-45a65851d0de",
   "metadata": {},
   "outputs": [
    {
     "data": {
      "text/plain": [
       "  date       datetime            SACTMIN SPOSTMIN\n",
       "1 01/01/2015 2015-01-01 07:51:12 NA      45      \n",
       "2 01/01/2015 2015-01-01 08:02:13 NA      60      \n",
       "3 01/01/2015 2015-01-01 08:05:30 54      NA      \n",
       "4 01/01/2015 2015-01-01 08:09:12 NA      60      \n",
       "5 01/01/2015 2015-01-01 08:16:12 NA      60      \n",
       "6 01/01/2015 2015-01-01 08:22:16 55      NA      "
      ]
     },
     "metadata": {},
     "output_type": "display_data"
    }
   ],
   "source": [
    "head(myDF)"
   ]
  },
  {
   "cell_type": "code",
   "execution_count": 7,
   "id": "d827d1cf-3bf2-4561-82b0-c9358f9ff9ca",
   "metadata": {},
   "outputs": [
    {
     "data": {
      "text/plain": [
       "[1] 11696214"
      ]
     },
     "metadata": {},
     "output_type": "display_data"
    }
   ],
   "source": [
    "file.info(\"/anvil/projects/tdm/data/disney/7_dwarfs_train.csv\")$size"
   ]
  },
  {
   "cell_type": "code",
   "execution_count": 8,
   "id": "625ad790-fe71-468e-be67-06faa3dfc08b",
   "metadata": {},
   "outputs": [
    {
     "data": {
      "text/plain": [
       "[1] FALSE"
      ]
     },
     "metadata": {},
     "output_type": "display_data"
    }
   ],
   "source": [
    "file.info(\"/anvil/projects/tdm/data/disney/7_dwarfs_train.csv\")$isdir"
   ]
  },
  {
   "cell_type": "code",
   "execution_count": 9,
   "id": "71e0929c-26bf-462a-968a-1e3f8289e0c6",
   "metadata": {},
   "outputs": [
    {
     "data": {
      "text/plain": [
       "[1] TRUE"
      ]
     },
     "metadata": {},
     "output_type": "display_data"
    }
   ],
   "source": [
    "file.info(\"/anvil/projects/tdm/data/disney/\")$isdir"
   ]
  },
  {
   "cell_type": "code",
   "execution_count": 6,
   "id": "098176d9-40ba-4a32-8def-10f2e2a9cf8f",
   "metadata": {},
   "outputs": [
    {
     "data": {
      "text/plain": [
       "[1] \"664\""
      ]
     },
     "metadata": {},
     "output_type": "display_data"
    }
   ],
   "source": [
    "file.info(\"/anvil/projects/tdm/data/disney/7_dwarfs_train.csv\")$mode"
   ]
  },
  {
   "cell_type": "code",
   "execution_count": 12,
   "id": "0ca6b832-942f-4b90-8536-85d99f66faa3",
   "metadata": {},
   "outputs": [
    {
     "data": {
      "text/plain": [
       "[1] \"2775\""
      ]
     },
     "metadata": {},
     "output_type": "display_data"
    }
   ],
   "source": [
    "file.info(\"/anvil/projects/tdm/data/disney/\")$mode"
   ]
  },
  {
   "cell_type": "code",
   "execution_count": 11,
   "id": "09484234-d437-4c30-a738-687d1a66988d",
   "metadata": {},
   "outputs": [
    {
     "data": {
      "text/plain": [
       "[1] \"2022-02-22 12:13:32 EST\""
      ]
     },
     "metadata": {},
     "output_type": "display_data"
    }
   ],
   "source": [
    "file.info(\"/anvil/projects/tdm/data/disney/7_dwarfs_train.csv\")$mtime"
   ]
  },
  {
   "cell_type": "code",
   "execution_count": 13,
   "id": "7e1a13aa-c810-4cba-a06c-409a1e62ad58",
   "metadata": {},
   "outputs": [
    {
     "data": {
      "text/plain": [
       "[1] \"2022-02-24 17:26:22 EST\""
      ]
     },
     "metadata": {},
     "output_type": "display_data"
    }
   ],
   "source": [
    "file.info(\"/anvil/projects/tdm/data/disney/\")$mtime"
   ]
  },
  {
   "cell_type": "code",
   "execution_count": 7,
   "id": "77509b81-d099-4b35-8bcd-9d845fbe87c0",
   "metadata": {},
   "outputs": [
    {
     "data": {
      "text/plain": [
       "[1] \"2022-07-08 09:39:24 EDT\""
      ]
     },
     "metadata": {},
     "output_type": "display_data"
    }
   ],
   "source": [
    "file.info(\"/anvil/projects/tdm/data/disney/7_dwarfs_train.csv\")$ctime"
   ]
  },
  {
   "cell_type": "code",
   "execution_count": 15,
   "id": "30948c7e-4768-40cf-8403-ec9264568ff8",
   "metadata": {},
   "outputs": [
    {
     "data": {
      "text/plain": [
       "[1] \"2022-07-08 09:39:33 EDT\""
      ]
     },
     "metadata": {},
     "output_type": "display_data"
    }
   ],
   "source": [
    "file.info(\"/anvil/projects/tdm/data/disney/\")$ctime"
   ]
  },
  {
   "cell_type": "code",
   "execution_count": 16,
   "id": "840db1ee-493f-4e1b-8e6e-a9307f0e127c",
   "metadata": {},
   "outputs": [
    {
     "data": {
      "text/plain": [
       "[1] \"2022-09-10 12:45:47 EDT\""
      ]
     },
     "metadata": {},
     "output_type": "display_data"
    }
   ],
   "source": [
    "file.info(\"/anvil/projects/tdm/data/disney/7_dwarfs_train.csv\")$atime"
   ]
  },
  {
   "cell_type": "code",
   "execution_count": 17,
   "id": "6c312b5f-8c7d-44a6-b04a-e25fefadecc7",
   "metadata": {},
   "outputs": [
    {
     "data": {
      "text/plain": [
       "[1] \"2022-09-10 00:49:58 EDT\""
      ]
     },
     "metadata": {},
     "output_type": "display_data"
    }
   ],
   "source": [
    "file.info(\"/anvil/projects/tdm/data/disney/\")$atime"
   ]
  },
  {
   "cell_type": "code",
   "execution_count": 18,
   "id": "9889f833-ba77-4dff-8c0c-8cef4241639d",
   "metadata": {},
   "outputs": [
    {
     "data": {
      "text/plain": [
       "[1] 7095091"
      ]
     },
     "metadata": {},
     "output_type": "display_data"
    }
   ],
   "source": [
    "file.info(\"/anvil/projects/tdm/data/disney/7_dwarfs_train.csv\")$uid"
   ]
  },
  {
   "cell_type": "code",
   "execution_count": 19,
   "id": "cbde5a2d-6548-4b01-a489-22d1bc2e410d",
   "metadata": {},
   "outputs": [
    {
     "data": {
      "text/plain": [
       "[1] 7095091"
      ]
     },
     "metadata": {},
     "output_type": "display_data"
    }
   ],
   "source": [
    "file.info(\"/anvil/projects/tdm/data/disney/\")$uid"
   ]
  },
  {
   "cell_type": "code",
   "execution_count": 20,
   "id": "62018b52-abe3-4db4-81fb-2f3491c24406",
   "metadata": {},
   "outputs": [
    {
     "data": {
      "text/plain": [
       "[1] 7500002"
      ]
     },
     "metadata": {},
     "output_type": "display_data"
    }
   ],
   "source": [
    "file.info(\"/anvil/projects/tdm/data/disney/7_dwarfs_train.csv\")$gid"
   ]
  },
  {
   "cell_type": "code",
   "execution_count": 21,
   "id": "8cec59ab-8830-4a30-927c-ca3a75b45ff6",
   "metadata": {},
   "outputs": [
    {
     "data": {
      "text/plain": [
       "[1] 7500002"
      ]
     },
     "metadata": {},
     "output_type": "display_data"
    }
   ],
   "source": [
    "file.info(\"/anvil/projects/tdm/data/disney/\")$gid"
   ]
  },
  {
   "cell_type": "code",
   "execution_count": 22,
   "id": "6d396dd1-fdd7-43fe-8c8f-e5f125d418b2",
   "metadata": {},
   "outputs": [
    {
     "data": {
      "text/plain": [
       "[1] NA"
      ]
     },
     "metadata": {},
     "output_type": "display_data"
    }
   ],
   "source": [
    "file.info(\"/anvil/projects/tdm/data/disney/7_dwarfs_train.csv\")$uname"
   ]
  },
  {
   "cell_type": "code",
   "execution_count": 8,
   "id": "989074ff-3846-40f7-a556-315dbf6a7dd0",
   "metadata": {},
   "outputs": [
    {
     "data": {
      "text/plain": [
       "[1] NA"
      ]
     },
     "metadata": {},
     "output_type": "display_data"
    }
   ],
   "source": [
    "file.info(\"/anvil/projects/tdm/data/disney/\")$uname"
   ]
  },
  {
   "cell_type": "code",
   "execution_count": 14,
   "id": "75695d21-eabc-4800-af5f-70fb11f91e8d",
   "metadata": {},
   "outputs": [
    {
     "data": {
      "text/plain": [
       "[1] 321631      4"
      ]
     },
     "metadata": {},
     "output_type": "display_data"
    }
   ],
   "source": [
    "dim(myDF)"
   ]
  },
  {
   "cell_type": "code",
   "execution_count": 26,
   "id": "d607964b-1b7f-4214-a522-86492be11913",
   "metadata": {},
   "outputs": [
    {
     "name": "stdout",
     "output_type": "stream",
     "text": [
      "'data.frame':\t321631 obs. of  4 variables:\n",
      " $ date    : Factor w/ 2334 levels \"01/01/2015\",\"01/01/2016\",..: 1 1 1 1 1 1 1 1 1 1 ...\n",
      " $ datetime: Factor w/ 321586 levels \"2015-01-01 07:51:12\",..: 1 2 3 4 5 6 7 8 9 10 ...\n",
      " $ SACTMIN : int  NA NA 54 NA NA 55 NA NA NA NA ...\n",
      " $ SPOSTMIN: int  45 60 NA 60 60 NA 60 60 90 105 ...\n"
     ]
    }
   ],
   "source": [
    "str(myDF)"
   ]
  },
  {
   "cell_type": "code",
   "execution_count": 27,
   "id": "b982a5fa-5987-4892-a672-749c40fe3056",
   "metadata": {},
   "outputs": [
    {
     "data": {
      "text/plain": [
       "   date       datetime            SACTMIN SPOSTMIN\n",
       "1  01/01/2015 2015-01-01 07:51:12 NA       45     \n",
       "2  01/01/2015 2015-01-01 08:02:13 NA       60     \n",
       "3  01/01/2015 2015-01-01 08:05:30 54       NA     \n",
       "4  01/01/2015 2015-01-01 08:09:12 NA       60     \n",
       "5  01/01/2015 2015-01-01 08:16:12 NA       60     \n",
       "6  01/01/2015 2015-01-01 08:22:16 55       NA     \n",
       "7  01/01/2015 2015-01-01 08:23:12 NA       60     \n",
       "8  01/01/2015 2015-01-01 08:29:12 NA       60     \n",
       "9  01/01/2015 2015-01-01 08:37:13 NA       90     \n",
       "10 01/01/2015 2015-01-01 08:44:11 NA      105     \n",
       "11 01/01/2015 2015-01-01 08:50:33 NA      105     \n",
       "12 01/01/2015 2015-01-01 08:51:12 NA      105     \n",
       "13 01/01/2015 2015-01-01 09:02:13 NA      105     \n",
       "14 01/01/2015 2015-01-01 09:09:16 NA      105     \n",
       "15 01/01/2015 2015-01-01 09:16:12 NA      120     \n",
       "16 01/01/2015 2015-01-01 09:23:12 NA      120     \n",
       "17 01/01/2015 2015-01-01 09:29:12 NA      120     \n",
       "18 01/01/2015 2015-01-01 09:34:32 NA      120     \n",
       "19 01/01/2015 2015-01-01 09:37:12 NA       80     \n",
       "20 01/01/2015 2015-01-01 09:44:11 NA       80     \n",
       "21 01/01/2015 2015-01-01 09:51:12 NA       80     "
      ]
     },
     "metadata": {},
     "output_type": "display_data"
    }
   ],
   "source": [
    "head(myDF, n=21)"
   ]
  },
  {
   "cell_type": "code",
   "execution_count": 27,
   "id": "3fffefc5-535e-4665-b74f-5c2b3d4967c7",
   "metadata": {},
   "outputs": [
    {
     "data": {
      "text/plain": [
       "       date       datetime            SACTMIN SPOSTMIN\n",
       "321626 12/28/2021 2021-12-28 22:36:08 NA      45      \n",
       "321627 12/28/2021 2021-12-28 22:42:15 NA      45      \n",
       "321628 12/28/2021 2021-12-28 22:48:12 NA      45      \n",
       "321629 12/28/2021 2021-12-28 22:54:10 NA      45      \n",
       "321630 12/28/2021 2021-12-28 22:54:28 10      NA      \n",
       "321631 12/28/2021 2021-12-28 22:57:34 NA      35      "
      ]
     },
     "metadata": {},
     "output_type": "display_data"
    }
   ],
   "source": [
    "tail(myDF)"
   ]
  },
  {
   "cell_type": "code",
   "execution_count": null,
   "id": "c2dfb8ef-ed0e-4a29-90d3-f525dc7e2345",
   "metadata": {},
   "outputs": [],
   "source": []
  },
  {
   "cell_type": "code",
   "execution_count": null,
   "id": "446c43a5-ce0e-4c9f-9ee2-5c1ba97726f2",
   "metadata": {},
   "outputs": [],
   "source": []
  },
  {
   "cell_type": "markdown",
   "id": "b456e57c-4a12-464b-999a-ef2df5af80c1",
   "metadata": {},
   "source": [
    "There are 321631 Rows and 4 Columns. Date and datetime has Factor while SACTMIN & SPOSTMIN has integers.\n"
   ]
  },
  {
   "cell_type": "markdown",
   "id": "fc601975-35ed-4680-a4e1-0273ee3cc047",
   "metadata": {
    "tags": []
   },
   "source": [
    "## Question 2"
   ]
  },
  {
   "cell_type": "code",
   "execution_count": 79,
   "id": "a16336a1-1ef0-41e8-bc7c-49387db27497",
   "metadata": {},
   "outputs": [
    {
     "data": {
      "text/plain": [
       "[1] 45 60 NA 60 60 NA"
      ]
     },
     "metadata": {},
     "output_type": "display_data"
    }
   ],
   "source": [
    "head(myDF$SPOSTMIN)"
   ]
  },
  {
   "cell_type": "code",
   "execution_count": 80,
   "id": "b0484699-b8eb-4bfd-acc0-76343e2c9a66",
   "metadata": {},
   "outputs": [
    {
     "data": {
      "text/plain": [
       "  [1]  45  60  NA  60  60  NA  60  60  90 105 105 105 105 105 120 120 120 120\n",
       " [19]  80  80  80  90  90  90  90  90  90  80  80  80  80  80  80  80  90  90\n",
       " [37]  90 100 100 120 150 120 120 120 120 120 120 120 120 120 120 120 120 150\n",
       " [55] 180 160 140 160 150 160 160 180 160 160 180 160 160 160 140 140 150 150\n",
       " [73] 150 150 150 150 150 150 160 160 160 150 130 130 130 130 120 120 110 130\n",
       " [91] 110 110 110 100 100 100 100 100 100 105"
      ]
     },
     "metadata": {},
     "output_type": "display_data"
    }
   ],
   "source": [
    "head(myDF$SPOSTMIN, n=100)"
   ]
  },
  {
   "cell_type": "code",
   "execution_count": 81,
   "id": "fb2c787c-5e42-4f6c-83b0-7d9fc4fb456c",
   "metadata": {},
   "outputs": [
    {
     "data": {
      "text/plain": [
       "\n",
       " -999     0     5    10    15    20    25    30    35    40    45    50    55 \n",
       "23062    32   897  1306   914  3638  2166 13939  4894 14941 15149 19555  6989 \n",
       "   60    65    70    75    80    85    90    95   100   105   110   115   120 \n",
       "29034 10345 23496 12101 22971  5301 23813  6853 10773  8164 11909  3000 13097 \n",
       "  125   130   135   140   145   150   155   160   165   170   175   180   185 \n",
       " 1954  5982  1723  4151   940  3793   394  1739   520  1031   272  1644   163 \n",
       "  190   195   200   205   210   215   220   225   230   235   240   250   260 \n",
       "  375   128   249   100   257    11    88    26    26    17    37    17    10 \n",
       "  270   280   300 \n",
       "    6     2     2 "
      ]
     },
     "metadata": {},
     "output_type": "display_data"
    }
   ],
   "source": [
    "table(myDF$SPOSTMIN)"
   ]
  },
  {
   "cell_type": "code",
   "execution_count": 82,
   "id": "23ddcdce-1e41-43c6-9824-8c92ffe92fc0",
   "metadata": {},
   "outputs": [
    {
     "data": {
      "text/plain": [
       "\n",
       " -999     0     5    10    15    20    25    30    35    40    45    50    55 \n",
       "23062    32   897  1306   914  3638  2166 13939  4894 14941 15149 19555  6989 \n",
       "   60    65    70    75    80    85    90    95   100   105   110   115   120 \n",
       "29034 10345 23496 12101 22971  5301 23813  6853 10773  8164 11909  3000 13097 \n",
       "  125   130   135   140   145   150   155   160   165   170   175   180   185 \n",
       " 1954  5982  1723  4151   940  3793   394  1739   520  1031   272  1644   163 \n",
       "  190   195   200   205   210   215   220   225   230   235   240   250   260 \n",
       "  375   128   249   100   257    11    88    26    26    17    37    17    10 \n",
       "  270   280   300  <NA> \n",
       "    6     2     2  7635 "
      ]
     },
     "metadata": {},
     "output_type": "display_data"
    }
   ],
   "source": [
    "table(myDF$SPOSTMIN, useNA=\"always\")"
   ]
  },
  {
   "cell_type": "code",
   "execution_count": 83,
   "id": "94f40bbb-f7c0-44fe-903f-174192345832",
   "metadata": {},
   "outputs": [
    {
     "data": {
      "text/plain": [
       "\n",
       " -999     0     5    10    15    20    25    30    35    40    45    50    55 \n",
       "23062    32   897  1306   914  3638  2166 13939  4894 14941 15149 19555  6989 \n",
       "   60    65    70    75    80    85    90    95   100   105   110   115   120 \n",
       "29034 10345 23496 12101 22971  5301 23813  6853 10773  8164 11909  3000 13097 \n",
       "  125   130   135   140   145   150   155   160   165   170   175   180   185 \n",
       " 1954  5982  1723  4151   940  3793   394  1739   520  1031   272  1644   163 \n",
       "  190   195   200   205   210   215   220   225   230   235   240   250   260 \n",
       "  375   128   249   100   257    11    88    26    26    17    37    17    10 \n",
       "  270   280   300 \n",
       "    6     2     2 "
      ]
     },
     "metadata": {},
     "output_type": "display_data"
    }
   ],
   "source": [
    "table(myDF$SPOSTMIN)"
   ]
  },
  {
   "cell_type": "code",
   "execution_count": 84,
   "id": "6058fb81-bf14-4ee4-93e7-84902177c0fa",
   "metadata": {},
   "outputs": [
    {
     "data": {
      "text/plain": [
       "    Min.  1st Qu.   Median     Mean  3rd Qu.     Max.     NA's \n",
       "-999.000   45.000   70.000   -2.064   95.000  300.000     7635 "
      ]
     },
     "metadata": {},
     "output_type": "display_data"
    }
   ],
   "source": [
    "summary(myDF$SPOSTMIN)"
   ]
  },
  {
   "cell_type": "code",
   "execution_count": 85,
   "id": "d95403a4-97db-4e0b-8f87-758f5a50b2b2",
   "metadata": {},
   "outputs": [
    {
     "data": {
      "text/plain": [
       " [1] FALSE FALSE  TRUE FALSE FALSE  TRUE FALSE FALSE FALSE FALSE FALSE FALSE\n",
       "[13] FALSE FALSE FALSE FALSE FALSE FALSE FALSE FALSE FALSE FALSE FALSE FALSE\n",
       "[25] FALSE FALSE FALSE FALSE FALSE FALSE FALSE FALSE FALSE FALSE FALSE FALSE\n",
       "[37] FALSE FALSE FALSE FALSE FALSE FALSE FALSE FALSE FALSE FALSE FALSE FALSE\n",
       "[49] FALSE FALSE"
      ]
     },
     "metadata": {},
     "output_type": "display_data"
    }
   ],
   "source": [
    "head(is.na(myDF$SPOSTMIN), n=50)"
   ]
  },
  {
   "cell_type": "code",
   "execution_count": 86,
   "id": "0aa05b0f-60b3-419c-a699-6f56b092d129",
   "metadata": {},
   "outputs": [
    {
     "data": {
      "text/plain": [
       "[1] 7635"
      ]
     },
     "metadata": {},
     "output_type": "display_data"
    }
   ],
   "source": [
    "sum(is.na(myDF$SPOSTMIN)) \n",
    "# remember that when we sum TRUE and FALSE values\n",
    "# the TRUE values become 1 and the FALSE values become 0\n",
    "# so the sum is the number of TRUE values"
   ]
  },
  {
   "cell_type": "code",
   "execution_count": 35,
   "id": "a99d6428-1e5a-420b-8627-15d0be5901dc",
   "metadata": {},
   "outputs": [],
   "source": [
    "# wrong way! note.\n",
    "newDF <- subset(myDF, is.na(myDF$SPOSTMIN))"
   ]
  },
  {
   "cell_type": "code",
   "execution_count": 88,
   "id": "2a9c53da-73b5-477a-8c83-1c1a900bb4ad",
   "metadata": {},
   "outputs": [
    {
     "data": {
      "text/plain": [
       "  date       datetime            SACTMIN SPOSTMIN weekday month\n",
       "1 01/01/2015 2015-01-01 07:51:12 NA      45       Thu     Jan  \n",
       "2 01/01/2015 2015-01-01 08:02:13 NA      60       Thu     Jan  \n",
       "4 01/01/2015 2015-01-01 08:09:12 NA      60       Thu     Jan  \n",
       "5 01/01/2015 2015-01-01 08:16:12 NA      60       Thu     Jan  \n",
       "7 01/01/2015 2015-01-01 08:23:12 NA      60       Thu     Jan  \n",
       "8 01/01/2015 2015-01-01 08:29:12 NA      60       Thu     Jan  "
      ]
     },
     "metadata": {},
     "output_type": "display_data"
    }
   ],
   "source": [
    "head(newDF)"
   ]
  },
  {
   "cell_type": "code",
   "execution_count": 89,
   "id": "c6e85774-abe1-4ed7-9be0-65455d05dc8e",
   "metadata": {},
   "outputs": [],
   "source": [
    "# right way!\n",
    "# put exclamation mark, it will switch things around.\n",
    "newDF <- subset(myDF, !is.na(myDF$SPOSTMIN))"
   ]
  },
  {
   "cell_type": "code",
   "execution_count": 78,
   "id": "4e0fa52b-d4e1-41cc-bf7d-360e1e736d8f",
   "metadata": {},
   "outputs": [
    {
     "data": {
      "text/plain": [
       "  date       datetime            SACTMIN SPOSTMIN weekday month\n",
       "1 01/01/2015 2015-01-01 07:51:12 NA      45       Thu     Jan  \n",
       "2 01/01/2015 2015-01-01 08:02:13 NA      60       Thu     Jan  \n",
       "4 01/01/2015 2015-01-01 08:09:12 NA      60       Thu     Jan  \n",
       "5 01/01/2015 2015-01-01 08:16:12 NA      60       Thu     Jan  \n",
       "7 01/01/2015 2015-01-01 08:23:12 NA      60       Thu     Jan  \n",
       "8 01/01/2015 2015-01-01 08:29:12 NA      60       Thu     Jan  "
      ]
     },
     "metadata": {},
     "output_type": "display_data"
    }
   ],
   "source": [
    "head(newDF)"
   ]
  },
  {
   "cell_type": "markdown",
   "id": "14dc22d4-ddc3-41cc-a91a-cb0025bc0c80",
   "metadata": {},
   "source": [
    "A. The increment of time are in multiples of 5's. The types of values that appear, Minimum time is -999.000, 25% of the values are < 45, 50% of the values are < 70, 75% of the values are 95, Maximum time is 300 and the mean is -ve (-2.064) probably due to manual coding or missisng values  The different wait time options are seven, Minimum, Ist quater, Median, Mean, 3rd Quater, Maximum and NA'S.\n",
    "B. The NA values in \"SPOSTMIN\" are, 7635\n",
    "\n"
   ]
  },
  {
   "cell_type": "markdown",
   "id": "8e586edd-ff26-4ce2-8f6b-2424b26f2929",
   "metadata": {},
   "source": [
    "## Question 3"
   ]
  },
  {
   "cell_type": "code",
   "execution_count": 9,
   "id": "bbe0f40d-9655-4653-9ca8-886bdb61cb91",
   "metadata": {},
   "outputs": [
    {
     "data": {
      "text/plain": [
       "  date       datetime            SACTMIN SPOSTMIN\n",
       "1 01/01/2015 2015-01-01 07:51:12 NA      45      \n",
       "2 01/01/2015 2015-01-01 08:02:13 NA      60      \n",
       "3 01/01/2015 2015-01-01 08:05:30 54      NA      \n",
       "4 01/01/2015 2015-01-01 08:09:12 NA      60      \n",
       "5 01/01/2015 2015-01-01 08:16:12 NA      60      \n",
       "6 01/01/2015 2015-01-01 08:22:16 55      NA      "
      ]
     },
     "metadata": {},
     "output_type": "display_data"
    }
   ],
   "source": [
    "head(myDF)"
   ]
  },
  {
   "cell_type": "code",
   "execution_count": 22,
   "id": "3dec9717-b611-48c8-9863-3be6ce90ae14",
   "metadata": {},
   "outputs": [
    {
     "data": {
      "text/plain": [
       "       date       datetime            SACTMIN SPOSTMIN\n",
       "321626 12/28/2021 2021-12-28 22:36:08 NA      45      \n",
       "321627 12/28/2021 2021-12-28 22:42:15 NA      45      \n",
       "321628 12/28/2021 2021-12-28 22:48:12 NA      45      \n",
       "321629 12/28/2021 2021-12-28 22:54:10 NA      45      \n",
       "321630 12/28/2021 2021-12-28 22:54:28 10      NA      \n",
       "321631 12/28/2021 2021-12-28 22:57:34 NA      35      "
      ]
     },
     "metadata": {},
     "output_type": "display_data"
    }
   ],
   "source": [
    "tail(myDF)"
   ]
  },
  {
   "cell_type": "code",
   "execution_count": 13,
   "id": "e40882fd-470a-4d64-a85f-bf371608c7c2",
   "metadata": {},
   "outputs": [
    {
     "data": {
      "text/plain": [
       "[1] 156"
      ]
     },
     "metadata": {},
     "output_type": "display_data"
    }
   ],
   "source": [
    "length(myDF$date[myDF$date == \"12/25/2021\"])"
   ]
  },
  {
   "cell_type": "code",
   "execution_count": 14,
   "id": "9397656d-b7da-4446-9ee2-3243375a96d0",
   "metadata": {},
   "outputs": [
    {
     "data": {
      "text/plain": [
       "[1] NA"
      ]
     },
     "metadata": {},
     "output_type": "display_data"
    }
   ],
   "source": [
    "mean(myDF$SACTMIN[myDF$date == \"12/25/2021\"])"
   ]
  },
  {
   "cell_type": "code",
   "execution_count": 15,
   "id": "6607448b-c4f7-4938-9f7a-9c61fd9bae95",
   "metadata": {},
   "outputs": [
    {
     "data": {
      "text/plain": [
       "[1] 48"
      ]
     },
     "metadata": {},
     "output_type": "display_data"
    }
   ],
   "source": [
    "mean((myDF$SACTMIN[myDF$date == \"12/25/2021\"]), na.rm=TRUE)"
   ]
  },
  {
   "cell_type": "code",
   "execution_count": 16,
   "id": "a3fa581b-d0a6-4326-ac4d-c4b905c13911",
   "metadata": {},
   "outputs": [
    {
     "data": {
      "text/plain": [
       "[1] 39.6"
      ]
     },
     "metadata": {},
     "output_type": "display_data"
    }
   ],
   "source": [
    "mean((myDF$SACTMIN[myDF$date == \"07/26/2021\"]), na.rm=TRUE)"
   ]
  },
  {
   "cell_type": "code",
   "execution_count": 17,
   "id": "0ba9fd56-b8ea-46cf-9b25-db57442b86b0",
   "metadata": {},
   "outputs": [
    {
     "data": {
      "text/plain": [
       "[1] 43.6"
      ]
     },
     "metadata": {},
     "output_type": "display_data"
    }
   ],
   "source": [
    "# summer in 2021\n",
    "mean((myDF$SACTMIN[myDF$date == \"08/10/2021\"]), na.rm=TRUE)"
   ]
  },
  {
   "cell_type": "code",
   "execution_count": 18,
   "id": "1b3bd36c-c645-4589-9b11-8a608d2aa3a0",
   "metadata": {},
   "outputs": [
    {
     "data": {
      "text/plain": [
       "[1] 23.25"
      ]
     },
     "metadata": {},
     "output_type": "display_data"
    }
   ],
   "source": [
    "#labour day holiday , 2021\n",
    "mean((myDF$SACTMIN[myDF$date == \"09/06/2021\"]), na.rm=TRUE)"
   ]
  },
  {
   "cell_type": "code",
   "execution_count": 20,
   "id": "259b39f3-d5b0-431c-9c41-25d6d9eec6da",
   "metadata": {},
   "outputs": [
    {
     "data": {
      "text/plain": [
       "\n",
       "10/31/2021 10/17/2021 10/20/2021 10/05/2021 10/10/2021 10/15/2021 10/29/2021 \n",
       "       323        327        327        329        330        332        333 \n",
       "11/09/2021 10/01/2021 11/08/2021 \n",
       "       344        359        363 "
      ]
     },
     "metadata": {},
     "output_type": "display_data"
    }
   ],
   "source": [
    "tail(sort(table(myDF$date)), n = 10)"
   ]
  },
  {
   "cell_type": "code",
   "execution_count": 11,
   "id": "e1290f6c-f0e4-4deb-ae2c-b874d9b6f815",
   "metadata": {},
   "outputs": [
    {
     "data": {
      "text/plain": [
       "\n",
       "11/08/2021 10/01/2021 11/09/2021 10/29/2021 10/15/2021 10/10/2021 10/05/2021 \n",
       "       363        359        344        333        332        330        329 \n",
       "10/17/2021 10/20/2021 10/08/2021 \n",
       "       327        327        323 "
      ]
     },
     "metadata": {},
     "output_type": "display_data"
    }
   ],
   "source": [
    "head(sort(table(myDF$date), decreasing = TRUE), n = 10)"
   ]
  },
  {
   "cell_type": "markdown",
   "id": "47c6229f-35f7-400c-8366-c442baa5cf47",
   "metadata": {},
   "source": [
    "On Christmas day, the average waiting time is 48. On July 26th, the average waiting time is 39.6.\n",
    "There is a difference between the wait times in the summer and the holidays.\n",
    "The most entries occur on 11/08/2021 on the data set."
   ]
  },
  {
   "cell_type": "markdown",
   "id": "da22f29c-d245-4d2b-9fc1-ca14cb6087d9",
   "metadata": {},
   "source": [
    "## Question 4"
   ]
  },
  {
   "cell_type": "code",
   "execution_count": 46,
   "id": "8cffc767-d1c8-4d64-b7dc-f0d2ee8a80d1",
   "metadata": {},
   "outputs": [
    {
     "data": {
      "text/plain": [
       "[1] 321631      4"
      ]
     },
     "metadata": {},
     "output_type": "display_data"
    }
   ],
   "source": [
    "dim(myDF)"
   ]
  },
  {
   "cell_type": "code",
   "execution_count": 47,
   "id": "4a5c9860-09c7-476b-9eda-b44e6ceaa444",
   "metadata": {},
   "outputs": [
    {
     "data": {
      "text/plain": [
       "[1] 7635    4"
      ]
     },
     "metadata": {},
     "output_type": "display_data"
    }
   ],
   "source": [
    "dim(newDF)"
   ]
  },
  {
   "cell_type": "code",
   "execution_count": 48,
   "id": "76eb1f6e-3402-46c7-8509-a23214375d9f",
   "metadata": {},
   "outputs": [
    {
     "data": {
      "text/plain": [
       "[1] 321631"
      ]
     },
     "metadata": {},
     "output_type": "display_data"
    }
   ],
   "source": [
    "length(myDF$SPOSTMIN)"
   ]
  },
  {
   "cell_type": "code",
   "execution_count": 49,
   "id": "5a9d2ae6-a121-47fc-a516-e79d9cf9699c",
   "metadata": {},
   "outputs": [
    {
     "data": {
      "text/plain": [
       "[1] 7635"
      ]
     },
     "metadata": {},
     "output_type": "display_data"
    }
   ],
   "source": [
    "length(newDF$SPOSTMIN)"
   ]
  },
  {
   "cell_type": "code",
   "execution_count": 51,
   "id": "ac265b09-c607-4de3-bfef-ff5640f02fbc",
   "metadata": {},
   "outputs": [
    {
     "data": {
      "text/plain": [
       "[1] 45 60 NA 60 60 NA"
      ]
     },
     "metadata": {},
     "output_type": "display_data"
    }
   ],
   "source": [
    "head(myDF$SPOSTMIN)"
   ]
  },
  {
   "cell_type": "code",
   "execution_count": 50,
   "id": "9b367fd6-34f6-40cc-bcc6-5a9b24c93857",
   "metadata": {},
   "outputs": [
    {
     "data": {
      "text/plain": [
       "[1] NA NA NA NA NA NA"
      ]
     },
     "metadata": {},
     "output_type": "display_data"
    }
   ],
   "source": [
    "head(newDF$SPOSTMIN)"
   ]
  },
  {
   "cell_type": "code",
   "execution_count": 51,
   "id": "e9517ec8-dc76-4b9c-a553-3135e080ca37",
   "metadata": {},
   "outputs": [
    {
     "data": {
      "text/plain": [
       "[1] NA NA NA NA NA NA"
      ]
     },
     "metadata": {},
     "output_type": "display_data"
    }
   ],
   "source": [
    "head(myDF$SPOSTMIN) + head(newDF$SPOSTMIN)"
   ]
  },
  {
   "cell_type": "code",
   "execution_count": 52,
   "id": "bbd285f9-f795-4335-9081-8aa87d699396",
   "metadata": {},
   "outputs": [
    {
     "data": {
      "text/plain": [
       "[1] NA NA NA NA NA NA"
      ]
     },
     "metadata": {},
     "output_type": "display_data"
    }
   ],
   "source": [
    "head(myDF$SPOSTMIN/60) + head(newDF$SPOSTMIN/60)"
   ]
  },
  {
   "cell_type": "code",
   "execution_count": 53,
   "id": "14e643ed-ccd7-4552-b6d6-73c9cd0bb760",
   "metadata": {},
   "outputs": [
    {
     "data": {
      "text/plain": [
       "[1] NA NA NA NA NA NA"
      ]
     },
     "metadata": {},
     "output_type": "display_data"
    }
   ],
   "source": [
    "# divide the whole sytax by 60.\n",
    "# we put the head because we want to see the whole values.\n",
    "(head(myDF$SPOSTMIN) + head(newDF$SPOSTMIN))/60"
   ]
  },
  {
   "cell_type": "code",
   "execution_count": 54,
   "id": "1487c115-3792-4195-81d2-978aaf165f21",
   "metadata": {},
   "outputs": [
    {
     "name": "stderr",
     "output_type": "stream",
     "text": [
      "Warning message in myDF$SPOSTMIN + newDF$SPOSTMIN:\n",
      "\"longer object length is not a multiple of shorter object length\"\n"
     ]
    }
   ],
   "source": [
    "myhours <- (myDF$SPOSTMIN + newDF$SPOSTMIN)/60"
   ]
  },
  {
   "cell_type": "code",
   "execution_count": 55,
   "id": "12d102e2-40ae-4de9-9a4d-bb47f8f165b2",
   "metadata": {},
   "outputs": [
    {
     "data": {
      "text/plain": [
       "[1] NA NA NA NA NA NA"
      ]
     },
     "metadata": {},
     "output_type": "display_data"
    }
   ],
   "source": [
    "head(myhours)"
   ]
  },
  {
   "cell_type": "code",
   "execution_count": 61,
   "id": "ae65efd9-912c-4185-992b-dfb69cab2018",
   "metadata": {},
   "outputs": [
    {
     "data": {
      "text/plain": [
       "[1] 321631"
      ]
     },
     "metadata": {},
     "output_type": "display_data"
    }
   ],
   "source": [
    "length(myhours)"
   ]
  },
  {
   "cell_type": "code",
   "execution_count": 40,
   "id": "5a53d646-ed47-4c28-afe2-fa728075e7ed",
   "metadata": {},
   "outputs": [
    {
     "data": {
      "text/plain": [
       "[1] 0.25"
      ]
     },
     "metadata": {},
     "output_type": "display_data"
    }
   ],
   "source": [
    "myDF$SPOSTMIN[313997]/60"
   ]
  },
  {
   "cell_type": "code",
   "execution_count": 75,
   "id": "268f29f3-147a-40ce-807f-c96b6499d426",
   "metadata": {},
   "outputs": [
    {
     "data": {
      "text/plain": [
       "[1] 0.75"
      ]
     },
     "metadata": {},
     "output_type": "display_data"
    }
   ],
   "source": [
    "newDF$SPOSTMIN[1]/60 # this vector is out of data , so we will start over again at the begining.\n",
    "# this is called recycling."
   ]
  },
  {
   "cell_type": "code",
   "execution_count": 56,
   "id": "4f9ff4b2-6df6-4f85-999e-b55464eb0aae",
   "metadata": {},
   "outputs": [
    {
     "data": {
      "text/plain": [
       "[1] NA"
      ]
     },
     "metadata": {},
     "output_type": "display_data"
    }
   ],
   "source": [
    "myhours[313997]"
   ]
  },
  {
   "cell_type": "code",
   "execution_count": 79,
   "id": "db918b68-8846-4176-a90f-28575fc7ab0f",
   "metadata": {},
   "outputs": [],
   "source": [
    "a <- c(7, 10, 19, 2, 30, 2, 100, 1, 99, 4, 17)"
   ]
  },
  {
   "cell_type": "code",
   "execution_count": 80,
   "id": "4a2dd0ba-3326-4c7b-aa1f-0eb370de8973",
   "metadata": {},
   "outputs": [],
   "source": [
    "b <- c(2, 8, 1, 2, 19, 3)"
   ]
  },
  {
   "cell_type": "code",
   "execution_count": 11,
   "id": "612b374b-f3dc-4665-a2a2-beaa2f091082",
   "metadata": {},
   "outputs": [
    {
     "data": {
      "text/plain": [
       " [1]   9  18  20   4  49   5 102   9 100   6  36  13"
      ]
     },
     "metadata": {},
     "output_type": "display_data"
    }
   ],
   "source": [
    "a + b #warning because not same length, not multiples"
   ]
  },
  {
   "cell_type": "code",
   "execution_count": 1,
   "id": "aad1505f-be79-4cb7-8806-646fc8bdafd0",
   "metadata": {},
   "outputs": [],
   "source": [
    "a <- c(7, 10, 19, 2, 30, 2, 100, 1, 99, 4, 17, 10)"
   ]
  },
  {
   "cell_type": "code",
   "execution_count": 2,
   "id": "07ece82f-335b-4592-9e33-70ed9bc20a6e",
   "metadata": {},
   "outputs": [],
   "source": [
    "b <- c(2, 8, 1, 2, 19, 3)"
   ]
  },
  {
   "cell_type": "code",
   "execution_count": 12,
   "id": "6fdba540-25e4-4415-92da-ba96b44796a0",
   "metadata": {},
   "outputs": [
    {
     "data": {
      "text/plain": [
       " [1]   9  18  20   4  49   5 102   9 100   6  36  13"
      ]
     },
     "metadata": {},
     "output_type": "display_data"
    }
   ],
   "source": [
    "a + b # no warnings because b set is a multiple of a set"
   ]
  },
  {
   "cell_type": "code",
   "execution_count": null,
   "id": "84274dd0-c127-4579-b2e7-6055730d150b",
   "metadata": {},
   "outputs": [],
   "source": [
    "# this is called recycling, \n",
    "#because (in this case) the values of b keep getting recycled over and over again as long as needed\n",
    "# in the examples myDF and newDF, from location 313997 onwards, \n",
    "#the values of newDF$SPOSMIN are just recycled from the start again."
   ]
  },
  {
   "cell_type": "markdown",
   "id": "0d552245-b4d6-474a-9cc9-fa7b8e674d55",
   "metadata": {},
   "source": [
    "The lengths of the column \"SPOSTMIN\" in the myDF and newDF were  321631 & 313996.\n",
    "The length of the new vector myhours is 321631.\n",
    "At row 313997, newDF$SPOSMIN was out of data and shows NA. So we started aover again because of recycling.\n"
   ]
  },
  {
   "cell_type": "markdown",
   "id": "88c9cdac-3e92-498f-83fa-e089bfc44ac8",
   "metadata": {},
   "source": [
    "## Question 5"
   ]
  },
  {
   "cell_type": "code",
   "execution_count": 57,
   "id": "d370d7c9-06db-42b9-b75f-240481a5c491",
   "metadata": {},
   "outputs": [
    {
     "name": "stderr",
     "output_type": "stream",
     "text": [
      "Warning message in system(\"timedatectl\", intern = TRUE):\n",
      "\"running command 'timedatectl' had status 1\"\n",
      "\n",
      "Attaching package: 'lubridate'\n",
      "\n",
      "\n",
      "The following objects are masked from 'package:base':\n",
      "\n",
      "    date, intersect, setdiff, union\n",
      "\n",
      "\n"
     ]
    }
   ],
   "source": [
    "library(lubridate)"
   ]
  },
  {
   "cell_type": "code",
   "execution_count": 58,
   "id": "5994f7dc-0a24-4f00-98a4-e33e1fb2641a",
   "metadata": {},
   "outputs": [
    {
     "name": "stderr",
     "output_type": "stream",
     "text": [
      "Warning message:\n",
      "\"tz(): Don't know how to compute timezone for object of class factor; returning \"UTC\". This warning will become an error in the next major version of lubridate.\"\n"
     ]
    }
   ],
   "source": [
    "myDF$weekday <- wday(myDF$datetime, label=TRUE)"
   ]
  },
  {
   "cell_type": "code",
   "execution_count": 16,
   "id": "19e5e32a-214c-4402-9fe6-25313ce0b8db",
   "metadata": {},
   "outputs": [
    {
     "data": {
      "text/plain": [
       "  date       datetime            SACTMIN SPOSTMIN weekday\n",
       "1 01/01/2015 2015-01-01 07:51:12 NA      45       Thu    \n",
       "2 01/01/2015 2015-01-01 08:02:13 NA      60       Thu    \n",
       "3 01/01/2015 2015-01-01 08:05:30 54      NA       Thu    \n",
       "4 01/01/2015 2015-01-01 08:09:12 NA      60       Thu    \n",
       "5 01/01/2015 2015-01-01 08:16:12 NA      60       Thu    \n",
       "6 01/01/2015 2015-01-01 08:22:16 55      NA       Thu    "
      ]
     },
     "metadata": {},
     "output_type": "display_data"
    }
   ],
   "source": [
    "head(myDF)"
   ]
  },
  {
   "cell_type": "code",
   "execution_count": 17,
   "id": "dfb6ad53-6ac3-4d15-9648-de9bb16611a0",
   "metadata": {},
   "outputs": [
    {
     "data": {
      "text/plain": [
       "       date       datetime            SACTMIN SPOSTMIN weekday\n",
       "321626 12/28/2021 2021-12-28 22:36:08 NA      45       Tue    \n",
       "321627 12/28/2021 2021-12-28 22:42:15 NA      45       Tue    \n",
       "321628 12/28/2021 2021-12-28 22:48:12 NA      45       Tue    \n",
       "321629 12/28/2021 2021-12-28 22:54:10 NA      45       Tue    \n",
       "321630 12/28/2021 2021-12-28 22:54:28 10      NA       Tue    \n",
       "321631 12/28/2021 2021-12-28 22:57:34 NA      35       Tue    "
      ]
     },
     "metadata": {},
     "output_type": "display_data"
    }
   ],
   "source": [
    "tail(myDF)"
   ]
  },
  {
   "cell_type": "code",
   "execution_count": 59,
   "id": "ae6d3f59-58f5-4edc-a422-388546f6302e",
   "metadata": {},
   "outputs": [
    {
     "data": {
      "text/plain": [
       "[1] NA"
      ]
     },
     "metadata": {},
     "output_type": "display_data"
    }
   ],
   "source": [
    "mean(myDF$SACTMIN[myDF$weekday ==\"Mon\"]) \n",
    "# there are some NA values, we can throw it away."
   ]
  },
  {
   "cell_type": "code",
   "execution_count": 22,
   "id": "6b862a58-b8e6-4e35-9a9f-00a9d9fac3d6",
   "metadata": {},
   "outputs": [
    {
     "data": {
      "text/plain": [
       "[1] -72.86412"
      ]
     },
     "metadata": {},
     "output_type": "display_data"
    }
   ],
   "source": [
    "mean(myDF$SACTMIN[myDF$weekday ==\"Mon\"], na.rm=TRUE) \n",
    "\n",
    "\n"
   ]
  },
  {
   "cell_type": "code",
   "execution_count": 23,
   "id": "560f2b3b-2d3b-4fad-8899-0f37ecf8773b",
   "metadata": {},
   "outputs": [
    {
     "data": {
      "text/plain": [
       "[1] -92918      0      0      0      0      0"
      ]
     },
     "metadata": {},
     "output_type": "display_data"
    }
   ],
   "source": [
    "head(sort(myDF$SACTMIN))"
   ]
  },
  {
   "cell_type": "code",
   "execution_count": 24,
   "id": "a2c9269f-f8b9-4355-b805-1f6e68a3afba",
   "metadata": {},
   "outputs": [
    {
     "data": {
      "text/plain": [
       "[1] 34.55502"
      ]
     },
     "metadata": {},
     "output_type": "display_data"
    }
   ],
   "source": [
    "mean(myDF$SACTMIN[myDF$weekday ==\"Tue\"], na.rm=TRUE)"
   ]
  },
  {
   "cell_type": "code",
   "execution_count": 60,
   "id": "c240bcbc-2a55-4007-9e59-d6e7a0194dfc",
   "metadata": {},
   "outputs": [
    {
     "data": {
      "text/plain": [
       "[1] 36.44053"
      ]
     },
     "metadata": {},
     "output_type": "display_data"
    }
   ],
   "source": [
    "mean(myDF$SACTMIN[myDF$weekday ==\"Wed\"], na.rm=TRUE)"
   ]
  },
  {
   "cell_type": "code",
   "execution_count": 33,
   "id": "6429beb8-288d-4063-85c9-7396edc5cb09",
   "metadata": {},
   "outputs": [
    {
     "data": {
      "text/plain": [
       "[1] 37.92959"
      ]
     },
     "metadata": {},
     "output_type": "display_data"
    }
   ],
   "source": [
    "# monday is the day of the week when we are expect to have the longest waiting time for the ride.\n",
    "\n",
    "mean(myDF$SACTMIN[(myDF$weekday ==\"Mon\") & (myDF$SACTMIN !=-92918)], na.rm=TRUE) \n",
    "# this help to eliminate the negation."
   ]
  },
  {
   "cell_type": "code",
   "execution_count": 27,
   "id": "0b74674d-5daf-493e-87cb-182f7877381b",
   "metadata": {},
   "outputs": [
    {
     "data": {
      "text/plain": [
       "[1] 34.55502"
      ]
     },
     "metadata": {},
     "output_type": "display_data"
    }
   ],
   "source": [
    "mean(myDF$SACTMIN[(myDF$weekday ==\"Tue\") & (myDF$SACTMIN !=-92918)], na.rm=TRUE) "
   ]
  },
  {
   "cell_type": "code",
   "execution_count": 32,
   "id": "b9aaca2c-6814-4b60-8771-5a229d646948",
   "metadata": {},
   "outputs": [
    {
     "data": {
      "text/plain": [
       "[1] 36.44053"
      ]
     },
     "metadata": {},
     "output_type": "display_data"
    }
   ],
   "source": [
    "mean(myDF$SACTMIN[(myDF$weekday ==\"Wed\") & (myDF$SACTMIN !=-92918)], na.rm=TRUE) "
   ]
  },
  {
   "cell_type": "code",
   "execution_count": 36,
   "id": "b8efd31d-aa1d-44a1-bf08-15c8a0f8e790",
   "metadata": {},
   "outputs": [
    {
     "data": {
      "text/plain": [
       "[1] 36.17215"
      ]
     },
     "metadata": {},
     "output_type": "display_data"
    }
   ],
   "source": [
    "mean(myDF$SACTMIN[(myDF$weekday ==\"Thu\") & (myDF$SACTMIN !=-92918)], na.rm=TRUE) "
   ]
  },
  {
   "cell_type": "code",
   "execution_count": 37,
   "id": "4f3dbd84-91d8-43ae-89ab-ab18ebdaa10f",
   "metadata": {},
   "outputs": [
    {
     "data": {
      "text/plain": [
       "[1] 36.12491"
      ]
     },
     "metadata": {},
     "output_type": "display_data"
    }
   ],
   "source": [
    "mean(myDF$SACTMIN[(myDF$weekday ==\"Fri\") & (myDF$SACTMIN !=-92918)], na.rm=TRUE) "
   ]
  },
  {
   "cell_type": "code",
   "execution_count": 38,
   "id": "694c4642-0b32-4b90-bd6b-333f6c7486b7",
   "metadata": {},
   "outputs": [
    {
     "data": {
      "text/plain": [
       "[1] 37.73216"
      ]
     },
     "metadata": {},
     "output_type": "display_data"
    }
   ],
   "source": [
    "mean(myDF$SACTMIN[(myDF$weekday ==\"Sat\") & (myDF$SACTMIN !=-92918)], na.rm=TRUE) "
   ]
  },
  {
   "cell_type": "code",
   "execution_count": 39,
   "id": "6bd63288-1482-4238-b5d5-8d74aa40fb9c",
   "metadata": {},
   "outputs": [
    {
     "data": {
      "text/plain": [
       "[1] 34.90372"
      ]
     },
     "metadata": {},
     "output_type": "display_data"
    }
   ],
   "source": [
    "mean(myDF$SACTMIN[(myDF$weekday ==\"Sun\") & (myDF$SACTMIN !=-92918)], na.rm=TRUE) "
   ]
  },
  {
   "cell_type": "code",
   "execution_count": null,
   "id": "fd2d4f67-5f00-4cdf-b9a8-12a5db822643",
   "metadata": {},
   "outputs": [],
   "source": [
    "# tapply function, needs three pieces of data.\n",
    "# 1. needs the data you want to work on\n",
    "# 2. needs to know how you want to break the data into groups \n",
    "# 3. needs to know what you want to do to each group of the data\n",
    "# note: any options for that thing you want to do to the data can be given at the end"
   ]
  },
  {
   "cell_type": "code",
   "execution_count": 40,
   "id": "e0b19e94-c902-4c7e-9cd0-7657f2bf37b2",
   "metadata": {},
   "outputs": [
    {
     "data": {
      "text/plain": [
       "Sun Mon Tue Wed Thu Fri Sat \n",
       " NA  NA  NA  NA  NA  NA  NA "
      ]
     },
     "metadata": {},
     "output_type": "display_data"
    }
   ],
   "source": [
    "tapply(myDF$SACTMIN, myDF$weekday, mean)"
   ]
  },
  {
   "cell_type": "code",
   "execution_count": 41,
   "id": "3dcbc4a5-044e-4577-a3cb-4d7f3a8b43f8",
   "metadata": {},
   "outputs": [
    {
     "data": {
      "text/plain": [
       "      Sun       Mon       Tue       Wed       Thu       Fri       Sat \n",
       " 34.90372 -72.86412  34.55502  36.44053  36.17215  36.12491  37.73216 "
      ]
     },
     "metadata": {},
     "output_type": "display_data"
    }
   ],
   "source": [
    "tapply(myDF$SACTMIN, myDF$weekday, mean,  na.rm=TRUE)"
   ]
  },
  {
   "cell_type": "code",
   "execution_count": null,
   "id": "cc0bd494-5f61-4af4-bc6f-b49d7c62f4c5",
   "metadata": {},
   "outputs": [],
   "source": [
    "# we can fix the Monday values this way : by putting this restriction on all of our data.  myDF$SACTMIN !=-92918"
   ]
  },
  {
   "cell_type": "code",
   "execution_count": 61,
   "id": "0d8ad229-ed81-4b56-9c76-6f228467c55a",
   "metadata": {},
   "outputs": [
    {
     "data": {
      "text/plain": [
       "      Sun       Mon       Tue       Wed       Thu       Fri       Sat \n",
       " 34.90372 -72.86412  34.55502  36.44053  36.17215  36.12491  37.73216 "
      ]
     },
     "metadata": {},
     "output_type": "display_data"
    }
   ],
   "source": [
    "tapply(myDF$SACTMIN, myDF$weekday, mean,  na.rm=TRUE)"
   ]
  },
  {
   "cell_type": "code",
   "execution_count": 64,
   "id": "d8cb73e1-d122-49f8-b01f-a144c1629c6b",
   "metadata": {},
   "outputs": [
    {
     "data": {
      "text/plain": [
       "     Sun      Mon      Tue      Wed      Thu      Fri      Sat \n",
       "34.90372 37.92959 34.55502 36.44053 36.17215 36.12491 37.73216 "
      ]
     },
     "metadata": {},
     "output_type": "display_data"
    }
   ],
   "source": [
    "tapply(myDF$SACTMIN[myDF$SACTMIN !=-92918], myDF$weekday[myDF$SACTMIN !=-92918], mean,  na.rm=TRUE)"
   ]
  },
  {
   "cell_type": "code",
   "execution_count": 65,
   "id": "ee1e6356-b7b3-4505-b907-62638edc7f04",
   "metadata": {},
   "outputs": [],
   "source": [
    "myresults <- tapply(myDF$SACTMIN[myDF$SACTMIN !=-92918], myDF$weekday[myDF$SACTMIN !=-92918], mean,  na.rm=TRUE)"
   ]
  },
  {
   "cell_type": "code",
   "execution_count": 66,
   "id": "da8c9089-aa31-4cb3-816c-0e779ba76b7e",
   "metadata": {},
   "outputs": [
    {
     "data": {
      "image/png": "[encoded data removed]",
      "text/plain": [
       "plot without title"
      ]
     },
     "metadata": {
      "image/png": {
       "height": 420,
       "width": 420
      }
     },
     "output_type": "display_data"
    }
   ],
   "source": [
    "plot(myresults)"
   ]
  },
  {
   "cell_type": "code",
   "execution_count": 67,
   "id": "8157fa63-2d5d-45f4-8386-5b8a46fc75e9",
   "metadata": {},
   "outputs": [
    {
     "name": "stderr",
     "output_type": "stream",
     "text": [
      "Warning message in dotchart(myresults):\n",
      "\"'x' is neither a vector nor a matrix: using as.numeric(x)\"\n"
     ]
    },
    {
     "data": {
      "image/png": "[encoded data removed]",
      "text/plain": [
       "plot without title"
      ]
     },
     "metadata": {
      "image/png": {
       "height": 420,
       "width": 420
      }
     },
     "output_type": "display_data"
    }
   ],
   "source": [
    "dotchart(myresults)"
   ]
  },
  {
   "cell_type": "code",
   "execution_count": 69,
   "id": "9c9fcd9d-97bb-4f66-8398-1d040a228227",
   "metadata": {},
   "outputs": [
    {
     "name": "stderr",
     "output_type": "stream",
     "text": [
      "Warning message:\n",
      "\"tz(): Don't know how to compute timezone for object of class factor; returning \"UTC\". This warning will become an error in the next major version of lubridate.\"\n"
     ]
    }
   ],
   "source": [
    "myDF$month <- month(myDF$datetime, label=TRUE)"
   ]
  },
  {
   "cell_type": "code",
   "execution_count": 70,
   "id": "cc815652-ddd7-4f1c-9812-bc6bfb6c9f0d",
   "metadata": {},
   "outputs": [
    {
     "data": {
      "text/plain": [
       "  date       datetime            SACTMIN SPOSTMIN weekday month\n",
       "1 01/01/2015 2015-01-01 07:51:12 NA      45       Thu     Jan  \n",
       "2 01/01/2015 2015-01-01 08:02:13 NA      60       Thu     Jan  \n",
       "3 01/01/2015 2015-01-01 08:05:30 54      NA       Thu     Jan  \n",
       "4 01/01/2015 2015-01-01 08:09:12 NA      60       Thu     Jan  \n",
       "5 01/01/2015 2015-01-01 08:16:12 NA      60       Thu     Jan  \n",
       "6 01/01/2015 2015-01-01 08:22:16 55      NA       Thu     Jan  "
      ]
     },
     "metadata": {},
     "output_type": "display_data"
    }
   ],
   "source": [
    "head(myDF)"
   ]
  },
  {
   "cell_type": "code",
   "execution_count": 71,
   "id": "f43d37c6-f748-4db4-a86c-7a6d53e5f0cd",
   "metadata": {},
   "outputs": [
    {
     "data": {
      "text/plain": [
       "       date       datetime            SACTMIN SPOSTMIN weekday month\n",
       "321626 12/28/2021 2021-12-28 22:36:08 NA      45       Tue     Dec  \n",
       "321627 12/28/2021 2021-12-28 22:42:15 NA      45       Tue     Dec  \n",
       "321628 12/28/2021 2021-12-28 22:48:12 NA      45       Tue     Dec  \n",
       "321629 12/28/2021 2021-12-28 22:54:10 NA      45       Tue     Dec  \n",
       "321630 12/28/2021 2021-12-28 22:54:28 10      NA       Tue     Dec  \n",
       "321631 12/28/2021 2021-12-28 22:57:34 NA      35       Tue     Dec  "
      ]
     },
     "metadata": {},
     "output_type": "display_data"
    }
   ],
   "source": [
    "tail(myDF)"
   ]
  },
  {
   "cell_type": "code",
   "execution_count": 72,
   "id": "ac2c3685-c00b-4bea-8ce8-d3087ac48473",
   "metadata": {},
   "outputs": [
    {
     "data": {
      "text/plain": [
       "     Jan      Feb      Mar      Apr      May      Jun      Jul      Aug \n",
       "41.64757 43.62733 38.50000 34.66873 35.36293 39.98100 36.83942 32.08961 \n",
       "     Sep      Oct      Nov      Dec \n",
       "26.98632 33.45165 37.98672 37.74623 "
      ]
     },
     "metadata": {},
     "output_type": "display_data"
    }
   ],
   "source": [
    "tapply(myDF$SACTMIN[myDF$SACTMIN !=-92918], myDF$month[myDF$SACTMIN !=-92918], mean,  na.rm=TRUE)"
   ]
  },
  {
   "cell_type": "code",
   "execution_count": 73,
   "id": "dc0183e8-0bbf-4520-9e20-8fb905d4ace9",
   "metadata": {},
   "outputs": [],
   "source": [
    "mymonthresults <- tapply(myDF$SACTMIN[myDF$SACTMIN !=-92918], \n",
    "                         myDF$month[myDF$SACTMIN !=-92918], mean,  na.rm=TRUE)\n"
   ]
  },
  {
   "cell_type": "code",
   "execution_count": 74,
   "id": "05ad6184-10c1-4847-9868-8bf6e9a0ed2a",
   "metadata": {},
   "outputs": [
    {
     "data": {
      "image/png": "[encoded data removed]",
      "text/plain": [
       "plot without title"
      ]
     },
     "metadata": {
      "image/png": {
       "height": 420,
       "width": 420
      }
     },
     "output_type": "display_data"
    }
   ],
   "source": [
    "plot(mymonthresults) "
   ]
  },
  {
   "cell_type": "code",
   "execution_count": 75,
   "id": "3c5ffc36-b330-46d3-a70c-21e1dca27ff9",
   "metadata": {},
   "outputs": [
    {
     "name": "stderr",
     "output_type": "stream",
     "text": [
      "Warning message in dotchart(mymonthresults):\n",
      "\"'x' is neither a vector nor a matrix: using as.numeric(x)\"\n"
     ]
    },
    {
     "data": {
      "image/png": "[encoded data removed]",
      "text/plain": [
       "plot without title"
      ]
     },
     "metadata": {
      "image/png": {
       "height": 420,
       "width": 420
      }
     },
     "output_type": "display_data"
    }
   ],
   "source": [
    "dotchart(mymonthresults) "
   ]
  },
  {
   "cell_type": "markdown",
   "id": "9fbf00fb-2418-460f-ae94-2a32b0c28952",
   "metadata": {},
   "source": [
    "Monday is the day of the week in myDF that has the longest average wait times,37.92959.\n",
    "The dotchart illustrates the data for the average wait times better because it the days of the week and and it is easily traceable.\n",
    "February is the month of the year in myDF that has the longest average wait times, 43.62733.\n"
   ]
  },
  {
   "cell_type": "markdown",
   "id": "f76442d6-d02e-4f26-b9d6-c3183e1d6929",
   "metadata": {},
   "source": [
    "## Pledge\n",
    "\n",
    "By submitting this work I hereby pledge that this is my own, personal work. I've acknowledged in the designated place at the top of this file all sources that I used to complete said work, including but not limited to: online resources, books, and electronic communications. I've noted all collaboration with fellow students and/or TA's. I did not copy or plagiarize another's work.\n",
    "\n",
    "> As a Boilermaker pursuing academic excellence, I pledge to be honest and true in all that I do. Accountable together – We are Purdue."
   ]
  }
 ],
 "metadata": {
  "kernelspec": {
   "display_name": "f2022-s2023-r",
   "language": "R",
   "name": "f2022-s2023-r"
  },
  "language_info": {
   "codemirror_mode": "r",
   "file_extension": ".r",
   "mimetype": "text/x-r-source",
   "name": "R",
   "pygments_lexer": "r",
   "version": "4.1.3"
  }
 },
 "nbformat": 4,
 "nbformat_minor": 5
}
