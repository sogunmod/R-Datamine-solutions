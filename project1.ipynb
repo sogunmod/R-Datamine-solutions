{
 "cells": [
  {
   "cell_type": "markdown",
   "id": "be02a957-7133-4d02-818e-fedeb3cecb05",
   "metadata": {},
   "source": [
    "# Project 1 -- Seyi Ogunmodede"
   ]
  },
  {
   "cell_type": "markdown",
   "id": "a1228853-dd19-4ab2-89e0-0394d7d72de3",
   "metadata": {},
   "source": [
    "**TA Help:** Jackson Mathew, Siddharth Singh, Tong En Sim\n",
    "\n",
    "- Help with templates and the project to start with.\n",
    "- Help to navigate the right project to do\n",
    "- Help with ensuring that each cell is run to avoid syntax error\n",
    "    \n",
    "**Collaboration:** "
   ]
  },
  {
   "cell_type": "markdown",
   "id": "6180e742-8e39-4698-98ff-5b00c8cf8ea0",
   "metadata": {},
   "source": [
    "## Question 1"
   ]
  },
  {
   "cell_type": "code",
   "execution_count": null,
   "id": "49445606-d363-41b4-b479-e319a9a84c01",
   "metadata": {},
   "outputs": [],
   "source": [
    "# code here"
   ]
  },
  {
   "cell_type": "markdown",
   "id": "b456e57c-4a12-464b-999a-ef2df5af80c1",
   "metadata": {},
   "source": [
    "In the sub cluster on anvil, since there are three of them (A, B & C), 134144 cores in total (128 * 1000, 128 * 32, 128 * 16) with total memory of 296.192TB (1000 * 266GB, 32 * 1TB, 16 * 512GB).\n",
    "\n",
    "My computer has 12 Cores, Installed Physical Memory (RAM) 16.0 GB, Total Physical Memory 15.7 GB, Available Physical Memory 5.94 GB, Total Virtual Memory 18.1 GB, Available Virtual Memory 4.09 GB, and Page File Space 2.38 GB."
   ]
  },
  {
   "cell_type": "markdown",
   "id": "fc601975-35ed-4680-a4e1-0273ee3cc047",
   "metadata": {},
   "source": [
    "## Question 2"
   ]
  },
  {
   "cell_type": "code",
   "execution_count": 1,
   "id": "a16336a1-1ef0-41e8-bc7c-49387db27497",
   "metadata": {},
   "outputs": [
    {
     "name": "stdout",
     "output_type": "stream",
     "text": [
      "[1] \"a240.anvil.rcac.purdue.edu\"\n"
     ]
    }
   ],
   "source": [
    "%%R\n",
    "\n",
    "system(\"hostname\", intern=TRUE)"
   ]
  },
  {
   "cell_type": "markdown",
   "id": "14dc22d4-ddc3-41cc-a91a-cb0025bc0c80",
   "metadata": {},
   "source": [
    "The name of the node on Anvil that you are running on is \"a240.anvil.rcac.purdue.edu\""
   ]
  },
  {
   "cell_type": "markdown",
   "id": "8e586edd-ff26-4ce2-8f6b-2424b26f2929",
   "metadata": {},
   "source": [
    "## Question 3"
   ]
  },
  {
   "cell_type": "code",
   "execution_count": 2,
   "id": "bbe0f40d-9655-4653-9ca8-886bdb61cb91",
   "metadata": {},
   "outputs": [
    {
     "name": "stdout",
     "output_type": "stream",
     "text": [
      "My list is: [1, 2, 3]\n"
     ]
    }
   ],
   "source": [
    "my_list = [1, 2, 3]\n",
    "print(f'My list is: {my_list}')"
   ]
  },
  {
   "cell_type": "markdown",
   "id": "47c6229f-35f7-400c-8366-c442baa5cf47",
   "metadata": {},
   "source": [
    "My list consist of 1, 2, 3, variables."
   ]
  },
  {
   "cell_type": "code",
   "execution_count": null,
   "id": "9e5f1919-c417-49ba-8912-efaf65ee5773",
   "metadata": {},
   "outputs": [],
   "source": []
  },
  {
   "cell_type": "code",
   "execution_count": null,
   "id": "fab0cd28-9825-4517-8ed3-c78bf1481c27",
   "metadata": {},
   "outputs": [],
   "source": []
  },
  {
   "cell_type": "code",
   "execution_count": null,
   "id": "8bd01588-2ff2-4cef-b711-00cdd1f834fa",
   "metadata": {},
   "outputs": [],
   "source": []
  },
  {
   "cell_type": "code",
   "execution_count": null,
   "id": "9ade7a17-3c57-48b2-9e53-068033d3658b",
   "metadata": {},
   "outputs": [],
   "source": []
  },
  {
   "cell_type": "markdown",
   "id": "da22f29c-d245-4d2b-9fc1-ca14cb6087d9",
   "metadata": {},
   "source": [
    "## Question 4"
   ]
  },
  {
   "cell_type": "markdown",
   "id": "0d552245-b4d6-474a-9cc9-fa7b8e674d55",
   "metadata": {},
   "source": [
    "There are five each types of cells in the default template."
   ]
  },
  {
   "cell_type": "markdown",
   "id": "88c9cdac-3e92-498f-83fa-e089bfc44ac8",
   "metadata": {
    "tags": []
   },
   "source": [
    "## Question 5"
   ]
  },
  {
   "cell_type": "code",
   "execution_count": 7,
   "id": "86431d14-0e8f-412d-9130-05ae3e13e2db",
   "metadata": {
    "tags": []
   },
   "outputs": [
    {
     "name": "stdout",
     "output_type": "stream",
     "text": [
      "[1] 128000\n"
     ]
    }
   ],
   "source": [
    "# Subcluster A\n",
    "%%R\n",
    "\n",
    "1000 * 128"
   ]
  },
  {
   "cell_type": "code",
   "execution_count": 8,
   "id": "5041871f-7145-4de7-924e-dae557922be2",
   "metadata": {
    "tags": []
   },
   "outputs": [
    {
     "name": "stdout",
     "output_type": "stream",
     "text": [
      "[1] 4096\n"
     ]
    }
   ],
   "source": [
    "# Subcluster B\n",
    "%%R\n",
    "\n",
    "32 * 128"
   ]
  },
  {
   "cell_type": "code",
   "execution_count": 9,
   "id": "9ba8aeff-e150-41d0-ac25-35a25b057838",
   "metadata": {
    "tags": []
   },
   "outputs": [
    {
     "name": "stdout",
     "output_type": "stream",
     "text": [
      "[1] 2048\n"
     ]
    }
   ],
   "source": [
    "# Subcluster G\n",
    "%%R\n",
    "\n",
    "16 * 128"
   ]
  },
  {
   "cell_type": "code",
   "execution_count": 10,
   "id": "a1f1a1b6-139c-4077-8edb-8bbba94c3e7d",
   "metadata": {
    "tags": []
   },
   "outputs": [
    {
     "name": "stdout",
     "output_type": "stream",
     "text": [
      "[1] 134144\n"
     ]
    }
   ],
   "source": [
    "%%R\n",
    "\n",
    "128000+4096+2048"
   ]
  },
  {
   "cell_type": "markdown",
   "id": "9fbf00fb-2418-460f-ae94-2a32b0c28952",
   "metadata": {},
   "source": [
    " In the sub cluster on anvil, since there are three of them (A, B & C), there are 134144 (128000 + 4096 +2048) cores using R. "
   ]
  },
  {
   "cell_type": "code",
   "execution_count": 4,
   "id": "7563171d-3abe-46c5-b482-508189b45ce5",
   "metadata": {
    "tags": []
   },
   "outputs": [
    {
     "name": "stdout",
     "output_type": "stream",
     "text": [
      "[1] 256000\n"
     ]
    }
   ],
   "source": [
    "# Subcluster A\n",
    "%%R\n",
    "\n",
    "1000*256"
   ]
  },
  {
   "cell_type": "code",
   "execution_count": 14,
   "id": "65681da5-a287-4869-9269-d9aa6c583628",
   "metadata": {
    "tags": []
   },
   "outputs": [
    {
     "name": "stdout",
     "output_type": "stream",
     "text": [
      "[1] 32\n"
     ]
    }
   ],
   "source": [
    "# Subcluster B\n",
    "%%R\n",
    "\n",
    "32*1"
   ]
  },
  {
   "cell_type": "code",
   "execution_count": 15,
   "id": "72ea623b-3880-4ad5-8674-8674f8e33e69",
   "metadata": {
    "tags": []
   },
   "outputs": [
    {
     "name": "stdout",
     "output_type": "stream",
     "text": [
      "[1] 8192\n"
     ]
    }
   ],
   "source": [
    "# Subcluster G\n",
    "%%R\n",
    "\n",
    "16*512"
   ]
  },
  {
   "cell_type": "code",
   "execution_count": 3,
   "id": "98aa0021-1d81-4bcb-8114-d8128ae54e2f",
   "metadata": {
    "tags": []
   },
   "outputs": [
    {
     "name": "stdout",
     "output_type": "stream",
     "text": [
      "[1] 296192\n"
     ]
    }
   ],
   "source": [
    "%%R\n",
    "\n",
    "256000+32000+8192"
   ]
  },
  {
   "cell_type": "markdown",
   "id": "895f5ad5-bb75-4bd9-af8a-082819b7ee75",
   "metadata": {},
   "source": [
    " In the sub cluster on anvil, since there are three of them (A, B & C), there are 296.192TB (256000GB + 32TB + 8192GB) using R."
   ]
  },
  {
   "cell_type": "code",
   "execution_count": 1,
   "id": "ca686f64-cc4d-4d1f-82f2-3fb025228363",
   "metadata": {
    "tags": []
   },
   "outputs": [
    {
     "data": {
      "text/plain": [
       "128000"
      ]
     },
     "execution_count": 1,
     "metadata": {},
     "output_type": "execute_result"
    }
   ],
   "source": [
    "# Subcluster A\n",
    "1000 * 128"
   ]
  },
  {
   "cell_type": "code",
   "execution_count": 2,
   "id": "3d24741e-cace-45f5-b73f-bb53e49b7fc6",
   "metadata": {
    "tags": []
   },
   "outputs": [
    {
     "data": {
      "text/plain": [
       "4096"
      ]
     },
     "execution_count": 2,
     "metadata": {},
     "output_type": "execute_result"
    }
   ],
   "source": [
    "# Subcluster A\n",
    "32 * 128"
   ]
  },
  {
   "cell_type": "code",
   "execution_count": 3,
   "id": "3c1731b8-2cc5-472b-818c-7e1f4bbd2696",
   "metadata": {
    "tags": []
   },
   "outputs": [
    {
     "data": {
      "text/plain": [
       "2048"
      ]
     },
     "execution_count": 3,
     "metadata": {},
     "output_type": "execute_result"
    }
   ],
   "source": [
    "# Subcluster A\n",
    "16 * 128"
   ]
  },
  {
   "cell_type": "code",
   "execution_count": 10,
   "id": "93afbb7d-aed6-4bb0-b9bf-79a0045f8e6e",
   "metadata": {
    "tags": []
   },
   "outputs": [
    {
     "name": "stdout",
     "output_type": "stream",
     "text": [
      "[1] 134144\n"
     ]
    }
   ],
   "source": [
    "128000+4096+2048"
   ]
  },
  {
   "cell_type": "markdown",
   "id": "2d7f4c45-023b-4246-8ef3-d712a7fae178",
   "metadata": {},
   "source": [
    " In the sub cluster on anvil, since there are three of them (A, B & C), there are 134144 (128000 + 4096 +2048) cores using Python "
   ]
  },
  {
   "cell_type": "code",
   "execution_count": 5,
   "id": "0b6aa26c-f834-4b4c-a295-510b4707a9a7",
   "metadata": {
    "tags": []
   },
   "outputs": [
    {
     "data": {
      "text/plain": [
       "256000"
      ]
     },
     "execution_count": 5,
     "metadata": {},
     "output_type": "execute_result"
    }
   ],
   "source": [
    "# Subcluster A\n",
    "1000*256"
   ]
  },
  {
   "cell_type": "code",
   "execution_count": 6,
   "id": "1b50d32f-c1af-4604-96ad-82ef1c763613",
   "metadata": {
    "tags": []
   },
   "outputs": [
    {
     "data": {
      "text/plain": [
       "32"
      ]
     },
     "execution_count": 6,
     "metadata": {},
     "output_type": "execute_result"
    }
   ],
   "source": [
    "# Subcluster A\n",
    "32 * 1"
   ]
  },
  {
   "cell_type": "code",
   "execution_count": 7,
   "id": "19902c19-b0bd-4762-bebc-1daa629db50e",
   "metadata": {
    "tags": []
   },
   "outputs": [
    {
     "data": {
      "text/plain": [
       "8192"
      ]
     },
     "execution_count": 7,
     "metadata": {},
     "output_type": "execute_result"
    }
   ],
   "source": [
    "# Subcluster A\n",
    "16 * 512"
   ]
  },
  {
   "cell_type": "code",
   "execution_count": 3,
   "id": "5320b7eb-7f44-4797-9058-977abd3e096f",
   "metadata": {
    "tags": []
   },
   "outputs": [
    {
     "name": "stdout",
     "output_type": "stream",
     "text": [
      "[1] 296192\n"
     ]
    }
   ],
   "source": [
    "256000+32000+8192"
   ]
  },
  {
   "cell_type": "markdown",
   "id": "66b789ca-d9ba-4a40-b92e-773bb2ff2b8f",
   "metadata": {},
   "source": [
    " In the sub cluster on anvil, since there are three of them (A, B & C), there are 296.192TB (256000GB + 32TB + 8192GB)"
   ]
  },
  {
   "cell_type": "markdown",
   "id": "653366a5-b692-4c1b-8512-547589cf8114",
   "metadata": {
    "tags": []
   },
   "source": [
    "## Question 6"
   ]
  },
  {
   "cell_type": "code",
   "execution_count": 2,
   "id": "c0e287fd-817e-49a5-9200-9b3796c7a7bd",
   "metadata": {},
   "outputs": [],
   "source": [
    "%%R\n",
    "\n",
    "dat <- read.csv(\"/anvil/projects/tdm/data/disney/flight_of_passage.csv\")"
   ]
  },
  {
   "cell_type": "code",
   "execution_count": 3,
   "id": "4069dfa3-7de3-4bc3-81c8-04ab72ec99e8",
   "metadata": {},
   "outputs": [
    {
     "name": "stdout",
     "output_type": "stream",
     "text": [
      "        date            datetime SACTMIN SPOSTMIN\n",
      "1 05/26/2017 2017-05-26 09:06:38      NA     -999\n",
      "2 05/26/2017 2017-05-26 09:10:11      47       NA\n",
      "3 05/26/2017 2017-05-26 09:10:12      NA        5\n",
      "4 05/26/2017 2017-05-26 09:17:09      NA       60\n",
      "5 05/26/2017 2017-05-26 09:24:07      NA       60\n",
      "6 05/26/2017 2017-05-26 09:30:10      NA       60\n"
     ]
    }
   ],
   "source": [
    "%%R\n",
    "\n",
    "head(dat)\n"
   ]
  },
  {
   "cell_type": "code",
   "execution_count": 4,
   "id": "d38c0543-ffdf-4249-8aea-547f9cfe3dfd",
   "metadata": {},
   "outputs": [],
   "source": [
    "%%R\n",
    "\n",
    "flight_of_passage <- read.csv(\"/anvil/projects/tdm/data/disney/flight_of_passage.csv\")"
   ]
  },
  {
   "cell_type": "code",
   "execution_count": 5,
   "id": "a30a6c0c-01aa-42c1-be48-586d45245135",
   "metadata": {},
   "outputs": [
    {
     "name": "stdout",
     "output_type": "stream",
     "text": [
      "        date            datetime SACTMIN SPOSTMIN\n",
      "1 05/26/2017 2017-05-26 09:06:38      NA     -999\n",
      "2 05/26/2017 2017-05-26 09:10:11      47       NA\n",
      "3 05/26/2017 2017-05-26 09:10:12      NA        5\n",
      "4 05/26/2017 2017-05-26 09:17:09      NA       60\n",
      "5 05/26/2017 2017-05-26 09:24:07      NA       60\n",
      "6 05/26/2017 2017-05-26 09:30:10      NA       60\n"
     ]
    }
   ],
   "source": [
    "%%R\n",
    "\n",
    "head(flight_of_passage)"
   ]
  },
  {
   "cell_type": "code",
   "execution_count": null,
   "id": "f0049e99-8a16-44cc-b410-7b8d6e753f55",
   "metadata": {},
   "outputs": [],
   "source": []
  },
  {
   "cell_type": "markdown",
   "id": "f76442d6-d02e-4f26-b9d6-c3183e1d6929",
   "metadata": {},
   "source": [
    "## Pledge\n",
    "\n",
    "By submitting this work I hereby pledge that this is my own, personal work. I've acknowledged in the designated place at the top of this file all sources that I used to complete said work, including but not limited to: online resources, books, and electronic communications. I've noted all collaboration with fellow students and/or TA's. I did not copy or plagiarize another's work.\n",
    "\n",
    "> As a Boilermaker pursuing academic excellence, I pledge to be honest and true in all that I do. Accountable together – We are Purdue."
   ]
  }
 ],
 "metadata": {
  "kernelspec": {
   "display_name": "f2022-s2023",
   "language": "python",
   "name": "f2022-s2023"
  },
  "language_info": {
   "codemirror_mode": {
    "name": "ipython",
    "version": 3
   },
   "file_extension": ".py",
   "mimetype": "text/x-python",
   "name": "python",
   "nbconvert_exporter": "python",
   "pygments_lexer": "ipython3",
   "version": "3.10.5"
  }
 },
 "nbformat": 4,
 "nbformat_minor": 5
}
